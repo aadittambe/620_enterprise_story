{
  "nbformat": 4,
  "nbformat_minor": 0,
  "metadata": {
    "colab": {
      "name": "Chicago-Spark-data-analysis.ipynb",
      "provenance": [],
      "collapsed_sections": [],
      "include_colab_link": true
    },
    "kernelspec": {
      "name": "python3",
      "display_name": "Python 3"
    }
  },
  "cells": [
    {
      "cell_type": "markdown",
      "metadata": {
        "id": "view-in-github",
        "colab_type": "text"
      },
      "source": [
        "<a href=\"https://colab.research.google.com/github/aadittambe/620_enterprise_story/blob/main/Nick_Aadit_Final.ipynb\" target=\"_parent\"><img src=\"https://colab.research.google.com/assets/colab-badge.svg\" alt=\"Open In Colab\"/></a>"
      ]
    },
    {
      "cell_type": "markdown",
      "metadata": {
        "id": "GTwDFnjHMk25"
      },
      "source": [
        "# Chicago crime data analysis (2001–2021)\n",
        "\n",
        "We analyzed crime data from the Chicago Police Department reflecting incidents of crime that occurred in the City of Chicago from 2001 to 2021.\n",
        "\n",
        "The data set has approximately 7.2 million rows and 22 columns, which makes it a great example of \"big data.\" The data is provided by the Chicago Police Department and each row represents a reported crime.\n",
        "The data set can be found [here](https://data.cityofchicago.org/Public-Safety/Crimes-2001-to-Present/ijzp-q8t2).\n",
        "\n",
        "Analysis by Nick McMillan and Aadit Tambe"
      ]
    },
    {
      "cell_type": "markdown",
      "metadata": {
        "id": "eXQzA01OS_yQ"
      },
      "source": [
        "### Setup"
      ]
    },
    {
      "cell_type": "code",
      "metadata": {
        "colab": {
          "base_uri": "https://localhost:8080/"
        },
        "id": "-mvqu_qJFt6S",
        "outputId": "5fad1470-39a6-4d37-c3fa-b421b6c7e037"
      },
      "source": [
        "!apt-get update\n",
        "# installing java\n",
        "!apt-get install openjdk-8-jdk-headless -qq > /dev/null"
      ],
      "execution_count": null,
      "outputs": [
        {
          "output_type": "stream",
          "text": [
            "\r0% [Working]\r            \rGet:1 http://security.ubuntu.com/ubuntu bionic-security InRelease [88.7 kB]\n",
            "\r0% [Connecting to archive.ubuntu.com (91.189.88.152)] [1 InRelease 14.2 kB/88.7\r                                                                               \rGet:2 https://cloud.r-project.org/bin/linux/ubuntu bionic-cran40/ InRelease [3,626 B]\n",
            "\r0% [Connecting to archive.ubuntu.com (91.189.88.152)] [1 InRelease 43.1 kB/88.7\r0% [Connecting to archive.ubuntu.com (91.189.88.152)] [1 InRelease 66.3 kB/88.7\r0% [2 InRelease gpgv 3,626 B] [Waiting for headers] [1 InRelease 66.3 kB/88.7 k\r0% [2 InRelease gpgv 3,626 B] [Waiting for headers] [Waiting for headers] [Wait\r                                                                               \rIgn:3 https://developer.download.nvidia.com/compute/cuda/repos/ubuntu1804/x86_64  InRelease\n",
            "\r0% [2 InRelease gpgv 3,626 B] [Waiting for headers] [Waiting for headers] [Wait\r                                                                               \rGet:4 http://ppa.launchpad.net/c2d4u.team/c2d4u4.0+/ubuntu bionic InRelease [15.9 kB]\n",
            "\r0% [2 InRelease gpgv 3,626 B] [Waiting for headers] [4 InRelease 2,572 B/15.9 k\r                                                                               \rHit:5 http://archive.ubuntu.com/ubuntu bionic InRelease\n",
            "Ign:6 https://developer.download.nvidia.com/compute/machine-learning/repos/ubuntu1804/x86_64  InRelease\n",
            "Get:7 https://developer.download.nvidia.com/compute/cuda/repos/ubuntu1804/x86_64  Release [697 B]\n",
            "Hit:8 https://developer.download.nvidia.com/compute/machine-learning/repos/ubuntu1804/x86_64  Release\n",
            "Get:9 https://developer.download.nvidia.com/compute/cuda/repos/ubuntu1804/x86_64  Release.gpg [836 B]\n",
            "Get:10 http://archive.ubuntu.com/ubuntu bionic-updates InRelease [88.7 kB]\n",
            "Hit:11 http://ppa.launchpad.net/cran/libgit2/ubuntu bionic InRelease\n",
            "Get:12 https://cloud.r-project.org/bin/linux/ubuntu bionic-cran40/ Packages [53.1 kB]\n",
            "Hit:13 http://ppa.launchpad.net/deadsnakes/ppa/ubuntu bionic InRelease\n",
            "Get:14 http://archive.ubuntu.com/ubuntu bionic-backports InRelease [74.6 kB]\n",
            "Get:15 http://security.ubuntu.com/ubuntu bionic-security/restricted amd64 Packages [396 kB]\n",
            "Hit:16 http://ppa.launchpad.net/graphics-drivers/ppa/ubuntu bionic InRelease\n",
            "Get:17 http://security.ubuntu.com/ubuntu bionic-security/main amd64 Packages [2,116 kB]\n",
            "Get:18 http://security.ubuntu.com/ubuntu bionic-security/multiverse amd64 Packages [24.7 kB]\n",
            "Get:19 http://security.ubuntu.com/ubuntu bionic-security/universe amd64 Packages [1,410 kB]\n",
            "Ign:21 https://developer.download.nvidia.com/compute/cuda/repos/ubuntu1804/x86_64  Packages\n",
            "Get:21 https://developer.download.nvidia.com/compute/cuda/repos/ubuntu1804/x86_64  Packages [742 kB]\n",
            "Get:22 http://ppa.launchpad.net/c2d4u.team/c2d4u4.0+/ubuntu bionic/main Sources [1,757 kB]\n",
            "Get:23 http://archive.ubuntu.com/ubuntu bionic-updates/multiverse amd64 Packages [31.6 kB]\n",
            "Get:24 http://archive.ubuntu.com/ubuntu bionic-updates/restricted amd64 Packages [426 kB]\n",
            "Get:25 http://archive.ubuntu.com/ubuntu bionic-updates/universe amd64 Packages [2,181 kB]\n",
            "Get:26 http://ppa.launchpad.net/c2d4u.team/c2d4u4.0+/ubuntu bionic/main amd64 Packages [899 kB]\n",
            "Get:27 http://archive.ubuntu.com/ubuntu bionic-updates/main amd64 Packages [2,546 kB]\n",
            "Fetched 12.9 MB in 4s (3,615 kB/s)\n",
            "Reading package lists... Done\n"
          ],
          "name": "stdout"
        }
      ]
    },
    {
      "cell_type": "markdown",
      "metadata": {
        "id": "D3ffvqmCG53k"
      },
      "source": [
        "Downloading Apache Spark from a repository, unzipping, and installing it\n"
      ]
    },
    {
      "cell_type": "code",
      "metadata": {
        "id": "n8b-sb7eGG73"
      },
      "source": [
        "!wget -q https://archive.apache.org/dist/spark/spark-3.0.0/spark-3.0.0-bin-hadoop2.7.tgz\n",
        "!tar xf spark-3.0.0-bin-hadoop2.7.tgz\n",
        "!pip install -q findspark"
      ],
      "execution_count": null,
      "outputs": []
    },
    {
      "cell_type": "markdown",
      "metadata": {
        "id": "hDMtxpKsHiBc"
      },
      "source": [
        "Setting up environment "
      ]
    },
    {
      "cell_type": "code",
      "metadata": {
        "id": "bbXriBSxHGU3"
      },
      "source": [
        "import os\n",
        "os.environ[\"JAVA_HOME\"] = \"/usr/lib/jvm/java-8-openjdk-amd64\"\n",
        "os.environ[\"SPARK_HOME\"] = \"/content/spark-3.0.0-bin-hadoop2.7\"\n",
        "import findspark\n",
        "findspark.init()\n",
        "\n",
        "from pyspark.sql import SparkSession\n",
        "from pyspark import SparkContext, SparkConf\n",
        "from pyspark.sql.types import  (StructType, \n",
        "                                StructField, \n",
        "                                DateType, \n",
        "                                BooleanType,\n",
        "                                DoubleType,\n",
        "                                IntegerType,\n",
        "                                StringType,\n",
        "                               TimestampType)\n",
        "\n",
        "from pyspark.sql.functions import col,unix_timestamp\n",
        "spark = SparkSession.builder.master(\"local[*]\").getOrCreate()\n",
        "import altair as alt\n",
        "from IPython.display import display\n"
      ],
      "execution_count": null,
      "outputs": []
    },
    {
      "cell_type": "code",
      "metadata": {
        "id": "BdYDEaPZOe48"
      },
      "source": [
        "import pyspark.sql.functions as func\n",
        "from datetime import datetime\n",
        "import pandas as pd\n",
        "import numpy as np\n",
        "import matplotlib.pyplot as plt\n",
        "from sklearn.metrics import mean_squared_error, r2_score, mean_absolute_error"
      ],
      "execution_count": null,
      "outputs": []
    },
    {
      "cell_type": "markdown",
      "metadata": {
        "id": "r0nFfVHE3IhO"
      },
      "source": [
        "## Load Data"
      ]
    },
    {
      "cell_type": "markdown",
      "metadata": {
        "id": "TXSM1THR3KBy"
      },
      "source": [
        "Connect to google drive"
      ]
    },
    {
      "cell_type": "code",
      "metadata": {
        "id": "VVUCyKBv3L48",
        "colab": {
          "base_uri": "https://localhost:8080/"
        },
        "outputId": "e7a18c1d-0cc7-44a1-f614-1fe30d10052d"
      },
      "source": [
        "from google.colab import drive\n",
        "drive.mount('/content/drive')"
      ],
      "execution_count": null,
      "outputs": [
        {
          "output_type": "stream",
          "text": [
            "Mounted at /content/drive\n"
          ],
          "name": "stdout"
        }
      ]
    },
    {
      "cell_type": "markdown",
      "metadata": {
        "id": "r7ws5gGN4R16"
      },
      "source": [
        "Load data"
      ]
    },
    {
      "cell_type": "markdown",
      "metadata": {
        "id": "O9PBLppa6_m-"
      },
      "source": [
        "Create schema"
      ]
    },
    {
      "cell_type": "code",
      "metadata": {
        "id": "SKH1aHd96-1c"
      },
      "source": [
        "data_schema = StructType([StructField(\"ID\", StringType(), True),\n",
        "                            StructField(\"CaseNumber\", StringType(), True),\n",
        "                            StructField(\"Date\", StringType(), True ),\n",
        "                            StructField(\"Block\", StringType(), True),\n",
        "                            StructField(\"IUCR\", StringType(), True),\n",
        "                            StructField(\"PrimaryType\", StringType(), True  ),\n",
        "                            StructField(\"Description\", StringType(), True ),\n",
        "                            StructField(\"LocationDescription\", StringType(), True ),\n",
        "                            StructField(\"Arrest\", BooleanType(), True),\n",
        "                            StructField(\"Domestic\", BooleanType(), True),\n",
        "                            StructField(\"Beat\", StringType(), True),\n",
        "                            StructField(\"District\", StringType(), True),\n",
        "                            StructField(\"Ward\", StringType(), True),\n",
        "                            StructField(\"CommunityArea\", StringType(), True),\n",
        "                            StructField(\"FBICode\", StringType(), True ),\n",
        "                            StructField(\"XCoordinate\", DoubleType(), True),\n",
        "                            StructField(\"YCoordinate\", DoubleType(), True ),\n",
        "                            StructField(\"Year\", IntegerType(), True),\n",
        "                            StructField(\"UpdatedOn\", DateType(), True ),\n",
        "                            StructField(\"Latitude\", DoubleType(), True),\n",
        "                            StructField(\"Longitude\", DoubleType(), True),\n",
        "                            StructField(\"Location\", StringType(), True )\n",
        "                            ])"
      ],
      "execution_count": null,
      "outputs": []
    },
    {
      "cell_type": "code",
      "metadata": {
        "id": "w8suTzPN4SzS"
      },
      "source": [
        "#file_path_aadit = '/content/drive/MyDrive/Copy of chicago_crime_data_2001_present.csv'\n",
        "#crime_data = spark.read.csv(file_path_aadit, header = True, schema = data_schema)\n",
        "\n",
        "\n",
        "file_path_nick =  '/content/drive/MyDrive/Big Data Project/chicago_crime_data_2001_present.csv'\n",
        "crime_data = spark.read.csv(file_path_nick, header = True, schema = data_schema)"
      ],
      "execution_count": null,
      "outputs": []
    },
    {
      "cell_type": "markdown",
      "metadata": {
        "id": "phj6vjCV4YN8"
      },
      "source": [
        "## View & Clean Data"
      ]
    },
    {
      "cell_type": "code",
      "metadata": {
        "id": "W2lU1bvW4XQ3",
        "colab": {
          "base_uri": "https://localhost:8080/"
        },
        "outputId": "eda9cf31-a5ed-4492-a3b8-6a68cd5381d9"
      },
      "source": [
        "\n",
        "crime_data.printSchema() #make sure schema loaded correctly\n",
        "crime_data.show(n=10) #view first data\n"
      ],
      "execution_count": null,
      "outputs": [
        {
          "output_type": "stream",
          "text": [
            "root\n",
            " |-- ID: string (nullable = true)\n",
            " |-- CaseNumber: string (nullable = true)\n",
            " |-- Date: string (nullable = true)\n",
            " |-- Block: string (nullable = true)\n",
            " |-- IUCR: string (nullable = true)\n",
            " |-- PrimaryType: string (nullable = true)\n",
            " |-- Description: string (nullable = true)\n",
            " |-- LocationDescription: string (nullable = true)\n",
            " |-- Arrest: boolean (nullable = true)\n",
            " |-- Domestic: boolean (nullable = true)\n",
            " |-- Beat: string (nullable = true)\n",
            " |-- District: string (nullable = true)\n",
            " |-- Ward: string (nullable = true)\n",
            " |-- CommunityArea: string (nullable = true)\n",
            " |-- FBICode: string (nullable = true)\n",
            " |-- XCoordinate: double (nullable = true)\n",
            " |-- YCoordinate: double (nullable = true)\n",
            " |-- Year: integer (nullable = true)\n",
            " |-- UpdatedOn: date (nullable = true)\n",
            " |-- Latitude: double (nullable = true)\n",
            " |-- Longitude: double (nullable = true)\n",
            " |-- Location: string (nullable = true)\n",
            "\n",
            "+--------+----------+--------------------+--------------------+----+------------------+--------------------+-------------------+------+--------+----+--------+----+-------------+-------+-----------+-----------+----+---------+------------+-------------+--------------------+\n",
            "|      ID|CaseNumber|                Date|               Block|IUCR|       PrimaryType|         Description|LocationDescription|Arrest|Domestic|Beat|District|Ward|CommunityArea|FBICode|XCoordinate|YCoordinate|Year|UpdatedOn|    Latitude|    Longitude|            Location|\n",
            "+--------+----------+--------------------+--------------------+----+------------------+--------------------+-------------------+------+--------+----+--------+----+-------------+-------+-----------+-----------+----+---------+------------+-------------+--------------------+\n",
            "|10224738|  HY411648|09/05/2015 01:30:...|     043XX S WOOD ST|0486|           BATTERY|DOMESTIC BATTERY ...|          RESIDENCE| false|    true|0924|     009|  12|           61|    08B|  1165074.0|  1875917.0|2015|     null|41.815117282|-87.669999562|(41.815117282, -8...|\n",
            "|10224739|  HY411615|09/04/2015 11:30:...| 008XX N CENTRAL AVE|0870|             THEFT|      POCKET-PICKING|            CTA BUS| false|   false|1511|     015|  29|           25|     06|  1138875.0|  1904869.0|2015|     null|41.895080471|-87.765400451|(41.895080471, -8...|\n",
            "|11646166|  JC213529|09/01/2018 12:01:...|082XX S INGLESIDE...|0810|             THEFT|           OVER $500|          RESIDENCE| false|    true|0631|     006|   8|           44|     06|       null|       null|2018|     null|        null|         null|                null|\n",
            "|10224740|  HY411595|09/05/2015 12:45:...|   035XX W BARRY AVE|2023|         NARCOTICS|POSS: HEROIN(BRN/...|           SIDEWALK|  true|   false|1412|     014|  35|           21|     18|  1152037.0|  1920384.0|2015|     null|41.937405765|-87.716649687|(41.937405765, -8...|\n",
            "|10224741|  HY411610|09/05/2015 01:00:...| 0000X N LARAMIE AVE|0560|           ASSAULT|              SIMPLE|          APARTMENT| false|    true|1522|     015|  28|           25|    08A|  1141706.0|  1900086.0|2015|     null|41.881903443|-87.755121152|(41.881903443, -8...|\n",
            "|10224742|  HY411435|09/05/2015 10:55:...| 082XX S LOOMIS BLVD|0610|          BURGLARY|      FORCIBLE ENTRY|          RESIDENCE| false|   false|0614|     006|  21|           71|     05|  1168430.0|  1850165.0|2015|     null|41.744378879|-87.658430635|(41.744378879, -8...|\n",
            "|10224743|  HY411629|09/04/2015 06:00:...|021XX W CHURCHILL ST|0620|          BURGLARY|      UNLAWFUL ENTRY|   RESIDENCE-GARAGE| false|   false|1434|     014|  32|           24|     05|  1161628.0|  1912157.0|2015|     null|41.914635603|-87.681630909|(41.914635603, -8...|\n",
            "|10224744|  HY411605|09/05/2015 01:00:...|   025XX W CERMAK RD|0860|             THEFT|        RETAIL THEFT| GROCERY FOOD STORE|  true|   false|1034|     010|  25|           31|     06|  1159734.0|  1889313.0|2015|     null|41.851988885|-87.689219118|(41.851988885, -8...|\n",
            "|10224745|  HY411654|09/05/2015 11:30:...|031XX W WASHINGTO...|0320|           ROBBERY|STRONGARM - NO WE...|             STREET| false|    true|1222|     012|  27|           27|     03|  1155536.0|  1900515.0|2015|     null| 41.88281374|-87.704325717|(41.88281374, -87...|\n",
            "|11645836|  JC212333|05/01/2016 12:25:...| 055XX S ROCKWELL ST|1153|DECEPTIVE PRACTICE|FINANCIAL IDENTIT...|               null| false|   false|0824|     008|  15|           63|     11|       null|       null|2016|     null|        null|         null|                null|\n",
            "+--------+----------+--------------------+--------------------+----+------------------+--------------------+-------------------+------+--------+----+--------+----+-------------+-------+-----------+-----------+----+---------+------------+-------------+--------------------+\n",
            "only showing top 10 rows\n",
            "\n"
          ],
          "name": "stdout"
        }
      ]
    },
    {
      "cell_type": "code",
      "metadata": {
        "id": "CkOjXbs28dtw",
        "colab": {
          "base_uri": "https://localhost:8080/"
        },
        "outputId": "24161e01-fb7e-44a7-83c3-6b79f02fbfbb"
      },
      "source": [
        "print(f'There are {crime_data.count()} rows of data')"
      ],
      "execution_count": null,
      "outputs": [
        {
          "output_type": "stream",
          "text": [
            "There are 7294643 rows of data\n"
          ],
          "name": "stdout"
        }
      ]
    },
    {
      "cell_type": "markdown",
      "metadata": {
        "id": "-k2kWTw8LekT"
      },
      "source": [
        "## Adding features to the data"
      ]
    },
    {
      "cell_type": "code",
      "metadata": {
        "colab": {
          "base_uri": "https://localhost:8080/"
        },
        "id": "81H3rt198fLQ",
        "outputId": "398dfff6-4c35-4d15-e241-4da7eb27a27e"
      },
      "source": [
        "date_function =  udf(lambda x: datetime.strptime(x, '%m/%d/%Y %I:%M:%S %p'), TimestampType())\n",
        "\n",
        "\n",
        "#convert data from string to a time stamp\n",
        "crime_data = crime_data.withColumn('Date_time', date_function(col('Date')))\n",
        "# add week day feature\n",
        "crime_data = crime_data.withColumn('week_day', func.date_format(col(\"Date_time\"), \"E\"))\n",
        "# add regular date feature, yyyy-mm-dd\n",
        "crime_data = crime_data.withColumn(\"regular_date\", to_date(\"Date_time\"))\n",
        "\n",
        "crime_data.printSchema() #make sure schema loaded correctly\n"
      ],
      "execution_count": null,
      "outputs": [
        {
          "output_type": "stream",
          "text": [
            "root\n",
            " |-- ID: string (nullable = true)\n",
            " |-- CaseNumber: string (nullable = true)\n",
            " |-- Date: string (nullable = true)\n",
            " |-- Block: string (nullable = true)\n",
            " |-- IUCR: string (nullable = true)\n",
            " |-- PrimaryType: string (nullable = true)\n",
            " |-- Description: string (nullable = true)\n",
            " |-- LocationDescription: string (nullable = true)\n",
            " |-- Arrest: boolean (nullable = true)\n",
            " |-- Domestic: boolean (nullable = true)\n",
            " |-- Beat: string (nullable = true)\n",
            " |-- District: string (nullable = true)\n",
            " |-- Ward: string (nullable = true)\n",
            " |-- CommunityArea: string (nullable = true)\n",
            " |-- FBICode: string (nullable = true)\n",
            " |-- XCoordinate: double (nullable = true)\n",
            " |-- YCoordinate: double (nullable = true)\n",
            " |-- Year: integer (nullable = true)\n",
            " |-- UpdatedOn: date (nullable = true)\n",
            " |-- Latitude: double (nullable = true)\n",
            " |-- Longitude: double (nullable = true)\n",
            " |-- Location: string (nullable = true)\n",
            " |-- Date_time: timestamp (nullable = true)\n",
            " |-- week_day: string (nullable = true)\n",
            " |-- regular_date: date (nullable = true)\n",
            "\n"
          ],
          "name": "stdout"
        }
      ]
    },
    {
      "cell_type": "markdown",
      "metadata": {
        "id": "_1oncLAYHJii"
      },
      "source": [
        "## Analysis"
      ]
    },
    {
      "cell_type": "markdown",
      "metadata": {
        "id": "VTiTQGpDHMKG"
      },
      "source": [
        "What percent of crimes lead to an arrest?"
      ]
    },
    {
      "cell_type": "code",
      "metadata": {
        "colab": {
          "base_uri": "https://localhost:8080/"
        },
        "id": "IeBaRC5qHQH7",
        "outputId": "42e1aad0-0e8c-4f3d-b0a1-575518366223"
      },
      "source": [
        "crime_data.select(\"Arrest\").distinct().show() #show the full range of values for the Arrest column"
      ],
      "execution_count": null,
      "outputs": [
        {
          "output_type": "stream",
          "text": [
            "+------+\n",
            "|Arrest|\n",
            "+------+\n",
            "|  true|\n",
            "| false|\n",
            "+------+\n",
            "\n"
          ],
          "name": "stdout"
        }
      ]
    },
    {
      "cell_type": "code",
      "metadata": {
        "colab": {
          "base_uri": "https://localhost:8080/"
        },
        "id": "WVTFjPLxHhew",
        "outputId": "64cca901-098e-4705-827b-cc1709aebce0"
      },
      "source": [
        "percent_arrests = crime_data.filter(col(\"Arrest\") == 'true').count() / crime_data.select(\"Arrest\").count()\n",
        "print(f'{percent_arrests*100}% of crimes reported to Chicago PD lead to an arrest')"
      ],
      "execution_count": null,
      "outputs": [
        {
          "output_type": "stream",
          "text": [
            "27.083409016726385% of crimes reported to Chicago PD lead to an arrest\n"
          ],
          "name": "stdout"
        }
      ]
    },
    {
      "cell_type": "markdown",
      "metadata": {
        "id": "qV1E4AXRSKG2"
      },
      "source": [
        "How often has each crime resulted in an arrest?"
      ]
    },
    {
      "cell_type": "code",
      "metadata": {
        "id": "UZk6UviUSP_e",
        "colab": {
          "base_uri": "https://localhost:8080/"
        },
        "outputId": "c6452932-11f9-4e8f-8841-ea521daeb596"
      },
      "source": [
        "import pyspark.sql.functions as func\n",
        "\n",
        "import altair as alt\n",
        "from vega_datasets import data\n",
        "crime_data.groupBy(\"PrimaryType\")\\\n",
        " .agg(func.count(func.lit(1)).alias(\"TypeCrime\"))\\\n",
        " .sort(func.desc(\"TypeCrime\"))\\\n",
        " .show(n=40, truncate= False)"
      ],
      "execution_count": null,
      "outputs": [
        {
          "output_type": "stream",
          "text": [
            "+---------------------------------+---------+\n",
            "|PrimaryType                      |TypeCrime|\n",
            "+---------------------------------+---------+\n",
            "|THEFT                            |1536728  |\n",
            "|BATTERY                          |1335864  |\n",
            "|CRIMINAL DAMAGE                  |830450   |\n",
            "|NARCOTICS                        |736888   |\n",
            "|ASSAULT                          |463107   |\n",
            "|OTHER OFFENSE                    |452650   |\n",
            "|BURGLARY                         |408950   |\n",
            "|MOTOR VEHICLE THEFT              |336243   |\n",
            "|DECEPTIVE PRACTICE               |309267   |\n",
            "|ROBBERY                          |274228   |\n",
            "|CRIMINAL TRESPASS                |205824   |\n",
            "|WEAPONS VIOLATION                |87645    |\n",
            "|PROSTITUTION                     |69388    |\n",
            "|PUBLIC PEACE VIOLATION           |50866    |\n",
            "|OFFENSE INVOLVING CHILDREN       |50847    |\n",
            "|CRIM SEXUAL ASSAULT              |27945    |\n",
            "|SEX OFFENSE                      |27923    |\n",
            "|INTERFERENCE WITH PUBLIC OFFICER |17566    |\n",
            "|GAMBLING                         |14595    |\n",
            "|LIQUOR LAW VIOLATION             |14482    |\n",
            "|ARSON                            |12241    |\n",
            "|HOMICIDE                         |10939    |\n",
            "|KIDNAPPING                       |6991     |\n",
            "|INTIMIDATION                     |4302     |\n",
            "|STALKING                         |3886     |\n",
            "|CRIMINAL SEXUAL ASSAULT          |2771     |\n",
            "|OBSCENITY                        |718      |\n",
            "|CONCEALED CARRY LICENSE VIOLATION|700      |\n",
            "|PUBLIC INDECENCY                 |186      |\n",
            "|NON-CRIMINAL                     |173      |\n",
            "|OTHER NARCOTIC VIOLATION         |138      |\n",
            "|HUMAN TRAFFICKING                |70       |\n",
            "|NON - CRIMINAL                   |38       |\n",
            "|RITUALISM                        |24       |\n",
            "|NON-CRIMINAL (SUBJECT SPECIFIED) |9        |\n",
            "|DOMESTIC VIOLENCE                |1        |\n",
            "+---------------------------------+---------+\n",
            "\n"
          ],
          "name": "stdout"
        }
      ]
    },
    {
      "cell_type": "code",
      "metadata": {
        "id": "A4GRRCw9dcIY",
        "colab": {
          "base_uri": "https://localhost:8080/",
          "height": 420
        },
        "outputId": "da1462bc-a877-4479-8185-594fb7d8e093"
      },
      "source": [
        "# group crime data by year, crime type and arrest\n",
        "crime_arrest = crime_data.groupBy(\"Year\", \"PrimaryType\", \"Arrest\" )\\\n",
        " .agg(func.count(func.lit(1)).alias(\"NumCrime\")).toPandas()\n",
        "#crime_arrest\n",
        "\n",
        "# pivot to rearrange the dataframe\n",
        "crime_arrest_pivot = crime_arrest.pivot(index = [\"PrimaryType\", \"Year\"], columns = \"Arrest\", values= \"NumCrime\")\n",
        "\n",
        "crime_arrest_pivot\n"
      ],
      "execution_count": null,
      "outputs": [
        {
          "output_type": "execute_result",
          "data": {
            "text/html": [
              "<div>\n",
              "<style scoped>\n",
              "    .dataframe tbody tr th:only-of-type {\n",
              "        vertical-align: middle;\n",
              "    }\n",
              "\n",
              "    .dataframe tbody tr th {\n",
              "        vertical-align: top;\n",
              "    }\n",
              "\n",
              "    .dataframe thead th {\n",
              "        text-align: right;\n",
              "    }\n",
              "</style>\n",
              "<table border=\"1\" class=\"dataframe\">\n",
              "  <thead>\n",
              "    <tr style=\"text-align: right;\">\n",
              "      <th></th>\n",
              "      <th>Arrest</th>\n",
              "      <th>False</th>\n",
              "      <th>True</th>\n",
              "    </tr>\n",
              "    <tr>\n",
              "      <th>PrimaryType</th>\n",
              "      <th>Year</th>\n",
              "      <th></th>\n",
              "      <th></th>\n",
              "    </tr>\n",
              "  </thead>\n",
              "  <tbody>\n",
              "    <tr>\n",
              "      <th rowspan=\"5\" valign=\"top\">ARSON</th>\n",
              "      <th>2001</th>\n",
              "      <td>829.0</td>\n",
              "      <td>181.0</td>\n",
              "    </tr>\n",
              "    <tr>\n",
              "      <th>2002</th>\n",
              "      <td>876.0</td>\n",
              "      <td>156.0</td>\n",
              "    </tr>\n",
              "    <tr>\n",
              "      <th>2003</th>\n",
              "      <td>815.0</td>\n",
              "      <td>140.0</td>\n",
              "    </tr>\n",
              "    <tr>\n",
              "      <th>2004</th>\n",
              "      <td>669.0</td>\n",
              "      <td>109.0</td>\n",
              "    </tr>\n",
              "    <tr>\n",
              "      <th>2005</th>\n",
              "      <td>570.0</td>\n",
              "      <td>121.0</td>\n",
              "    </tr>\n",
              "    <tr>\n",
              "      <th>...</th>\n",
              "      <th>...</th>\n",
              "      <td>...</td>\n",
              "      <td>...</td>\n",
              "    </tr>\n",
              "    <tr>\n",
              "      <th rowspan=\"5\" valign=\"top\">WEAPONS VIOLATION</th>\n",
              "      <th>2017</th>\n",
              "      <td>1009.0</td>\n",
              "      <td>3677.0</td>\n",
              "    </tr>\n",
              "    <tr>\n",
              "      <th>2018</th>\n",
              "      <td>1653.0</td>\n",
              "      <td>3803.0</td>\n",
              "    </tr>\n",
              "    <tr>\n",
              "      <th>2019</th>\n",
              "      <td>2114.0</td>\n",
              "      <td>4225.0</td>\n",
              "    </tr>\n",
              "    <tr>\n",
              "      <th>2020</th>\n",
              "      <td>2985.0</td>\n",
              "      <td>5439.0</td>\n",
              "    </tr>\n",
              "    <tr>\n",
              "      <th>2021</th>\n",
              "      <td>492.0</td>\n",
              "      <td>1005.0</td>\n",
              "    </tr>\n",
              "  </tbody>\n",
              "</table>\n",
              "<p>656 rows × 2 columns</p>\n",
              "</div>"
            ],
            "text/plain": [
              "Arrest                   False   True \n",
              "PrimaryType       Year                \n",
              "ARSON             2001   829.0   181.0\n",
              "                  2002   876.0   156.0\n",
              "                  2003   815.0   140.0\n",
              "                  2004   669.0   109.0\n",
              "                  2005   570.0   121.0\n",
              "...                        ...     ...\n",
              "WEAPONS VIOLATION 2017  1009.0  3677.0\n",
              "                  2018  1653.0  3803.0\n",
              "                  2019  2114.0  4225.0\n",
              "                  2020  2985.0  5439.0\n",
              "                  2021   492.0  1005.0\n",
              "\n",
              "[656 rows x 2 columns]"
            ]
          },
          "metadata": {
            "tags": []
          },
          "execution_count": 50
        }
      ]
    },
    {
      "cell_type": "code",
      "metadata": {
        "id": "kRb_GzOShKDU",
        "colab": {
          "base_uri": "https://localhost:8080/",
          "height": 420
        },
        "outputId": "22eff5e4-916b-40b8-f73a-ee52792694f8"
      },
      "source": [
        "# Get arrest_percentage\n",
        "crime_arrest_pivot[\"arrest_percentage\"] = (crime_arrest_pivot[True]/(crime_arrest_pivot[False]+ crime_arrest_pivot[True]))*100\n",
        "\n",
        "crime_arrest_pivot\n"
      ],
      "execution_count": null,
      "outputs": [
        {
          "output_type": "execute_result",
          "data": {
            "text/html": [
              "<div>\n",
              "<style scoped>\n",
              "    .dataframe tbody tr th:only-of-type {\n",
              "        vertical-align: middle;\n",
              "    }\n",
              "\n",
              "    .dataframe tbody tr th {\n",
              "        vertical-align: top;\n",
              "    }\n",
              "\n",
              "    .dataframe thead th {\n",
              "        text-align: right;\n",
              "    }\n",
              "</style>\n",
              "<table border=\"1\" class=\"dataframe\">\n",
              "  <thead>\n",
              "    <tr style=\"text-align: right;\">\n",
              "      <th></th>\n",
              "      <th>Arrest</th>\n",
              "      <th>False</th>\n",
              "      <th>True</th>\n",
              "      <th>arrest_percentage</th>\n",
              "    </tr>\n",
              "    <tr>\n",
              "      <th>PrimaryType</th>\n",
              "      <th>Year</th>\n",
              "      <th></th>\n",
              "      <th></th>\n",
              "      <th></th>\n",
              "    </tr>\n",
              "  </thead>\n",
              "  <tbody>\n",
              "    <tr>\n",
              "      <th rowspan=\"5\" valign=\"top\">ARSON</th>\n",
              "      <th>2001</th>\n",
              "      <td>829.0</td>\n",
              "      <td>181.0</td>\n",
              "      <td>17.920792</td>\n",
              "    </tr>\n",
              "    <tr>\n",
              "      <th>2002</th>\n",
              "      <td>876.0</td>\n",
              "      <td>156.0</td>\n",
              "      <td>15.116279</td>\n",
              "    </tr>\n",
              "    <tr>\n",
              "      <th>2003</th>\n",
              "      <td>815.0</td>\n",
              "      <td>140.0</td>\n",
              "      <td>14.659686</td>\n",
              "    </tr>\n",
              "    <tr>\n",
              "      <th>2004</th>\n",
              "      <td>669.0</td>\n",
              "      <td>109.0</td>\n",
              "      <td>14.010283</td>\n",
              "    </tr>\n",
              "    <tr>\n",
              "      <th>2005</th>\n",
              "      <td>570.0</td>\n",
              "      <td>121.0</td>\n",
              "      <td>17.510854</td>\n",
              "    </tr>\n",
              "    <tr>\n",
              "      <th>...</th>\n",
              "      <th>...</th>\n",
              "      <td>...</td>\n",
              "      <td>...</td>\n",
              "      <td>...</td>\n",
              "    </tr>\n",
              "    <tr>\n",
              "      <th rowspan=\"5\" valign=\"top\">WEAPONS VIOLATION</th>\n",
              "      <th>2017</th>\n",
              "      <td>1009.0</td>\n",
              "      <td>3677.0</td>\n",
              "      <td>78.467776</td>\n",
              "    </tr>\n",
              "    <tr>\n",
              "      <th>2018</th>\n",
              "      <td>1653.0</td>\n",
              "      <td>3803.0</td>\n",
              "      <td>69.703079</td>\n",
              "    </tr>\n",
              "    <tr>\n",
              "      <th>2019</th>\n",
              "      <td>2114.0</td>\n",
              "      <td>4225.0</td>\n",
              "      <td>66.650891</td>\n",
              "    </tr>\n",
              "    <tr>\n",
              "      <th>2020</th>\n",
              "      <td>2985.0</td>\n",
              "      <td>5439.0</td>\n",
              "      <td>64.565527</td>\n",
              "    </tr>\n",
              "    <tr>\n",
              "      <th>2021</th>\n",
              "      <td>492.0</td>\n",
              "      <td>1005.0</td>\n",
              "      <td>67.134269</td>\n",
              "    </tr>\n",
              "  </tbody>\n",
              "</table>\n",
              "<p>656 rows × 3 columns</p>\n",
              "</div>"
            ],
            "text/plain": [
              "Arrest                   False    True  arrest_percentage\n",
              "PrimaryType       Year                                   \n",
              "ARSON             2001   829.0   181.0          17.920792\n",
              "                  2002   876.0   156.0          15.116279\n",
              "                  2003   815.0   140.0          14.659686\n",
              "                  2004   669.0   109.0          14.010283\n",
              "                  2005   570.0   121.0          17.510854\n",
              "...                        ...     ...                ...\n",
              "WEAPONS VIOLATION 2017  1009.0  3677.0          78.467776\n",
              "                  2018  1653.0  3803.0          69.703079\n",
              "                  2019  2114.0  4225.0          66.650891\n",
              "                  2020  2985.0  5439.0          64.565527\n",
              "                  2021   492.0  1005.0          67.134269\n",
              "\n",
              "[656 rows x 3 columns]"
            ]
          },
          "metadata": {
            "tags": []
          },
          "execution_count": 51
        }
      ]
    },
    {
      "cell_type": "code",
      "metadata": {
        "id": "zAiVvAHMCsU2"
      },
      "source": [
        "# group by year, crime type and arrest\n",
        "year_crime = crime_data.groupBy(\"Year\", \"PrimaryType\", \"Arrest\" )\\\n",
        " .agg(func.count(func.lit(1)).alias(\"NumCrime\")).toPandas()\n",
        "#crime_arrest\n",
        "\n",
        "# rearrange column heads\n",
        "year_crime_pivot = year_crime.pivot(index = [\"Year\", \"PrimaryType\"], columns = \"Arrest\", values= \"NumCrime\")\n",
        "#year_crime_pivot\n",
        "\n",
        "year_crime_pivot[\"arrest_percentage\"] = (year_crime_pivot[True]/(year_crime_pivot[False]+ year_crime_pivot[True]))*100\n",
        "\n",
        "#year_crime_pivot\n",
        "\n",
        "\n",
        "year_crime_pivot.reset_index(inplace=True)\n",
        "year_crime_pivot.loc[year_crime_pivot.Year=='2019']\n",
        "\n",
        "# convert columns to strings\n",
        "year_crime_pivot.columns = year_crime_pivot.columns.astype(str)\n",
        "\n",
        "# year_crime_pivot"
      ],
      "execution_count": null,
      "outputs": []
    },
    {
      "cell_type": "markdown",
      "metadata": {
        "id": "aToJwKvwC0yY"
      },
      "source": [
        "#### Visualize findings by year"
      ]
    },
    {
      "cell_type": "code",
      "metadata": {
        "id": "o-23TYJSC3eZ",
        "colab": {
          "base_uri": "https://localhost:8080/",
          "height": 1000
        },
        "outputId": "01d8e0a8-3807-4dd4-aabf-aea2ba32acf2"
      },
      "source": [
        "# first, create a list with all the years, we'll use this to loop through\n",
        "year_test = year_crime_pivot['Year'].to_list()\n",
        "\n",
        "yearList = []\n",
        "for i in year_test:\n",
        "    if i not in yearList:\n",
        "        yearList.append(i)\n",
        "#yearList\n",
        "\n",
        "# loop through the year list to create charts for each year\n",
        "for year in yearList:\n",
        "  chart = alt.Chart(year_crime_pivot.loc[year_crime_pivot.Year==year]).mark_bar().encode(\n",
        "    x='PrimaryType',\n",
        "    y='arrest_percentage',\n",
        "  ).properties(\n",
        "    title = str(year),\n",
        ")\n",
        "  chart.display()"
      ],
      "execution_count": null,
      "outputs": [
        {
          "output_type": "display_data",
          "data": {
            "text/plain": [
              "alt.Chart(...)"
            ],
            "text/html": [
              "\n",
              "<div id=\"altair-viz-312e27bce9a94172bd8f889b407de4d4\"></div>\n",
              "<script type=\"text/javascript\">\n",
              "  (function(spec, embedOpt){\n",
              "    let outputDiv = document.currentScript.previousElementSibling;\n",
              "    if (outputDiv.id !== \"altair-viz-312e27bce9a94172bd8f889b407de4d4\") {\n",
              "      outputDiv = document.getElementById(\"altair-viz-312e27bce9a94172bd8f889b407de4d4\");\n",
              "    }\n",
              "    const paths = {\n",
              "      \"vega\": \"https://cdn.jsdelivr.net/npm//vega@5?noext\",\n",
              "      \"vega-lib\": \"https://cdn.jsdelivr.net/npm//vega-lib?noext\",\n",
              "      \"vega-lite\": \"https://cdn.jsdelivr.net/npm//vega-lite@4.8.1?noext\",\n",
              "      \"vega-embed\": \"https://cdn.jsdelivr.net/npm//vega-embed@6?noext\",\n",
              "    };\n",
              "\n",
              "    function loadScript(lib) {\n",
              "      return new Promise(function(resolve, reject) {\n",
              "        var s = document.createElement('script');\n",
              "        s.src = paths[lib];\n",
              "        s.async = true;\n",
              "        s.onload = () => resolve(paths[lib]);\n",
              "        s.onerror = () => reject(`Error loading script: ${paths[lib]}`);\n",
              "        document.getElementsByTagName(\"head\")[0].appendChild(s);\n",
              "      });\n",
              "    }\n",
              "\n",
              "    function showError(err) {\n",
              "      outputDiv.innerHTML = `<div class=\"error\" style=\"color:red;\">${err}</div>`;\n",
              "      throw err;\n",
              "    }\n",
              "\n",
              "    function displayChart(vegaEmbed) {\n",
              "      vegaEmbed(outputDiv, spec, embedOpt)\n",
              "        .catch(err => showError(`Javascript Error: ${err.message}<br>This usually means there's a typo in your chart specification. See the javascript console for the full traceback.`));\n",
              "    }\n",
              "\n",
              "    if(typeof define === \"function\" && define.amd) {\n",
              "      requirejs.config({paths});\n",
              "      require([\"vega-embed\"], displayChart, err => showError(`Error loading script: ${err.message}`));\n",
              "    } else if (typeof vegaEmbed === \"function\") {\n",
              "      displayChart(vegaEmbed);\n",
              "    } else {\n",
              "      loadScript(\"vega\")\n",
              "        .then(() => loadScript(\"vega-lite\"))\n",
              "        .then(() => loadScript(\"vega-embed\"))\n",
              "        .catch(showError)\n",
              "        .then(() => displayChart(vegaEmbed));\n",
              "    }\n",
              "  })({\"config\": {\"view\": {\"continuousWidth\": 400, \"continuousHeight\": 300}}, \"data\": {\"name\": \"data-38a6325515f5a30f4aa5810d80a89a23\"}, \"mark\": \"bar\", \"encoding\": {\"x\": {\"type\": \"nominal\", \"field\": \"PrimaryType\"}, \"y\": {\"type\": \"quantitative\", \"field\": \"arrest_percentage\"}}, \"title\": \"2001\", \"$schema\": \"https://vega.github.io/schema/vega-lite/v4.8.1.json\", \"datasets\": {\"data-38a6325515f5a30f4aa5810d80a89a23\": [{\"Year\": 2001, \"PrimaryType\": \"ARSON\", \"False\": 829.0, \"True\": 181.0, \"arrest_percentage\": 17.92079207920792}, {\"Year\": 2001, \"PrimaryType\": \"ASSAULT\", \"False\": 24234.0, \"True\": 7150.0, \"arrest_percentage\": 22.78230945704818}, {\"Year\": 2001, \"PrimaryType\": \"BATTERY\", \"False\": 72985.0, \"True\": 20463.0, \"arrest_percentage\": 21.89773991952744}, {\"Year\": 2001, \"PrimaryType\": \"BURGLARY\", \"False\": 24320.0, \"True\": 1693.0, \"arrest_percentage\": 6.508284319378772}, {\"Year\": 2001, \"PrimaryType\": \"CRIM SEXUAL ASSAULT\", \"False\": 1374.0, \"True\": 410.0, \"arrest_percentage\": 22.982062780269057}, {\"Year\": 2001, \"PrimaryType\": \"CRIMINAL DAMAGE\", \"False\": 51305.0, \"True\": 4548.0, \"arrest_percentage\": 8.14280343043346}, {\"Year\": 2001, \"PrimaryType\": \"CRIMINAL SEXUAL ASSAULT\", \"False\": 14.0, \"True\": 9.0, \"arrest_percentage\": 39.130434782608695}, {\"Year\": 2001, \"PrimaryType\": \"CRIMINAL TRESPASS\", \"False\": 2979.0, \"True\": 10262.0, \"arrest_percentage\": 77.50169926742693}, {\"Year\": 2001, \"PrimaryType\": \"DECEPTIVE PRACTICE\", \"False\": 10130.0, \"True\": 4789.0, \"arrest_percentage\": 32.100006702862125}, {\"Year\": 2001, \"PrimaryType\": \"DOMESTIC VIOLENCE\", \"False\": null, \"True\": 1.0, \"arrest_percentage\": null}, {\"Year\": 2001, \"PrimaryType\": \"GAMBLING\", \"False\": 3.0, \"True\": 931.0, \"arrest_percentage\": 99.67880085653104}, {\"Year\": 2001, \"PrimaryType\": \"HOMICIDE\", \"False\": 240.0, \"True\": 427.0, \"arrest_percentage\": 64.01799100449776}, {\"Year\": 2001, \"PrimaryType\": \"INTERFERENCE WITH PUBLIC OFFICER\", \"False\": 78.0, \"True\": 328.0, \"arrest_percentage\": 80.78817733990148}, {\"Year\": 2001, \"PrimaryType\": \"INTIMIDATION\", \"False\": 204.0, \"True\": 75.0, \"arrest_percentage\": 26.881720430107524}, {\"Year\": 2001, \"PrimaryType\": \"KIDNAPPING\", \"False\": 795.0, \"True\": 138.0, \"arrest_percentage\": 14.790996784565916}, {\"Year\": 2001, \"PrimaryType\": \"LIQUOR LAW VIOLATION\", \"False\": 1.0, \"True\": 1636.0, \"arrest_percentage\": 99.93891264508247}, {\"Year\": 2001, \"PrimaryType\": \"MOTOR VEHICLE THEFT\", \"False\": 24133.0, \"True\": 3417.0, \"arrest_percentage\": 12.402903811252267}, {\"Year\": 2001, \"PrimaryType\": \"NARCOTICS\", \"False\": 8.0, \"True\": 50559.0, \"arrest_percentage\": 99.98417940554117}, {\"Year\": 2001, \"PrimaryType\": \"OBSCENITY\", \"False\": null, \"True\": 19.0, \"arrest_percentage\": null}, {\"Year\": 2001, \"PrimaryType\": \"OFFENSE INVOLVING CHILDREN\", \"False\": 1446.0, \"True\": 806.0, \"arrest_percentage\": 35.790408525754884}, {\"Year\": 2001, \"PrimaryType\": \"OTHER NARCOTIC VIOLATION\", \"False\": null, \"True\": 6.0, \"arrest_percentage\": null}, {\"Year\": 2001, \"PrimaryType\": \"OTHER OFFENSE\", \"False\": 24361.0, \"True\": 5299.0, \"arrest_percentage\": 17.8658125421443}, {\"Year\": 2001, \"PrimaryType\": \"PROSTITUTION\", \"False\": 3.0, \"True\": 6023.0, \"arrest_percentage\": 99.95021573182873}, {\"Year\": 2001, \"PrimaryType\": \"PUBLIC INDECENCY\", \"False\": null, \"True\": 9.0, \"arrest_percentage\": null}, {\"Year\": 2001, \"PrimaryType\": \"PUBLIC PEACE VIOLATION\", \"False\": 1827.0, \"True\": 923.0, \"arrest_percentage\": 33.56363636363636}, {\"Year\": 2001, \"PrimaryType\": \"RITUALISM\", \"False\": 7.0, \"True\": 1.0, \"arrest_percentage\": 12.5}, {\"Year\": 2001, \"PrimaryType\": \"ROBBERY\", \"False\": 16601.0, \"True\": 1840.0, \"arrest_percentage\": 9.977766932378938}, {\"Year\": 2001, \"PrimaryType\": \"SEX OFFENSE\", \"False\": 1394.0, \"True\": 840.0, \"arrest_percentage\": 37.60071620411817}, {\"Year\": 2001, \"PrimaryType\": \"STALKING\", \"False\": 152.0, \"True\": 51.0, \"arrest_percentage\": 25.12315270935961}, {\"Year\": 2001, \"PrimaryType\": \"THEFT\", \"False\": 83723.0, \"True\": 15544.0, \"arrest_percentage\": 15.658778848962898}, {\"Year\": 2001, \"PrimaryType\": \"WEAPONS VIOLATION\", \"False\": 737.0, \"True\": 3537.0, \"arrest_percentage\": 82.75620028076743}]}}, {\"mode\": \"vega-lite\"});\n",
              "</script>"
            ]
          },
          "metadata": {
            "tags": []
          }
        },
        {
          "output_type": "display_data",
          "data": {
            "text/plain": [
              "alt.Chart(...)"
            ],
            "text/html": [
              "\n",
              "<div id=\"altair-viz-85a83c0209cb4ca4ab4dab09bf21b3de\"></div>\n",
              "<script type=\"text/javascript\">\n",
              "  (function(spec, embedOpt){\n",
              "    let outputDiv = document.currentScript.previousElementSibling;\n",
              "    if (outputDiv.id !== \"altair-viz-85a83c0209cb4ca4ab4dab09bf21b3de\") {\n",
              "      outputDiv = document.getElementById(\"altair-viz-85a83c0209cb4ca4ab4dab09bf21b3de\");\n",
              "    }\n",
              "    const paths = {\n",
              "      \"vega\": \"https://cdn.jsdelivr.net/npm//vega@5?noext\",\n",
              "      \"vega-lib\": \"https://cdn.jsdelivr.net/npm//vega-lib?noext\",\n",
              "      \"vega-lite\": \"https://cdn.jsdelivr.net/npm//vega-lite@4.8.1?noext\",\n",
              "      \"vega-embed\": \"https://cdn.jsdelivr.net/npm//vega-embed@6?noext\",\n",
              "    };\n",
              "\n",
              "    function loadScript(lib) {\n",
              "      return new Promise(function(resolve, reject) {\n",
              "        var s = document.createElement('script');\n",
              "        s.src = paths[lib];\n",
              "        s.async = true;\n",
              "        s.onload = () => resolve(paths[lib]);\n",
              "        s.onerror = () => reject(`Error loading script: ${paths[lib]}`);\n",
              "        document.getElementsByTagName(\"head\")[0].appendChild(s);\n",
              "      });\n",
              "    }\n",
              "\n",
              "    function showError(err) {\n",
              "      outputDiv.innerHTML = `<div class=\"error\" style=\"color:red;\">${err}</div>`;\n",
              "      throw err;\n",
              "    }\n",
              "\n",
              "    function displayChart(vegaEmbed) {\n",
              "      vegaEmbed(outputDiv, spec, embedOpt)\n",
              "        .catch(err => showError(`Javascript Error: ${err.message}<br>This usually means there's a typo in your chart specification. See the javascript console for the full traceback.`));\n",
              "    }\n",
              "\n",
              "    if(typeof define === \"function\" && define.amd) {\n",
              "      requirejs.config({paths});\n",
              "      require([\"vega-embed\"], displayChart, err => showError(`Error loading script: ${err.message}`));\n",
              "    } else if (typeof vegaEmbed === \"function\") {\n",
              "      displayChart(vegaEmbed);\n",
              "    } else {\n",
              "      loadScript(\"vega\")\n",
              "        .then(() => loadScript(\"vega-lite\"))\n",
              "        .then(() => loadScript(\"vega-embed\"))\n",
              "        .catch(showError)\n",
              "        .then(() => displayChart(vegaEmbed));\n",
              "    }\n",
              "  })({\"config\": {\"view\": {\"continuousWidth\": 400, \"continuousHeight\": 300}}, \"data\": {\"name\": \"data-4112f9743f2406976271cd1613db8922\"}, \"mark\": \"bar\", \"encoding\": {\"x\": {\"type\": \"nominal\", \"field\": \"PrimaryType\"}, \"y\": {\"type\": \"quantitative\", \"field\": \"arrest_percentage\"}}, \"title\": \"2002\", \"$schema\": \"https://vega.github.io/schema/vega-lite/v4.8.1.json\", \"datasets\": {\"data-4112f9743f2406976271cd1613db8922\": [{\"Year\": 2002, \"PrimaryType\": \"ARSON\", \"False\": 876.0, \"True\": 156.0, \"arrest_percentage\": 15.11627906976744}, {\"Year\": 2002, \"PrimaryType\": \"ASSAULT\", \"False\": 24179.0, \"True\": 7342.0, \"arrest_percentage\": 23.292408235779323}, {\"Year\": 2002, \"PrimaryType\": \"BATTERY\", \"False\": 72820.0, \"True\": 21330.0, \"arrest_percentage\": 22.655337227827935}, {\"Year\": 2002, \"PrimaryType\": \"BURGLARY\", \"False\": 23956.0, \"True\": 1667.0, \"arrest_percentage\": 6.5058736291613}, {\"Year\": 2002, \"PrimaryType\": \"CRIM SEXUAL ASSAULT\", \"False\": 1411.0, \"True\": 402.0, \"arrest_percentage\": 22.173193601765032}, {\"Year\": 2002, \"PrimaryType\": \"CRIMINAL DAMAGE\", \"False\": 51537.0, \"True\": 4403.0, \"arrest_percentage\": 7.8709331426528415}, {\"Year\": 2002, \"PrimaryType\": \"CRIMINAL SEXUAL ASSAULT\", \"False\": 15.0, \"True\": 3.0, \"arrest_percentage\": 16.666666666666664}, {\"Year\": 2002, \"PrimaryType\": \"CRIMINAL TRESPASS\", \"False\": 3248.0, \"True\": 10632.0, \"arrest_percentage\": 76.59942363112393}, {\"Year\": 2002, \"PrimaryType\": \"DECEPTIVE PRACTICE\", \"False\": 9917.0, \"True\": 3804.0, \"arrest_percentage\": 27.723926827490708}, {\"Year\": 2002, \"PrimaryType\": \"GAMBLING\", \"False\": 2.0, \"True\": 969.0, \"arrest_percentage\": 99.79402677651905}, {\"Year\": 2002, \"PrimaryType\": \"HOMICIDE\", \"False\": 238.0, \"True\": 419.0, \"arrest_percentage\": 63.77473363774734}, {\"Year\": 2002, \"PrimaryType\": \"INTERFERENCE WITH PUBLIC OFFICER\", \"False\": 92.0, \"True\": 269.0, \"arrest_percentage\": 74.51523545706371}, {\"Year\": 2002, \"PrimaryType\": \"INTIMIDATION\", \"False\": 278.0, \"True\": 59.0, \"arrest_percentage\": 17.50741839762611}, {\"Year\": 2002, \"PrimaryType\": \"KIDNAPPING\", \"False\": 746.0, \"True\": 83.0, \"arrest_percentage\": 10.012062726176115}, {\"Year\": 2002, \"PrimaryType\": \"LIQUOR LAW VIOLATION\", \"False\": 1.0, \"True\": 1413.0, \"arrest_percentage\": 99.92927864214994}, {\"Year\": 2002, \"PrimaryType\": \"MOTOR VEHICLE THEFT\", \"False\": 21958.0, \"True\": 3163.0, \"arrest_percentage\": 12.591059273118107}, {\"Year\": 2002, \"PrimaryType\": \"NARCOTICS\", \"False\": 8.0, \"True\": 51781.0, \"arrest_percentage\": 99.98455270424222}, {\"Year\": 2002, \"PrimaryType\": \"OBSCENITY\", \"False\": 2.0, \"True\": 24.0, \"arrest_percentage\": 92.3076923076923}, {\"Year\": 2002, \"PrimaryType\": \"OFFENSE INVOLVING CHILDREN\", \"False\": 1810.0, \"True\": 773.0, \"arrest_percentage\": 29.926442121564072}, {\"Year\": 2002, \"PrimaryType\": \"OTHER NARCOTIC VIOLATION\", \"False\": null, \"True\": 5.0, \"arrest_percentage\": null}, {\"Year\": 2002, \"PrimaryType\": \"OTHER OFFENSE\", \"False\": 26898.0, \"True\": 5701.0, \"arrest_percentage\": 17.488266511242674}, {\"Year\": 2002, \"PrimaryType\": \"PROSTITUTION\", \"False\": null, \"True\": 6408.0, \"arrest_percentage\": null}, {\"Year\": 2002, \"PrimaryType\": \"PUBLIC INDECENCY\", \"False\": null, \"True\": 8.0, \"arrest_percentage\": null}, {\"Year\": 2002, \"PrimaryType\": \"PUBLIC PEACE VIOLATION\", \"False\": 1528.0, \"True\": 929.0, \"arrest_percentage\": 37.81033781033781}, {\"Year\": 2002, \"PrimaryType\": \"RITUALISM\", \"False\": 1.0, \"True\": 1.0, \"arrest_percentage\": 50.0}, {\"Year\": 2002, \"PrimaryType\": \"ROBBERY\", \"False\": 16764.0, \"True\": 1758.0, \"arrest_percentage\": 9.491415613864595}, {\"Year\": 2002, \"PrimaryType\": \"SEX OFFENSE\", \"False\": 1396.0, \"True\": 775.0, \"arrest_percentage\": 35.6978350990327}, {\"Year\": 2002, \"PrimaryType\": \"STALKING\", \"False\": 156.0, \"True\": 44.0, \"arrest_percentage\": 22.0}, {\"Year\": 2002, \"PrimaryType\": \"THEFT\", \"False\": 84630.0, \"True\": 13697.0, \"arrest_percentage\": 13.93004973201664}, {\"Year\": 2002, \"PrimaryType\": \"WEAPONS VIOLATION\", \"False\": 743.0, \"True\": 3538.0, \"arrest_percentage\": 82.64424199953282}]}}, {\"mode\": \"vega-lite\"});\n",
              "</script>"
            ]
          },
          "metadata": {
            "tags": []
          }
        },
        {
          "output_type": "display_data",
          "data": {
            "text/plain": [
              "alt.Chart(...)"
            ],
            "text/html": [
              "\n",
              "<div id=\"altair-viz-3c8793a1edea4b56abea08e191dcb9e2\"></div>\n",
              "<script type=\"text/javascript\">\n",
              "  (function(spec, embedOpt){\n",
              "    let outputDiv = document.currentScript.previousElementSibling;\n",
              "    if (outputDiv.id !== \"altair-viz-3c8793a1edea4b56abea08e191dcb9e2\") {\n",
              "      outputDiv = document.getElementById(\"altair-viz-3c8793a1edea4b56abea08e191dcb9e2\");\n",
              "    }\n",
              "    const paths = {\n",
              "      \"vega\": \"https://cdn.jsdelivr.net/npm//vega@5?noext\",\n",
              "      \"vega-lib\": \"https://cdn.jsdelivr.net/npm//vega-lib?noext\",\n",
              "      \"vega-lite\": \"https://cdn.jsdelivr.net/npm//vega-lite@4.8.1?noext\",\n",
              "      \"vega-embed\": \"https://cdn.jsdelivr.net/npm//vega-embed@6?noext\",\n",
              "    };\n",
              "\n",
              "    function loadScript(lib) {\n",
              "      return new Promise(function(resolve, reject) {\n",
              "        var s = document.createElement('script');\n",
              "        s.src = paths[lib];\n",
              "        s.async = true;\n",
              "        s.onload = () => resolve(paths[lib]);\n",
              "        s.onerror = () => reject(`Error loading script: ${paths[lib]}`);\n",
              "        document.getElementsByTagName(\"head\")[0].appendChild(s);\n",
              "      });\n",
              "    }\n",
              "\n",
              "    function showError(err) {\n",
              "      outputDiv.innerHTML = `<div class=\"error\" style=\"color:red;\">${err}</div>`;\n",
              "      throw err;\n",
              "    }\n",
              "\n",
              "    function displayChart(vegaEmbed) {\n",
              "      vegaEmbed(outputDiv, spec, embedOpt)\n",
              "        .catch(err => showError(`Javascript Error: ${err.message}<br>This usually means there's a typo in your chart specification. See the javascript console for the full traceback.`));\n",
              "    }\n",
              "\n",
              "    if(typeof define === \"function\" && define.amd) {\n",
              "      requirejs.config({paths});\n",
              "      require([\"vega-embed\"], displayChart, err => showError(`Error loading script: ${err.message}`));\n",
              "    } else if (typeof vegaEmbed === \"function\") {\n",
              "      displayChart(vegaEmbed);\n",
              "    } else {\n",
              "      loadScript(\"vega\")\n",
              "        .then(() => loadScript(\"vega-lite\"))\n",
              "        .then(() => loadScript(\"vega-embed\"))\n",
              "        .catch(showError)\n",
              "        .then(() => displayChart(vegaEmbed));\n",
              "    }\n",
              "  })({\"config\": {\"view\": {\"continuousWidth\": 400, \"continuousHeight\": 300}}, \"data\": {\"name\": \"data-abfa14910b98b5d2f4a98517d0c9ae3e\"}, \"mark\": \"bar\", \"encoding\": {\"x\": {\"type\": \"nominal\", \"field\": \"PrimaryType\"}, \"y\": {\"type\": \"quantitative\", \"field\": \"arrest_percentage\"}}, \"title\": \"2003\", \"$schema\": \"https://vega.github.io/schema/vega-lite/v4.8.1.json\", \"datasets\": {\"data-abfa14910b98b5d2f4a98517d0c9ae3e\": [{\"Year\": 2003, \"PrimaryType\": \"ARSON\", \"False\": 815.0, \"True\": 140.0, \"arrest_percentage\": 14.659685863874344}, {\"Year\": 2003, \"PrimaryType\": \"ASSAULT\", \"False\": 22567.0, \"True\": 6910.0, \"arrest_percentage\": 23.442005631509314}, {\"Year\": 2003, \"PrimaryType\": \"BATTERY\", \"False\": 67920.0, \"True\": 20459.0, \"arrest_percentage\": 23.149164394256555}, {\"Year\": 2003, \"PrimaryType\": \"BURGLARY\", \"False\": 23545.0, \"True\": 1611.0, \"arrest_percentage\": 6.404038797901097}, {\"Year\": 2003, \"PrimaryType\": \"CRIM SEXUAL ASSAULT\", \"False\": 1270.0, \"True\": 311.0, \"arrest_percentage\": 19.671094244149273}, {\"Year\": 2003, \"PrimaryType\": \"CRIMINAL DAMAGE\", \"False\": 50951.0, \"True\": 4060.0, \"arrest_percentage\": 7.3803421133955025}, {\"Year\": 2003, \"PrimaryType\": \"CRIMINAL SEXUAL ASSAULT\", \"False\": 21.0, \"True\": 2.0, \"arrest_percentage\": 8.695652173913043}, {\"Year\": 2003, \"PrimaryType\": \"CRIMINAL TRESPASS\", \"False\": 3189.0, \"True\": 11618.0, \"arrest_percentage\": 78.4628891740393}, {\"Year\": 2003, \"PrimaryType\": \"DECEPTIVE PRACTICE\", \"False\": 9910.0, \"True\": 3549.0, \"arrest_percentage\": 26.36897243480199}, {\"Year\": 2003, \"PrimaryType\": \"GAMBLING\", \"False\": null, \"True\": 1088.0, \"arrest_percentage\": null}, {\"Year\": 2003, \"PrimaryType\": \"HOMICIDE\", \"False\": 231.0, \"True\": 373.0, \"arrest_percentage\": 61.75496688741722}, {\"Year\": 2003, \"PrimaryType\": \"INTERFERENCE WITH PUBLIC OFFICER\", \"False\": 62.0, \"True\": 346.0, \"arrest_percentage\": 84.80392156862744}, {\"Year\": 2003, \"PrimaryType\": \"INTIMIDATION\", \"False\": 317.0, \"True\": 47.0, \"arrest_percentage\": 12.912087912087914}, {\"Year\": 2003, \"PrimaryType\": \"KIDNAPPING\", \"False\": 636.0, \"True\": 69.0, \"arrest_percentage\": 9.787234042553191}, {\"Year\": 2003, \"PrimaryType\": \"LIQUOR LAW VIOLATION\", \"False\": 1.0, \"True\": 1310.0, \"arrest_percentage\": 99.92372234935164}, {\"Year\": 2003, \"PrimaryType\": \"MOTOR VEHICLE THEFT\", \"False\": 20008.0, \"True\": 2740.0, \"arrest_percentage\": 12.045014946368912}, {\"Year\": 2003, \"PrimaryType\": \"NARCOTICS\", \"False\": 5.0, \"True\": 54283.0, \"arrest_percentage\": 99.99078986147951}, {\"Year\": 2003, \"PrimaryType\": \"NON-CRIMINAL\", \"False\": 1.0, \"True\": null, \"arrest_percentage\": null}, {\"Year\": 2003, \"PrimaryType\": \"OBSCENITY\", \"False\": 1.0, \"True\": 15.0, \"arrest_percentage\": 93.75}, {\"Year\": 2003, \"PrimaryType\": \"OFFENSE INVOLVING CHILDREN\", \"False\": 2178.0, \"True\": 862.0, \"arrest_percentage\": 28.35526315789474}, {\"Year\": 2003, \"PrimaryType\": \"OTHER NARCOTIC VIOLATION\", \"False\": null, \"True\": 2.0, \"arrest_percentage\": null}, {\"Year\": 2003, \"PrimaryType\": \"OTHER OFFENSE\", \"False\": 25291.0, \"True\": 5856.0, \"arrest_percentage\": 18.801168651876583}, {\"Year\": 2003, \"PrimaryType\": \"PROSTITUTION\", \"False\": null, \"True\": 6214.0, \"arrest_percentage\": null}, {\"Year\": 2003, \"PrimaryType\": \"PUBLIC INDECENCY\", \"False\": null, \"True\": 6.0, \"arrest_percentage\": null}, {\"Year\": 2003, \"PrimaryType\": \"PUBLIC PEACE VIOLATION\", \"False\": 1381.0, \"True\": 1049.0, \"arrest_percentage\": 43.16872427983539}, {\"Year\": 2003, \"PrimaryType\": \"RITUALISM\", \"False\": 2.0, \"True\": null, \"arrest_percentage\": null}, {\"Year\": 2003, \"PrimaryType\": \"ROBBERY\", \"False\": 15740.0, \"True\": 1592.0, \"arrest_percentage\": 9.18532194784214}, {\"Year\": 2003, \"PrimaryType\": \"SEX OFFENSE\", \"False\": 1391.0, \"True\": 685.0, \"arrest_percentage\": 32.99614643545279}, {\"Year\": 2003, \"PrimaryType\": \"STALKING\", \"False\": 203.0, \"True\": 44.0, \"arrest_percentage\": 17.813765182186234}, {\"Year\": 2003, \"PrimaryType\": \"THEFT\", \"False\": 85986.0, \"True\": 12889.0, \"arrest_percentage\": 13.035651074589127}, {\"Year\": 2003, \"PrimaryType\": \"WEAPONS VIOLATION\", \"False\": 764.0, \"True\": 3447.0, \"arrest_percentage\": 81.85704108287818}]}}, {\"mode\": \"vega-lite\"});\n",
              "</script>"
            ]
          },
          "metadata": {
            "tags": []
          }
        },
        {
          "output_type": "display_data",
          "data": {
            "text/plain": [
              "alt.Chart(...)"
            ],
            "text/html": [
              "\n",
              "<div id=\"altair-viz-9f28e66a24b744928020e10cbdc61283\"></div>\n",
              "<script type=\"text/javascript\">\n",
              "  (function(spec, embedOpt){\n",
              "    let outputDiv = document.currentScript.previousElementSibling;\n",
              "    if (outputDiv.id !== \"altair-viz-9f28e66a24b744928020e10cbdc61283\") {\n",
              "      outputDiv = document.getElementById(\"altair-viz-9f28e66a24b744928020e10cbdc61283\");\n",
              "    }\n",
              "    const paths = {\n",
              "      \"vega\": \"https://cdn.jsdelivr.net/npm//vega@5?noext\",\n",
              "      \"vega-lib\": \"https://cdn.jsdelivr.net/npm//vega-lib?noext\",\n",
              "      \"vega-lite\": \"https://cdn.jsdelivr.net/npm//vega-lite@4.8.1?noext\",\n",
              "      \"vega-embed\": \"https://cdn.jsdelivr.net/npm//vega-embed@6?noext\",\n",
              "    };\n",
              "\n",
              "    function loadScript(lib) {\n",
              "      return new Promise(function(resolve, reject) {\n",
              "        var s = document.createElement('script');\n",
              "        s.src = paths[lib];\n",
              "        s.async = true;\n",
              "        s.onload = () => resolve(paths[lib]);\n",
              "        s.onerror = () => reject(`Error loading script: ${paths[lib]}`);\n",
              "        document.getElementsByTagName(\"head\")[0].appendChild(s);\n",
              "      });\n",
              "    }\n",
              "\n",
              "    function showError(err) {\n",
              "      outputDiv.innerHTML = `<div class=\"error\" style=\"color:red;\">${err}</div>`;\n",
              "      throw err;\n",
              "    }\n",
              "\n",
              "    function displayChart(vegaEmbed) {\n",
              "      vegaEmbed(outputDiv, spec, embedOpt)\n",
              "        .catch(err => showError(`Javascript Error: ${err.message}<br>This usually means there's a typo in your chart specification. See the javascript console for the full traceback.`));\n",
              "    }\n",
              "\n",
              "    if(typeof define === \"function\" && define.amd) {\n",
              "      requirejs.config({paths});\n",
              "      require([\"vega-embed\"], displayChart, err => showError(`Error loading script: ${err.message}`));\n",
              "    } else if (typeof vegaEmbed === \"function\") {\n",
              "      displayChart(vegaEmbed);\n",
              "    } else {\n",
              "      loadScript(\"vega\")\n",
              "        .then(() => loadScript(\"vega-lite\"))\n",
              "        .then(() => loadScript(\"vega-embed\"))\n",
              "        .catch(showError)\n",
              "        .then(() => displayChart(vegaEmbed));\n",
              "    }\n",
              "  })({\"config\": {\"view\": {\"continuousWidth\": 400, \"continuousHeight\": 300}}, \"data\": {\"name\": \"data-df0f72b775068120a43284c5ae92b9e2\"}, \"mark\": \"bar\", \"encoding\": {\"x\": {\"type\": \"nominal\", \"field\": \"PrimaryType\"}, \"y\": {\"type\": \"quantitative\", \"field\": \"arrest_percentage\"}}, \"title\": \"2004\", \"$schema\": \"https://vega.github.io/schema/vega-lite/v4.8.1.json\", \"datasets\": {\"data-df0f72b775068120a43284c5ae92b9e2\": [{\"Year\": 2004, \"PrimaryType\": \"ARSON\", \"False\": 669.0, \"True\": 109.0, \"arrest_percentage\": 14.010282776349614}, {\"Year\": 2004, \"PrimaryType\": \"ASSAULT\", \"False\": 21845.0, \"True\": 7005.0, \"arrest_percentage\": 24.280762564991335}, {\"Year\": 2004, \"PrimaryType\": \"BATTERY\", \"False\": 66418.0, \"True\": 20718.0, \"arrest_percentage\": 23.77662504590525}, {\"Year\": 2004, \"PrimaryType\": \"BURGLARY\", \"False\": 23187.0, \"True\": 1377.0, \"arrest_percentage\": 5.6057645334636055}, {\"Year\": 2004, \"PrimaryType\": \"CRIM SEXUAL ASSAULT\", \"False\": 1236.0, \"True\": 316.0, \"arrest_percentage\": 20.36082474226804}, {\"Year\": 2004, \"PrimaryType\": \"CRIMINAL DAMAGE\", \"False\": 49199.0, \"True\": 3965.0, \"arrest_percentage\": 7.4580543224738545}, {\"Year\": 2004, \"PrimaryType\": \"CRIMINAL SEXUAL ASSAULT\", \"False\": 19.0, \"True\": 5.0, \"arrest_percentage\": 20.833333333333336}, {\"Year\": 2004, \"PrimaryType\": \"CRIMINAL TRESPASS\", \"False\": 3068.0, \"True\": 12845.0, \"arrest_percentage\": 80.72016590209263}, {\"Year\": 2004, \"PrimaryType\": \"DECEPTIVE PRACTICE\", \"False\": 9960.0, \"True\": 3292.0, \"arrest_percentage\": 24.841533353456082}, {\"Year\": 2004, \"PrimaryType\": \"GAMBLING\", \"False\": 2.0, \"True\": 1120.0, \"arrest_percentage\": 99.8217468805704}, {\"Year\": 2004, \"PrimaryType\": \"HOMICIDE\", \"False\": 164.0, \"True\": 290.0, \"arrest_percentage\": 63.87665198237885}, {\"Year\": 2004, \"PrimaryType\": \"INTERFERENCE WITH PUBLIC OFFICER\", \"False\": 66.0, \"True\": 465.0, \"arrest_percentage\": 87.57062146892656}, {\"Year\": 2004, \"PrimaryType\": \"INTIMIDATION\", \"False\": 280.0, \"True\": 69.0, \"arrest_percentage\": 19.770773638968482}, {\"Year\": 2004, \"PrimaryType\": \"KIDNAPPING\", \"False\": 424.0, \"True\": 58.0, \"arrest_percentage\": 12.033195020746888}, {\"Year\": 2004, \"PrimaryType\": \"LIQUOR LAW VIOLATION\", \"False\": 3.0, \"True\": 982.0, \"arrest_percentage\": 99.69543147208122}, {\"Year\": 2004, \"PrimaryType\": \"MOTOR VEHICLE THEFT\", \"False\": 20291.0, \"True\": 2514.0, \"arrest_percentage\": 11.023898267923702}, {\"Year\": 2004, \"PrimaryType\": \"NARCOTICS\", \"False\": 26.0, \"True\": 57034.0, \"arrest_percentage\": 99.95443392919734}, {\"Year\": 2004, \"PrimaryType\": \"OBSCENITY\", \"False\": 1.0, \"True\": 12.0, \"arrest_percentage\": 92.3076923076923}, {\"Year\": 2004, \"PrimaryType\": \"OFFENSE INVOLVING CHILDREN\", \"False\": 2394.0, \"True\": 694.0, \"arrest_percentage\": 22.474093264248705}, {\"Year\": 2004, \"PrimaryType\": \"OTHER NARCOTIC VIOLATION\", \"False\": null, \"True\": 9.0, \"arrest_percentage\": null}, {\"Year\": 2004, \"PrimaryType\": \"OTHER OFFENSE\", \"False\": 24146.0, \"True\": 5386.0, \"arrest_percentage\": 18.23784369497494}, {\"Year\": 2004, \"PrimaryType\": \"PROSTITUTION\", \"False\": 2.0, \"True\": 7474.0, \"arrest_percentage\": 99.97324772605671}, {\"Year\": 2004, \"PrimaryType\": \"PUBLIC INDECENCY\", \"False\": null, \"True\": 9.0, \"arrest_percentage\": null}, {\"Year\": 2004, \"PrimaryType\": \"PUBLIC PEACE VIOLATION\", \"False\": 1188.0, \"True\": 1307.0, \"arrest_percentage\": 52.38476953907816}, {\"Year\": 2004, \"PrimaryType\": \"RITUALISM\", \"False\": 1.0, \"True\": null, \"arrest_percentage\": null}, {\"Year\": 2004, \"PrimaryType\": \"ROBBERY\", \"False\": 14500.0, \"True\": 1478.0, \"arrest_percentage\": 9.250219051195394}, {\"Year\": 2004, \"PrimaryType\": \"SEX OFFENSE\", \"False\": 1154.0, \"True\": 650.0, \"arrest_percentage\": 36.031042128603104}, {\"Year\": 2004, \"PrimaryType\": \"STALKING\", \"False\": 179.0, \"True\": 36.0, \"arrest_percentage\": 16.74418604651163}, {\"Year\": 2004, \"PrimaryType\": \"THEFT\", \"False\": 83395.0, \"True\": 12068.0, \"arrest_percentage\": 12.641546986790694}, {\"Year\": 2004, \"PrimaryType\": \"WEAPONS VIOLATION\", \"False\": 892.0, \"True\": 3405.0, \"arrest_percentage\": 79.24133116127531}]}}, {\"mode\": \"vega-lite\"});\n",
              "</script>"
            ]
          },
          "metadata": {
            "tags": []
          }
        },
        {
          "output_type": "display_data",
          "data": {
            "text/plain": [
              "alt.Chart(...)"
            ],
            "text/html": [
              "\n",
              "<div id=\"altair-viz-a39df3f686bb470a84e9ac856b1d2a21\"></div>\n",
              "<script type=\"text/javascript\">\n",
              "  (function(spec, embedOpt){\n",
              "    let outputDiv = document.currentScript.previousElementSibling;\n",
              "    if (outputDiv.id !== \"altair-viz-a39df3f686bb470a84e9ac856b1d2a21\") {\n",
              "      outputDiv = document.getElementById(\"altair-viz-a39df3f686bb470a84e9ac856b1d2a21\");\n",
              "    }\n",
              "    const paths = {\n",
              "      \"vega\": \"https://cdn.jsdelivr.net/npm//vega@5?noext\",\n",
              "      \"vega-lib\": \"https://cdn.jsdelivr.net/npm//vega-lib?noext\",\n",
              "      \"vega-lite\": \"https://cdn.jsdelivr.net/npm//vega-lite@4.8.1?noext\",\n",
              "      \"vega-embed\": \"https://cdn.jsdelivr.net/npm//vega-embed@6?noext\",\n",
              "    };\n",
              "\n",
              "    function loadScript(lib) {\n",
              "      return new Promise(function(resolve, reject) {\n",
              "        var s = document.createElement('script');\n",
              "        s.src = paths[lib];\n",
              "        s.async = true;\n",
              "        s.onload = () => resolve(paths[lib]);\n",
              "        s.onerror = () => reject(`Error loading script: ${paths[lib]}`);\n",
              "        document.getElementsByTagName(\"head\")[0].appendChild(s);\n",
              "      });\n",
              "    }\n",
              "\n",
              "    function showError(err) {\n",
              "      outputDiv.innerHTML = `<div class=\"error\" style=\"color:red;\">${err}</div>`;\n",
              "      throw err;\n",
              "    }\n",
              "\n",
              "    function displayChart(vegaEmbed) {\n",
              "      vegaEmbed(outputDiv, spec, embedOpt)\n",
              "        .catch(err => showError(`Javascript Error: ${err.message}<br>This usually means there's a typo in your chart specification. See the javascript console for the full traceback.`));\n",
              "    }\n",
              "\n",
              "    if(typeof define === \"function\" && define.amd) {\n",
              "      requirejs.config({paths});\n",
              "      require([\"vega-embed\"], displayChart, err => showError(`Error loading script: ${err.message}`));\n",
              "    } else if (typeof vegaEmbed === \"function\") {\n",
              "      displayChart(vegaEmbed);\n",
              "    } else {\n",
              "      loadScript(\"vega\")\n",
              "        .then(() => loadScript(\"vega-lite\"))\n",
              "        .then(() => loadScript(\"vega-embed\"))\n",
              "        .catch(showError)\n",
              "        .then(() => displayChart(vegaEmbed));\n",
              "    }\n",
              "  })({\"config\": {\"view\": {\"continuousWidth\": 400, \"continuousHeight\": 300}}, \"data\": {\"name\": \"data-07559a08e32705aaf456e002559cabfe\"}, \"mark\": \"bar\", \"encoding\": {\"x\": {\"type\": \"nominal\", \"field\": \"PrimaryType\"}, \"y\": {\"type\": \"quantitative\", \"field\": \"arrest_percentage\"}}, \"title\": \"2005\", \"$schema\": \"https://vega.github.io/schema/vega-lite/v4.8.1.json\", \"datasets\": {\"data-07559a08e32705aaf456e002559cabfe\": [{\"Year\": 2005, \"PrimaryType\": \"ARSON\", \"False\": 570.0, \"True\": 121.0, \"arrest_percentage\": 17.51085383502171}, {\"Year\": 2005, \"PrimaryType\": \"ASSAULT\", \"False\": 20435.0, \"True\": 6631.0, \"arrest_percentage\": 24.499371905711964}, {\"Year\": 2005, \"PrimaryType\": \"BATTERY\", \"False\": 63970.0, \"True\": 19994.0, \"arrest_percentage\": 23.812586346529464}, {\"Year\": 2005, \"PrimaryType\": \"BURGLARY\", \"False\": 24090.0, \"True\": 1413.0, \"arrest_percentage\": 5.54052464415951}, {\"Year\": 2005, \"PrimaryType\": \"CRIM SEXUAL ASSAULT\", \"False\": 1257.0, \"True\": 278.0, \"arrest_percentage\": 18.11074918566775}, {\"Year\": 2005, \"PrimaryType\": \"CRIMINAL DAMAGE\", \"False\": 50465.0, \"True\": 4083.0, \"arrest_percentage\": 7.485150692967661}, {\"Year\": 2005, \"PrimaryType\": \"CRIMINAL SEXUAL ASSAULT\", \"False\": 15.0, \"True\": 5.0, \"arrest_percentage\": 25.0}, {\"Year\": 2005, \"PrimaryType\": \"CRIMINAL TRESPASS\", \"False\": 2945.0, \"True\": 13710.0, \"arrest_percentage\": 82.31762233563494}, {\"Year\": 2005, \"PrimaryType\": \"DECEPTIVE PRACTICE\", \"False\": 10381.0, \"True\": 3203.0, \"arrest_percentage\": 23.579210836277976}, {\"Year\": 2005, \"PrimaryType\": \"GAMBLING\", \"False\": 1.0, \"True\": 1077.0, \"arrest_percentage\": 99.90723562152134}, {\"Year\": 2005, \"PrimaryType\": \"HOMICIDE\", \"False\": 177.0, \"True\": 276.0, \"arrest_percentage\": 60.9271523178808}, {\"Year\": 2005, \"PrimaryType\": \"INTERFERENCE WITH PUBLIC OFFICER\", \"False\": 63.0, \"True\": 552.0, \"arrest_percentage\": 89.75609756097562}, {\"Year\": 2005, \"PrimaryType\": \"INTIMIDATION\", \"False\": 215.0, \"True\": 43.0, \"arrest_percentage\": 16.666666666666664}, {\"Year\": 2005, \"PrimaryType\": \"KIDNAPPING\", \"False\": 334.0, \"True\": 55.0, \"arrest_percentage\": 14.138817480719796}, {\"Year\": 2005, \"PrimaryType\": \"LIQUOR LAW VIOLATION\", \"False\": 4.0, \"True\": 1001.0, \"arrest_percentage\": 99.60199004975124}, {\"Year\": 2005, \"PrimaryType\": \"MOTOR VEHICLE THEFT\", \"False\": 20154.0, \"True\": 2343.0, \"arrest_percentage\": 10.41472196292839}, {\"Year\": 2005, \"PrimaryType\": \"NARCOTICS\", \"False\": 113.0, \"True\": 56121.0, \"arrest_percentage\": 99.79905395312444}, {\"Year\": 2005, \"PrimaryType\": \"OBSCENITY\", \"False\": 2.0, \"True\": 17.0, \"arrest_percentage\": 89.47368421052632}, {\"Year\": 2005, \"PrimaryType\": \"OFFENSE INVOLVING CHILDREN\", \"False\": 2237.0, \"True\": 658.0, \"arrest_percentage\": 22.728842832469777}, {\"Year\": 2005, \"PrimaryType\": \"OTHER NARCOTIC VIOLATION\", \"False\": 3.0, \"True\": 6.0, \"arrest_percentage\": 66.66666666666666}, {\"Year\": 2005, \"PrimaryType\": \"OTHER OFFENSE\", \"False\": 23302.0, \"True\": 4726.0, \"arrest_percentage\": 16.861709718852577}, {\"Year\": 2005, \"PrimaryType\": \"PROSTITUTION\", \"False\": 8.0, \"True\": 6116.0, \"arrest_percentage\": 99.86936642717178}, {\"Year\": 2005, \"PrimaryType\": \"PUBLIC INDECENCY\", \"False\": null, \"True\": 4.0, \"arrest_percentage\": null}, {\"Year\": 2005, \"PrimaryType\": \"PUBLIC PEACE VIOLATION\", \"False\": 1147.0, \"True\": 1583.0, \"arrest_percentage\": 57.98534798534799}, {\"Year\": 2005, \"PrimaryType\": \"RITUALISM\", \"False\": 2.0, \"True\": null, \"arrest_percentage\": null}, {\"Year\": 2005, \"PrimaryType\": \"ROBBERY\", \"False\": 14406.0, \"True\": 1641.0, \"arrest_percentage\": 10.226210506636754}, {\"Year\": 2005, \"PrimaryType\": \"SEX OFFENSE\", \"False\": 1215.0, \"True\": 596.0, \"arrest_percentage\": 32.90999447818885}, {\"Year\": 2005, \"PrimaryType\": \"STALKING\", \"False\": 169.0, \"True\": 23.0, \"arrest_percentage\": 11.979166666666668}, {\"Year\": 2005, \"PrimaryType\": \"THEFT\", \"False\": 74346.0, \"True\": 11338.0, \"arrest_percentage\": 13.23234209420662}, {\"Year\": 2005, \"PrimaryType\": \"WEAPONS VIOLATION\", \"False\": 815.0, \"True\": 3291.0, \"arrest_percentage\": 80.15099853872381}]}}, {\"mode\": \"vega-lite\"});\n",
              "</script>"
            ]
          },
          "metadata": {
            "tags": []
          }
        },
        {
          "output_type": "display_data",
          "data": {
            "text/plain": [
              "alt.Chart(...)"
            ],
            "text/html": [
              "\n",
              "<div id=\"altair-viz-3137893934f2427e81ccc1072218015b\"></div>\n",
              "<script type=\"text/javascript\">\n",
              "  (function(spec, embedOpt){\n",
              "    let outputDiv = document.currentScript.previousElementSibling;\n",
              "    if (outputDiv.id !== \"altair-viz-3137893934f2427e81ccc1072218015b\") {\n",
              "      outputDiv = document.getElementById(\"altair-viz-3137893934f2427e81ccc1072218015b\");\n",
              "    }\n",
              "    const paths = {\n",
              "      \"vega\": \"https://cdn.jsdelivr.net/npm//vega@5?noext\",\n",
              "      \"vega-lib\": \"https://cdn.jsdelivr.net/npm//vega-lib?noext\",\n",
              "      \"vega-lite\": \"https://cdn.jsdelivr.net/npm//vega-lite@4.8.1?noext\",\n",
              "      \"vega-embed\": \"https://cdn.jsdelivr.net/npm//vega-embed@6?noext\",\n",
              "    };\n",
              "\n",
              "    function loadScript(lib) {\n",
              "      return new Promise(function(resolve, reject) {\n",
              "        var s = document.createElement('script');\n",
              "        s.src = paths[lib];\n",
              "        s.async = true;\n",
              "        s.onload = () => resolve(paths[lib]);\n",
              "        s.onerror = () => reject(`Error loading script: ${paths[lib]}`);\n",
              "        document.getElementsByTagName(\"head\")[0].appendChild(s);\n",
              "      });\n",
              "    }\n",
              "\n",
              "    function showError(err) {\n",
              "      outputDiv.innerHTML = `<div class=\"error\" style=\"color:red;\">${err}</div>`;\n",
              "      throw err;\n",
              "    }\n",
              "\n",
              "    function displayChart(vegaEmbed) {\n",
              "      vegaEmbed(outputDiv, spec, embedOpt)\n",
              "        .catch(err => showError(`Javascript Error: ${err.message}<br>This usually means there's a typo in your chart specification. See the javascript console for the full traceback.`));\n",
              "    }\n",
              "\n",
              "    if(typeof define === \"function\" && define.amd) {\n",
              "      requirejs.config({paths});\n",
              "      require([\"vega-embed\"], displayChart, err => showError(`Error loading script: ${err.message}`));\n",
              "    } else if (typeof vegaEmbed === \"function\") {\n",
              "      displayChart(vegaEmbed);\n",
              "    } else {\n",
              "      loadScript(\"vega\")\n",
              "        .then(() => loadScript(\"vega-lite\"))\n",
              "        .then(() => loadScript(\"vega-embed\"))\n",
              "        .catch(showError)\n",
              "        .then(() => displayChart(vegaEmbed));\n",
              "    }\n",
              "  })({\"config\": {\"view\": {\"continuousWidth\": 400, \"continuousHeight\": 300}}, \"data\": {\"name\": \"data-7d78e9b9f9780db5ca2ad1c49e7c9e91\"}, \"mark\": \"bar\", \"encoding\": {\"x\": {\"type\": \"nominal\", \"field\": \"PrimaryType\"}, \"y\": {\"type\": \"quantitative\", \"field\": \"arrest_percentage\"}}, \"title\": \"2006\", \"$schema\": \"https://vega.github.io/schema/vega-lite/v4.8.1.json\", \"datasets\": {\"data-7d78e9b9f9780db5ca2ad1c49e7c9e91\": [{\"Year\": 2006, \"PrimaryType\": \"ARSON\", \"False\": 609.0, \"True\": 117.0, \"arrest_percentage\": 16.115702479338843}, {\"Year\": 2006, \"PrimaryType\": \"ASSAULT\", \"False\": 19657.0, \"True\": 6288.0, \"arrest_percentage\": 24.235883599922914}, {\"Year\": 2006, \"PrimaryType\": \"BATTERY\", \"False\": 61773.0, \"True\": 18892.0, \"arrest_percentage\": 23.420318601624}, {\"Year\": 2006, \"PrimaryType\": \"BURGLARY\", \"False\": 22763.0, \"True\": 1561.0, \"arrest_percentage\": 6.417530011511265}, {\"Year\": 2006, \"PrimaryType\": \"CRIM SEXUAL ASSAULT\", \"False\": 1204.0, \"True\": 244.0, \"arrest_percentage\": 16.85082872928177}, {\"Year\": 2006, \"PrimaryType\": \"CRIMINAL DAMAGE\", \"False\": 52989.0, \"True\": 4135.0, \"arrest_percentage\": 7.23863875078776}, {\"Year\": 2006, \"PrimaryType\": \"CRIMINAL SEXUAL ASSAULT\", \"False\": 29.0, \"True\": 3.0, \"arrest_percentage\": 9.375}, {\"Year\": 2006, \"PrimaryType\": \"CRIMINAL TRESPASS\", \"False\": 3022.0, \"True\": 11483.0, \"arrest_percentage\": 79.16580489486384}, {\"Year\": 2006, \"PrimaryType\": \"DECEPTIVE PRACTICE\", \"False\": 10746.0, \"True\": 2854.0, \"arrest_percentage\": 20.985294117647058}, {\"Year\": 2006, \"PrimaryType\": \"GAMBLING\", \"False\": 13.0, \"True\": 1355.0, \"arrest_percentage\": 99.04970760233918}, {\"Year\": 2006, \"PrimaryType\": \"HOMICIDE\", \"False\": 207.0, \"True\": 270.0, \"arrest_percentage\": 56.60377358490566}, {\"Year\": 2006, \"PrimaryType\": \"INTERFERENCE WITH PUBLIC OFFICER\", \"False\": 79.0, \"True\": 679.0, \"arrest_percentage\": 89.5778364116095}, {\"Year\": 2006, \"PrimaryType\": \"INTIMIDATION\", \"False\": 234.0, \"True\": 42.0, \"arrest_percentage\": 15.217391304347828}, {\"Year\": 2006, \"PrimaryType\": \"KIDNAPPING\", \"False\": 284.0, \"True\": 55.0, \"arrest_percentage\": 16.224188790560472}, {\"Year\": 2006, \"PrimaryType\": \"LIQUOR LAW VIOLATION\", \"False\": 19.0, \"True\": 1116.0, \"arrest_percentage\": 98.32599118942731}, {\"Year\": 2006, \"PrimaryType\": \"MOTOR VEHICLE THEFT\", \"False\": 19830.0, \"True\": 1988.0, \"arrest_percentage\": 9.111742597854983}, {\"Year\": 2006, \"PrimaryType\": \"NARCOTICS\", \"False\": 577.0, \"True\": 55236.0, \"arrest_percentage\": 98.96619067242399}, {\"Year\": 2006, \"PrimaryType\": \"OBSCENITY\", \"False\": 3.0, \"True\": 14.0, \"arrest_percentage\": 82.35294117647058}, {\"Year\": 2006, \"PrimaryType\": \"OFFENSE INVOLVING CHILDREN\", \"False\": 2109.0, \"True\": 658.0, \"arrest_percentage\": 23.780267437658114}, {\"Year\": 2006, \"PrimaryType\": \"OTHER NARCOTIC VIOLATION\", \"False\": 2.0, \"True\": 7.0, \"arrest_percentage\": 77.77777777777779}, {\"Year\": 2006, \"PrimaryType\": \"OTHER OFFENSE\", \"False\": 23091.0, \"True\": 4010.0, \"arrest_percentage\": 14.796501974096895}, {\"Year\": 2006, \"PrimaryType\": \"PROSTITUTION\", \"False\": 51.0, \"True\": 6983.0, \"arrest_percentage\": 99.27495024168326}, {\"Year\": 2006, \"PrimaryType\": \"PUBLIC INDECENCY\", \"False\": null, \"True\": 4.0, \"arrest_percentage\": null}, {\"Year\": 2006, \"PrimaryType\": \"PUBLIC PEACE VIOLATION\", \"False\": 1078.0, \"True\": 1990.0, \"arrest_percentage\": 64.86310299869622}, {\"Year\": 2006, \"PrimaryType\": \"RITUALISM\", \"False\": 6.0, \"True\": 1.0, \"arrest_percentage\": 14.285714285714285}, {\"Year\": 2006, \"PrimaryType\": \"ROBBERY\", \"False\": 14234.0, \"True\": 1734.0, \"arrest_percentage\": 10.859218436873748}, {\"Year\": 2006, \"PrimaryType\": \"SEX OFFENSE\", \"False\": 1021.0, \"True\": 549.0, \"arrest_percentage\": 34.968152866242036}, {\"Year\": 2006, \"PrimaryType\": \"STALKING\", \"False\": 161.0, \"True\": 25.0, \"arrest_percentage\": 13.440860215053762}, {\"Year\": 2006, \"PrimaryType\": \"THEFT\", \"False\": 76132.0, \"True\": 10108.0, \"arrest_percentage\": 11.720779220779221}, {\"Year\": 2006, \"PrimaryType\": \"WEAPONS VIOLATION\", \"False\": 821.0, \"True\": 3000.0, \"arrest_percentage\": 78.51347814708191}]}}, {\"mode\": \"vega-lite\"});\n",
              "</script>"
            ]
          },
          "metadata": {
            "tags": []
          }
        },
        {
          "output_type": "display_data",
          "data": {
            "text/plain": [
              "alt.Chart(...)"
            ],
            "text/html": [
              "\n",
              "<div id=\"altair-viz-44be5a24aea443a49d97006d174b17b2\"></div>\n",
              "<script type=\"text/javascript\">\n",
              "  (function(spec, embedOpt){\n",
              "    let outputDiv = document.currentScript.previousElementSibling;\n",
              "    if (outputDiv.id !== \"altair-viz-44be5a24aea443a49d97006d174b17b2\") {\n",
              "      outputDiv = document.getElementById(\"altair-viz-44be5a24aea443a49d97006d174b17b2\");\n",
              "    }\n",
              "    const paths = {\n",
              "      \"vega\": \"https://cdn.jsdelivr.net/npm//vega@5?noext\",\n",
              "      \"vega-lib\": \"https://cdn.jsdelivr.net/npm//vega-lib?noext\",\n",
              "      \"vega-lite\": \"https://cdn.jsdelivr.net/npm//vega-lite@4.8.1?noext\",\n",
              "      \"vega-embed\": \"https://cdn.jsdelivr.net/npm//vega-embed@6?noext\",\n",
              "    };\n",
              "\n",
              "    function loadScript(lib) {\n",
              "      return new Promise(function(resolve, reject) {\n",
              "        var s = document.createElement('script');\n",
              "        s.src = paths[lib];\n",
              "        s.async = true;\n",
              "        s.onload = () => resolve(paths[lib]);\n",
              "        s.onerror = () => reject(`Error loading script: ${paths[lib]}`);\n",
              "        document.getElementsByTagName(\"head\")[0].appendChild(s);\n",
              "      });\n",
              "    }\n",
              "\n",
              "    function showError(err) {\n",
              "      outputDiv.innerHTML = `<div class=\"error\" style=\"color:red;\">${err}</div>`;\n",
              "      throw err;\n",
              "    }\n",
              "\n",
              "    function displayChart(vegaEmbed) {\n",
              "      vegaEmbed(outputDiv, spec, embedOpt)\n",
              "        .catch(err => showError(`Javascript Error: ${err.message}<br>This usually means there's a typo in your chart specification. See the javascript console for the full traceback.`));\n",
              "    }\n",
              "\n",
              "    if(typeof define === \"function\" && define.amd) {\n",
              "      requirejs.config({paths});\n",
              "      require([\"vega-embed\"], displayChart, err => showError(`Error loading script: ${err.message}`));\n",
              "    } else if (typeof vegaEmbed === \"function\") {\n",
              "      displayChart(vegaEmbed);\n",
              "    } else {\n",
              "      loadScript(\"vega\")\n",
              "        .then(() => loadScript(\"vega-lite\"))\n",
              "        .then(() => loadScript(\"vega-embed\"))\n",
              "        .catch(showError)\n",
              "        .then(() => displayChart(vegaEmbed));\n",
              "    }\n",
              "  })({\"config\": {\"view\": {\"continuousWidth\": 400, \"continuousHeight\": 300}}, \"data\": {\"name\": \"data-3275b1a268d0d9d9fab440f3d98304b7\"}, \"mark\": \"bar\", \"encoding\": {\"x\": {\"type\": \"nominal\", \"field\": \"PrimaryType\"}, \"y\": {\"type\": \"quantitative\", \"field\": \"arrest_percentage\"}}, \"title\": \"2007\", \"$schema\": \"https://vega.github.io/schema/vega-lite/v4.8.1.json\", \"datasets\": {\"data-3275b1a268d0d9d9fab440f3d98304b7\": [{\"Year\": 2007, \"PrimaryType\": \"ARSON\", \"False\": 619.0, \"True\": 93.0, \"arrest_percentage\": 13.06179775280899}, {\"Year\": 2007, \"PrimaryType\": \"ASSAULT\", \"False\": 19762.0, \"True\": 6551.0, \"arrest_percentage\": 24.89643902253639}, {\"Year\": 2007, \"PrimaryType\": \"BATTERY\", \"False\": 60208.0, \"True\": 19386.0, \"arrest_percentage\": 24.356107244264642}, {\"Year\": 2007, \"PrimaryType\": \"BURGLARY\", \"False\": 23306.0, \"True\": 1552.0, \"arrest_percentage\": 6.243462869096468}, {\"Year\": 2007, \"PrimaryType\": \"CRIM SEXUAL ASSAULT\", \"False\": 1295.0, \"True\": 224.0, \"arrest_percentage\": 14.746543778801843}, {\"Year\": 2007, \"PrimaryType\": \"CRIMINAL DAMAGE\", \"False\": 49755.0, \"True\": 3994.0, \"arrest_percentage\": 7.430835922528792}, {\"Year\": 2007, \"PrimaryType\": \"CRIMINAL SEXUAL ASSAULT\", \"False\": 33.0, \"True\": 3.0, \"arrest_percentage\": 8.333333333333332}, {\"Year\": 2007, \"PrimaryType\": \"CRIMINAL TRESPASS\", \"False\": 3093.0, \"True\": 10606.0, \"arrest_percentage\": 77.42170961384043}, {\"Year\": 2007, \"PrimaryType\": \"DECEPTIVE PRACTICE\", \"False\": 11310.0, \"True\": 2853.0, \"arrest_percentage\": 20.144037280237235}, {\"Year\": 2007, \"PrimaryType\": \"GAMBLING\", \"False\": 29.0, \"True\": 1380.0, \"arrest_percentage\": 97.94180269694819}, {\"Year\": 2007, \"PrimaryType\": \"HOMICIDE\", \"False\": 196.0, \"True\": 252.0, \"arrest_percentage\": 56.25}, {\"Year\": 2007, \"PrimaryType\": \"INTERFERENCE WITH PUBLIC OFFICER\", \"False\": 48.0, \"True\": 629.0, \"arrest_percentage\": 92.90989660265879}, {\"Year\": 2007, \"PrimaryType\": \"INTIMIDATION\", \"False\": 204.0, \"True\": 51.0, \"arrest_percentage\": 20.0}, {\"Year\": 2007, \"PrimaryType\": \"KIDNAPPING\", \"False\": 296.0, \"True\": 33.0, \"arrest_percentage\": 10.030395136778116}, {\"Year\": 2007, \"PrimaryType\": \"LIQUOR LAW VIOLATION\", \"False\": 16.0, \"True\": 1154.0, \"arrest_percentage\": 98.63247863247864}, {\"Year\": 2007, \"PrimaryType\": \"MOTOR VEHICLE THEFT\", \"False\": 16794.0, \"True\": 1779.0, \"arrest_percentage\": 9.578420287514133}, {\"Year\": 2007, \"PrimaryType\": \"NARCOTICS\", \"False\": 1203.0, \"True\": 53251.0, \"arrest_percentage\": 97.79079590112755}, {\"Year\": 2007, \"PrimaryType\": \"OBSCENITY\", \"False\": 2.0, \"True\": 9.0, \"arrest_percentage\": 81.81818181818183}, {\"Year\": 2007, \"PrimaryType\": \"OFFENSE INVOLVING CHILDREN\", \"False\": 2212.0, \"True\": 691.0, \"arrest_percentage\": 23.802962452635203}, {\"Year\": 2007, \"PrimaryType\": \"OTHER NARCOTIC VIOLATION\", \"False\": 8.0, \"True\": 4.0, \"arrest_percentage\": 33.33333333333333}, {\"Year\": 2007, \"PrimaryType\": \"OTHER OFFENSE\", \"False\": 22633.0, \"True\": 4230.0, \"arrest_percentage\": 15.746565908498678}, {\"Year\": 2007, \"PrimaryType\": \"PROSTITUTION\", \"False\": 86.0, \"True\": 6001.0, \"arrest_percentage\": 98.5871529489075}, {\"Year\": 2007, \"PrimaryType\": \"PUBLIC INDECENCY\", \"False\": null, \"True\": 5.0, \"arrest_percentage\": null}, {\"Year\": 2007, \"PrimaryType\": \"PUBLIC PEACE VIOLATION\", \"False\": 1046.0, \"True\": 2269.0, \"arrest_percentage\": 68.44645550527903}, {\"Year\": 2007, \"PrimaryType\": \"RITUALISM\", \"False\": 1.0, \"True\": null, \"arrest_percentage\": null}, {\"Year\": 2007, \"PrimaryType\": \"ROBBERY\", \"False\": 13835.0, \"True\": 1615.0, \"arrest_percentage\": 10.453074433656957}, {\"Year\": 2007, \"PrimaryType\": \"SEX OFFENSE\", \"False\": 980.0, \"True\": 548.0, \"arrest_percentage\": 35.86387434554974}, {\"Year\": 2007, \"PrimaryType\": \"STALKING\", \"False\": 179.0, \"True\": 34.0, \"arrest_percentage\": 15.96244131455399}, {\"Year\": 2007, \"PrimaryType\": \"THEFT\", \"False\": 75373.0, \"True\": 9783.0, \"arrest_percentage\": 11.48832730518108}, {\"Year\": 2007, \"PrimaryType\": \"WEAPONS VIOLATION\", \"False\": 670.0, \"True\": 2884.0, \"arrest_percentage\": 81.1480022509848}]}}, {\"mode\": \"vega-lite\"});\n",
              "</script>"
            ]
          },
          "metadata": {
            "tags": []
          }
        },
        {
          "output_type": "display_data",
          "data": {
            "text/plain": [
              "alt.Chart(...)"
            ],
            "text/html": [
              "\n",
              "<div id=\"altair-viz-3eb06445ec5f4e46a766cb14c8ebbf0f\"></div>\n",
              "<script type=\"text/javascript\">\n",
              "  (function(spec, embedOpt){\n",
              "    let outputDiv = document.currentScript.previousElementSibling;\n",
              "    if (outputDiv.id !== \"altair-viz-3eb06445ec5f4e46a766cb14c8ebbf0f\") {\n",
              "      outputDiv = document.getElementById(\"altair-viz-3eb06445ec5f4e46a766cb14c8ebbf0f\");\n",
              "    }\n",
              "    const paths = {\n",
              "      \"vega\": \"https://cdn.jsdelivr.net/npm//vega@5?noext\",\n",
              "      \"vega-lib\": \"https://cdn.jsdelivr.net/npm//vega-lib?noext\",\n",
              "      \"vega-lite\": \"https://cdn.jsdelivr.net/npm//vega-lite@4.8.1?noext\",\n",
              "      \"vega-embed\": \"https://cdn.jsdelivr.net/npm//vega-embed@6?noext\",\n",
              "    };\n",
              "\n",
              "    function loadScript(lib) {\n",
              "      return new Promise(function(resolve, reject) {\n",
              "        var s = document.createElement('script');\n",
              "        s.src = paths[lib];\n",
              "        s.async = true;\n",
              "        s.onload = () => resolve(paths[lib]);\n",
              "        s.onerror = () => reject(`Error loading script: ${paths[lib]}`);\n",
              "        document.getElementsByTagName(\"head\")[0].appendChild(s);\n",
              "      });\n",
              "    }\n",
              "\n",
              "    function showError(err) {\n",
              "      outputDiv.innerHTML = `<div class=\"error\" style=\"color:red;\">${err}</div>`;\n",
              "      throw err;\n",
              "    }\n",
              "\n",
              "    function displayChart(vegaEmbed) {\n",
              "      vegaEmbed(outputDiv, spec, embedOpt)\n",
              "        .catch(err => showError(`Javascript Error: ${err.message}<br>This usually means there's a typo in your chart specification. See the javascript console for the full traceback.`));\n",
              "    }\n",
              "\n",
              "    if(typeof define === \"function\" && define.amd) {\n",
              "      requirejs.config({paths});\n",
              "      require([\"vega-embed\"], displayChart, err => showError(`Error loading script: ${err.message}`));\n",
              "    } else if (typeof vegaEmbed === \"function\") {\n",
              "      displayChart(vegaEmbed);\n",
              "    } else {\n",
              "      loadScript(\"vega\")\n",
              "        .then(() => loadScript(\"vega-lite\"))\n",
              "        .then(() => loadScript(\"vega-embed\"))\n",
              "        .catch(showError)\n",
              "        .then(() => displayChart(vegaEmbed));\n",
              "    }\n",
              "  })({\"config\": {\"view\": {\"continuousWidth\": 400, \"continuousHeight\": 300}}, \"data\": {\"name\": \"data-f3b3b0446dc94a1c29ed4ec0f04bd9ec\"}, \"mark\": \"bar\", \"encoding\": {\"x\": {\"type\": \"nominal\", \"field\": \"PrimaryType\"}, \"y\": {\"type\": \"quantitative\", \"field\": \"arrest_percentage\"}}, \"title\": \"2008\", \"$schema\": \"https://vega.github.io/schema/vega-lite/v4.8.1.json\", \"datasets\": {\"data-f3b3b0446dc94a1c29ed4ec0f04bd9ec\": [{\"Year\": 2008, \"PrimaryType\": \"ARSON\", \"False\": 585.0, \"True\": 59.0, \"arrest_percentage\": 9.161490683229815}, {\"Year\": 2008, \"PrimaryType\": \"ASSAULT\", \"False\": 20131.0, \"True\": 5316.0, \"arrest_percentage\": 20.890478248909496}, {\"Year\": 2008, \"PrimaryType\": \"BATTERY\", \"False\": 60404.0, \"True\": 15520.0, \"arrest_percentage\": 20.44149412570465}, {\"Year\": 2008, \"PrimaryType\": \"BURGLARY\", \"False\": 24664.0, \"True\": 1554.0, \"arrest_percentage\": 5.927225570218933}, {\"Year\": 2008, \"PrimaryType\": \"CRIM SEXUAL ASSAULT\", \"False\": 1256.0, \"True\": 273.0, \"arrest_percentage\": 17.854807063440155}, {\"Year\": 2008, \"PrimaryType\": \"CRIMINAL DAMAGE\", \"False\": 49438.0, \"True\": 3403.0, \"arrest_percentage\": 6.440074941806552}, {\"Year\": 2008, \"PrimaryType\": \"CRIMINAL SEXUAL ASSAULT\", \"False\": 14.0, \"True\": 5.0, \"arrest_percentage\": 26.31578947368421}, {\"Year\": 2008, \"PrimaryType\": \"CRIMINAL TRESPASS\", \"False\": 5769.0, \"True\": 6541.0, \"arrest_percentage\": 53.13566206336312}, {\"Year\": 2008, \"PrimaryType\": \"DECEPTIVE PRACTICE\", \"False\": 12742.0, \"True\": 2173.0, \"arrest_percentage\": 14.569225611800201}, {\"Year\": 2008, \"PrimaryType\": \"GAMBLING\", \"False\": 42.0, \"True\": 1157.0, \"arrest_percentage\": 96.49708090075062}, {\"Year\": 2008, \"PrimaryType\": \"HOMICIDE\", \"False\": 235.0, \"True\": 278.0, \"arrest_percentage\": 54.19103313840156}, {\"Year\": 2008, \"PrimaryType\": \"INTERFERENCE WITH PUBLIC OFFICER\", \"False\": 120.0, \"True\": 460.0, \"arrest_percentage\": 79.3103448275862}, {\"Year\": 2008, \"PrimaryType\": \"INTIMIDATION\", \"False\": 205.0, \"True\": 56.0, \"arrest_percentage\": 21.455938697318008}, {\"Year\": 2008, \"PrimaryType\": \"KIDNAPPING\", \"False\": 321.0, \"True\": 38.0, \"arrest_percentage\": 10.584958217270195}, {\"Year\": 2008, \"PrimaryType\": \"LIQUOR LAW VIOLATION\", \"False\": 25.0, \"True\": 887.0, \"arrest_percentage\": 97.25877192982456}, {\"Year\": 2008, \"PrimaryType\": \"MOTOR VEHICLE THEFT\", \"False\": 17355.0, \"True\": 1526.0, \"arrest_percentage\": 8.082199036068005}, {\"Year\": 2008, \"PrimaryType\": \"NARCOTICS\", \"False\": 1024.0, \"True\": 45483.0, \"arrest_percentage\": 97.79818091900144}, {\"Year\": 2008, \"PrimaryType\": \"OBSCENITY\", \"False\": null, \"True\": 13.0, \"arrest_percentage\": null}, {\"Year\": 2008, \"PrimaryType\": \"OFFENSE INVOLVING CHILDREN\", \"False\": 2101.0, \"True\": 542.0, \"arrest_percentage\": 20.506999621642073}, {\"Year\": 2008, \"PrimaryType\": \"OTHER NARCOTIC VIOLATION\", \"False\": 1.0, \"True\": 11.0, \"arrest_percentage\": 91.66666666666666}, {\"Year\": 2008, \"PrimaryType\": \"OTHER OFFENSE\", \"False\": 23037.0, \"True\": 3496.0, \"arrest_percentage\": 13.176044925187503}, {\"Year\": 2008, \"PrimaryType\": \"PROSTITUTION\", \"False\": 58.0, \"True\": 5083.0, \"arrest_percentage\": 98.87181482201906}, {\"Year\": 2008, \"PrimaryType\": \"PUBLIC INDECENCY\", \"False\": 1.0, \"True\": 3.0, \"arrest_percentage\": 75.0}, {\"Year\": 2008, \"PrimaryType\": \"PUBLIC PEACE VIOLATION\", \"False\": 1237.0, \"True\": 1776.0, \"arrest_percentage\": 58.94457351476934}, {\"Year\": 2008, \"PrimaryType\": \"ROBBERY\", \"False\": 15016.0, \"True\": 1687.0, \"arrest_percentage\": 10.099982039154643}, {\"Year\": 2008, \"PrimaryType\": \"SEX OFFENSE\", \"False\": 1073.0, \"True\": 424.0, \"arrest_percentage\": 28.32331329325317}, {\"Year\": 2008, \"PrimaryType\": \"STALKING\", \"False\": 166.0, \"True\": 24.0, \"arrest_percentage\": 12.631578947368421}, {\"Year\": 2008, \"PrimaryType\": \"THEFT\", \"False\": 79142.0, \"True\": 9292.0, \"arrest_percentage\": 10.507270959133365}, {\"Year\": 2008, \"PrimaryType\": \"WEAPONS VIOLATION\", \"False\": 954.0, \"True\": 2923.0, \"arrest_percentage\": 75.39334537013154}]}}, {\"mode\": \"vega-lite\"});\n",
              "</script>"
            ]
          },
          "metadata": {
            "tags": []
          }
        },
        {
          "output_type": "display_data",
          "data": {
            "text/plain": [
              "alt.Chart(...)"
            ],
            "text/html": [
              "\n",
              "<div id=\"altair-viz-b24f19e04e614787a1eace63a692554a\"></div>\n",
              "<script type=\"text/javascript\">\n",
              "  (function(spec, embedOpt){\n",
              "    let outputDiv = document.currentScript.previousElementSibling;\n",
              "    if (outputDiv.id !== \"altair-viz-b24f19e04e614787a1eace63a692554a\") {\n",
              "      outputDiv = document.getElementById(\"altair-viz-b24f19e04e614787a1eace63a692554a\");\n",
              "    }\n",
              "    const paths = {\n",
              "      \"vega\": \"https://cdn.jsdelivr.net/npm//vega@5?noext\",\n",
              "      \"vega-lib\": \"https://cdn.jsdelivr.net/npm//vega-lib?noext\",\n",
              "      \"vega-lite\": \"https://cdn.jsdelivr.net/npm//vega-lite@4.8.1?noext\",\n",
              "      \"vega-embed\": \"https://cdn.jsdelivr.net/npm//vega-embed@6?noext\",\n",
              "    };\n",
              "\n",
              "    function loadScript(lib) {\n",
              "      return new Promise(function(resolve, reject) {\n",
              "        var s = document.createElement('script');\n",
              "        s.src = paths[lib];\n",
              "        s.async = true;\n",
              "        s.onload = () => resolve(paths[lib]);\n",
              "        s.onerror = () => reject(`Error loading script: ${paths[lib]}`);\n",
              "        document.getElementsByTagName(\"head\")[0].appendChild(s);\n",
              "      });\n",
              "    }\n",
              "\n",
              "    function showError(err) {\n",
              "      outputDiv.innerHTML = `<div class=\"error\" style=\"color:red;\">${err}</div>`;\n",
              "      throw err;\n",
              "    }\n",
              "\n",
              "    function displayChart(vegaEmbed) {\n",
              "      vegaEmbed(outputDiv, spec, embedOpt)\n",
              "        .catch(err => showError(`Javascript Error: ${err.message}<br>This usually means there's a typo in your chart specification. See the javascript console for the full traceback.`));\n",
              "    }\n",
              "\n",
              "    if(typeof define === \"function\" && define.amd) {\n",
              "      requirejs.config({paths});\n",
              "      require([\"vega-embed\"], displayChart, err => showError(`Error loading script: ${err.message}`));\n",
              "    } else if (typeof vegaEmbed === \"function\") {\n",
              "      displayChart(vegaEmbed);\n",
              "    } else {\n",
              "      loadScript(\"vega\")\n",
              "        .then(() => loadScript(\"vega-lite\"))\n",
              "        .then(() => loadScript(\"vega-embed\"))\n",
              "        .catch(showError)\n",
              "        .then(() => displayChart(vegaEmbed));\n",
              "    }\n",
              "  })({\"config\": {\"view\": {\"continuousWidth\": 400, \"continuousHeight\": 300}}, \"data\": {\"name\": \"data-6ffdd56b34ad0e7a2e9c9b155beda20f\"}, \"mark\": \"bar\", \"encoding\": {\"x\": {\"type\": \"nominal\", \"field\": \"PrimaryType\"}, \"y\": {\"type\": \"quantitative\", \"field\": \"arrest_percentage\"}}, \"title\": \"2009\", \"$schema\": \"https://vega.github.io/schema/vega-lite/v4.8.1.json\", \"datasets\": {\"data-6ffdd56b34ad0e7a2e9c9b155beda20f\": [{\"Year\": 2009, \"PrimaryType\": \"ARSON\", \"False\": 547.0, \"True\": 69.0, \"arrest_percentage\": 11.2012987012987}, {\"Year\": 2009, \"PrimaryType\": \"ASSAULT\", \"False\": 17161.0, \"True\": 5700.0, \"arrest_percentage\": 24.93329250688946}, {\"Year\": 2009, \"PrimaryType\": \"BATTERY\", \"False\": 52138.0, \"True\": 16324.0, \"arrest_percentage\": 23.843884198533495}, {\"Year\": 2009, \"PrimaryType\": \"BURGLARY\", \"False\": 25353.0, \"True\": 1414.0, \"arrest_percentage\": 5.282624126723204}, {\"Year\": 2009, \"PrimaryType\": \"CRIM SEXUAL ASSAULT\", \"False\": 1188.0, \"True\": 231.0, \"arrest_percentage\": 16.27906976744186}, {\"Year\": 2009, \"PrimaryType\": \"CRIMINAL DAMAGE\", \"False\": 44455.0, \"True\": 3270.0, \"arrest_percentage\": 6.8517548454688315}, {\"Year\": 2009, \"PrimaryType\": \"CRIMINAL SEXUAL ASSAULT\", \"False\": 18.0, \"True\": null, \"arrest_percentage\": null}, {\"Year\": 2009, \"PrimaryType\": \"CRIMINAL TRESPASS\", \"False\": 2918.0, \"True\": 7933.0, \"arrest_percentage\": 73.10846926550548}, {\"Year\": 2009, \"PrimaryType\": \"DECEPTIVE PRACTICE\", \"False\": 11406.0, \"True\": 2459.0, \"arrest_percentage\": 17.735304724125495}, {\"Year\": 2009, \"PrimaryType\": \"GAMBLING\", \"False\": 5.0, \"True\": 986.0, \"arrest_percentage\": 99.49545913218971}, {\"Year\": 2009, \"PrimaryType\": \"HOMICIDE\", \"False\": 225.0, \"True\": 236.0, \"arrest_percentage\": 51.19305856832972}, {\"Year\": 2009, \"PrimaryType\": \"INTERFERENCE WITH PUBLIC OFFICER\", \"False\": 45.0, \"True\": 528.0, \"arrest_percentage\": 92.14659685863874}, {\"Year\": 2009, \"PrimaryType\": \"INTIMIDATION\", \"False\": 192.0, \"True\": 39.0, \"arrest_percentage\": 16.883116883116884}, {\"Year\": 2009, \"PrimaryType\": \"KIDNAPPING\", \"False\": 264.0, \"True\": 29.0, \"arrest_percentage\": 9.897610921501707}, {\"Year\": 2009, \"PrimaryType\": \"LIQUOR LAW VIOLATION\", \"False\": 8.0, \"True\": 738.0, \"arrest_percentage\": 98.92761394101876}, {\"Year\": 2009, \"PrimaryType\": \"MOTOR VEHICLE THEFT\", \"False\": 14182.0, \"True\": 1300.0, \"arrest_percentage\": 8.396847952460924}, {\"Year\": 2009, \"PrimaryType\": \"NARCOTICS\", \"False\": 328.0, \"True\": 43214.0, \"arrest_percentage\": 99.2467043314501}, {\"Year\": 2009, \"PrimaryType\": \"NON-CRIMINAL\", \"False\": 1.0, \"True\": null, \"arrest_percentage\": null}, {\"Year\": 2009, \"PrimaryType\": \"OBSCENITY\", \"False\": 5.0, \"True\": 16.0, \"arrest_percentage\": 76.19047619047619}, {\"Year\": 2009, \"PrimaryType\": \"OFFENSE INVOLVING CHILDREN\", \"False\": 2092.0, \"True\": 519.0, \"arrest_percentage\": 19.877441593259288}, {\"Year\": 2009, \"PrimaryType\": \"OTHER NARCOTIC VIOLATION\", \"False\": 2.0, \"True\": 5.0, \"arrest_percentage\": 71.42857142857143}, {\"Year\": 2009, \"PrimaryType\": \"OTHER OFFENSE\", \"False\": 21397.0, \"True\": 4204.0, \"arrest_percentage\": 16.421233545564625}, {\"Year\": 2009, \"PrimaryType\": \"PROSTITUTION\", \"False\": 14.0, \"True\": 3926.0, \"arrest_percentage\": 99.64467005076142}, {\"Year\": 2009, \"PrimaryType\": \"PUBLIC INDECENCY\", \"False\": null, \"True\": 10.0, \"arrest_percentage\": null}, {\"Year\": 2009, \"PrimaryType\": \"PUBLIC PEACE VIOLATION\", \"False\": 858.0, \"True\": 2289.0, \"arrest_percentage\": 72.73593898951383}, {\"Year\": 2009, \"PrimaryType\": \"ROBBERY\", \"False\": 14416.0, \"True\": 1564.0, \"arrest_percentage\": 9.787234042553191}, {\"Year\": 2009, \"PrimaryType\": \"SEX OFFENSE\", \"False\": 850.0, \"True\": 412.0, \"arrest_percentage\": 32.64659270998415}, {\"Year\": 2009, \"PrimaryType\": \"STALKING\", \"False\": 145.0, \"True\": 23.0, \"arrest_percentage\": 13.690476190476192}, {\"Year\": 2009, \"PrimaryType\": \"THEFT\", \"False\": 71075.0, \"True\": 9900.0, \"arrest_percentage\": 12.225995677678297}, {\"Year\": 2009, \"PrimaryType\": \"WEAPONS VIOLATION\", \"False\": 685.0, \"True\": 3473.0, \"arrest_percentage\": 83.52573352573353}]}}, {\"mode\": \"vega-lite\"});\n",
              "</script>"
            ]
          },
          "metadata": {
            "tags": []
          }
        },
        {
          "output_type": "display_data",
          "data": {
            "text/plain": [
              "alt.Chart(...)"
            ],
            "text/html": [
              "\n",
              "<div id=\"altair-viz-b82fa920efff4a46a35b8e6696c1af16\"></div>\n",
              "<script type=\"text/javascript\">\n",
              "  (function(spec, embedOpt){\n",
              "    let outputDiv = document.currentScript.previousElementSibling;\n",
              "    if (outputDiv.id !== \"altair-viz-b82fa920efff4a46a35b8e6696c1af16\") {\n",
              "      outputDiv = document.getElementById(\"altair-viz-b82fa920efff4a46a35b8e6696c1af16\");\n",
              "    }\n",
              "    const paths = {\n",
              "      \"vega\": \"https://cdn.jsdelivr.net/npm//vega@5?noext\",\n",
              "      \"vega-lib\": \"https://cdn.jsdelivr.net/npm//vega-lib?noext\",\n",
              "      \"vega-lite\": \"https://cdn.jsdelivr.net/npm//vega-lite@4.8.1?noext\",\n",
              "      \"vega-embed\": \"https://cdn.jsdelivr.net/npm//vega-embed@6?noext\",\n",
              "    };\n",
              "\n",
              "    function loadScript(lib) {\n",
              "      return new Promise(function(resolve, reject) {\n",
              "        var s = document.createElement('script');\n",
              "        s.src = paths[lib];\n",
              "        s.async = true;\n",
              "        s.onload = () => resolve(paths[lib]);\n",
              "        s.onerror = () => reject(`Error loading script: ${paths[lib]}`);\n",
              "        document.getElementsByTagName(\"head\")[0].appendChild(s);\n",
              "      });\n",
              "    }\n",
              "\n",
              "    function showError(err) {\n",
              "      outputDiv.innerHTML = `<div class=\"error\" style=\"color:red;\">${err}</div>`;\n",
              "      throw err;\n",
              "    }\n",
              "\n",
              "    function displayChart(vegaEmbed) {\n",
              "      vegaEmbed(outputDiv, spec, embedOpt)\n",
              "        .catch(err => showError(`Javascript Error: ${err.message}<br>This usually means there's a typo in your chart specification. See the javascript console for the full traceback.`));\n",
              "    }\n",
              "\n",
              "    if(typeof define === \"function\" && define.amd) {\n",
              "      requirejs.config({paths});\n",
              "      require([\"vega-embed\"], displayChart, err => showError(`Error loading script: ${err.message}`));\n",
              "    } else if (typeof vegaEmbed === \"function\") {\n",
              "      displayChart(vegaEmbed);\n",
              "    } else {\n",
              "      loadScript(\"vega\")\n",
              "        .then(() => loadScript(\"vega-lite\"))\n",
              "        .then(() => loadScript(\"vega-embed\"))\n",
              "        .catch(showError)\n",
              "        .then(() => displayChart(vegaEmbed));\n",
              "    }\n",
              "  })({\"config\": {\"view\": {\"continuousWidth\": 400, \"continuousHeight\": 300}}, \"data\": {\"name\": \"data-d95a9ae06ee92c02042a3d8c726042a7\"}, \"mark\": \"bar\", \"encoding\": {\"x\": {\"type\": \"nominal\", \"field\": \"PrimaryType\"}, \"y\": {\"type\": \"quantitative\", \"field\": \"arrest_percentage\"}}, \"title\": \"2010\", \"$schema\": \"https://vega.github.io/schema/vega-lite/v4.8.1.json\", \"datasets\": {\"data-d95a9ae06ee92c02042a3d8c726042a7\": [{\"Year\": 2010, \"PrimaryType\": \"ARSON\", \"False\": 456.0, \"True\": 66.0, \"arrest_percentage\": 12.643678160919542}, {\"Year\": 2010, \"PrimaryType\": \"ASSAULT\", \"False\": 16486.0, \"True\": 5051.0, \"arrest_percentage\": 23.45266285926545}, {\"Year\": 2010, \"PrimaryType\": \"BATTERY\", \"False\": 51125.0, \"True\": 14278.0, \"arrest_percentage\": 21.830802868369954}, {\"Year\": 2010, \"PrimaryType\": \"BURGLARY\", \"False\": 25040.0, \"True\": 1382.0, \"arrest_percentage\": 5.230489743395656}, {\"Year\": 2010, \"PrimaryType\": \"CRIM SEXUAL ASSAULT\", \"False\": 1108.0, \"True\": 241.0, \"arrest_percentage\": 17.865085248332097}, {\"Year\": 2010, \"PrimaryType\": \"CRIMINAL DAMAGE\", \"False\": 38012.0, \"True\": 2641.0, \"arrest_percentage\": 6.496445526775392}, {\"Year\": 2010, \"PrimaryType\": \"CRIMINAL SEXUAL ASSAULT\", \"False\": 23.0, \"True\": 4.0, \"arrest_percentage\": 14.814814814814813}, {\"Year\": 2010, \"PrimaryType\": \"CRIMINAL TRESPASS\", \"False\": 2899.0, \"True\": 6502.0, \"arrest_percentage\": 69.1628550154239}, {\"Year\": 2010, \"PrimaryType\": \"DECEPTIVE PRACTICE\", \"False\": 10471.0, \"True\": 2080.0, \"arrest_percentage\": 16.572384670544178}, {\"Year\": 2010, \"PrimaryType\": \"GAMBLING\", \"False\": null, \"True\": 927.0, \"arrest_percentage\": null}, {\"Year\": 2010, \"PrimaryType\": \"HOMICIDE\", \"False\": 229.0, \"True\": 209.0, \"arrest_percentage\": 47.71689497716895}, {\"Year\": 2010, \"PrimaryType\": \"HUMAN TRAFFICKING\", \"False\": 1.0, \"True\": null, \"arrest_percentage\": null}, {\"Year\": 2010, \"PrimaryType\": \"INTERFERENCE WITH PUBLIC OFFICER\", \"False\": 99.0, \"True\": 698.0, \"arrest_percentage\": 87.5784190715182}, {\"Year\": 2010, \"PrimaryType\": \"INTIMIDATION\", \"False\": 174.0, \"True\": 23.0, \"arrest_percentage\": 11.6751269035533}, {\"Year\": 2010, \"PrimaryType\": \"KIDNAPPING\", \"False\": 286.0, \"True\": 27.0, \"arrest_percentage\": 8.626198083067091}, {\"Year\": 2010, \"PrimaryType\": \"LIQUOR LAW VIOLATION\", \"False\": 1.0, \"True\": 736.0, \"arrest_percentage\": 99.86431478968792}, {\"Year\": 2010, \"PrimaryType\": \"MOTOR VEHICLE THEFT\", \"False\": 17982.0, \"True\": 1047.0, \"arrest_percentage\": 5.502128330443008}, {\"Year\": 2010, \"PrimaryType\": \"NARCOTICS\", \"False\": 99.0, \"True\": 43294.0, \"arrest_percentage\": 99.7718526029544}, {\"Year\": 2010, \"PrimaryType\": \"NON-CRIMINAL\", \"False\": 1.0, \"True\": null, \"arrest_percentage\": null}, {\"Year\": 2010, \"PrimaryType\": \"OBSCENITY\", \"False\": 7.0, \"True\": 27.0, \"arrest_percentage\": 79.41176470588235}, {\"Year\": 2010, \"PrimaryType\": \"OFFENSE INVOLVING CHILDREN\", \"False\": 2075.0, \"True\": 516.0, \"arrest_percentage\": 19.91509069857198}, {\"Year\": 2010, \"PrimaryType\": \"OTHER NARCOTIC VIOLATION\", \"False\": 4.0, \"True\": 2.0, \"arrest_percentage\": 33.33333333333333}, {\"Year\": 2010, \"PrimaryType\": \"OTHER OFFENSE\", \"False\": 18743.0, \"True\": 3269.0, \"arrest_percentage\": 14.850990368889697}, {\"Year\": 2010, \"PrimaryType\": \"PROSTITUTION\", \"False\": 5.0, \"True\": 2480.0, \"arrest_percentage\": 99.79879275653923}, {\"Year\": 2010, \"PrimaryType\": \"PUBLIC INDECENCY\", \"False\": null, \"True\": 7.0, \"arrest_percentage\": null}, {\"Year\": 2010, \"PrimaryType\": \"PUBLIC PEACE VIOLATION\", \"False\": 1013.0, \"True\": 2525.0, \"arrest_percentage\": 71.368004522329}, {\"Year\": 2010, \"PrimaryType\": \"ROBBERY\", \"False\": 12913.0, \"True\": 1361.0, \"arrest_percentage\": 9.534818551211993}, {\"Year\": 2010, \"PrimaryType\": \"SEX OFFENSE\", \"False\": 792.0, \"True\": 334.0, \"arrest_percentage\": 29.66252220248668}, {\"Year\": 2010, \"PrimaryType\": \"STALKING\", \"False\": 163.0, \"True\": 26.0, \"arrest_percentage\": 13.756613756613756}, {\"Year\": 2010, \"PrimaryType\": \"THEFT\", \"False\": 68911.0, \"True\": 7845.0, \"arrest_percentage\": 10.220699359007765}, {\"Year\": 2010, \"PrimaryType\": \"WEAPONS VIOLATION\", \"False\": 793.0, \"True\": 2911.0, \"arrest_percentage\": 78.59071274298056}]}}, {\"mode\": \"vega-lite\"});\n",
              "</script>"
            ]
          },
          "metadata": {
            "tags": []
          }
        },
        {
          "output_type": "display_data",
          "data": {
            "text/plain": [
              "alt.Chart(...)"
            ],
            "text/html": [
              "\n",
              "<div id=\"altair-viz-f71fc4420766437ca99f4e68670821fb\"></div>\n",
              "<script type=\"text/javascript\">\n",
              "  (function(spec, embedOpt){\n",
              "    let outputDiv = document.currentScript.previousElementSibling;\n",
              "    if (outputDiv.id !== \"altair-viz-f71fc4420766437ca99f4e68670821fb\") {\n",
              "      outputDiv = document.getElementById(\"altair-viz-f71fc4420766437ca99f4e68670821fb\");\n",
              "    }\n",
              "    const paths = {\n",
              "      \"vega\": \"https://cdn.jsdelivr.net/npm//vega@5?noext\",\n",
              "      \"vega-lib\": \"https://cdn.jsdelivr.net/npm//vega-lib?noext\",\n",
              "      \"vega-lite\": \"https://cdn.jsdelivr.net/npm//vega-lite@4.8.1?noext\",\n",
              "      \"vega-embed\": \"https://cdn.jsdelivr.net/npm//vega-embed@6?noext\",\n",
              "    };\n",
              "\n",
              "    function loadScript(lib) {\n",
              "      return new Promise(function(resolve, reject) {\n",
              "        var s = document.createElement('script');\n",
              "        s.src = paths[lib];\n",
              "        s.async = true;\n",
              "        s.onload = () => resolve(paths[lib]);\n",
              "        s.onerror = () => reject(`Error loading script: ${paths[lib]}`);\n",
              "        document.getElementsByTagName(\"head\")[0].appendChild(s);\n",
              "      });\n",
              "    }\n",
              "\n",
              "    function showError(err) {\n",
              "      outputDiv.innerHTML = `<div class=\"error\" style=\"color:red;\">${err}</div>`;\n",
              "      throw err;\n",
              "    }\n",
              "\n",
              "    function displayChart(vegaEmbed) {\n",
              "      vegaEmbed(outputDiv, spec, embedOpt)\n",
              "        .catch(err => showError(`Javascript Error: ${err.message}<br>This usually means there's a typo in your chart specification. See the javascript console for the full traceback.`));\n",
              "    }\n",
              "\n",
              "    if(typeof define === \"function\" && define.amd) {\n",
              "      requirejs.config({paths});\n",
              "      require([\"vega-embed\"], displayChart, err => showError(`Error loading script: ${err.message}`));\n",
              "    } else if (typeof vegaEmbed === \"function\") {\n",
              "      displayChart(vegaEmbed);\n",
              "    } else {\n",
              "      loadScript(\"vega\")\n",
              "        .then(() => loadScript(\"vega-lite\"))\n",
              "        .then(() => loadScript(\"vega-embed\"))\n",
              "        .catch(showError)\n",
              "        .then(() => displayChart(vegaEmbed));\n",
              "    }\n",
              "  })({\"config\": {\"view\": {\"continuousWidth\": 400, \"continuousHeight\": 300}}, \"data\": {\"name\": \"data-a2ed0596b9ea01b41fe291224c4cf857\"}, \"mark\": \"bar\", \"encoding\": {\"x\": {\"type\": \"nominal\", \"field\": \"PrimaryType\"}, \"y\": {\"type\": \"quantitative\", \"field\": \"arrest_percentage\"}}, \"title\": \"2011\", \"$schema\": \"https://vega.github.io/schema/vega-lite/v4.8.1.json\", \"datasets\": {\"data-a2ed0596b9ea01b41fe291224c4cf857\": [{\"Year\": 2011, \"PrimaryType\": \"ARSON\", \"False\": 456.0, \"True\": 48.0, \"arrest_percentage\": 9.523809523809524}, {\"Year\": 2011, \"PrimaryType\": \"ASSAULT\", \"False\": 15225.0, \"True\": 5186.0, \"arrest_percentage\": 25.407868306305424}, {\"Year\": 2011, \"PrimaryType\": \"BATTERY\", \"False\": 46320.0, \"True\": 14139.0, \"arrest_percentage\": 23.386096362824393}, {\"Year\": 2011, \"PrimaryType\": \"BURGLARY\", \"False\": 25348.0, \"True\": 1272.0, \"arrest_percentage\": 4.778362133734035}, {\"Year\": 2011, \"PrimaryType\": \"CRIM SEXUAL ASSAULT\", \"False\": 1246.0, \"True\": 229.0, \"arrest_percentage\": 15.525423728813559}, {\"Year\": 2011, \"PrimaryType\": \"CRIMINAL DAMAGE\", \"False\": 34749.0, \"True\": 2583.0, \"arrest_percentage\": 6.918997107039537}, {\"Year\": 2011, \"PrimaryType\": \"CRIMINAL SEXUAL ASSAULT\", \"False\": 21.0, \"True\": 1.0, \"arrest_percentage\": 4.545454545454546}, {\"Year\": 2011, \"PrimaryType\": \"CRIMINAL TRESPASS\", \"False\": 2242.0, \"True\": 6417.0, \"arrest_percentage\": 74.10786464949763}, {\"Year\": 2011, \"PrimaryType\": \"DECEPTIVE PRACTICE\", \"False\": 10238.0, \"True\": 2469.0, \"arrest_percentage\": 19.430235303376094}, {\"Year\": 2011, \"PrimaryType\": \"GAMBLING\", \"False\": null, \"True\": 736.0, \"arrest_percentage\": null}, {\"Year\": 2011, \"PrimaryType\": \"HOMICIDE\", \"False\": 241.0, \"True\": 197.0, \"arrest_percentage\": 44.97716894977169}, {\"Year\": 2011, \"PrimaryType\": \"INTERFERENCE WITH PUBLIC OFFICER\", \"False\": 66.0, \"True\": 982.0, \"arrest_percentage\": 93.70229007633588}, {\"Year\": 2011, \"PrimaryType\": \"INTIMIDATION\", \"False\": 129.0, \"True\": 42.0, \"arrest_percentage\": 24.561403508771928}, {\"Year\": 2011, \"PrimaryType\": \"KIDNAPPING\", \"False\": 235.0, \"True\": 31.0, \"arrest_percentage\": 11.654135338345863}, {\"Year\": 2011, \"PrimaryType\": \"LIQUOR LAW VIOLATION\", \"False\": 4.0, \"True\": 615.0, \"arrest_percentage\": 99.35379644588045}, {\"Year\": 2011, \"PrimaryType\": \"MOTOR VEHICLE THEFT\", \"False\": 18441.0, \"True\": 947.0, \"arrest_percentage\": 4.884464617289045}, {\"Year\": 2011, \"PrimaryType\": \"NARCOTICS\", \"False\": 60.0, \"True\": 38545.0, \"arrest_percentage\": 99.84457971765316}, {\"Year\": 2011, \"PrimaryType\": \"OBSCENITY\", \"False\": 9.0, \"True\": 31.0, \"arrest_percentage\": 77.5}, {\"Year\": 2011, \"PrimaryType\": \"OFFENSE INVOLVING CHILDREN\", \"False\": 1919.0, \"True\": 469.0, \"arrest_percentage\": 19.639865996649917}, {\"Year\": 2011, \"PrimaryType\": \"OTHER NARCOTIC VIOLATION\", \"False\": 2.0, \"True\": 3.0, \"arrest_percentage\": 60.0}, {\"Year\": 2011, \"PrimaryType\": \"OTHER OFFENSE\", \"False\": 17023.0, \"True\": 3171.0, \"arrest_percentage\": 15.702683965534318}, {\"Year\": 2011, \"PrimaryType\": \"PROSTITUTION\", \"False\": 5.0, \"True\": 2419.0, \"arrest_percentage\": 99.79372937293729}, {\"Year\": 2011, \"PrimaryType\": \"PUBLIC INDECENCY\", \"False\": null, \"True\": 13.0, \"arrest_percentage\": null}, {\"Year\": 2011, \"PrimaryType\": \"PUBLIC PEACE VIOLATION\", \"False\": 696.0, \"True\": 2399.0, \"arrest_percentage\": 77.51211631663975}, {\"Year\": 2011, \"PrimaryType\": \"ROBBERY\", \"False\": 12661.0, \"True\": 1322.0, \"arrest_percentage\": 9.454337409711792}, {\"Year\": 2011, \"PrimaryType\": \"SEX OFFENSE\", \"False\": 731.0, \"True\": 353.0, \"arrest_percentage\": 32.564575645756456}, {\"Year\": 2011, \"PrimaryType\": \"STALKING\", \"False\": 151.0, \"True\": 30.0, \"arrest_percentage\": 16.574585635359114}, {\"Year\": 2011, \"PrimaryType\": \"THEFT\", \"False\": 66682.0, \"True\": 8468.0, \"arrest_percentage\": 11.268130405854956}, {\"Year\": 2011, \"PrimaryType\": \"WEAPONS VIOLATION\", \"False\": 734.0, \"True\": 3146.0, \"arrest_percentage\": 81.08247422680412}]}}, {\"mode\": \"vega-lite\"});\n",
              "</script>"
            ]
          },
          "metadata": {
            "tags": []
          }
        },
        {
          "output_type": "display_data",
          "data": {
            "text/plain": [
              "alt.Chart(...)"
            ],
            "text/html": [
              "\n",
              "<div id=\"altair-viz-7926aa477f644fd49be984d279944cb6\"></div>\n",
              "<script type=\"text/javascript\">\n",
              "  (function(spec, embedOpt){\n",
              "    let outputDiv = document.currentScript.previousElementSibling;\n",
              "    if (outputDiv.id !== \"altair-viz-7926aa477f644fd49be984d279944cb6\") {\n",
              "      outputDiv = document.getElementById(\"altair-viz-7926aa477f644fd49be984d279944cb6\");\n",
              "    }\n",
              "    const paths = {\n",
              "      \"vega\": \"https://cdn.jsdelivr.net/npm//vega@5?noext\",\n",
              "      \"vega-lib\": \"https://cdn.jsdelivr.net/npm//vega-lib?noext\",\n",
              "      \"vega-lite\": \"https://cdn.jsdelivr.net/npm//vega-lite@4.8.1?noext\",\n",
              "      \"vega-embed\": \"https://cdn.jsdelivr.net/npm//vega-embed@6?noext\",\n",
              "    };\n",
              "\n",
              "    function loadScript(lib) {\n",
              "      return new Promise(function(resolve, reject) {\n",
              "        var s = document.createElement('script');\n",
              "        s.src = paths[lib];\n",
              "        s.async = true;\n",
              "        s.onload = () => resolve(paths[lib]);\n",
              "        s.onerror = () => reject(`Error loading script: ${paths[lib]}`);\n",
              "        document.getElementsByTagName(\"head\")[0].appendChild(s);\n",
              "      });\n",
              "    }\n",
              "\n",
              "    function showError(err) {\n",
              "      outputDiv.innerHTML = `<div class=\"error\" style=\"color:red;\">${err}</div>`;\n",
              "      throw err;\n",
              "    }\n",
              "\n",
              "    function displayChart(vegaEmbed) {\n",
              "      vegaEmbed(outputDiv, spec, embedOpt)\n",
              "        .catch(err => showError(`Javascript Error: ${err.message}<br>This usually means there's a typo in your chart specification. See the javascript console for the full traceback.`));\n",
              "    }\n",
              "\n",
              "    if(typeof define === \"function\" && define.amd) {\n",
              "      requirejs.config({paths});\n",
              "      require([\"vega-embed\"], displayChart, err => showError(`Error loading script: ${err.message}`));\n",
              "    } else if (typeof vegaEmbed === \"function\") {\n",
              "      displayChart(vegaEmbed);\n",
              "    } else {\n",
              "      loadScript(\"vega\")\n",
              "        .then(() => loadScript(\"vega-lite\"))\n",
              "        .then(() => loadScript(\"vega-embed\"))\n",
              "        .catch(showError)\n",
              "        .then(() => displayChart(vegaEmbed));\n",
              "    }\n",
              "  })({\"config\": {\"view\": {\"continuousWidth\": 400, \"continuousHeight\": 300}}, \"data\": {\"name\": \"data-7439bd3c3be2c6f0bbce24c0f3f9900a\"}, \"mark\": \"bar\", \"encoding\": {\"x\": {\"type\": \"nominal\", \"field\": \"PrimaryType\"}, \"y\": {\"type\": \"quantitative\", \"field\": \"arrest_percentage\"}}, \"title\": \"2012\", \"$schema\": \"https://vega.github.io/schema/vega-lite/v4.8.1.json\", \"datasets\": {\"data-7439bd3c3be2c6f0bbce24c0f3f9900a\": [{\"Year\": 2012, \"PrimaryType\": \"ARSON\", \"False\": 423.0, \"True\": 46.0, \"arrest_percentage\": 9.808102345415778}, {\"Year\": 2012, \"PrimaryType\": \"ASSAULT\", \"False\": 15107.0, \"True\": 4792.0, \"arrest_percentage\": 24.08161214131363}, {\"Year\": 2012, \"PrimaryType\": \"BATTERY\", \"False\": 46076.0, \"True\": 13063.0, \"arrest_percentage\": 22.08863863102183}, {\"Year\": 2012, \"PrimaryType\": \"BURGLARY\", \"False\": 21556.0, \"True\": 1289.0, \"arrest_percentage\": 5.6423725103961475}, {\"Year\": 2012, \"PrimaryType\": \"CRIM SEXUAL ASSAULT\", \"False\": 1202.0, \"True\": 211.0, \"arrest_percentage\": 14.932767162066526}, {\"Year\": 2012, \"PrimaryType\": \"CRIMINAL DAMAGE\", \"False\": 33391.0, \"True\": 2463.0, \"arrest_percentage\": 6.869526412673621}, {\"Year\": 2012, \"PrimaryType\": \"CRIMINAL SEXUAL ASSAULT\", \"False\": 22.0, \"True\": 3.0, \"arrest_percentage\": 12.0}, {\"Year\": 2012, \"PrimaryType\": \"CRIMINAL TRESPASS\", \"False\": 2161.0, \"True\": 6055.0, \"arrest_percentage\": 73.69766309639726}, {\"Year\": 2012, \"PrimaryType\": \"DECEPTIVE PRACTICE\", \"False\": 10764.0, \"True\": 2976.0, \"arrest_percentage\": 21.65938864628821}, {\"Year\": 2012, \"PrimaryType\": \"GAMBLING\", \"False\": 1.0, \"True\": 723.0, \"arrest_percentage\": 99.86187845303867}, {\"Year\": 2012, \"PrimaryType\": \"HOMICIDE\", \"False\": 281.0, \"True\": 234.0, \"arrest_percentage\": 45.43689320388349}, {\"Year\": 2012, \"PrimaryType\": \"INTERFERENCE WITH PUBLIC OFFICER\", \"False\": 66.0, \"True\": 1162.0, \"arrest_percentage\": 94.62540716612378}, {\"Year\": 2012, \"PrimaryType\": \"INTIMIDATION\", \"False\": 122.0, \"True\": 34.0, \"arrest_percentage\": 21.794871794871796}, {\"Year\": 2012, \"PrimaryType\": \"KIDNAPPING\", \"False\": 214.0, \"True\": 21.0, \"arrest_percentage\": 8.936170212765958}, {\"Year\": 2012, \"PrimaryType\": \"LIQUOR LAW VIOLATION\", \"False\": 11.0, \"True\": 562.0, \"arrest_percentage\": 98.08027923211169}, {\"Year\": 2012, \"PrimaryType\": \"MOTOR VEHICLE THEFT\", \"False\": 15624.0, \"True\": 868.0, \"arrest_percentage\": 5.263157894736842}, {\"Year\": 2012, \"PrimaryType\": \"NARCOTICS\", \"False\": 261.0, \"True\": 35228.0, \"arrest_percentage\": 99.2645608498408}, {\"Year\": 2012, \"PrimaryType\": \"NON-CRIMINAL\", \"False\": 5.0, \"True\": 1.0, \"arrest_percentage\": 16.666666666666664}, {\"Year\": 2012, \"PrimaryType\": \"NON-CRIMINAL (SUBJECT SPECIFIED)\", \"False\": 1.0, \"True\": 1.0, \"arrest_percentage\": 50.0}, {\"Year\": 2012, \"PrimaryType\": \"OBSCENITY\", \"False\": 3.0, \"True\": 23.0, \"arrest_percentage\": 88.46153846153845}, {\"Year\": 2012, \"PrimaryType\": \"OFFENSE INVOLVING CHILDREN\", \"False\": 1840.0, \"True\": 425.0, \"arrest_percentage\": 18.76379690949227}, {\"Year\": 2012, \"PrimaryType\": \"OTHER NARCOTIC VIOLATION\", \"False\": 2.0, \"True\": 4.0, \"arrest_percentage\": 66.66666666666666}, {\"Year\": 2012, \"PrimaryType\": \"OTHER OFFENSE\", \"False\": 14726.0, \"True\": 2755.0, \"arrest_percentage\": 15.759967965219381}, {\"Year\": 2012, \"PrimaryType\": \"PROSTITUTION\", \"False\": 15.0, \"True\": 2189.0, \"arrest_percentage\": 99.31941923774956}, {\"Year\": 2012, \"PrimaryType\": \"PUBLIC INDECENCY\", \"False\": null, \"True\": 17.0, \"arrest_percentage\": null}, {\"Year\": 2012, \"PrimaryType\": \"PUBLIC PEACE VIOLATION\", \"False\": 756.0, \"True\": 2251.0, \"arrest_percentage\": 74.8586631193881}, {\"Year\": 2012, \"PrimaryType\": \"ROBBERY\", \"False\": 12099.0, \"True\": 1386.0, \"arrest_percentage\": 10.278086763070078}, {\"Year\": 2012, \"PrimaryType\": \"SEX OFFENSE\", \"False\": 784.0, \"True\": 293.0, \"arrest_percentage\": 27.20519962859796}, {\"Year\": 2012, \"PrimaryType\": \"STALKING\", \"False\": 169.0, \"True\": 38.0, \"arrest_percentage\": 18.357487922705314}, {\"Year\": 2012, \"PrimaryType\": \"THEFT\", \"False\": 67212.0, \"True\": 8250.0, \"arrest_percentage\": 10.932654846147729}, {\"Year\": 2012, \"PrimaryType\": \"WEAPONS VIOLATION\", \"False\": 643.0, \"True\": 3264.0, \"arrest_percentage\": 83.54235986690556}]}}, {\"mode\": \"vega-lite\"});\n",
              "</script>"
            ]
          },
          "metadata": {
            "tags": []
          }
        },
        {
          "output_type": "display_data",
          "data": {
            "text/plain": [
              "alt.Chart(...)"
            ],
            "text/html": [
              "\n",
              "<div id=\"altair-viz-3d1f2e8326814091afdb2c7855db8f16\"></div>\n",
              "<script type=\"text/javascript\">\n",
              "  (function(spec, embedOpt){\n",
              "    let outputDiv = document.currentScript.previousElementSibling;\n",
              "    if (outputDiv.id !== \"altair-viz-3d1f2e8326814091afdb2c7855db8f16\") {\n",
              "      outputDiv = document.getElementById(\"altair-viz-3d1f2e8326814091afdb2c7855db8f16\");\n",
              "    }\n",
              "    const paths = {\n",
              "      \"vega\": \"https://cdn.jsdelivr.net/npm//vega@5?noext\",\n",
              "      \"vega-lib\": \"https://cdn.jsdelivr.net/npm//vega-lib?noext\",\n",
              "      \"vega-lite\": \"https://cdn.jsdelivr.net/npm//vega-lite@4.8.1?noext\",\n",
              "      \"vega-embed\": \"https://cdn.jsdelivr.net/npm//vega-embed@6?noext\",\n",
              "    };\n",
              "\n",
              "    function loadScript(lib) {\n",
              "      return new Promise(function(resolve, reject) {\n",
              "        var s = document.createElement('script');\n",
              "        s.src = paths[lib];\n",
              "        s.async = true;\n",
              "        s.onload = () => resolve(paths[lib]);\n",
              "        s.onerror = () => reject(`Error loading script: ${paths[lib]}`);\n",
              "        document.getElementsByTagName(\"head\")[0].appendChild(s);\n",
              "      });\n",
              "    }\n",
              "\n",
              "    function showError(err) {\n",
              "      outputDiv.innerHTML = `<div class=\"error\" style=\"color:red;\">${err}</div>`;\n",
              "      throw err;\n",
              "    }\n",
              "\n",
              "    function displayChart(vegaEmbed) {\n",
              "      vegaEmbed(outputDiv, spec, embedOpt)\n",
              "        .catch(err => showError(`Javascript Error: ${err.message}<br>This usually means there's a typo in your chart specification. See the javascript console for the full traceback.`));\n",
              "    }\n",
              "\n",
              "    if(typeof define === \"function\" && define.amd) {\n",
              "      requirejs.config({paths});\n",
              "      require([\"vega-embed\"], displayChart, err => showError(`Error loading script: ${err.message}`));\n",
              "    } else if (typeof vegaEmbed === \"function\") {\n",
              "      displayChart(vegaEmbed);\n",
              "    } else {\n",
              "      loadScript(\"vega\")\n",
              "        .then(() => loadScript(\"vega-lite\"))\n",
              "        .then(() => loadScript(\"vega-embed\"))\n",
              "        .catch(showError)\n",
              "        .then(() => displayChart(vegaEmbed));\n",
              "    }\n",
              "  })({\"config\": {\"view\": {\"continuousWidth\": 400, \"continuousHeight\": 300}}, \"data\": {\"name\": \"data-855de46f300ec5a34eb1d2735f6a6580\"}, \"mark\": \"bar\", \"encoding\": {\"x\": {\"type\": \"nominal\", \"field\": \"PrimaryType\"}, \"y\": {\"type\": \"quantitative\", \"field\": \"arrest_percentage\"}}, \"title\": \"2013\", \"$schema\": \"https://vega.github.io/schema/vega-lite/v4.8.1.json\", \"datasets\": {\"data-855de46f300ec5a34eb1d2735f6a6580\": [{\"Year\": 2013, \"PrimaryType\": \"ARSON\", \"False\": 318.0, \"True\": 46.0, \"arrest_percentage\": 12.637362637362637}, {\"Year\": 2013, \"PrimaryType\": \"ASSAULT\", \"False\": 13506.0, \"True\": 4466.0, \"arrest_percentage\": 24.849766303138214}, {\"Year\": 2013, \"PrimaryType\": \"BATTERY\", \"False\": 41076.0, \"True\": 12929.0, \"arrest_percentage\": 23.940375891121192}, {\"Year\": 2013, \"PrimaryType\": \"BURGLARY\", \"False\": 16791.0, \"True\": 1104.0, \"arrest_percentage\": 6.16932103939648}, {\"Year\": 2013, \"PrimaryType\": \"CRIM SEXUAL ASSAULT\", \"False\": 1058.0, \"True\": 232.0, \"arrest_percentage\": 17.984496124031008}, {\"Year\": 2013, \"PrimaryType\": \"CRIMINAL DAMAGE\", \"False\": 28746.0, \"True\": 2107.0, \"arrest_percentage\": 6.829157618383949}, {\"Year\": 2013, \"PrimaryType\": \"CRIMINAL SEXUAL ASSAULT\", \"False\": 28.0, \"True\": 6.0, \"arrest_percentage\": 17.647058823529413}, {\"Year\": 2013, \"PrimaryType\": \"CRIMINAL TRESPASS\", \"False\": 2061.0, \"True\": 6075.0, \"arrest_percentage\": 74.66814159292035}, {\"Year\": 2013, \"PrimaryType\": \"DECEPTIVE PRACTICE\", \"False\": 11355.0, \"True\": 2520.0, \"arrest_percentage\": 18.16216216216216}, {\"Year\": 2013, \"PrimaryType\": \"GAMBLING\", \"False\": 5.0, \"True\": 591.0, \"arrest_percentage\": 99.16107382550335}, {\"Year\": 2013, \"PrimaryType\": \"HOMICIDE\", \"False\": 241.0, \"True\": 188.0, \"arrest_percentage\": 43.82284382284382}, {\"Year\": 2013, \"PrimaryType\": \"HUMAN TRAFFICKING\", \"False\": 1.0, \"True\": 1.0, \"arrest_percentage\": 50.0}, {\"Year\": 2013, \"PrimaryType\": \"INTERFERENCE WITH PUBLIC OFFICER\", \"False\": 78.0, \"True\": 1203.0, \"arrest_percentage\": 93.91100702576112}, {\"Year\": 2013, \"PrimaryType\": \"INTIMIDATION\", \"False\": 115.0, \"True\": 20.0, \"arrest_percentage\": 14.814814814814813}, {\"Year\": 2013, \"PrimaryType\": \"KIDNAPPING\", \"False\": 208.0, \"True\": 34.0, \"arrest_percentage\": 14.049586776859504}, {\"Year\": 2013, \"PrimaryType\": \"LIQUOR LAW VIOLATION\", \"False\": 17.0, \"True\": 448.0, \"arrest_percentage\": 96.34408602150538}, {\"Year\": 2013, \"PrimaryType\": \"MOTOR VEHICLE THEFT\", \"False\": 11748.0, \"True\": 834.0, \"arrest_percentage\": 6.628516928946114}, {\"Year\": 2013, \"PrimaryType\": \"NARCOTICS\", \"False\": 308.0, \"True\": 33819.0, \"arrest_percentage\": 99.09748879186567}, {\"Year\": 2013, \"PrimaryType\": \"NON - CRIMINAL\", \"False\": 3.0, \"True\": null, \"arrest_percentage\": null}, {\"Year\": 2013, \"PrimaryType\": \"NON-CRIMINAL\", \"False\": 3.0, \"True\": 1.0, \"arrest_percentage\": 25.0}, {\"Year\": 2013, \"PrimaryType\": \"OBSCENITY\", \"False\": 6.0, \"True\": 19.0, \"arrest_percentage\": 76.0}, {\"Year\": 2013, \"PrimaryType\": \"OFFENSE INVOLVING CHILDREN\", \"False\": 2009.0, \"True\": 419.0, \"arrest_percentage\": 17.257001647446458}, {\"Year\": 2013, \"PrimaryType\": \"OTHER NARCOTIC VIOLATION\", \"False\": 1.0, \"True\": 4.0, \"arrest_percentage\": 80.0}, {\"Year\": 2013, \"PrimaryType\": \"OTHER OFFENSE\", \"False\": 14597.0, \"True\": 3400.0, \"arrest_percentage\": 18.892037561815858}, {\"Year\": 2013, \"PrimaryType\": \"PROSTITUTION\", \"False\": 4.0, \"True\": 1648.0, \"arrest_percentage\": 99.75786924939467}, {\"Year\": 2013, \"PrimaryType\": \"PUBLIC INDECENCY\", \"False\": null, \"True\": 10.0, \"arrest_percentage\": null}, {\"Year\": 2013, \"PrimaryType\": \"PUBLIC PEACE VIOLATION\", \"False\": 805.0, \"True\": 2330.0, \"arrest_percentage\": 74.32216905901117}, {\"Year\": 2013, \"PrimaryType\": \"ROBBERY\", \"False\": 10487.0, \"True\": 1333.0, \"arrest_percentage\": 11.277495769881558}, {\"Year\": 2013, \"PrimaryType\": \"SEX OFFENSE\", \"False\": 761.0, \"True\": 290.0, \"arrest_percentage\": 27.59276879162702}, {\"Year\": 2013, \"PrimaryType\": \"STALKING\", \"False\": 122.0, \"True\": 32.0, \"arrest_percentage\": 20.77922077922078}, {\"Year\": 2013, \"PrimaryType\": \"THEFT\", \"False\": 63804.0, \"True\": 7727.0, \"arrest_percentage\": 10.80230948819393}, {\"Year\": 2013, \"PrimaryType\": \"WEAPONS VIOLATION\", \"False\": 580.0, \"True\": 2666.0, \"arrest_percentage\": 82.13185459026494}]}}, {\"mode\": \"vega-lite\"});\n",
              "</script>"
            ]
          },
          "metadata": {
            "tags": []
          }
        },
        {
          "output_type": "display_data",
          "data": {
            "text/plain": [
              "alt.Chart(...)"
            ],
            "text/html": [
              "\n",
              "<div id=\"altair-viz-a4471f810a6840229f2cedab214303ec\"></div>\n",
              "<script type=\"text/javascript\">\n",
              "  (function(spec, embedOpt){\n",
              "    let outputDiv = document.currentScript.previousElementSibling;\n",
              "    if (outputDiv.id !== \"altair-viz-a4471f810a6840229f2cedab214303ec\") {\n",
              "      outputDiv = document.getElementById(\"altair-viz-a4471f810a6840229f2cedab214303ec\");\n",
              "    }\n",
              "    const paths = {\n",
              "      \"vega\": \"https://cdn.jsdelivr.net/npm//vega@5?noext\",\n",
              "      \"vega-lib\": \"https://cdn.jsdelivr.net/npm//vega-lib?noext\",\n",
              "      \"vega-lite\": \"https://cdn.jsdelivr.net/npm//vega-lite@4.8.1?noext\",\n",
              "      \"vega-embed\": \"https://cdn.jsdelivr.net/npm//vega-embed@6?noext\",\n",
              "    };\n",
              "\n",
              "    function loadScript(lib) {\n",
              "      return new Promise(function(resolve, reject) {\n",
              "        var s = document.createElement('script');\n",
              "        s.src = paths[lib];\n",
              "        s.async = true;\n",
              "        s.onload = () => resolve(paths[lib]);\n",
              "        s.onerror = () => reject(`Error loading script: ${paths[lib]}`);\n",
              "        document.getElementsByTagName(\"head\")[0].appendChild(s);\n",
              "      });\n",
              "    }\n",
              "\n",
              "    function showError(err) {\n",
              "      outputDiv.innerHTML = `<div class=\"error\" style=\"color:red;\">${err}</div>`;\n",
              "      throw err;\n",
              "    }\n",
              "\n",
              "    function displayChart(vegaEmbed) {\n",
              "      vegaEmbed(outputDiv, spec, embedOpt)\n",
              "        .catch(err => showError(`Javascript Error: ${err.message}<br>This usually means there's a typo in your chart specification. See the javascript console for the full traceback.`));\n",
              "    }\n",
              "\n",
              "    if(typeof define === \"function\" && define.amd) {\n",
              "      requirejs.config({paths});\n",
              "      require([\"vega-embed\"], displayChart, err => showError(`Error loading script: ${err.message}`));\n",
              "    } else if (typeof vegaEmbed === \"function\") {\n",
              "      displayChart(vegaEmbed);\n",
              "    } else {\n",
              "      loadScript(\"vega\")\n",
              "        .then(() => loadScript(\"vega-lite\"))\n",
              "        .then(() => loadScript(\"vega-embed\"))\n",
              "        .catch(showError)\n",
              "        .then(() => displayChart(vegaEmbed));\n",
              "    }\n",
              "  })({\"config\": {\"view\": {\"continuousWidth\": 400, \"continuousHeight\": 300}}, \"data\": {\"name\": \"data-fd02b7ce8ab7bb7ae6b0aadd32459317\"}, \"mark\": \"bar\", \"encoding\": {\"x\": {\"type\": \"nominal\", \"field\": \"PrimaryType\"}, \"y\": {\"type\": \"quantitative\", \"field\": \"arrest_percentage\"}}, \"title\": \"2014\", \"$schema\": \"https://vega.github.io/schema/vega-lite/v4.8.1.json\", \"datasets\": {\"data-fd02b7ce8ab7bb7ae6b0aadd32459317\": [{\"Year\": 2014, \"PrimaryType\": \"ARSON\", \"False\": 363.0, \"True\": 34.0, \"arrest_percentage\": 8.564231738035264}, {\"Year\": 2014, \"PrimaryType\": \"ASSAULT\", \"False\": 12397.0, \"True\": 4506.0, \"arrest_percentage\": 26.657989705969353}, {\"Year\": 2014, \"PrimaryType\": \"BATTERY\", \"False\": 36930.0, \"True\": 12520.0, \"arrest_percentage\": 25.318503538928212}, {\"Year\": 2014, \"PrimaryType\": \"BURGLARY\", \"False\": 13658.0, \"True\": 911.0, \"arrest_percentage\": 6.253002951472304}, {\"Year\": 2014, \"PrimaryType\": \"CONCEALED CARRY LICENSE VIOLATION\", \"False\": 3.0, \"True\": 12.0, \"arrest_percentage\": 80.0}, {\"Year\": 2014, \"PrimaryType\": \"CRIM SEXUAL ASSAULT\", \"False\": 1145.0, \"True\": 185.0, \"arrest_percentage\": 13.909774436090224}, {\"Year\": 2014, \"PrimaryType\": \"CRIMINAL DAMAGE\", \"False\": 25703.0, \"True\": 2095.0, \"arrest_percentage\": 7.536513418231527}, {\"Year\": 2014, \"PrimaryType\": \"CRIMINAL SEXUAL ASSAULT\", \"False\": 29.0, \"True\": 5.0, \"arrest_percentage\": 14.705882352941178}, {\"Year\": 2014, \"PrimaryType\": \"CRIMINAL TRESPASS\", \"False\": 2050.0, \"True\": 5489.0, \"arrest_percentage\": 72.8080647300703}, {\"Year\": 2014, \"PrimaryType\": \"DECEPTIVE PRACTICE\", \"False\": 14133.0, \"True\": 1775.0, \"arrest_percentage\": 11.157907970832285}, {\"Year\": 2014, \"PrimaryType\": \"GAMBLING\", \"False\": 1.0, \"True\": 392.0, \"arrest_percentage\": 99.74554707379136}, {\"Year\": 2014, \"PrimaryType\": \"HOMICIDE\", \"False\": 236.0, \"True\": 190.0, \"arrest_percentage\": 44.60093896713615}, {\"Year\": 2014, \"PrimaryType\": \"HUMAN TRAFFICKING\", \"False\": 2.0, \"True\": null, \"arrest_percentage\": null}, {\"Year\": 2014, \"PrimaryType\": \"INTERFERENCE WITH PUBLIC OFFICER\", \"False\": 75.0, \"True\": 1324.0, \"arrest_percentage\": 94.63902787705504}, {\"Year\": 2014, \"PrimaryType\": \"INTIMIDATION\", \"False\": 88.0, \"True\": 27.0, \"arrest_percentage\": 23.47826086956522}, {\"Year\": 2014, \"PrimaryType\": \"KIDNAPPING\", \"False\": 202.0, \"True\": 18.0, \"arrest_percentage\": 8.181818181818182}, {\"Year\": 2014, \"PrimaryType\": \"LIQUOR LAW VIOLATION\", \"False\": 11.0, \"True\": 386.0, \"arrest_percentage\": 97.22921914357683}, {\"Year\": 2014, \"PrimaryType\": \"MOTOR VEHICLE THEFT\", \"False\": 9148.0, \"True\": 763.0, \"arrest_percentage\": 7.69851679951569}, {\"Year\": 2014, \"PrimaryType\": \"NARCOTICS\", \"False\": 116.0, \"True\": 29002.0, \"arrest_percentage\": 99.60162099045264}, {\"Year\": 2014, \"PrimaryType\": \"NON - CRIMINAL\", \"False\": 10.0, \"True\": null, \"arrest_percentage\": null}, {\"Year\": 2014, \"PrimaryType\": \"NON-CRIMINAL\", \"False\": 16.0, \"True\": null, \"arrest_percentage\": null}, {\"Year\": 2014, \"PrimaryType\": \"NON-CRIMINAL (SUBJECT SPECIFIED)\", \"False\": 1.0, \"True\": null, \"arrest_percentage\": null}, {\"Year\": 2014, \"PrimaryType\": \"OBSCENITY\", \"False\": 10.0, \"True\": 28.0, \"arrest_percentage\": 73.68421052631578}, {\"Year\": 2014, \"PrimaryType\": \"OFFENSE INVOLVING CHILDREN\", \"False\": 1998.0, \"True\": 460.0, \"arrest_percentage\": 18.71440195280716}, {\"Year\": 2014, \"PrimaryType\": \"OTHER NARCOTIC VIOLATION\", \"False\": 2.0, \"True\": 8.0, \"arrest_percentage\": 80.0}, {\"Year\": 2014, \"PrimaryType\": \"OTHER OFFENSE\", \"False\": 12823.0, \"True\": 4161.0, \"arrest_percentage\": 24.499528968440888}, {\"Year\": 2014, \"PrimaryType\": \"PROSTITUTION\", \"False\": 13.0, \"True\": 1613.0, \"arrest_percentage\": 99.20049200492005}, {\"Year\": 2014, \"PrimaryType\": \"PUBLIC INDECENCY\", \"False\": null, \"True\": 10.0, \"arrest_percentage\": null}, {\"Year\": 2014, \"PrimaryType\": \"PUBLIC PEACE VIOLATION\", \"False\": 554.0, \"True\": 2349.0, \"arrest_percentage\": 80.91629348949363}, {\"Year\": 2014, \"PrimaryType\": \"ROBBERY\", \"False\": 8748.0, \"True\": 1051.0, \"arrest_percentage\": 10.725584243290132}, {\"Year\": 2014, \"PrimaryType\": \"SEX OFFENSE\", \"False\": 756.0, \"True\": 245.0, \"arrest_percentage\": 24.475524475524477}, {\"Year\": 2014, \"PrimaryType\": \"STALKING\", \"False\": 112.0, \"True\": 28.0, \"arrest_percentage\": 20.0}, {\"Year\": 2014, \"PrimaryType\": \"THEFT\", \"False\": 54142.0, \"True\": 7423.0, \"arrest_percentage\": 12.057175343133274}, {\"Year\": 2014, \"PrimaryType\": \"WEAPONS VIOLATION\", \"False\": 532.0, \"True\": 2581.0, \"arrest_percentage\": 82.91037584323804}]}}, {\"mode\": \"vega-lite\"});\n",
              "</script>"
            ]
          },
          "metadata": {
            "tags": []
          }
        },
        {
          "output_type": "display_data",
          "data": {
            "text/plain": [
              "alt.Chart(...)"
            ],
            "text/html": [
              "\n",
              "<div id=\"altair-viz-cd697cf46f964794bd104f25441cbdf3\"></div>\n",
              "<script type=\"text/javascript\">\n",
              "  (function(spec, embedOpt){\n",
              "    let outputDiv = document.currentScript.previousElementSibling;\n",
              "    if (outputDiv.id !== \"altair-viz-cd697cf46f964794bd104f25441cbdf3\") {\n",
              "      outputDiv = document.getElementById(\"altair-viz-cd697cf46f964794bd104f25441cbdf3\");\n",
              "    }\n",
              "    const paths = {\n",
              "      \"vega\": \"https://cdn.jsdelivr.net/npm//vega@5?noext\",\n",
              "      \"vega-lib\": \"https://cdn.jsdelivr.net/npm//vega-lib?noext\",\n",
              "      \"vega-lite\": \"https://cdn.jsdelivr.net/npm//vega-lite@4.8.1?noext\",\n",
              "      \"vega-embed\": \"https://cdn.jsdelivr.net/npm//vega-embed@6?noext\",\n",
              "    };\n",
              "\n",
              "    function loadScript(lib) {\n",
              "      return new Promise(function(resolve, reject) {\n",
              "        var s = document.createElement('script');\n",
              "        s.src = paths[lib];\n",
              "        s.async = true;\n",
              "        s.onload = () => resolve(paths[lib]);\n",
              "        s.onerror = () => reject(`Error loading script: ${paths[lib]}`);\n",
              "        document.getElementsByTagName(\"head\")[0].appendChild(s);\n",
              "      });\n",
              "    }\n",
              "\n",
              "    function showError(err) {\n",
              "      outputDiv.innerHTML = `<div class=\"error\" style=\"color:red;\">${err}</div>`;\n",
              "      throw err;\n",
              "    }\n",
              "\n",
              "    function displayChart(vegaEmbed) {\n",
              "      vegaEmbed(outputDiv, spec, embedOpt)\n",
              "        .catch(err => showError(`Javascript Error: ${err.message}<br>This usually means there's a typo in your chart specification. See the javascript console for the full traceback.`));\n",
              "    }\n",
              "\n",
              "    if(typeof define === \"function\" && define.amd) {\n",
              "      requirejs.config({paths});\n",
              "      require([\"vega-embed\"], displayChart, err => showError(`Error loading script: ${err.message}`));\n",
              "    } else if (typeof vegaEmbed === \"function\") {\n",
              "      displayChart(vegaEmbed);\n",
              "    } else {\n",
              "      loadScript(\"vega\")\n",
              "        .then(() => loadScript(\"vega-lite\"))\n",
              "        .then(() => loadScript(\"vega-embed\"))\n",
              "        .catch(showError)\n",
              "        .then(() => displayChart(vegaEmbed));\n",
              "    }\n",
              "  })({\"config\": {\"view\": {\"continuousWidth\": 400, \"continuousHeight\": 300}}, \"data\": {\"name\": \"data-3fdac8fbf8b5e199fee7e10f4a296832\"}, \"mark\": \"bar\", \"encoding\": {\"x\": {\"type\": \"nominal\", \"field\": \"PrimaryType\"}, \"y\": {\"type\": \"quantitative\", \"field\": \"arrest_percentage\"}}, \"title\": \"2015\", \"$schema\": \"https://vega.github.io/schema/vega-lite/v4.8.1.json\", \"datasets\": {\"data-3fdac8fbf8b5e199fee7e10f4a296832\": [{\"Year\": 2015, \"PrimaryType\": \"ARSON\", \"False\": 401.0, \"True\": 52.0, \"arrest_percentage\": 11.479028697571744}, {\"Year\": 2015, \"PrimaryType\": \"ASSAULT\", \"False\": 12988.0, \"True\": 4058.0, \"arrest_percentage\": 23.806171535844186}, {\"Year\": 2015, \"PrimaryType\": \"BATTERY\", \"False\": 37358.0, \"True\": 11559.0, \"arrest_percentage\": 23.6298219432917}, {\"Year\": 2015, \"PrimaryType\": \"BURGLARY\", \"False\": 12457.0, \"True\": 727.0, \"arrest_percentage\": 5.514259708737864}, {\"Year\": 2015, \"PrimaryType\": \"CONCEALED CARRY LICENSE VIOLATION\", \"False\": 1.0, \"True\": 33.0, \"arrest_percentage\": 97.05882352941177}, {\"Year\": 2015, \"PrimaryType\": \"CRIM SEXUAL ASSAULT\", \"False\": 1216.0, \"True\": 163.0, \"arrest_percentage\": 11.820159535895575}, {\"Year\": 2015, \"PrimaryType\": \"CRIMINAL DAMAGE\", \"False\": 26841.0, \"True\": 1835.0, \"arrest_percentage\": 6.399079369507603}, {\"Year\": 2015, \"PrimaryType\": \"CRIMINAL SEXUAL ASSAULT\", \"False\": 33.0, \"True\": 7.0, \"arrest_percentage\": 17.5}, {\"Year\": 2015, \"PrimaryType\": \"CRIMINAL TRESPASS\", \"False\": 2005.0, \"True\": 4396.0, \"arrest_percentage\": 68.67676925480394}, {\"Year\": 2015, \"PrimaryType\": \"DECEPTIVE PRACTICE\", \"False\": 15316.0, \"True\": 1018.0, \"arrest_percentage\": 6.232398677604996}, {\"Year\": 2015, \"PrimaryType\": \"GAMBLING\", \"False\": null, \"True\": 310.0, \"arrest_percentage\": null}, {\"Year\": 2015, \"PrimaryType\": \"HOMICIDE\", \"False\": 297.0, \"True\": 205.0, \"arrest_percentage\": 40.83665338645419}, {\"Year\": 2015, \"PrimaryType\": \"HUMAN TRAFFICKING\", \"False\": 11.0, \"True\": 2.0, \"arrest_percentage\": 15.384615384615385}, {\"Year\": 2015, \"PrimaryType\": \"INTERFERENCE WITH PUBLIC OFFICER\", \"False\": 55.0, \"True\": 1253.0, \"arrest_percentage\": 95.79510703363916}, {\"Year\": 2015, \"PrimaryType\": \"INTIMIDATION\", \"False\": 102.0, \"True\": 21.0, \"arrest_percentage\": 17.073170731707318}, {\"Year\": 2015, \"PrimaryType\": \"KIDNAPPING\", \"False\": 175.0, \"True\": 15.0, \"arrest_percentage\": 7.894736842105263}, {\"Year\": 2015, \"PrimaryType\": \"LIQUOR LAW VIOLATION\", \"False\": 1.0, \"True\": 291.0, \"arrest_percentage\": 99.65753424657534}, {\"Year\": 2015, \"PrimaryType\": \"MOTOR VEHICLE THEFT\", \"False\": 9066.0, \"True\": 1002.0, \"arrest_percentage\": 9.9523241954708}, {\"Year\": 2015, \"PrimaryType\": \"NARCOTICS\", \"False\": 8.0, \"True\": 23931.0, \"arrest_percentage\": 99.96658172856009}, {\"Year\": 2015, \"PrimaryType\": \"NON - CRIMINAL\", \"False\": 16.0, \"True\": 4.0, \"arrest_percentage\": 20.0}, {\"Year\": 2015, \"PrimaryType\": \"NON-CRIMINAL\", \"False\": 13.0, \"True\": 3.0, \"arrest_percentage\": 18.75}, {\"Year\": 2015, \"PrimaryType\": \"OBSCENITY\", \"False\": 12.0, \"True\": 36.0, \"arrest_percentage\": 75.0}, {\"Year\": 2015, \"PrimaryType\": \"OFFENSE INVOLVING CHILDREN\", \"False\": 1961.0, \"True\": 408.0, \"arrest_percentage\": 17.222456732798648}, {\"Year\": 2015, \"PrimaryType\": \"OTHER NARCOTIC VIOLATION\", \"False\": 3.0, \"True\": 2.0, \"arrest_percentage\": 40.0}, {\"Year\": 2015, \"PrimaryType\": \"OTHER OFFENSE\", \"False\": 12766.0, \"True\": 4796.0, \"arrest_percentage\": 27.308962532741145}, {\"Year\": 2015, \"PrimaryType\": \"PROSTITUTION\", \"False\": 2.0, \"True\": 1320.0, \"arrest_percentage\": 99.84871406959152}, {\"Year\": 2015, \"PrimaryType\": \"PUBLIC INDECENCY\", \"False\": null, \"True\": 14.0, \"arrest_percentage\": null}, {\"Year\": 2015, \"PrimaryType\": \"PUBLIC PEACE VIOLATION\", \"False\": 541.0, \"True\": 1881.0, \"arrest_percentage\": 77.66308835672997}, {\"Year\": 2015, \"PrimaryType\": \"ROBBERY\", \"False\": 8710.0, \"True\": 928.0, \"arrest_percentage\": 9.628553641834406}, {\"Year\": 2015, \"PrimaryType\": \"SEX OFFENSE\", \"False\": 792.0, \"True\": 229.0, \"arrest_percentage\": 22.428991185112636}, {\"Year\": 2015, \"PrimaryType\": \"STALKING\", \"False\": 124.0, \"True\": 31.0, \"arrest_percentage\": 20.0}, {\"Year\": 2015, \"PrimaryType\": \"THEFT\", \"False\": 50569.0, \"True\": 6775.0, \"arrest_percentage\": 11.814662388392858}, {\"Year\": 2015, \"PrimaryType\": \"WEAPONS VIOLATION\", \"False\": 682.0, \"True\": 2682.0, \"arrest_percentage\": 79.72651605231866}]}}, {\"mode\": \"vega-lite\"});\n",
              "</script>"
            ]
          },
          "metadata": {
            "tags": []
          }
        },
        {
          "output_type": "display_data",
          "data": {
            "text/plain": [
              "alt.Chart(...)"
            ],
            "text/html": [
              "\n",
              "<div id=\"altair-viz-97113cfdb68844a18ac95578f1211d65\"></div>\n",
              "<script type=\"text/javascript\">\n",
              "  (function(spec, embedOpt){\n",
              "    let outputDiv = document.currentScript.previousElementSibling;\n",
              "    if (outputDiv.id !== \"altair-viz-97113cfdb68844a18ac95578f1211d65\") {\n",
              "      outputDiv = document.getElementById(\"altair-viz-97113cfdb68844a18ac95578f1211d65\");\n",
              "    }\n",
              "    const paths = {\n",
              "      \"vega\": \"https://cdn.jsdelivr.net/npm//vega@5?noext\",\n",
              "      \"vega-lib\": \"https://cdn.jsdelivr.net/npm//vega-lib?noext\",\n",
              "      \"vega-lite\": \"https://cdn.jsdelivr.net/npm//vega-lite@4.8.1?noext\",\n",
              "      \"vega-embed\": \"https://cdn.jsdelivr.net/npm//vega-embed@6?noext\",\n",
              "    };\n",
              "\n",
              "    function loadScript(lib) {\n",
              "      return new Promise(function(resolve, reject) {\n",
              "        var s = document.createElement('script');\n",
              "        s.src = paths[lib];\n",
              "        s.async = true;\n",
              "        s.onload = () => resolve(paths[lib]);\n",
              "        s.onerror = () => reject(`Error loading script: ${paths[lib]}`);\n",
              "        document.getElementsByTagName(\"head\")[0].appendChild(s);\n",
              "      });\n",
              "    }\n",
              "\n",
              "    function showError(err) {\n",
              "      outputDiv.innerHTML = `<div class=\"error\" style=\"color:red;\">${err}</div>`;\n",
              "      throw err;\n",
              "    }\n",
              "\n",
              "    function displayChart(vegaEmbed) {\n",
              "      vegaEmbed(outputDiv, spec, embedOpt)\n",
              "        .catch(err => showError(`Javascript Error: ${err.message}<br>This usually means there's a typo in your chart specification. See the javascript console for the full traceback.`));\n",
              "    }\n",
              "\n",
              "    if(typeof define === \"function\" && define.amd) {\n",
              "      requirejs.config({paths});\n",
              "      require([\"vega-embed\"], displayChart, err => showError(`Error loading script: ${err.message}`));\n",
              "    } else if (typeof vegaEmbed === \"function\") {\n",
              "      displayChart(vegaEmbed);\n",
              "    } else {\n",
              "      loadScript(\"vega\")\n",
              "        .then(() => loadScript(\"vega-lite\"))\n",
              "        .then(() => loadScript(\"vega-embed\"))\n",
              "        .catch(showError)\n",
              "        .then(() => displayChart(vegaEmbed));\n",
              "    }\n",
              "  })({\"config\": {\"view\": {\"continuousWidth\": 400, \"continuousHeight\": 300}}, \"data\": {\"name\": \"data-0be5b1f04a07693d2a3ab815c2fc65a9\"}, \"mark\": \"bar\", \"encoding\": {\"x\": {\"type\": \"nominal\", \"field\": \"PrimaryType\"}, \"y\": {\"type\": \"quantitative\", \"field\": \"arrest_percentage\"}}, \"title\": \"2016\", \"$schema\": \"https://vega.github.io/schema/vega-lite/v4.8.1.json\", \"datasets\": {\"data-0be5b1f04a07693d2a3ab815c2fc65a9\": [{\"Year\": 2016, \"PrimaryType\": \"ARSON\", \"False\": 463.0, \"True\": 53.0, \"arrest_percentage\": 10.271317829457365}, {\"Year\": 2016, \"PrimaryType\": \"ASSAULT\", \"False\": 15250.0, \"True\": 3491.0, \"arrest_percentage\": 18.627607918467532}, {\"Year\": 2016, \"PrimaryType\": \"BATTERY\", \"False\": 39963.0, \"True\": 10333.0, \"arrest_percentage\": 20.544377286464133}, {\"Year\": 2016, \"PrimaryType\": \"BURGLARY\", \"False\": 13588.0, \"True\": 699.0, \"arrest_percentage\": 4.892559669629733}, {\"Year\": 2016, \"PrimaryType\": \"CONCEALED CARRY LICENSE VIOLATION\", \"False\": 2.0, \"True\": 34.0, \"arrest_percentage\": 94.44444444444444}, {\"Year\": 2016, \"PrimaryType\": \"CRIM SEXUAL ASSAULT\", \"False\": 1373.0, \"True\": 148.0, \"arrest_percentage\": 9.73044049967127}, {\"Year\": 2016, \"PrimaryType\": \"CRIMINAL DAMAGE\", \"False\": 29349.0, \"True\": 1669.0, \"arrest_percentage\": 5.380746663227804}, {\"Year\": 2016, \"PrimaryType\": \"CRIMINAL SEXUAL ASSAULT\", \"False\": 59.0, \"True\": 11.0, \"arrest_percentage\": 15.714285714285714}, {\"Year\": 2016, \"PrimaryType\": \"CRIMINAL TRESPASS\", \"False\": 2582.0, \"True\": 3724.0, \"arrest_percentage\": 59.05486837932128}, {\"Year\": 2016, \"PrimaryType\": \"DECEPTIVE PRACTICE\", \"False\": 18389.0, \"True\": 831.0, \"arrest_percentage\": 4.3236212278876165}, {\"Year\": 2016, \"PrimaryType\": \"GAMBLING\", \"False\": null, \"True\": 189.0, \"arrest_percentage\": null}, {\"Year\": 2016, \"PrimaryType\": \"HOMICIDE\", \"False\": 514.0, \"True\": 274.0, \"arrest_percentage\": 34.77157360406091}, {\"Year\": 2016, \"PrimaryType\": \"HUMAN TRAFFICKING\", \"False\": 10.0, \"True\": 1.0, \"arrest_percentage\": 9.090909090909092}, {\"Year\": 2016, \"PrimaryType\": \"INTERFERENCE WITH PUBLIC OFFICER\", \"False\": 49.0, \"True\": 887.0, \"arrest_percentage\": 94.76495726495726}, {\"Year\": 2016, \"PrimaryType\": \"INTIMIDATION\", \"False\": 110.0, \"True\": 25.0, \"arrest_percentage\": 18.51851851851852}, {\"Year\": 2016, \"PrimaryType\": \"KIDNAPPING\", \"False\": 187.0, \"True\": 15.0, \"arrest_percentage\": 7.425742574257425}, {\"Year\": 2016, \"PrimaryType\": \"LIQUOR LAW VIOLATION\", \"False\": 1.0, \"True\": 226.0, \"arrest_percentage\": 99.55947136563876}, {\"Year\": 2016, \"PrimaryType\": \"MOTOR VEHICLE THEFT\", \"False\": 10189.0, \"True\": 1098.0, \"arrest_percentage\": 9.7280056702401}, {\"Year\": 2016, \"PrimaryType\": \"NARCOTICS\", \"False\": 6.0, \"True\": 13327.0, \"arrest_percentage\": 99.95499887497188}, {\"Year\": 2016, \"PrimaryType\": \"NON - CRIMINAL\", \"False\": 3.0, \"True\": 2.0, \"arrest_percentage\": 40.0}, {\"Year\": 2016, \"PrimaryType\": \"NON-CRIMINAL\", \"False\": 47.0, \"True\": 2.0, \"arrest_percentage\": 4.081632653061225}, {\"Year\": 2016, \"PrimaryType\": \"NON-CRIMINAL (SUBJECT SPECIFIED)\", \"False\": 1.0, \"True\": null, \"arrest_percentage\": null}, {\"Year\": 2016, \"PrimaryType\": \"OBSCENITY\", \"False\": 13.0, \"True\": 38.0, \"arrest_percentage\": 74.50980392156863}, {\"Year\": 2016, \"PrimaryType\": \"OFFENSE INVOLVING CHILDREN\", \"False\": 2044.0, \"True\": 331.0, \"arrest_percentage\": 13.936842105263159}, {\"Year\": 2016, \"PrimaryType\": \"OTHER NARCOTIC VIOLATION\", \"False\": 1.0, \"True\": 3.0, \"arrest_percentage\": 75.0}, {\"Year\": 2016, \"PrimaryType\": \"OTHER OFFENSE\", \"False\": 13887.0, \"True\": 3415.0, \"arrest_percentage\": 19.737602589296035}, {\"Year\": 2016, \"PrimaryType\": \"PROSTITUTION\", \"False\": null, \"True\": 800.0, \"arrest_percentage\": null}, {\"Year\": 2016, \"PrimaryType\": \"PUBLIC INDECENCY\", \"False\": null, \"True\": 10.0, \"arrest_percentage\": null}, {\"Year\": 2016, \"PrimaryType\": \"PUBLIC PEACE VIOLATION\", \"False\": 491.0, \"True\": 1116.0, \"arrest_percentage\": 69.44617299315495}, {\"Year\": 2016, \"PrimaryType\": \"ROBBERY\", \"False\": 10977.0, \"True\": 983.0, \"arrest_percentage\": 8.219063545150501}, {\"Year\": 2016, \"PrimaryType\": \"SEX OFFENSE\", \"False\": 830.0, \"True\": 183.0, \"arrest_percentage\": 18.065153010858836}, {\"Year\": 2016, \"PrimaryType\": \"STALKING\", \"False\": 160.0, \"True\": 16.0, \"arrest_percentage\": 9.090909090909092}, {\"Year\": 2016, \"PrimaryType\": \"THEFT\", \"False\": 55094.0, \"True\": 6522.0, \"arrest_percentage\": 10.584913009607893}, {\"Year\": 2016, \"PrimaryType\": \"WEAPONS VIOLATION\", \"False\": 940.0, \"True\": 2510.0, \"arrest_percentage\": 72.7536231884058}]}}, {\"mode\": \"vega-lite\"});\n",
              "</script>"
            ]
          },
          "metadata": {
            "tags": []
          }
        },
        {
          "output_type": "display_data",
          "data": {
            "text/plain": [
              "alt.Chart(...)"
            ],
            "text/html": [
              "\n",
              "<div id=\"altair-viz-552baaa4e0144f7bbfefc1e678429512\"></div>\n",
              "<script type=\"text/javascript\">\n",
              "  (function(spec, embedOpt){\n",
              "    let outputDiv = document.currentScript.previousElementSibling;\n",
              "    if (outputDiv.id !== \"altair-viz-552baaa4e0144f7bbfefc1e678429512\") {\n",
              "      outputDiv = document.getElementById(\"altair-viz-552baaa4e0144f7bbfefc1e678429512\");\n",
              "    }\n",
              "    const paths = {\n",
              "      \"vega\": \"https://cdn.jsdelivr.net/npm//vega@5?noext\",\n",
              "      \"vega-lib\": \"https://cdn.jsdelivr.net/npm//vega-lib?noext\",\n",
              "      \"vega-lite\": \"https://cdn.jsdelivr.net/npm//vega-lite@4.8.1?noext\",\n",
              "      \"vega-embed\": \"https://cdn.jsdelivr.net/npm//vega-embed@6?noext\",\n",
              "    };\n",
              "\n",
              "    function loadScript(lib) {\n",
              "      return new Promise(function(resolve, reject) {\n",
              "        var s = document.createElement('script');\n",
              "        s.src = paths[lib];\n",
              "        s.async = true;\n",
              "        s.onload = () => resolve(paths[lib]);\n",
              "        s.onerror = () => reject(`Error loading script: ${paths[lib]}`);\n",
              "        document.getElementsByTagName(\"head\")[0].appendChild(s);\n",
              "      });\n",
              "    }\n",
              "\n",
              "    function showError(err) {\n",
              "      outputDiv.innerHTML = `<div class=\"error\" style=\"color:red;\">${err}</div>`;\n",
              "      throw err;\n",
              "    }\n",
              "\n",
              "    function displayChart(vegaEmbed) {\n",
              "      vegaEmbed(outputDiv, spec, embedOpt)\n",
              "        .catch(err => showError(`Javascript Error: ${err.message}<br>This usually means there's a typo in your chart specification. See the javascript console for the full traceback.`));\n",
              "    }\n",
              "\n",
              "    if(typeof define === \"function\" && define.amd) {\n",
              "      requirejs.config({paths});\n",
              "      require([\"vega-embed\"], displayChart, err => showError(`Error loading script: ${err.message}`));\n",
              "    } else if (typeof vegaEmbed === \"function\") {\n",
              "      displayChart(vegaEmbed);\n",
              "    } else {\n",
              "      loadScript(\"vega\")\n",
              "        .then(() => loadScript(\"vega-lite\"))\n",
              "        .then(() => loadScript(\"vega-embed\"))\n",
              "        .catch(showError)\n",
              "        .then(() => displayChart(vegaEmbed));\n",
              "    }\n",
              "  })({\"config\": {\"view\": {\"continuousWidth\": 400, \"continuousHeight\": 300}}, \"data\": {\"name\": \"data-590f927bfc91480716419e0bbd4a7c98\"}, \"mark\": \"bar\", \"encoding\": {\"x\": {\"type\": \"nominal\", \"field\": \"PrimaryType\"}, \"y\": {\"type\": \"quantitative\", \"field\": \"arrest_percentage\"}}, \"title\": \"2017\", \"$schema\": \"https://vega.github.io/schema/vega-lite/v4.8.1.json\", \"datasets\": {\"data-590f927bfc91480716419e0bbd4a7c98\": [{\"Year\": 2017, \"PrimaryType\": \"ARSON\", \"False\": 404.0, \"True\": 40.0, \"arrest_percentage\": 9.00900900900901}, {\"Year\": 2017, \"PrimaryType\": \"ASSAULT\", \"False\": 15845.0, \"True\": 3461.0, \"arrest_percentage\": 17.92706930487931}, {\"Year\": 2017, \"PrimaryType\": \"BATTERY\", \"False\": 39145.0, \"True\": 10089.0, \"arrest_percentage\": 20.491936466669376}, {\"Year\": 2017, \"PrimaryType\": \"BURGLARY\", \"False\": 12347.0, \"True\": 652.0, \"arrest_percentage\": 5.015770443880299}, {\"Year\": 2017, \"PrimaryType\": \"CONCEALED CARRY LICENSE VIOLATION\", \"False\": 3.0, \"True\": 66.0, \"arrest_percentage\": 95.65217391304348}, {\"Year\": 2017, \"PrimaryType\": \"CRIM SEXUAL ASSAULT\", \"False\": 1426.0, \"True\": 125.0, \"arrest_percentage\": 8.059316569954868}, {\"Year\": 2017, \"PrimaryType\": \"CRIMINAL DAMAGE\", \"False\": 27294.0, \"True\": 1750.0, \"arrest_percentage\": 6.025340862140201}, {\"Year\": 2017, \"PrimaryType\": \"CRIMINAL SEXUAL ASSAULT\", \"False\": 94.0, \"True\": 11.0, \"arrest_percentage\": 10.476190476190476}, {\"Year\": 2017, \"PrimaryType\": \"CRIMINAL TRESPASS\", \"False\": 2797.0, \"True\": 4018.0, \"arrest_percentage\": 58.95818048422598}, {\"Year\": 2017, \"PrimaryType\": \"DECEPTIVE PRACTICE\", \"False\": 18657.0, \"True\": 848.0, \"arrest_percentage\": 4.347603178672135}, {\"Year\": 2017, \"PrimaryType\": \"GAMBLING\", \"False\": null, \"True\": 191.0, \"arrest_percentage\": null}, {\"Year\": 2017, \"PrimaryType\": \"HOMICIDE\", \"False\": 479.0, \"True\": 195.0, \"arrest_percentage\": 28.931750741839764}, {\"Year\": 2017, \"PrimaryType\": \"HUMAN TRAFFICKING\", \"False\": 9.0, \"True\": 1.0, \"arrest_percentage\": 10.0}, {\"Year\": 2017, \"PrimaryType\": \"INTERFERENCE WITH PUBLIC OFFICER\", \"False\": 55.0, \"True\": 1032.0, \"arrest_percentage\": 94.94020239190432}, {\"Year\": 2017, \"PrimaryType\": \"INTIMIDATION\", \"False\": 136.0, \"True\": 14.0, \"arrest_percentage\": 9.333333333333334}, {\"Year\": 2017, \"PrimaryType\": \"KIDNAPPING\", \"False\": 173.0, \"True\": 17.0, \"arrest_percentage\": 8.947368421052632}, {\"Year\": 2017, \"PrimaryType\": \"LIQUOR LAW VIOLATION\", \"False\": null, \"True\": 191.0, \"arrest_percentage\": null}, {\"Year\": 2017, \"PrimaryType\": \"MOTOR VEHICLE THEFT\", \"False\": 10466.0, \"True\": 915.0, \"arrest_percentage\": 8.03971531499868}, {\"Year\": 2017, \"PrimaryType\": \"NARCOTICS\", \"False\": 6.0, \"True\": 11668.0, \"arrest_percentage\": 99.94860373479527}, {\"Year\": 2017, \"PrimaryType\": \"NON-CRIMINAL\", \"False\": 36.0, \"True\": 1.0, \"arrest_percentage\": 2.7027027027027026}, {\"Year\": 2017, \"PrimaryType\": \"NON-CRIMINAL (SUBJECT SPECIFIED)\", \"False\": 1.0, \"True\": 1.0, \"arrest_percentage\": 50.0}, {\"Year\": 2017, \"PrimaryType\": \"OBSCENITY\", \"False\": 20.0, \"True\": 66.0, \"arrest_percentage\": 76.74418604651163}, {\"Year\": 2017, \"PrimaryType\": \"OFFENSE INVOLVING CHILDREN\", \"False\": 1965.0, \"True\": 366.0, \"arrest_percentage\": 15.701415701415703}, {\"Year\": 2017, \"PrimaryType\": \"OTHER NARCOTIC VIOLATION\", \"False\": 4.0, \"True\": 7.0, \"arrest_percentage\": 63.63636363636363}, {\"Year\": 2017, \"PrimaryType\": \"OTHER OFFENSE\", \"False\": 13483.0, \"True\": 3775.0, \"arrest_percentage\": 21.873913547340365}, {\"Year\": 2017, \"PrimaryType\": \"PROSTITUTION\", \"False\": null, \"True\": 735.0, \"arrest_percentage\": null}, {\"Year\": 2017, \"PrimaryType\": \"PUBLIC INDECENCY\", \"False\": null, \"True\": 10.0, \"arrest_percentage\": null}, {\"Year\": 2017, \"PrimaryType\": \"PUBLIC PEACE VIOLATION\", \"False\": 476.0, \"True\": 1022.0, \"arrest_percentage\": 68.22429906542055}, {\"Year\": 2017, \"PrimaryType\": \"ROBBERY\", \"False\": 10960.0, \"True\": 920.0, \"arrest_percentage\": 7.744107744107744}, {\"Year\": 2017, \"PrimaryType\": \"SEX OFFENSE\", \"False\": 832.0, \"True\": 207.0, \"arrest_percentage\": 19.92300288739172}, {\"Year\": 2017, \"PrimaryType\": \"STALKING\", \"False\": 167.0, \"True\": 24.0, \"arrest_percentage\": 12.56544502617801}, {\"Year\": 2017, \"PrimaryType\": \"THEFT\", \"False\": 57902.0, \"True\": 6474.0, \"arrest_percentage\": 10.05654281098546}, {\"Year\": 2017, \"PrimaryType\": \"WEAPONS VIOLATION\", \"False\": 1009.0, \"True\": 3677.0, \"arrest_percentage\": 78.4677763551003}]}}, {\"mode\": \"vega-lite\"});\n",
              "</script>"
            ]
          },
          "metadata": {
            "tags": []
          }
        },
        {
          "output_type": "display_data",
          "data": {
            "text/plain": [
              "alt.Chart(...)"
            ],
            "text/html": [
              "\n",
              "<div id=\"altair-viz-fca9a2362d8a46f8937bc08d41b0daa5\"></div>\n",
              "<script type=\"text/javascript\">\n",
              "  (function(spec, embedOpt){\n",
              "    let outputDiv = document.currentScript.previousElementSibling;\n",
              "    if (outputDiv.id !== \"altair-viz-fca9a2362d8a46f8937bc08d41b0daa5\") {\n",
              "      outputDiv = document.getElementById(\"altair-viz-fca9a2362d8a46f8937bc08d41b0daa5\");\n",
              "    }\n",
              "    const paths = {\n",
              "      \"vega\": \"https://cdn.jsdelivr.net/npm//vega@5?noext\",\n",
              "      \"vega-lib\": \"https://cdn.jsdelivr.net/npm//vega-lib?noext\",\n",
              "      \"vega-lite\": \"https://cdn.jsdelivr.net/npm//vega-lite@4.8.1?noext\",\n",
              "      \"vega-embed\": \"https://cdn.jsdelivr.net/npm//vega-embed@6?noext\",\n",
              "    };\n",
              "\n",
              "    function loadScript(lib) {\n",
              "      return new Promise(function(resolve, reject) {\n",
              "        var s = document.createElement('script');\n",
              "        s.src = paths[lib];\n",
              "        s.async = true;\n",
              "        s.onload = () => resolve(paths[lib]);\n",
              "        s.onerror = () => reject(`Error loading script: ${paths[lib]}`);\n",
              "        document.getElementsByTagName(\"head\")[0].appendChild(s);\n",
              "      });\n",
              "    }\n",
              "\n",
              "    function showError(err) {\n",
              "      outputDiv.innerHTML = `<div class=\"error\" style=\"color:red;\">${err}</div>`;\n",
              "      throw err;\n",
              "    }\n",
              "\n",
              "    function displayChart(vegaEmbed) {\n",
              "      vegaEmbed(outputDiv, spec, embedOpt)\n",
              "        .catch(err => showError(`Javascript Error: ${err.message}<br>This usually means there's a typo in your chart specification. See the javascript console for the full traceback.`));\n",
              "    }\n",
              "\n",
              "    if(typeof define === \"function\" && define.amd) {\n",
              "      requirejs.config({paths});\n",
              "      require([\"vega-embed\"], displayChart, err => showError(`Error loading script: ${err.message}`));\n",
              "    } else if (typeof vegaEmbed === \"function\") {\n",
              "      displayChart(vegaEmbed);\n",
              "    } else {\n",
              "      loadScript(\"vega\")\n",
              "        .then(() => loadScript(\"vega-lite\"))\n",
              "        .then(() => loadScript(\"vega-embed\"))\n",
              "        .catch(showError)\n",
              "        .then(() => displayChart(vegaEmbed));\n",
              "    }\n",
              "  })({\"config\": {\"view\": {\"continuousWidth\": 400, \"continuousHeight\": 300}}, \"data\": {\"name\": \"data-4b210a850faccc33ec7648dd6db4f513\"}, \"mark\": \"bar\", \"encoding\": {\"x\": {\"type\": \"nominal\", \"field\": \"PrimaryType\"}, \"y\": {\"type\": \"quantitative\", \"field\": \"arrest_percentage\"}}, \"title\": \"2018\", \"$schema\": \"https://vega.github.io/schema/vega-lite/v4.8.1.json\", \"datasets\": {\"data-4b210a850faccc33ec7648dd6db4f513\": [{\"Year\": 2018, \"PrimaryType\": \"ARSON\", \"False\": 333.0, \"True\": 40.0, \"arrest_percentage\": 10.723860589812332}, {\"Year\": 2018, \"PrimaryType\": \"ASSAULT\", \"False\": 17041.0, \"True\": 3362.0, \"arrest_percentage\": 16.477968926138313}, {\"Year\": 2018, \"PrimaryType\": \"BATTERY\", \"False\": 39522.0, \"True\": 10291.0, \"arrest_percentage\": 20.659265653544256}, {\"Year\": 2018, \"PrimaryType\": \"BURGLARY\", \"False\": 11152.0, \"True\": 593.0, \"arrest_percentage\": 5.048957002979992}, {\"Year\": 2018, \"PrimaryType\": \"CONCEALED CARRY LICENSE VIOLATION\", \"False\": 4.0, \"True\": 145.0, \"arrest_percentage\": 97.31543624161074}, {\"Year\": 2018, \"PrimaryType\": \"CRIM SEXUAL ASSAULT\", \"False\": 1321.0, \"True\": 125.0, \"arrest_percentage\": 8.644536652835408}, {\"Year\": 2018, \"PrimaryType\": \"CRIMINAL DAMAGE\", \"False\": 26137.0, \"True\": 1686.0, \"arrest_percentage\": 6.059734751824031}, {\"Year\": 2018, \"PrimaryType\": \"CRIMINAL SEXUAL ASSAULT\", \"False\": 195.0, \"True\": 34.0, \"arrest_percentage\": 14.847161572052403}, {\"Year\": 2018, \"PrimaryType\": \"CRIMINAL TRESPASS\", \"False\": 3105.0, \"True\": 3802.0, \"arrest_percentage\": 55.04560590705082}, {\"Year\": 2018, \"PrimaryType\": \"DECEPTIVE PRACTICE\", \"False\": 18706.0, \"True\": 889.0, \"arrest_percentage\": 4.53687165093136}, {\"Year\": 2018, \"PrimaryType\": \"GAMBLING\", \"False\": null, \"True\": 201.0, \"arrest_percentage\": null}, {\"Year\": 2018, \"PrimaryType\": \"HOMICIDE\", \"False\": 374.0, \"True\": 226.0, \"arrest_percentage\": 37.666666666666664}, {\"Year\": 2018, \"PrimaryType\": \"HUMAN TRAFFICKING\", \"False\": 11.0, \"True\": 1.0, \"arrest_percentage\": 8.333333333333332}, {\"Year\": 2018, \"PrimaryType\": \"INTERFERENCE WITH PUBLIC OFFICER\", \"False\": 61.0, \"True\": 1245.0, \"arrest_percentage\": 95.32924961715162}, {\"Year\": 2018, \"PrimaryType\": \"INTIMIDATION\", \"False\": 156.0, \"True\": 13.0, \"arrest_percentage\": 7.6923076923076925}, {\"Year\": 2018, \"PrimaryType\": \"KIDNAPPING\", \"False\": 164.0, \"True\": 8.0, \"arrest_percentage\": 4.651162790697675}, {\"Year\": 2018, \"PrimaryType\": \"LIQUOR LAW VIOLATION\", \"False\": null, \"True\": 268.0, \"arrest_percentage\": null}, {\"Year\": 2018, \"PrimaryType\": \"MOTOR VEHICLE THEFT\", \"False\": 9433.0, \"True\": 549.0, \"arrest_percentage\": 5.499899819675416}, {\"Year\": 2018, \"PrimaryType\": \"NARCOTICS\", \"False\": 6.0, \"True\": 13571.0, \"arrest_percentage\": 99.95580761582087}, {\"Year\": 2018, \"PrimaryType\": \"NON-CRIMINAL\", \"False\": 34.0, \"True\": 2.0, \"arrest_percentage\": 5.555555555555555}, {\"Year\": 2018, \"PrimaryType\": \"NON-CRIMINAL (SUBJECT SPECIFIED)\", \"False\": 2.0, \"True\": 1.0, \"arrest_percentage\": 33.33333333333333}, {\"Year\": 2018, \"PrimaryType\": \"OBSCENITY\", \"False\": 18.0, \"True\": 69.0, \"arrest_percentage\": 79.3103448275862}, {\"Year\": 2018, \"PrimaryType\": \"OFFENSE INVOLVING CHILDREN\", \"False\": 1991.0, \"True\": 326.0, \"arrest_percentage\": 14.069917997410444}, {\"Year\": 2018, \"PrimaryType\": \"OTHER NARCOTIC VIOLATION\", \"False\": 1.0, \"True\": null, \"arrest_percentage\": null}, {\"Year\": 2018, \"PrimaryType\": \"OTHER OFFENSE\", \"False\": 13680.0, \"True\": 3574.0, \"arrest_percentage\": 20.714037324678337}, {\"Year\": 2018, \"PrimaryType\": \"PROSTITUTION\", \"False\": null, \"True\": 718.0, \"arrest_percentage\": null}, {\"Year\": 2018, \"PrimaryType\": \"PUBLIC INDECENCY\", \"False\": null, \"True\": 14.0, \"arrest_percentage\": null}, {\"Year\": 2018, \"PrimaryType\": \"PUBLIC PEACE VIOLATION\", \"False\": 546.0, \"True\": 826.0, \"arrest_percentage\": 60.204081632653065}, {\"Year\": 2018, \"PrimaryType\": \"ROBBERY\", \"False\": 8880.0, \"True\": 799.0, \"arrest_percentage\": 8.254985019113544}, {\"Year\": 2018, \"PrimaryType\": \"SEX OFFENSE\", \"False\": 935.0, \"True\": 220.0, \"arrest_percentage\": 19.047619047619047}, {\"Year\": 2018, \"PrimaryType\": \"STALKING\", \"False\": 186.0, \"True\": 21.0, \"arrest_percentage\": 10.144927536231885}, {\"Year\": 2018, \"PrimaryType\": \"THEFT\", \"False\": 58929.0, \"True\": 6339.0, \"arrest_percentage\": 9.712263283691854}, {\"Year\": 2018, \"PrimaryType\": \"WEAPONS VIOLATION\", \"False\": 1653.0, \"True\": 3803.0, \"arrest_percentage\": 69.70307917888563}]}}, {\"mode\": \"vega-lite\"});\n",
              "</script>"
            ]
          },
          "metadata": {
            "tags": []
          }
        },
        {
          "output_type": "display_data",
          "data": {
            "text/plain": [
              "alt.Chart(...)"
            ],
            "text/html": [
              "\n",
              "<div id=\"altair-viz-d23d79d353cc4b1cbe266adfd3d92968\"></div>\n",
              "<script type=\"text/javascript\">\n",
              "  (function(spec, embedOpt){\n",
              "    let outputDiv = document.currentScript.previousElementSibling;\n",
              "    if (outputDiv.id !== \"altair-viz-d23d79d353cc4b1cbe266adfd3d92968\") {\n",
              "      outputDiv = document.getElementById(\"altair-viz-d23d79d353cc4b1cbe266adfd3d92968\");\n",
              "    }\n",
              "    const paths = {\n",
              "      \"vega\": \"https://cdn.jsdelivr.net/npm//vega@5?noext\",\n",
              "      \"vega-lib\": \"https://cdn.jsdelivr.net/npm//vega-lib?noext\",\n",
              "      \"vega-lite\": \"https://cdn.jsdelivr.net/npm//vega-lite@4.8.1?noext\",\n",
              "      \"vega-embed\": \"https://cdn.jsdelivr.net/npm//vega-embed@6?noext\",\n",
              "    };\n",
              "\n",
              "    function loadScript(lib) {\n",
              "      return new Promise(function(resolve, reject) {\n",
              "        var s = document.createElement('script');\n",
              "        s.src = paths[lib];\n",
              "        s.async = true;\n",
              "        s.onload = () => resolve(paths[lib]);\n",
              "        s.onerror = () => reject(`Error loading script: ${paths[lib]}`);\n",
              "        document.getElementsByTagName(\"head\")[0].appendChild(s);\n",
              "      });\n",
              "    }\n",
              "\n",
              "    function showError(err) {\n",
              "      outputDiv.innerHTML = `<div class=\"error\" style=\"color:red;\">${err}</div>`;\n",
              "      throw err;\n",
              "    }\n",
              "\n",
              "    function displayChart(vegaEmbed) {\n",
              "      vegaEmbed(outputDiv, spec, embedOpt)\n",
              "        .catch(err => showError(`Javascript Error: ${err.message}<br>This usually means there's a typo in your chart specification. See the javascript console for the full traceback.`));\n",
              "    }\n",
              "\n",
              "    if(typeof define === \"function\" && define.amd) {\n",
              "      requirejs.config({paths});\n",
              "      require([\"vega-embed\"], displayChart, err => showError(`Error loading script: ${err.message}`));\n",
              "    } else if (typeof vegaEmbed === \"function\") {\n",
              "      displayChart(vegaEmbed);\n",
              "    } else {\n",
              "      loadScript(\"vega\")\n",
              "        .then(() => loadScript(\"vega-lite\"))\n",
              "        .then(() => loadScript(\"vega-embed\"))\n",
              "        .catch(showError)\n",
              "        .then(() => displayChart(vegaEmbed));\n",
              "    }\n",
              "  })({\"config\": {\"view\": {\"continuousWidth\": 400, \"continuousHeight\": 300}}, \"data\": {\"name\": \"data-dee056a1bb4ce42312c88d8fd4482ac2\"}, \"mark\": \"bar\", \"encoding\": {\"x\": {\"type\": \"nominal\", \"field\": \"PrimaryType\"}, \"y\": {\"type\": \"quantitative\", \"field\": \"arrest_percentage\"}}, \"title\": \"2019\", \"$schema\": \"https://vega.github.io/schema/vega-lite/v4.8.1.json\", \"datasets\": {\"data-dee056a1bb4ce42312c88d8fd4482ac2\": [{\"Year\": 2019, \"PrimaryType\": \"ARSON\", \"False\": 333.0, \"True\": 42.0, \"arrest_percentage\": 11.200000000000001}, {\"Year\": 2019, \"PrimaryType\": \"ASSAULT\", \"False\": 16877.0, \"True\": 3740.0, \"arrest_percentage\": 18.140369597904645}, {\"Year\": 2019, \"PrimaryType\": \"BATTERY\", \"False\": 39112.0, \"True\": 10387.0, \"arrest_percentage\": 20.98426230832946}, {\"Year\": 2019, \"PrimaryType\": \"BURGLARY\", \"False\": 9104.0, \"True\": 532.0, \"arrest_percentage\": 5.520963055209631}, {\"Year\": 2019, \"PrimaryType\": \"CONCEALED CARRY LICENSE VIOLATION\", \"False\": 5.0, \"True\": 212.0, \"arrest_percentage\": 97.6958525345622}, {\"Year\": 2019, \"PrimaryType\": \"CRIM SEXUAL ASSAULT\", \"False\": 866.0, \"True\": 68.0, \"arrest_percentage\": 7.28051391862955}, {\"Year\": 2019, \"PrimaryType\": \"CRIMINAL DAMAGE\", \"False\": 25010.0, \"True\": 1670.0, \"arrest_percentage\": 6.259370314842578}, {\"Year\": 2019, \"PrimaryType\": \"CRIMINAL SEXUAL ASSAULT\", \"False\": 626.0, \"True\": 51.0, \"arrest_percentage\": 7.533234859675036}, {\"Year\": 2019, \"PrimaryType\": \"CRIMINAL TRESPASS\", \"False\": 3025.0, \"True\": 3793.0, \"arrest_percentage\": 55.632150190671744}, {\"Year\": 2019, \"PrimaryType\": \"DECEPTIVE PRACTICE\", \"False\": 17766.0, \"True\": 876.0, \"arrest_percentage\": 4.699066623752817}, {\"Year\": 2019, \"PrimaryType\": \"GAMBLING\", \"False\": null, \"True\": 142.0, \"arrest_percentage\": null}, {\"Year\": 2019, \"PrimaryType\": \"HOMICIDE\", \"False\": 344.0, \"True\": 160.0, \"arrest_percentage\": 31.746031746031743}, {\"Year\": 2019, \"PrimaryType\": \"HUMAN TRAFFICKING\", \"False\": 14.0, \"True\": null, \"arrest_percentage\": null}, {\"Year\": 2019, \"PrimaryType\": \"INTERFERENCE WITH PUBLIC OFFICER\", \"False\": 60.0, \"True\": 1486.0, \"arrest_percentage\": 96.11901681759379}, {\"Year\": 2019, \"PrimaryType\": \"INTIMIDATION\", \"False\": 157.0, \"True\": 6.0, \"arrest_percentage\": 3.6809815950920246}, {\"Year\": 2019, \"PrimaryType\": \"KIDNAPPING\", \"False\": 161.0, \"True\": 11.0, \"arrest_percentage\": 6.395348837209303}, {\"Year\": 2019, \"PrimaryType\": \"LIQUOR LAW VIOLATION\", \"False\": null, \"True\": 232.0, \"arrest_percentage\": null}, {\"Year\": 2019, \"PrimaryType\": \"MOTOR VEHICLE THEFT\", \"False\": 8455.0, \"True\": 519.0, \"arrest_percentage\": 5.783374192110542}, {\"Year\": 2019, \"PrimaryType\": \"NARCOTICS\", \"False\": 5.0, \"True\": 15055.0, \"arrest_percentage\": 99.9667994687915}, {\"Year\": 2019, \"PrimaryType\": \"NON-CRIMINAL\", \"False\": 3.0, \"True\": 1.0, \"arrest_percentage\": 25.0}, {\"Year\": 2019, \"PrimaryType\": \"OBSCENITY\", \"False\": 14.0, \"True\": 46.0, \"arrest_percentage\": 76.66666666666667}, {\"Year\": 2019, \"PrimaryType\": \"OFFENSE INVOLVING CHILDREN\", \"False\": 2015.0, \"True\": 320.0, \"arrest_percentage\": 13.704496788008566}, {\"Year\": 2019, \"PrimaryType\": \"OTHER NARCOTIC VIOLATION\", \"False\": 3.0, \"True\": 5.0, \"arrest_percentage\": 62.5}, {\"Year\": 2019, \"PrimaryType\": \"OTHER OFFENSE\", \"False\": 13054.0, \"True\": 3698.0, \"arrest_percentage\": 22.074976122254057}, {\"Year\": 2019, \"PrimaryType\": \"PROSTITUTION\", \"False\": null, \"True\": 680.0, \"arrest_percentage\": null}, {\"Year\": 2019, \"PrimaryType\": \"PUBLIC INDECENCY\", \"False\": null, \"True\": 11.0, \"arrest_percentage\": null}, {\"Year\": 2019, \"PrimaryType\": \"PUBLIC PEACE VIOLATION\", \"False\": 450.0, \"True\": 1070.0, \"arrest_percentage\": 70.39473684210526}, {\"Year\": 2019, \"PrimaryType\": \"ROBBERY\", \"False\": 7294.0, \"True\": 698.0, \"arrest_percentage\": 8.733733733733734}, {\"Year\": 2019, \"PrimaryType\": \"SEX OFFENSE\", \"False\": 1162.0, \"True\": 166.0, \"arrest_percentage\": 12.5}, {\"Year\": 2019, \"PrimaryType\": \"STALKING\", \"False\": 188.0, \"True\": 36.0, \"arrest_percentage\": 16.071428571428573}, {\"Year\": 2019, \"PrimaryType\": \"THEFT\", \"False\": 56340.0, \"True\": 6102.0, \"arrest_percentage\": 9.772268665321418}, {\"Year\": 2019, \"PrimaryType\": \"WEAPONS VIOLATION\", \"False\": 2114.0, \"True\": 4225.0, \"arrest_percentage\": 66.65089130777724}]}}, {\"mode\": \"vega-lite\"});\n",
              "</script>"
            ]
          },
          "metadata": {
            "tags": []
          }
        },
        {
          "output_type": "display_data",
          "data": {
            "text/plain": [
              "alt.Chart(...)"
            ],
            "text/html": [
              "\n",
              "<div id=\"altair-viz-e3826d1bdaf8406f9fee35414ad88570\"></div>\n",
              "<script type=\"text/javascript\">\n",
              "  (function(spec, embedOpt){\n",
              "    let outputDiv = document.currentScript.previousElementSibling;\n",
              "    if (outputDiv.id !== \"altair-viz-e3826d1bdaf8406f9fee35414ad88570\") {\n",
              "      outputDiv = document.getElementById(\"altair-viz-e3826d1bdaf8406f9fee35414ad88570\");\n",
              "    }\n",
              "    const paths = {\n",
              "      \"vega\": \"https://cdn.jsdelivr.net/npm//vega@5?noext\",\n",
              "      \"vega-lib\": \"https://cdn.jsdelivr.net/npm//vega-lib?noext\",\n",
              "      \"vega-lite\": \"https://cdn.jsdelivr.net/npm//vega-lite@4.8.1?noext\",\n",
              "      \"vega-embed\": \"https://cdn.jsdelivr.net/npm//vega-embed@6?noext\",\n",
              "    };\n",
              "\n",
              "    function loadScript(lib) {\n",
              "      return new Promise(function(resolve, reject) {\n",
              "        var s = document.createElement('script');\n",
              "        s.src = paths[lib];\n",
              "        s.async = true;\n",
              "        s.onload = () => resolve(paths[lib]);\n",
              "        s.onerror = () => reject(`Error loading script: ${paths[lib]}`);\n",
              "        document.getElementsByTagName(\"head\")[0].appendChild(s);\n",
              "      });\n",
              "    }\n",
              "\n",
              "    function showError(err) {\n",
              "      outputDiv.innerHTML = `<div class=\"error\" style=\"color:red;\">${err}</div>`;\n",
              "      throw err;\n",
              "    }\n",
              "\n",
              "    function displayChart(vegaEmbed) {\n",
              "      vegaEmbed(outputDiv, spec, embedOpt)\n",
              "        .catch(err => showError(`Javascript Error: ${err.message}<br>This usually means there's a typo in your chart specification. See the javascript console for the full traceback.`));\n",
              "    }\n",
              "\n",
              "    if(typeof define === \"function\" && define.amd) {\n",
              "      requirejs.config({paths});\n",
              "      require([\"vega-embed\"], displayChart, err => showError(`Error loading script: ${err.message}`));\n",
              "    } else if (typeof vegaEmbed === \"function\") {\n",
              "      displayChart(vegaEmbed);\n",
              "    } else {\n",
              "      loadScript(\"vega\")\n",
              "        .then(() => loadScript(\"vega-lite\"))\n",
              "        .then(() => loadScript(\"vega-embed\"))\n",
              "        .catch(showError)\n",
              "        .then(() => displayChart(vegaEmbed));\n",
              "    }\n",
              "  })({\"config\": {\"view\": {\"continuousWidth\": 400, \"continuousHeight\": 300}}, \"data\": {\"name\": \"data-b7e571345901fa67f9c5625d8d98e5d9\"}, \"mark\": \"bar\", \"encoding\": {\"x\": {\"type\": \"nominal\", \"field\": \"PrimaryType\"}, \"y\": {\"type\": \"quantitative\", \"field\": \"arrest_percentage\"}}, \"title\": \"2020\", \"$schema\": \"https://vega.github.io/schema/vega-lite/v4.8.1.json\", \"datasets\": {\"data-b7e571345901fa67f9c5625d8d98e5d9\": [{\"Year\": 2020, \"PrimaryType\": \"ARSON\", \"False\": 547.0, \"True\": 37.0, \"arrest_percentage\": 6.335616438356165}, {\"Year\": 2020, \"PrimaryType\": \"ASSAULT\", \"False\": 15913.0, \"True\": 2312.0, \"arrest_percentage\": 12.685871056241426}, {\"Year\": 2020, \"PrimaryType\": \"BATTERY\", \"False\": 34630.0, \"True\": 6824.0, \"arrest_percentage\": 16.461620109036524}, {\"Year\": 2020, \"PrimaryType\": \"BURGLARY\", \"False\": 8269.0, \"True\": 459.0, \"arrest_percentage\": 5.258936755270394}, {\"Year\": 2020, \"PrimaryType\": \"CONCEALED CARRY LICENSE VIOLATION\", \"False\": 4.0, \"True\": 144.0, \"arrest_percentage\": 97.2972972972973}, {\"Year\": 2020, \"PrimaryType\": \"CRIM SEXUAL ASSAULT\", \"False\": 74.0, \"True\": 3.0, \"arrest_percentage\": 3.896103896103896}, {\"Year\": 2020, \"PrimaryType\": \"CRIMINAL DAMAGE\", \"False\": 23660.0, \"True\": 1176.0, \"arrest_percentage\": 4.735062006764374}, {\"Year\": 2020, \"PrimaryType\": \"CRIMINAL SEXUAL ASSAULT\", \"False\": 1048.0, \"True\": 40.0, \"arrest_percentage\": 3.6764705882352944}, {\"Year\": 2020, \"PrimaryType\": \"CRIMINAL TRESPASS\", \"False\": 2461.0, \"True\": 1706.0, \"arrest_percentage\": 40.94072474202064}, {\"Year\": 2020, \"PrimaryType\": \"DECEPTIVE PRACTICE\", \"False\": 17080.0, \"True\": 348.0, \"arrest_percentage\": 1.9967867798944228}, {\"Year\": 2020, \"PrimaryType\": \"GAMBLING\", \"False\": null, \"True\": 25.0, \"arrest_percentage\": null}, {\"Year\": 2020, \"PrimaryType\": \"HOMICIDE\", \"False\": 546.0, \"True\": 241.0, \"arrest_percentage\": 30.62261753494282}, {\"Year\": 2020, \"PrimaryType\": \"HUMAN TRAFFICKING\", \"False\": 4.0, \"True\": null, \"arrest_percentage\": null}, {\"Year\": 2020, \"PrimaryType\": \"INTERFERENCE WITH PUBLIC OFFICER\", \"False\": 52.0, \"True\": 602.0, \"arrest_percentage\": 92.04892966360856}, {\"Year\": 2020, \"PrimaryType\": \"INTIMIDATION\", \"False\": 156.0, \"True\": 5.0, \"arrest_percentage\": 3.1055900621118013}, {\"Year\": 2020, \"PrimaryType\": \"KIDNAPPING\", \"False\": 111.0, \"True\": 8.0, \"arrest_percentage\": 6.722689075630252}, {\"Year\": 2020, \"PrimaryType\": \"LIQUOR LAW VIOLATION\", \"False\": null, \"True\": 143.0, \"arrest_percentage\": null}, {\"Year\": 2020, \"PrimaryType\": \"MOTOR VEHICLE THEFT\", \"False\": 9478.0, \"True\": 460.0, \"arrest_percentage\": 4.62869792714832}, {\"Year\": 2020, \"PrimaryType\": \"NARCOTICS\", \"False\": 3.0, \"True\": 7333.0, \"arrest_percentage\": 99.95910577971647}, {\"Year\": 2020, \"PrimaryType\": \"NON-CRIMINAL\", \"False\": 1.0, \"True\": null, \"arrest_percentage\": null}, {\"Year\": 2020, \"PrimaryType\": \"OBSCENITY\", \"False\": 7.0, \"True\": 44.0, \"arrest_percentage\": 86.27450980392157}, {\"Year\": 2020, \"PrimaryType\": \"OFFENSE INVOLVING CHILDREN\", \"False\": 1700.0, \"True\": 181.0, \"arrest_percentage\": 9.62254120148857}, {\"Year\": 2020, \"PrimaryType\": \"OTHER NARCOTIC VIOLATION\", \"False\": 2.0, \"True\": 4.0, \"arrest_percentage\": 66.66666666666666}, {\"Year\": 2020, \"PrimaryType\": \"OTHER OFFENSE\", \"False\": 10707.0, \"True\": 1765.0, \"arrest_percentage\": 14.151699807568955}, {\"Year\": 2020, \"PrimaryType\": \"PROSTITUTION\", \"False\": 2.0, \"True\": 274.0, \"arrest_percentage\": 99.27536231884058}, {\"Year\": 2020, \"PrimaryType\": \"PUBLIC INDECENCY\", \"False\": null, \"True\": 9.0, \"arrest_percentage\": null}, {\"Year\": 2020, \"PrimaryType\": \"PUBLIC PEACE VIOLATION\", \"False\": 814.0, \"True\": 454.0, \"arrest_percentage\": 35.80441640378549}, {\"Year\": 2020, \"PrimaryType\": \"RITUALISM\", \"False\": 1.0, \"True\": null, \"arrest_percentage\": null}, {\"Year\": 2020, \"PrimaryType\": \"ROBBERY\", \"False\": 7335.0, \"True\": 529.0, \"arrest_percentage\": 6.7268565615462865}, {\"Year\": 2020, \"PrimaryType\": \"SEX OFFENSE\", \"False\": 831.0, \"True\": 78.0, \"arrest_percentage\": 8.58085808580858}, {\"Year\": 2020, \"PrimaryType\": \"STALKING\", \"False\": 183.0, \"True\": 13.0, \"arrest_percentage\": 6.63265306122449}, {\"Year\": 2020, \"PrimaryType\": \"THEFT\", \"False\": 38312.0, \"True\": 2775.0, \"arrest_percentage\": 6.753961106919464}, {\"Year\": 2020, \"PrimaryType\": \"WEAPONS VIOLATION\", \"False\": 2985.0, \"True\": 5439.0, \"arrest_percentage\": 64.56552706552706}]}}, {\"mode\": \"vega-lite\"});\n",
              "</script>"
            ]
          },
          "metadata": {
            "tags": []
          }
        },
        {
          "output_type": "display_data",
          "data": {
            "text/plain": [
              "alt.Chart(...)"
            ],
            "text/html": [
              "\n",
              "<div id=\"altair-viz-10c3358873724affb41a7940d356a388\"></div>\n",
              "<script type=\"text/javascript\">\n",
              "  (function(spec, embedOpt){\n",
              "    let outputDiv = document.currentScript.previousElementSibling;\n",
              "    if (outputDiv.id !== \"altair-viz-10c3358873724affb41a7940d356a388\") {\n",
              "      outputDiv = document.getElementById(\"altair-viz-10c3358873724affb41a7940d356a388\");\n",
              "    }\n",
              "    const paths = {\n",
              "      \"vega\": \"https://cdn.jsdelivr.net/npm//vega@5?noext\",\n",
              "      \"vega-lib\": \"https://cdn.jsdelivr.net/npm//vega-lib?noext\",\n",
              "      \"vega-lite\": \"https://cdn.jsdelivr.net/npm//vega-lite@4.8.1?noext\",\n",
              "      \"vega-embed\": \"https://cdn.jsdelivr.net/npm//vega-embed@6?noext\",\n",
              "    };\n",
              "\n",
              "    function loadScript(lib) {\n",
              "      return new Promise(function(resolve, reject) {\n",
              "        var s = document.createElement('script');\n",
              "        s.src = paths[lib];\n",
              "        s.async = true;\n",
              "        s.onload = () => resolve(paths[lib]);\n",
              "        s.onerror = () => reject(`Error loading script: ${paths[lib]}`);\n",
              "        document.getElementsByTagName(\"head\")[0].appendChild(s);\n",
              "      });\n",
              "    }\n",
              "\n",
              "    function showError(err) {\n",
              "      outputDiv.innerHTML = `<div class=\"error\" style=\"color:red;\">${err}</div>`;\n",
              "      throw err;\n",
              "    }\n",
              "\n",
              "    function displayChart(vegaEmbed) {\n",
              "      vegaEmbed(outputDiv, spec, embedOpt)\n",
              "        .catch(err => showError(`Javascript Error: ${err.message}<br>This usually means there's a typo in your chart specification. See the javascript console for the full traceback.`));\n",
              "    }\n",
              "\n",
              "    if(typeof define === \"function\" && define.amd) {\n",
              "      requirejs.config({paths});\n",
              "      require([\"vega-embed\"], displayChart, err => showError(`Error loading script: ${err.message}`));\n",
              "    } else if (typeof vegaEmbed === \"function\") {\n",
              "      displayChart(vegaEmbed);\n",
              "    } else {\n",
              "      loadScript(\"vega\")\n",
              "        .then(() => loadScript(\"vega-lite\"))\n",
              "        .then(() => loadScript(\"vega-embed\"))\n",
              "        .catch(showError)\n",
              "        .then(() => displayChart(vegaEmbed));\n",
              "    }\n",
              "  })({\"config\": {\"view\": {\"continuousWidth\": 400, \"continuousHeight\": 300}}, \"data\": {\"name\": \"data-abd09124e8a83db561102cfcfa0f1992\"}, \"mark\": \"bar\", \"encoding\": {\"x\": {\"type\": \"nominal\", \"field\": \"PrimaryType\"}, \"y\": {\"type\": \"quantitative\", \"field\": \"arrest_percentage\"}}, \"title\": \"2021\", \"$schema\": \"https://vega.github.io/schema/vega-lite/v4.8.1.json\", \"datasets\": {\"data-abd09124e8a83db561102cfcfa0f1992\": [{\"Year\": 2021, \"PrimaryType\": \"ARSON\", \"False\": 71.0, \"True\": 5.0, \"arrest_percentage\": 6.578947368421052}, {\"Year\": 2021, \"PrimaryType\": \"ASSAULT\", \"False\": 2882.0, \"True\": 301.0, \"arrest_percentage\": 9.456487590323594}, {\"Year\": 2021, \"PrimaryType\": \"BATTERY\", \"False\": 5500.0, \"True\": 973.0, \"arrest_percentage\": 15.03167001390391}, {\"Year\": 2021, \"PrimaryType\": \"BURGLARY\", \"False\": 969.0, \"True\": 25.0, \"arrest_percentage\": 2.5150905432595576}, {\"Year\": 2021, \"PrimaryType\": \"CONCEALED CARRY LICENSE VIOLATION\", \"False\": 1.0, \"True\": 31.0, \"arrest_percentage\": 96.875}, {\"Year\": 2021, \"PrimaryType\": \"CRIMINAL DAMAGE\", \"False\": 3761.0, \"True\": 167.0, \"arrest_percentage\": 4.25152749490835}, {\"Year\": 2021, \"PrimaryType\": \"CRIMINAL SEXUAL ASSAULT\", \"False\": 206.0, \"True\": 1.0, \"arrest_percentage\": 0.4830917874396135}, {\"Year\": 2021, \"PrimaryType\": \"CRIMINAL TRESPASS\", \"False\": 359.0, \"True\": 239.0, \"arrest_percentage\": 39.96655518394649}, {\"Year\": 2021, \"PrimaryType\": \"DECEPTIVE PRACTICE\", \"False\": 4256.0, \"True\": 28.0, \"arrest_percentage\": 0.6535947712418301}, {\"Year\": 2021, \"PrimaryType\": \"GAMBLING\", \"False\": null, \"True\": 1.0, \"arrest_percentage\": null}, {\"Year\": 2021, \"PrimaryType\": \"HOMICIDE\", \"False\": 88.0, \"True\": 16.0, \"arrest_percentage\": 15.384615384615385}, {\"Year\": 2021, \"PrimaryType\": \"HUMAN TRAFFICKING\", \"False\": 1.0, \"True\": null, \"arrest_percentage\": null}, {\"Year\": 2021, \"PrimaryType\": \"INTERFERENCE WITH PUBLIC OFFICER\", \"False\": 8.0, \"True\": 59.0, \"arrest_percentage\": 88.05970149253731}, {\"Year\": 2021, \"PrimaryType\": \"INTIMIDATION\", \"False\": 16.0, \"True\": 1.0, \"arrest_percentage\": 5.88235294117647}, {\"Year\": 2021, \"PrimaryType\": \"KIDNAPPING\", \"False\": 12.0, \"True\": null, \"arrest_percentage\": null}, {\"Year\": 2021, \"PrimaryType\": \"LIQUOR LAW VIOLATION\", \"False\": null, \"True\": 23.0, \"arrest_percentage\": null}, {\"Year\": 2021, \"PrimaryType\": \"MOTOR VEHICLE THEFT\", \"False\": 1669.0, \"True\": 67.0, \"arrest_percentage\": 3.859447004608295}, {\"Year\": 2021, \"PrimaryType\": \"NARCOTICS\", \"False\": null, \"True\": 983.0, \"arrest_percentage\": null}, {\"Year\": 2021, \"PrimaryType\": \"NON-CRIMINAL\", \"False\": 1.0, \"True\": null, \"arrest_percentage\": null}, {\"Year\": 2021, \"PrimaryType\": \"OBSCENITY\", \"False\": 2.0, \"True\": 15.0, \"arrest_percentage\": 88.23529411764706}, {\"Year\": 2021, \"PrimaryType\": \"OFFENSE INVOLVING CHILDREN\", \"False\": 309.0, \"True\": 18.0, \"arrest_percentage\": 5.5045871559633035}, {\"Year\": 2021, \"PrimaryType\": \"OTHER OFFENSE\", \"False\": 2023.0, \"True\": 295.0, \"arrest_percentage\": 12.726488352027609}, {\"Year\": 2021, \"PrimaryType\": \"PROSTITUTION\", \"False\": null, \"True\": 16.0, \"arrest_percentage\": null}, {\"Year\": 2021, \"PrimaryType\": \"PUBLIC INDECENCY\", \"False\": null, \"True\": 2.0, \"arrest_percentage\": null}, {\"Year\": 2021, \"PrimaryType\": \"PUBLIC PEACE VIOLATION\", \"False\": 59.0, \"True\": 37.0, \"arrest_percentage\": 38.54166666666667}, {\"Year\": 2021, \"PrimaryType\": \"ROBBERY\", \"False\": 1370.0, \"True\": 63.0, \"arrest_percentage\": 4.3963712491277045}, {\"Year\": 2021, \"PrimaryType\": \"SEX OFFENSE\", \"False\": 160.0, \"True\": 6.0, \"arrest_percentage\": 3.614457831325301}, {\"Year\": 2021, \"PrimaryType\": \"STALKING\", \"False\": 49.0, \"True\": 3.0, \"arrest_percentage\": 5.769230769230769}, {\"Year\": 2021, \"PrimaryType\": \"THEFT\", \"False\": 5422.0, \"True\": 288.0, \"arrest_percentage\": 5.0437828371278455}, {\"Year\": 2021, \"PrimaryType\": \"WEAPONS VIOLATION\", \"False\": 492.0, \"True\": 1005.0, \"arrest_percentage\": 67.13426853707415}]}}, {\"mode\": \"vega-lite\"});\n",
              "</script>"
            ]
          },
          "metadata": {
            "tags": []
          }
        }
      ]
    },
    {
      "cell_type": "markdown",
      "metadata": {
        "id": "9OlPTgnNDaHS"
      },
      "source": [
        "#### Visualize findings by crime type"
      ]
    },
    {
      "cell_type": "code",
      "metadata": {
        "id": "yBeW9XbbDTJH",
        "colab": {
          "base_uri": "https://localhost:8080/",
          "height": 1000
        },
        "outputId": "40b18270-3dc4-4203-c45a-9de2dc7efaf8"
      },
      "source": [
        "# create a list with all the crime types\n",
        "crime_test = year_crime_pivot['PrimaryType'].to_list()\n",
        "\n",
        "crimeList = []\n",
        "for crime in crime_test:\n",
        "  if crime not in crimeList:\n",
        "    crimeList.append(crime)\n",
        "\n",
        "#loop through crime list to create charts \n",
        "for crime in crimeList:\n",
        "  chart = alt.Chart(year_crime_pivot.loc[year_crime_pivot.PrimaryType==crime]).mark_bar().encode(\n",
        "    x='Year',\n",
        "    y='arrest_percentage',\n",
        "  ).properties(\n",
        "    title = str(crime),\n",
        ")\n",
        "  chart.display()"
      ],
      "execution_count": null,
      "outputs": [
        {
          "output_type": "display_data",
          "data": {
            "text/plain": [
              "alt.Chart(...)"
            ],
            "text/html": [
              "\n",
              "<div id=\"altair-viz-567d8944e20b43cba54319d7f49fd3c6\"></div>\n",
              "<script type=\"text/javascript\">\n",
              "  (function(spec, embedOpt){\n",
              "    let outputDiv = document.currentScript.previousElementSibling;\n",
              "    if (outputDiv.id !== \"altair-viz-567d8944e20b43cba54319d7f49fd3c6\") {\n",
              "      outputDiv = document.getElementById(\"altair-viz-567d8944e20b43cba54319d7f49fd3c6\");\n",
              "    }\n",
              "    const paths = {\n",
              "      \"vega\": \"https://cdn.jsdelivr.net/npm//vega@5?noext\",\n",
              "      \"vega-lib\": \"https://cdn.jsdelivr.net/npm//vega-lib?noext\",\n",
              "      \"vega-lite\": \"https://cdn.jsdelivr.net/npm//vega-lite@4.8.1?noext\",\n",
              "      \"vega-embed\": \"https://cdn.jsdelivr.net/npm//vega-embed@6?noext\",\n",
              "    };\n",
              "\n",
              "    function loadScript(lib) {\n",
              "      return new Promise(function(resolve, reject) {\n",
              "        var s = document.createElement('script');\n",
              "        s.src = paths[lib];\n",
              "        s.async = true;\n",
              "        s.onload = () => resolve(paths[lib]);\n",
              "        s.onerror = () => reject(`Error loading script: ${paths[lib]}`);\n",
              "        document.getElementsByTagName(\"head\")[0].appendChild(s);\n",
              "      });\n",
              "    }\n",
              "\n",
              "    function showError(err) {\n",
              "      outputDiv.innerHTML = `<div class=\"error\" style=\"color:red;\">${err}</div>`;\n",
              "      throw err;\n",
              "    }\n",
              "\n",
              "    function displayChart(vegaEmbed) {\n",
              "      vegaEmbed(outputDiv, spec, embedOpt)\n",
              "        .catch(err => showError(`Javascript Error: ${err.message}<br>This usually means there's a typo in your chart specification. See the javascript console for the full traceback.`));\n",
              "    }\n",
              "\n",
              "    if(typeof define === \"function\" && define.amd) {\n",
              "      requirejs.config({paths});\n",
              "      require([\"vega-embed\"], displayChart, err => showError(`Error loading script: ${err.message}`));\n",
              "    } else if (typeof vegaEmbed === \"function\") {\n",
              "      displayChart(vegaEmbed);\n",
              "    } else {\n",
              "      loadScript(\"vega\")\n",
              "        .then(() => loadScript(\"vega-lite\"))\n",
              "        .then(() => loadScript(\"vega-embed\"))\n",
              "        .catch(showError)\n",
              "        .then(() => displayChart(vegaEmbed));\n",
              "    }\n",
              "  })({\"config\": {\"view\": {\"continuousWidth\": 400, \"continuousHeight\": 300}}, \"data\": {\"name\": \"data-8ec756d610d6b99fb816bd1f65e16c40\"}, \"mark\": \"bar\", \"encoding\": {\"x\": {\"type\": \"quantitative\", \"field\": \"Year\"}, \"y\": {\"type\": \"quantitative\", \"field\": \"arrest_percentage\"}}, \"title\": \"ARSON\", \"$schema\": \"https://vega.github.io/schema/vega-lite/v4.8.1.json\", \"datasets\": {\"data-8ec756d610d6b99fb816bd1f65e16c40\": [{\"Year\": 2001, \"PrimaryType\": \"ARSON\", \"False\": 829.0, \"True\": 181.0, \"arrest_percentage\": 17.92079207920792}, {\"Year\": 2002, \"PrimaryType\": \"ARSON\", \"False\": 876.0, \"True\": 156.0, \"arrest_percentage\": 15.11627906976744}, {\"Year\": 2003, \"PrimaryType\": \"ARSON\", \"False\": 815.0, \"True\": 140.0, \"arrest_percentage\": 14.659685863874344}, {\"Year\": 2004, \"PrimaryType\": \"ARSON\", \"False\": 669.0, \"True\": 109.0, \"arrest_percentage\": 14.010282776349614}, {\"Year\": 2005, \"PrimaryType\": \"ARSON\", \"False\": 570.0, \"True\": 121.0, \"arrest_percentage\": 17.51085383502171}, {\"Year\": 2006, \"PrimaryType\": \"ARSON\", \"False\": 609.0, \"True\": 117.0, \"arrest_percentage\": 16.115702479338843}, {\"Year\": 2007, \"PrimaryType\": \"ARSON\", \"False\": 619.0, \"True\": 93.0, \"arrest_percentage\": 13.06179775280899}, {\"Year\": 2008, \"PrimaryType\": \"ARSON\", \"False\": 585.0, \"True\": 59.0, \"arrest_percentage\": 9.161490683229815}, {\"Year\": 2009, \"PrimaryType\": \"ARSON\", \"False\": 547.0, \"True\": 69.0, \"arrest_percentage\": 11.2012987012987}, {\"Year\": 2010, \"PrimaryType\": \"ARSON\", \"False\": 456.0, \"True\": 66.0, \"arrest_percentage\": 12.643678160919542}, {\"Year\": 2011, \"PrimaryType\": \"ARSON\", \"False\": 456.0, \"True\": 48.0, \"arrest_percentage\": 9.523809523809524}, {\"Year\": 2012, \"PrimaryType\": \"ARSON\", \"False\": 423.0, \"True\": 46.0, \"arrest_percentage\": 9.808102345415778}, {\"Year\": 2013, \"PrimaryType\": \"ARSON\", \"False\": 318.0, \"True\": 46.0, \"arrest_percentage\": 12.637362637362637}, {\"Year\": 2014, \"PrimaryType\": \"ARSON\", \"False\": 363.0, \"True\": 34.0, \"arrest_percentage\": 8.564231738035264}, {\"Year\": 2015, \"PrimaryType\": \"ARSON\", \"False\": 401.0, \"True\": 52.0, \"arrest_percentage\": 11.479028697571744}, {\"Year\": 2016, \"PrimaryType\": \"ARSON\", \"False\": 463.0, \"True\": 53.0, \"arrest_percentage\": 10.271317829457365}, {\"Year\": 2017, \"PrimaryType\": \"ARSON\", \"False\": 404.0, \"True\": 40.0, \"arrest_percentage\": 9.00900900900901}, {\"Year\": 2018, \"PrimaryType\": \"ARSON\", \"False\": 333.0, \"True\": 40.0, \"arrest_percentage\": 10.723860589812332}, {\"Year\": 2019, \"PrimaryType\": \"ARSON\", \"False\": 333.0, \"True\": 42.0, \"arrest_percentage\": 11.200000000000001}, {\"Year\": 2020, \"PrimaryType\": \"ARSON\", \"False\": 547.0, \"True\": 37.0, \"arrest_percentage\": 6.335616438356165}, {\"Year\": 2021, \"PrimaryType\": \"ARSON\", \"False\": 71.0, \"True\": 5.0, \"arrest_percentage\": 6.578947368421052}]}}, {\"mode\": \"vega-lite\"});\n",
              "</script>"
            ]
          },
          "metadata": {
            "tags": []
          }
        },
        {
          "output_type": "display_data",
          "data": {
            "text/plain": [
              "alt.Chart(...)"
            ],
            "text/html": [
              "\n",
              "<div id=\"altair-viz-88e7808e24ce41e5b68491d519053974\"></div>\n",
              "<script type=\"text/javascript\">\n",
              "  (function(spec, embedOpt){\n",
              "    let outputDiv = document.currentScript.previousElementSibling;\n",
              "    if (outputDiv.id !== \"altair-viz-88e7808e24ce41e5b68491d519053974\") {\n",
              "      outputDiv = document.getElementById(\"altair-viz-88e7808e24ce41e5b68491d519053974\");\n",
              "    }\n",
              "    const paths = {\n",
              "      \"vega\": \"https://cdn.jsdelivr.net/npm//vega@5?noext\",\n",
              "      \"vega-lib\": \"https://cdn.jsdelivr.net/npm//vega-lib?noext\",\n",
              "      \"vega-lite\": \"https://cdn.jsdelivr.net/npm//vega-lite@4.8.1?noext\",\n",
              "      \"vega-embed\": \"https://cdn.jsdelivr.net/npm//vega-embed@6?noext\",\n",
              "    };\n",
              "\n",
              "    function loadScript(lib) {\n",
              "      return new Promise(function(resolve, reject) {\n",
              "        var s = document.createElement('script');\n",
              "        s.src = paths[lib];\n",
              "        s.async = true;\n",
              "        s.onload = () => resolve(paths[lib]);\n",
              "        s.onerror = () => reject(`Error loading script: ${paths[lib]}`);\n",
              "        document.getElementsByTagName(\"head\")[0].appendChild(s);\n",
              "      });\n",
              "    }\n",
              "\n",
              "    function showError(err) {\n",
              "      outputDiv.innerHTML = `<div class=\"error\" style=\"color:red;\">${err}</div>`;\n",
              "      throw err;\n",
              "    }\n",
              "\n",
              "    function displayChart(vegaEmbed) {\n",
              "      vegaEmbed(outputDiv, spec, embedOpt)\n",
              "        .catch(err => showError(`Javascript Error: ${err.message}<br>This usually means there's a typo in your chart specification. See the javascript console for the full traceback.`));\n",
              "    }\n",
              "\n",
              "    if(typeof define === \"function\" && define.amd) {\n",
              "      requirejs.config({paths});\n",
              "      require([\"vega-embed\"], displayChart, err => showError(`Error loading script: ${err.message}`));\n",
              "    } else if (typeof vegaEmbed === \"function\") {\n",
              "      displayChart(vegaEmbed);\n",
              "    } else {\n",
              "      loadScript(\"vega\")\n",
              "        .then(() => loadScript(\"vega-lite\"))\n",
              "        .then(() => loadScript(\"vega-embed\"))\n",
              "        .catch(showError)\n",
              "        .then(() => displayChart(vegaEmbed));\n",
              "    }\n",
              "  })({\"config\": {\"view\": {\"continuousWidth\": 400, \"continuousHeight\": 300}}, \"data\": {\"name\": \"data-cf9a6751c678dc7fd8306b8e4d8b557d\"}, \"mark\": \"bar\", \"encoding\": {\"x\": {\"type\": \"quantitative\", \"field\": \"Year\"}, \"y\": {\"type\": \"quantitative\", \"field\": \"arrest_percentage\"}}, \"title\": \"ASSAULT\", \"$schema\": \"https://vega.github.io/schema/vega-lite/v4.8.1.json\", \"datasets\": {\"data-cf9a6751c678dc7fd8306b8e4d8b557d\": [{\"Year\": 2001, \"PrimaryType\": \"ASSAULT\", \"False\": 24234.0, \"True\": 7150.0, \"arrest_percentage\": 22.78230945704818}, {\"Year\": 2002, \"PrimaryType\": \"ASSAULT\", \"False\": 24179.0, \"True\": 7342.0, \"arrest_percentage\": 23.292408235779323}, {\"Year\": 2003, \"PrimaryType\": \"ASSAULT\", \"False\": 22567.0, \"True\": 6910.0, \"arrest_percentage\": 23.442005631509314}, {\"Year\": 2004, \"PrimaryType\": \"ASSAULT\", \"False\": 21845.0, \"True\": 7005.0, \"arrest_percentage\": 24.280762564991335}, {\"Year\": 2005, \"PrimaryType\": \"ASSAULT\", \"False\": 20435.0, \"True\": 6631.0, \"arrest_percentage\": 24.499371905711964}, {\"Year\": 2006, \"PrimaryType\": \"ASSAULT\", \"False\": 19657.0, \"True\": 6288.0, \"arrest_percentage\": 24.235883599922914}, {\"Year\": 2007, \"PrimaryType\": \"ASSAULT\", \"False\": 19762.0, \"True\": 6551.0, \"arrest_percentage\": 24.89643902253639}, {\"Year\": 2008, \"PrimaryType\": \"ASSAULT\", \"False\": 20131.0, \"True\": 5316.0, \"arrest_percentage\": 20.890478248909496}, {\"Year\": 2009, \"PrimaryType\": \"ASSAULT\", \"False\": 17161.0, \"True\": 5700.0, \"arrest_percentage\": 24.93329250688946}, {\"Year\": 2010, \"PrimaryType\": \"ASSAULT\", \"False\": 16486.0, \"True\": 5051.0, \"arrest_percentage\": 23.45266285926545}, {\"Year\": 2011, \"PrimaryType\": \"ASSAULT\", \"False\": 15225.0, \"True\": 5186.0, \"arrest_percentage\": 25.407868306305424}, {\"Year\": 2012, \"PrimaryType\": \"ASSAULT\", \"False\": 15107.0, \"True\": 4792.0, \"arrest_percentage\": 24.08161214131363}, {\"Year\": 2013, \"PrimaryType\": \"ASSAULT\", \"False\": 13506.0, \"True\": 4466.0, \"arrest_percentage\": 24.849766303138214}, {\"Year\": 2014, \"PrimaryType\": \"ASSAULT\", \"False\": 12397.0, \"True\": 4506.0, \"arrest_percentage\": 26.657989705969353}, {\"Year\": 2015, \"PrimaryType\": \"ASSAULT\", \"False\": 12988.0, \"True\": 4058.0, \"arrest_percentage\": 23.806171535844186}, {\"Year\": 2016, \"PrimaryType\": \"ASSAULT\", \"False\": 15250.0, \"True\": 3491.0, \"arrest_percentage\": 18.627607918467532}, {\"Year\": 2017, \"PrimaryType\": \"ASSAULT\", \"False\": 15845.0, \"True\": 3461.0, \"arrest_percentage\": 17.92706930487931}, {\"Year\": 2018, \"PrimaryType\": \"ASSAULT\", \"False\": 17041.0, \"True\": 3362.0, \"arrest_percentage\": 16.477968926138313}, {\"Year\": 2019, \"PrimaryType\": \"ASSAULT\", \"False\": 16877.0, \"True\": 3740.0, \"arrest_percentage\": 18.140369597904645}, {\"Year\": 2020, \"PrimaryType\": \"ASSAULT\", \"False\": 15913.0, \"True\": 2312.0, \"arrest_percentage\": 12.685871056241426}, {\"Year\": 2021, \"PrimaryType\": \"ASSAULT\", \"False\": 2882.0, \"True\": 301.0, \"arrest_percentage\": 9.456487590323594}]}}, {\"mode\": \"vega-lite\"});\n",
              "</script>"
            ]
          },
          "metadata": {
            "tags": []
          }
        },
        {
          "output_type": "display_data",
          "data": {
            "text/plain": [
              "alt.Chart(...)"
            ],
            "text/html": [
              "\n",
              "<div id=\"altair-viz-fd22f6850de449a4a820bd62970e4140\"></div>\n",
              "<script type=\"text/javascript\">\n",
              "  (function(spec, embedOpt){\n",
              "    let outputDiv = document.currentScript.previousElementSibling;\n",
              "    if (outputDiv.id !== \"altair-viz-fd22f6850de449a4a820bd62970e4140\") {\n",
              "      outputDiv = document.getElementById(\"altair-viz-fd22f6850de449a4a820bd62970e4140\");\n",
              "    }\n",
              "    const paths = {\n",
              "      \"vega\": \"https://cdn.jsdelivr.net/npm//vega@5?noext\",\n",
              "      \"vega-lib\": \"https://cdn.jsdelivr.net/npm//vega-lib?noext\",\n",
              "      \"vega-lite\": \"https://cdn.jsdelivr.net/npm//vega-lite@4.8.1?noext\",\n",
              "      \"vega-embed\": \"https://cdn.jsdelivr.net/npm//vega-embed@6?noext\",\n",
              "    };\n",
              "\n",
              "    function loadScript(lib) {\n",
              "      return new Promise(function(resolve, reject) {\n",
              "        var s = document.createElement('script');\n",
              "        s.src = paths[lib];\n",
              "        s.async = true;\n",
              "        s.onload = () => resolve(paths[lib]);\n",
              "        s.onerror = () => reject(`Error loading script: ${paths[lib]}`);\n",
              "        document.getElementsByTagName(\"head\")[0].appendChild(s);\n",
              "      });\n",
              "    }\n",
              "\n",
              "    function showError(err) {\n",
              "      outputDiv.innerHTML = `<div class=\"error\" style=\"color:red;\">${err}</div>`;\n",
              "      throw err;\n",
              "    }\n",
              "\n",
              "    function displayChart(vegaEmbed) {\n",
              "      vegaEmbed(outputDiv, spec, embedOpt)\n",
              "        .catch(err => showError(`Javascript Error: ${err.message}<br>This usually means there's a typo in your chart specification. See the javascript console for the full traceback.`));\n",
              "    }\n",
              "\n",
              "    if(typeof define === \"function\" && define.amd) {\n",
              "      requirejs.config({paths});\n",
              "      require([\"vega-embed\"], displayChart, err => showError(`Error loading script: ${err.message}`));\n",
              "    } else if (typeof vegaEmbed === \"function\") {\n",
              "      displayChart(vegaEmbed);\n",
              "    } else {\n",
              "      loadScript(\"vega\")\n",
              "        .then(() => loadScript(\"vega-lite\"))\n",
              "        .then(() => loadScript(\"vega-embed\"))\n",
              "        .catch(showError)\n",
              "        .then(() => displayChart(vegaEmbed));\n",
              "    }\n",
              "  })({\"config\": {\"view\": {\"continuousWidth\": 400, \"continuousHeight\": 300}}, \"data\": {\"name\": \"data-8f69d0c139eec7a5cd25e106f785649c\"}, \"mark\": \"bar\", \"encoding\": {\"x\": {\"type\": \"quantitative\", \"field\": \"Year\"}, \"y\": {\"type\": \"quantitative\", \"field\": \"arrest_percentage\"}}, \"title\": \"BATTERY\", \"$schema\": \"https://vega.github.io/schema/vega-lite/v4.8.1.json\", \"datasets\": {\"data-8f69d0c139eec7a5cd25e106f785649c\": [{\"Year\": 2001, \"PrimaryType\": \"BATTERY\", \"False\": 72985.0, \"True\": 20463.0, \"arrest_percentage\": 21.89773991952744}, {\"Year\": 2002, \"PrimaryType\": \"BATTERY\", \"False\": 72820.0, \"True\": 21330.0, \"arrest_percentage\": 22.655337227827935}, {\"Year\": 2003, \"PrimaryType\": \"BATTERY\", \"False\": 67920.0, \"True\": 20459.0, \"arrest_percentage\": 23.149164394256555}, {\"Year\": 2004, \"PrimaryType\": \"BATTERY\", \"False\": 66418.0, \"True\": 20718.0, \"arrest_percentage\": 23.77662504590525}, {\"Year\": 2005, \"PrimaryType\": \"BATTERY\", \"False\": 63970.0, \"True\": 19994.0, \"arrest_percentage\": 23.812586346529464}, {\"Year\": 2006, \"PrimaryType\": \"BATTERY\", \"False\": 61773.0, \"True\": 18892.0, \"arrest_percentage\": 23.420318601624}, {\"Year\": 2007, \"PrimaryType\": \"BATTERY\", \"False\": 60208.0, \"True\": 19386.0, \"arrest_percentage\": 24.356107244264642}, {\"Year\": 2008, \"PrimaryType\": \"BATTERY\", \"False\": 60404.0, \"True\": 15520.0, \"arrest_percentage\": 20.44149412570465}, {\"Year\": 2009, \"PrimaryType\": \"BATTERY\", \"False\": 52138.0, \"True\": 16324.0, \"arrest_percentage\": 23.843884198533495}, {\"Year\": 2010, \"PrimaryType\": \"BATTERY\", \"False\": 51125.0, \"True\": 14278.0, \"arrest_percentage\": 21.830802868369954}, {\"Year\": 2011, \"PrimaryType\": \"BATTERY\", \"False\": 46320.0, \"True\": 14139.0, \"arrest_percentage\": 23.386096362824393}, {\"Year\": 2012, \"PrimaryType\": \"BATTERY\", \"False\": 46076.0, \"True\": 13063.0, \"arrest_percentage\": 22.08863863102183}, {\"Year\": 2013, \"PrimaryType\": \"BATTERY\", \"False\": 41076.0, \"True\": 12929.0, \"arrest_percentage\": 23.940375891121192}, {\"Year\": 2014, \"PrimaryType\": \"BATTERY\", \"False\": 36930.0, \"True\": 12520.0, \"arrest_percentage\": 25.318503538928212}, {\"Year\": 2015, \"PrimaryType\": \"BATTERY\", \"False\": 37358.0, \"True\": 11559.0, \"arrest_percentage\": 23.6298219432917}, {\"Year\": 2016, \"PrimaryType\": \"BATTERY\", \"False\": 39963.0, \"True\": 10333.0, \"arrest_percentage\": 20.544377286464133}, {\"Year\": 2017, \"PrimaryType\": \"BATTERY\", \"False\": 39145.0, \"True\": 10089.0, \"arrest_percentage\": 20.491936466669376}, {\"Year\": 2018, \"PrimaryType\": \"BATTERY\", \"False\": 39522.0, \"True\": 10291.0, \"arrest_percentage\": 20.659265653544256}, {\"Year\": 2019, \"PrimaryType\": \"BATTERY\", \"False\": 39112.0, \"True\": 10387.0, \"arrest_percentage\": 20.98426230832946}, {\"Year\": 2020, \"PrimaryType\": \"BATTERY\", \"False\": 34630.0, \"True\": 6824.0, \"arrest_percentage\": 16.461620109036524}, {\"Year\": 2021, \"PrimaryType\": \"BATTERY\", \"False\": 5500.0, \"True\": 973.0, \"arrest_percentage\": 15.03167001390391}]}}, {\"mode\": \"vega-lite\"});\n",
              "</script>"
            ]
          },
          "metadata": {
            "tags": []
          }
        },
        {
          "output_type": "display_data",
          "data": {
            "text/plain": [
              "alt.Chart(...)"
            ],
            "text/html": [
              "\n",
              "<div id=\"altair-viz-97a8b50e85cd4480a0b681cd6ab11907\"></div>\n",
              "<script type=\"text/javascript\">\n",
              "  (function(spec, embedOpt){\n",
              "    let outputDiv = document.currentScript.previousElementSibling;\n",
              "    if (outputDiv.id !== \"altair-viz-97a8b50e85cd4480a0b681cd6ab11907\") {\n",
              "      outputDiv = document.getElementById(\"altair-viz-97a8b50e85cd4480a0b681cd6ab11907\");\n",
              "    }\n",
              "    const paths = {\n",
              "      \"vega\": \"https://cdn.jsdelivr.net/npm//vega@5?noext\",\n",
              "      \"vega-lib\": \"https://cdn.jsdelivr.net/npm//vega-lib?noext\",\n",
              "      \"vega-lite\": \"https://cdn.jsdelivr.net/npm//vega-lite@4.8.1?noext\",\n",
              "      \"vega-embed\": \"https://cdn.jsdelivr.net/npm//vega-embed@6?noext\",\n",
              "    };\n",
              "\n",
              "    function loadScript(lib) {\n",
              "      return new Promise(function(resolve, reject) {\n",
              "        var s = document.createElement('script');\n",
              "        s.src = paths[lib];\n",
              "        s.async = true;\n",
              "        s.onload = () => resolve(paths[lib]);\n",
              "        s.onerror = () => reject(`Error loading script: ${paths[lib]}`);\n",
              "        document.getElementsByTagName(\"head\")[0].appendChild(s);\n",
              "      });\n",
              "    }\n",
              "\n",
              "    function showError(err) {\n",
              "      outputDiv.innerHTML = `<div class=\"error\" style=\"color:red;\">${err}</div>`;\n",
              "      throw err;\n",
              "    }\n",
              "\n",
              "    function displayChart(vegaEmbed) {\n",
              "      vegaEmbed(outputDiv, spec, embedOpt)\n",
              "        .catch(err => showError(`Javascript Error: ${err.message}<br>This usually means there's a typo in your chart specification. See the javascript console for the full traceback.`));\n",
              "    }\n",
              "\n",
              "    if(typeof define === \"function\" && define.amd) {\n",
              "      requirejs.config({paths});\n",
              "      require([\"vega-embed\"], displayChart, err => showError(`Error loading script: ${err.message}`));\n",
              "    } else if (typeof vegaEmbed === \"function\") {\n",
              "      displayChart(vegaEmbed);\n",
              "    } else {\n",
              "      loadScript(\"vega\")\n",
              "        .then(() => loadScript(\"vega-lite\"))\n",
              "        .then(() => loadScript(\"vega-embed\"))\n",
              "        .catch(showError)\n",
              "        .then(() => displayChart(vegaEmbed));\n",
              "    }\n",
              "  })({\"config\": {\"view\": {\"continuousWidth\": 400, \"continuousHeight\": 300}}, \"data\": {\"name\": \"data-d61b639ff9ac45b2cbf2921f823c8ab5\"}, \"mark\": \"bar\", \"encoding\": {\"x\": {\"type\": \"quantitative\", \"field\": \"Year\"}, \"y\": {\"type\": \"quantitative\", \"field\": \"arrest_percentage\"}}, \"title\": \"BURGLARY\", \"$schema\": \"https://vega.github.io/schema/vega-lite/v4.8.1.json\", \"datasets\": {\"data-d61b639ff9ac45b2cbf2921f823c8ab5\": [{\"Year\": 2001, \"PrimaryType\": \"BURGLARY\", \"False\": 24320.0, \"True\": 1693.0, \"arrest_percentage\": 6.508284319378772}, {\"Year\": 2002, \"PrimaryType\": \"BURGLARY\", \"False\": 23956.0, \"True\": 1667.0, \"arrest_percentage\": 6.5058736291613}, {\"Year\": 2003, \"PrimaryType\": \"BURGLARY\", \"False\": 23545.0, \"True\": 1611.0, \"arrest_percentage\": 6.404038797901097}, {\"Year\": 2004, \"PrimaryType\": \"BURGLARY\", \"False\": 23187.0, \"True\": 1377.0, \"arrest_percentage\": 5.6057645334636055}, {\"Year\": 2005, \"PrimaryType\": \"BURGLARY\", \"False\": 24090.0, \"True\": 1413.0, \"arrest_percentage\": 5.54052464415951}, {\"Year\": 2006, \"PrimaryType\": \"BURGLARY\", \"False\": 22763.0, \"True\": 1561.0, \"arrest_percentage\": 6.417530011511265}, {\"Year\": 2007, \"PrimaryType\": \"BURGLARY\", \"False\": 23306.0, \"True\": 1552.0, \"arrest_percentage\": 6.243462869096468}, {\"Year\": 2008, \"PrimaryType\": \"BURGLARY\", \"False\": 24664.0, \"True\": 1554.0, \"arrest_percentage\": 5.927225570218933}, {\"Year\": 2009, \"PrimaryType\": \"BURGLARY\", \"False\": 25353.0, \"True\": 1414.0, \"arrest_percentage\": 5.282624126723204}, {\"Year\": 2010, \"PrimaryType\": \"BURGLARY\", \"False\": 25040.0, \"True\": 1382.0, \"arrest_percentage\": 5.230489743395656}, {\"Year\": 2011, \"PrimaryType\": \"BURGLARY\", \"False\": 25348.0, \"True\": 1272.0, \"arrest_percentage\": 4.778362133734035}, {\"Year\": 2012, \"PrimaryType\": \"BURGLARY\", \"False\": 21556.0, \"True\": 1289.0, \"arrest_percentage\": 5.6423725103961475}, {\"Year\": 2013, \"PrimaryType\": \"BURGLARY\", \"False\": 16791.0, \"True\": 1104.0, \"arrest_percentage\": 6.16932103939648}, {\"Year\": 2014, \"PrimaryType\": \"BURGLARY\", \"False\": 13658.0, \"True\": 911.0, \"arrest_percentage\": 6.253002951472304}, {\"Year\": 2015, \"PrimaryType\": \"BURGLARY\", \"False\": 12457.0, \"True\": 727.0, \"arrest_percentage\": 5.514259708737864}, {\"Year\": 2016, \"PrimaryType\": \"BURGLARY\", \"False\": 13588.0, \"True\": 699.0, \"arrest_percentage\": 4.892559669629733}, {\"Year\": 2017, \"PrimaryType\": \"BURGLARY\", \"False\": 12347.0, \"True\": 652.0, \"arrest_percentage\": 5.015770443880299}, {\"Year\": 2018, \"PrimaryType\": \"BURGLARY\", \"False\": 11152.0, \"True\": 593.0, \"arrest_percentage\": 5.048957002979992}, {\"Year\": 2019, \"PrimaryType\": \"BURGLARY\", \"False\": 9104.0, \"True\": 532.0, \"arrest_percentage\": 5.520963055209631}, {\"Year\": 2020, \"PrimaryType\": \"BURGLARY\", \"False\": 8269.0, \"True\": 459.0, \"arrest_percentage\": 5.258936755270394}, {\"Year\": 2021, \"PrimaryType\": \"BURGLARY\", \"False\": 969.0, \"True\": 25.0, \"arrest_percentage\": 2.5150905432595576}]}}, {\"mode\": \"vega-lite\"});\n",
              "</script>"
            ]
          },
          "metadata": {
            "tags": []
          }
        },
        {
          "output_type": "display_data",
          "data": {
            "text/plain": [
              "alt.Chart(...)"
            ],
            "text/html": [
              "\n",
              "<div id=\"altair-viz-930eb728182b4d85b55811e76ba2a0b6\"></div>\n",
              "<script type=\"text/javascript\">\n",
              "  (function(spec, embedOpt){\n",
              "    let outputDiv = document.currentScript.previousElementSibling;\n",
              "    if (outputDiv.id !== \"altair-viz-930eb728182b4d85b55811e76ba2a0b6\") {\n",
              "      outputDiv = document.getElementById(\"altair-viz-930eb728182b4d85b55811e76ba2a0b6\");\n",
              "    }\n",
              "    const paths = {\n",
              "      \"vega\": \"https://cdn.jsdelivr.net/npm//vega@5?noext\",\n",
              "      \"vega-lib\": \"https://cdn.jsdelivr.net/npm//vega-lib?noext\",\n",
              "      \"vega-lite\": \"https://cdn.jsdelivr.net/npm//vega-lite@4.8.1?noext\",\n",
              "      \"vega-embed\": \"https://cdn.jsdelivr.net/npm//vega-embed@6?noext\",\n",
              "    };\n",
              "\n",
              "    function loadScript(lib) {\n",
              "      return new Promise(function(resolve, reject) {\n",
              "        var s = document.createElement('script');\n",
              "        s.src = paths[lib];\n",
              "        s.async = true;\n",
              "        s.onload = () => resolve(paths[lib]);\n",
              "        s.onerror = () => reject(`Error loading script: ${paths[lib]}`);\n",
              "        document.getElementsByTagName(\"head\")[0].appendChild(s);\n",
              "      });\n",
              "    }\n",
              "\n",
              "    function showError(err) {\n",
              "      outputDiv.innerHTML = `<div class=\"error\" style=\"color:red;\">${err}</div>`;\n",
              "      throw err;\n",
              "    }\n",
              "\n",
              "    function displayChart(vegaEmbed) {\n",
              "      vegaEmbed(outputDiv, spec, embedOpt)\n",
              "        .catch(err => showError(`Javascript Error: ${err.message}<br>This usually means there's a typo in your chart specification. See the javascript console for the full traceback.`));\n",
              "    }\n",
              "\n",
              "    if(typeof define === \"function\" && define.amd) {\n",
              "      requirejs.config({paths});\n",
              "      require([\"vega-embed\"], displayChart, err => showError(`Error loading script: ${err.message}`));\n",
              "    } else if (typeof vegaEmbed === \"function\") {\n",
              "      displayChart(vegaEmbed);\n",
              "    } else {\n",
              "      loadScript(\"vega\")\n",
              "        .then(() => loadScript(\"vega-lite\"))\n",
              "        .then(() => loadScript(\"vega-embed\"))\n",
              "        .catch(showError)\n",
              "        .then(() => displayChart(vegaEmbed));\n",
              "    }\n",
              "  })({\"config\": {\"view\": {\"continuousWidth\": 400, \"continuousHeight\": 300}}, \"data\": {\"name\": \"data-2d93edbada6c076e79f0035792d3f913\"}, \"mark\": \"bar\", \"encoding\": {\"x\": {\"type\": \"quantitative\", \"field\": \"Year\"}, \"y\": {\"type\": \"quantitative\", \"field\": \"arrest_percentage\"}}, \"title\": \"CRIM SEXUAL ASSAULT\", \"$schema\": \"https://vega.github.io/schema/vega-lite/v4.8.1.json\", \"datasets\": {\"data-2d93edbada6c076e79f0035792d3f913\": [{\"Year\": 2001, \"PrimaryType\": \"CRIM SEXUAL ASSAULT\", \"False\": 1374.0, \"True\": 410.0, \"arrest_percentage\": 22.982062780269057}, {\"Year\": 2002, \"PrimaryType\": \"CRIM SEXUAL ASSAULT\", \"False\": 1411.0, \"True\": 402.0, \"arrest_percentage\": 22.173193601765032}, {\"Year\": 2003, \"PrimaryType\": \"CRIM SEXUAL ASSAULT\", \"False\": 1270.0, \"True\": 311.0, \"arrest_percentage\": 19.671094244149273}, {\"Year\": 2004, \"PrimaryType\": \"CRIM SEXUAL ASSAULT\", \"False\": 1236.0, \"True\": 316.0, \"arrest_percentage\": 20.36082474226804}, {\"Year\": 2005, \"PrimaryType\": \"CRIM SEXUAL ASSAULT\", \"False\": 1257.0, \"True\": 278.0, \"arrest_percentage\": 18.11074918566775}, {\"Year\": 2006, \"PrimaryType\": \"CRIM SEXUAL ASSAULT\", \"False\": 1204.0, \"True\": 244.0, \"arrest_percentage\": 16.85082872928177}, {\"Year\": 2007, \"PrimaryType\": \"CRIM SEXUAL ASSAULT\", \"False\": 1295.0, \"True\": 224.0, \"arrest_percentage\": 14.746543778801843}, {\"Year\": 2008, \"PrimaryType\": \"CRIM SEXUAL ASSAULT\", \"False\": 1256.0, \"True\": 273.0, \"arrest_percentage\": 17.854807063440155}, {\"Year\": 2009, \"PrimaryType\": \"CRIM SEXUAL ASSAULT\", \"False\": 1188.0, \"True\": 231.0, \"arrest_percentage\": 16.27906976744186}, {\"Year\": 2010, \"PrimaryType\": \"CRIM SEXUAL ASSAULT\", \"False\": 1108.0, \"True\": 241.0, \"arrest_percentage\": 17.865085248332097}, {\"Year\": 2011, \"PrimaryType\": \"CRIM SEXUAL ASSAULT\", \"False\": 1246.0, \"True\": 229.0, \"arrest_percentage\": 15.525423728813559}, {\"Year\": 2012, \"PrimaryType\": \"CRIM SEXUAL ASSAULT\", \"False\": 1202.0, \"True\": 211.0, \"arrest_percentage\": 14.932767162066526}, {\"Year\": 2013, \"PrimaryType\": \"CRIM SEXUAL ASSAULT\", \"False\": 1058.0, \"True\": 232.0, \"arrest_percentage\": 17.984496124031008}, {\"Year\": 2014, \"PrimaryType\": \"CRIM SEXUAL ASSAULT\", \"False\": 1145.0, \"True\": 185.0, \"arrest_percentage\": 13.909774436090224}, {\"Year\": 2015, \"PrimaryType\": \"CRIM SEXUAL ASSAULT\", \"False\": 1216.0, \"True\": 163.0, \"arrest_percentage\": 11.820159535895575}, {\"Year\": 2016, \"PrimaryType\": \"CRIM SEXUAL ASSAULT\", \"False\": 1373.0, \"True\": 148.0, \"arrest_percentage\": 9.73044049967127}, {\"Year\": 2017, \"PrimaryType\": \"CRIM SEXUAL ASSAULT\", \"False\": 1426.0, \"True\": 125.0, \"arrest_percentage\": 8.059316569954868}, {\"Year\": 2018, \"PrimaryType\": \"CRIM SEXUAL ASSAULT\", \"False\": 1321.0, \"True\": 125.0, \"arrest_percentage\": 8.644536652835408}, {\"Year\": 2019, \"PrimaryType\": \"CRIM SEXUAL ASSAULT\", \"False\": 866.0, \"True\": 68.0, \"arrest_percentage\": 7.28051391862955}, {\"Year\": 2020, \"PrimaryType\": \"CRIM SEXUAL ASSAULT\", \"False\": 74.0, \"True\": 3.0, \"arrest_percentage\": 3.896103896103896}]}}, {\"mode\": \"vega-lite\"});\n",
              "</script>"
            ]
          },
          "metadata": {
            "tags": []
          }
        },
        {
          "output_type": "display_data",
          "data": {
            "text/plain": [
              "alt.Chart(...)"
            ],
            "text/html": [
              "\n",
              "<div id=\"altair-viz-4836b4aacc60427cac87ef9fd91af1fe\"></div>\n",
              "<script type=\"text/javascript\">\n",
              "  (function(spec, embedOpt){\n",
              "    let outputDiv = document.currentScript.previousElementSibling;\n",
              "    if (outputDiv.id !== \"altair-viz-4836b4aacc60427cac87ef9fd91af1fe\") {\n",
              "      outputDiv = document.getElementById(\"altair-viz-4836b4aacc60427cac87ef9fd91af1fe\");\n",
              "    }\n",
              "    const paths = {\n",
              "      \"vega\": \"https://cdn.jsdelivr.net/npm//vega@5?noext\",\n",
              "      \"vega-lib\": \"https://cdn.jsdelivr.net/npm//vega-lib?noext\",\n",
              "      \"vega-lite\": \"https://cdn.jsdelivr.net/npm//vega-lite@4.8.1?noext\",\n",
              "      \"vega-embed\": \"https://cdn.jsdelivr.net/npm//vega-embed@6?noext\",\n",
              "    };\n",
              "\n",
              "    function loadScript(lib) {\n",
              "      return new Promise(function(resolve, reject) {\n",
              "        var s = document.createElement('script');\n",
              "        s.src = paths[lib];\n",
              "        s.async = true;\n",
              "        s.onload = () => resolve(paths[lib]);\n",
              "        s.onerror = () => reject(`Error loading script: ${paths[lib]}`);\n",
              "        document.getElementsByTagName(\"head\")[0].appendChild(s);\n",
              "      });\n",
              "    }\n",
              "\n",
              "    function showError(err) {\n",
              "      outputDiv.innerHTML = `<div class=\"error\" style=\"color:red;\">${err}</div>`;\n",
              "      throw err;\n",
              "    }\n",
              "\n",
              "    function displayChart(vegaEmbed) {\n",
              "      vegaEmbed(outputDiv, spec, embedOpt)\n",
              "        .catch(err => showError(`Javascript Error: ${err.message}<br>This usually means there's a typo in your chart specification. See the javascript console for the full traceback.`));\n",
              "    }\n",
              "\n",
              "    if(typeof define === \"function\" && define.amd) {\n",
              "      requirejs.config({paths});\n",
              "      require([\"vega-embed\"], displayChart, err => showError(`Error loading script: ${err.message}`));\n",
              "    } else if (typeof vegaEmbed === \"function\") {\n",
              "      displayChart(vegaEmbed);\n",
              "    } else {\n",
              "      loadScript(\"vega\")\n",
              "        .then(() => loadScript(\"vega-lite\"))\n",
              "        .then(() => loadScript(\"vega-embed\"))\n",
              "        .catch(showError)\n",
              "        .then(() => displayChart(vegaEmbed));\n",
              "    }\n",
              "  })({\"config\": {\"view\": {\"continuousWidth\": 400, \"continuousHeight\": 300}}, \"data\": {\"name\": \"data-59b1e9772356effd9e423d43990e4f86\"}, \"mark\": \"bar\", \"encoding\": {\"x\": {\"type\": \"quantitative\", \"field\": \"Year\"}, \"y\": {\"type\": \"quantitative\", \"field\": \"arrest_percentage\"}}, \"title\": \"CRIMINAL DAMAGE\", \"$schema\": \"https://vega.github.io/schema/vega-lite/v4.8.1.json\", \"datasets\": {\"data-59b1e9772356effd9e423d43990e4f86\": [{\"Year\": 2001, \"PrimaryType\": \"CRIMINAL DAMAGE\", \"False\": 51305.0, \"True\": 4548.0, \"arrest_percentage\": 8.14280343043346}, {\"Year\": 2002, \"PrimaryType\": \"CRIMINAL DAMAGE\", \"False\": 51537.0, \"True\": 4403.0, \"arrest_percentage\": 7.8709331426528415}, {\"Year\": 2003, \"PrimaryType\": \"CRIMINAL DAMAGE\", \"False\": 50951.0, \"True\": 4060.0, \"arrest_percentage\": 7.3803421133955025}, {\"Year\": 2004, \"PrimaryType\": \"CRIMINAL DAMAGE\", \"False\": 49199.0, \"True\": 3965.0, \"arrest_percentage\": 7.4580543224738545}, {\"Year\": 2005, \"PrimaryType\": \"CRIMINAL DAMAGE\", \"False\": 50465.0, \"True\": 4083.0, \"arrest_percentage\": 7.485150692967661}, {\"Year\": 2006, \"PrimaryType\": \"CRIMINAL DAMAGE\", \"False\": 52989.0, \"True\": 4135.0, \"arrest_percentage\": 7.23863875078776}, {\"Year\": 2007, \"PrimaryType\": \"CRIMINAL DAMAGE\", \"False\": 49755.0, \"True\": 3994.0, \"arrest_percentage\": 7.430835922528792}, {\"Year\": 2008, \"PrimaryType\": \"CRIMINAL DAMAGE\", \"False\": 49438.0, \"True\": 3403.0, \"arrest_percentage\": 6.440074941806552}, {\"Year\": 2009, \"PrimaryType\": \"CRIMINAL DAMAGE\", \"False\": 44455.0, \"True\": 3270.0, \"arrest_percentage\": 6.8517548454688315}, {\"Year\": 2010, \"PrimaryType\": \"CRIMINAL DAMAGE\", \"False\": 38012.0, \"True\": 2641.0, \"arrest_percentage\": 6.496445526775392}, {\"Year\": 2011, \"PrimaryType\": \"CRIMINAL DAMAGE\", \"False\": 34749.0, \"True\": 2583.0, \"arrest_percentage\": 6.918997107039537}, {\"Year\": 2012, \"PrimaryType\": \"CRIMINAL DAMAGE\", \"False\": 33391.0, \"True\": 2463.0, \"arrest_percentage\": 6.869526412673621}, {\"Year\": 2013, \"PrimaryType\": \"CRIMINAL DAMAGE\", \"False\": 28746.0, \"True\": 2107.0, \"arrest_percentage\": 6.829157618383949}, {\"Year\": 2014, \"PrimaryType\": \"CRIMINAL DAMAGE\", \"False\": 25703.0, \"True\": 2095.0, \"arrest_percentage\": 7.536513418231527}, {\"Year\": 2015, \"PrimaryType\": \"CRIMINAL DAMAGE\", \"False\": 26841.0, \"True\": 1835.0, \"arrest_percentage\": 6.399079369507603}, {\"Year\": 2016, \"PrimaryType\": \"CRIMINAL DAMAGE\", \"False\": 29349.0, \"True\": 1669.0, \"arrest_percentage\": 5.380746663227804}, {\"Year\": 2017, \"PrimaryType\": \"CRIMINAL DAMAGE\", \"False\": 27294.0, \"True\": 1750.0, \"arrest_percentage\": 6.025340862140201}, {\"Year\": 2018, \"PrimaryType\": \"CRIMINAL DAMAGE\", \"False\": 26137.0, \"True\": 1686.0, \"arrest_percentage\": 6.059734751824031}, {\"Year\": 2019, \"PrimaryType\": \"CRIMINAL DAMAGE\", \"False\": 25010.0, \"True\": 1670.0, \"arrest_percentage\": 6.259370314842578}, {\"Year\": 2020, \"PrimaryType\": \"CRIMINAL DAMAGE\", \"False\": 23660.0, \"True\": 1176.0, \"arrest_percentage\": 4.735062006764374}, {\"Year\": 2021, \"PrimaryType\": \"CRIMINAL DAMAGE\", \"False\": 3761.0, \"True\": 167.0, \"arrest_percentage\": 4.25152749490835}]}}, {\"mode\": \"vega-lite\"});\n",
              "</script>"
            ]
          },
          "metadata": {
            "tags": []
          }
        },
        {
          "output_type": "display_data",
          "data": {
            "text/plain": [
              "alt.Chart(...)"
            ],
            "text/html": [
              "\n",
              "<div id=\"altair-viz-ecae4465fcf94b179a8f4dbfce1b40a8\"></div>\n",
              "<script type=\"text/javascript\">\n",
              "  (function(spec, embedOpt){\n",
              "    let outputDiv = document.currentScript.previousElementSibling;\n",
              "    if (outputDiv.id !== \"altair-viz-ecae4465fcf94b179a8f4dbfce1b40a8\") {\n",
              "      outputDiv = document.getElementById(\"altair-viz-ecae4465fcf94b179a8f4dbfce1b40a8\");\n",
              "    }\n",
              "    const paths = {\n",
              "      \"vega\": \"https://cdn.jsdelivr.net/npm//vega@5?noext\",\n",
              "      \"vega-lib\": \"https://cdn.jsdelivr.net/npm//vega-lib?noext\",\n",
              "      \"vega-lite\": \"https://cdn.jsdelivr.net/npm//vega-lite@4.8.1?noext\",\n",
              "      \"vega-embed\": \"https://cdn.jsdelivr.net/npm//vega-embed@6?noext\",\n",
              "    };\n",
              "\n",
              "    function loadScript(lib) {\n",
              "      return new Promise(function(resolve, reject) {\n",
              "        var s = document.createElement('script');\n",
              "        s.src = paths[lib];\n",
              "        s.async = true;\n",
              "        s.onload = () => resolve(paths[lib]);\n",
              "        s.onerror = () => reject(`Error loading script: ${paths[lib]}`);\n",
              "        document.getElementsByTagName(\"head\")[0].appendChild(s);\n",
              "      });\n",
              "    }\n",
              "\n",
              "    function showError(err) {\n",
              "      outputDiv.innerHTML = `<div class=\"error\" style=\"color:red;\">${err}</div>`;\n",
              "      throw err;\n",
              "    }\n",
              "\n",
              "    function displayChart(vegaEmbed) {\n",
              "      vegaEmbed(outputDiv, spec, embedOpt)\n",
              "        .catch(err => showError(`Javascript Error: ${err.message}<br>This usually means there's a typo in your chart specification. See the javascript console for the full traceback.`));\n",
              "    }\n",
              "\n",
              "    if(typeof define === \"function\" && define.amd) {\n",
              "      requirejs.config({paths});\n",
              "      require([\"vega-embed\"], displayChart, err => showError(`Error loading script: ${err.message}`));\n",
              "    } else if (typeof vegaEmbed === \"function\") {\n",
              "      displayChart(vegaEmbed);\n",
              "    } else {\n",
              "      loadScript(\"vega\")\n",
              "        .then(() => loadScript(\"vega-lite\"))\n",
              "        .then(() => loadScript(\"vega-embed\"))\n",
              "        .catch(showError)\n",
              "        .then(() => displayChart(vegaEmbed));\n",
              "    }\n",
              "  })({\"config\": {\"view\": {\"continuousWidth\": 400, \"continuousHeight\": 300}}, \"data\": {\"name\": \"data-0075fb3c2f5bca9061c41355001e9a21\"}, \"mark\": \"bar\", \"encoding\": {\"x\": {\"type\": \"quantitative\", \"field\": \"Year\"}, \"y\": {\"type\": \"quantitative\", \"field\": \"arrest_percentage\"}}, \"title\": \"CRIMINAL SEXUAL ASSAULT\", \"$schema\": \"https://vega.github.io/schema/vega-lite/v4.8.1.json\", \"datasets\": {\"data-0075fb3c2f5bca9061c41355001e9a21\": [{\"Year\": 2001, \"PrimaryType\": \"CRIMINAL SEXUAL ASSAULT\", \"False\": 14.0, \"True\": 9.0, \"arrest_percentage\": 39.130434782608695}, {\"Year\": 2002, \"PrimaryType\": \"CRIMINAL SEXUAL ASSAULT\", \"False\": 15.0, \"True\": 3.0, \"arrest_percentage\": 16.666666666666664}, {\"Year\": 2003, \"PrimaryType\": \"CRIMINAL SEXUAL ASSAULT\", \"False\": 21.0, \"True\": 2.0, \"arrest_percentage\": 8.695652173913043}, {\"Year\": 2004, \"PrimaryType\": \"CRIMINAL SEXUAL ASSAULT\", \"False\": 19.0, \"True\": 5.0, \"arrest_percentage\": 20.833333333333336}, {\"Year\": 2005, \"PrimaryType\": \"CRIMINAL SEXUAL ASSAULT\", \"False\": 15.0, \"True\": 5.0, \"arrest_percentage\": 25.0}, {\"Year\": 2006, \"PrimaryType\": \"CRIMINAL SEXUAL ASSAULT\", \"False\": 29.0, \"True\": 3.0, \"arrest_percentage\": 9.375}, {\"Year\": 2007, \"PrimaryType\": \"CRIMINAL SEXUAL ASSAULT\", \"False\": 33.0, \"True\": 3.0, \"arrest_percentage\": 8.333333333333332}, {\"Year\": 2008, \"PrimaryType\": \"CRIMINAL SEXUAL ASSAULT\", \"False\": 14.0, \"True\": 5.0, \"arrest_percentage\": 26.31578947368421}, {\"Year\": 2009, \"PrimaryType\": \"CRIMINAL SEXUAL ASSAULT\", \"False\": 18.0, \"True\": null, \"arrest_percentage\": null}, {\"Year\": 2010, \"PrimaryType\": \"CRIMINAL SEXUAL ASSAULT\", \"False\": 23.0, \"True\": 4.0, \"arrest_percentage\": 14.814814814814813}, {\"Year\": 2011, \"PrimaryType\": \"CRIMINAL SEXUAL ASSAULT\", \"False\": 21.0, \"True\": 1.0, \"arrest_percentage\": 4.545454545454546}, {\"Year\": 2012, \"PrimaryType\": \"CRIMINAL SEXUAL ASSAULT\", \"False\": 22.0, \"True\": 3.0, \"arrest_percentage\": 12.0}, {\"Year\": 2013, \"PrimaryType\": \"CRIMINAL SEXUAL ASSAULT\", \"False\": 28.0, \"True\": 6.0, \"arrest_percentage\": 17.647058823529413}, {\"Year\": 2014, \"PrimaryType\": \"CRIMINAL SEXUAL ASSAULT\", \"False\": 29.0, \"True\": 5.0, \"arrest_percentage\": 14.705882352941178}, {\"Year\": 2015, \"PrimaryType\": \"CRIMINAL SEXUAL ASSAULT\", \"False\": 33.0, \"True\": 7.0, \"arrest_percentage\": 17.5}, {\"Year\": 2016, \"PrimaryType\": \"CRIMINAL SEXUAL ASSAULT\", \"False\": 59.0, \"True\": 11.0, \"arrest_percentage\": 15.714285714285714}, {\"Year\": 2017, \"PrimaryType\": \"CRIMINAL SEXUAL ASSAULT\", \"False\": 94.0, \"True\": 11.0, \"arrest_percentage\": 10.476190476190476}, {\"Year\": 2018, \"PrimaryType\": \"CRIMINAL SEXUAL ASSAULT\", \"False\": 195.0, \"True\": 34.0, \"arrest_percentage\": 14.847161572052403}, {\"Year\": 2019, \"PrimaryType\": \"CRIMINAL SEXUAL ASSAULT\", \"False\": 626.0, \"True\": 51.0, \"arrest_percentage\": 7.533234859675036}, {\"Year\": 2020, \"PrimaryType\": \"CRIMINAL SEXUAL ASSAULT\", \"False\": 1048.0, \"True\": 40.0, \"arrest_percentage\": 3.6764705882352944}, {\"Year\": 2021, \"PrimaryType\": \"CRIMINAL SEXUAL ASSAULT\", \"False\": 206.0, \"True\": 1.0, \"arrest_percentage\": 0.4830917874396135}]}}, {\"mode\": \"vega-lite\"});\n",
              "</script>"
            ]
          },
          "metadata": {
            "tags": []
          }
        },
        {
          "output_type": "display_data",
          "data": {
            "text/plain": [
              "alt.Chart(...)"
            ],
            "text/html": [
              "\n",
              "<div id=\"altair-viz-79e9c24dcc974acd890896c1dcd7f570\"></div>\n",
              "<script type=\"text/javascript\">\n",
              "  (function(spec, embedOpt){\n",
              "    let outputDiv = document.currentScript.previousElementSibling;\n",
              "    if (outputDiv.id !== \"altair-viz-79e9c24dcc974acd890896c1dcd7f570\") {\n",
              "      outputDiv = document.getElementById(\"altair-viz-79e9c24dcc974acd890896c1dcd7f570\");\n",
              "    }\n",
              "    const paths = {\n",
              "      \"vega\": \"https://cdn.jsdelivr.net/npm//vega@5?noext\",\n",
              "      \"vega-lib\": \"https://cdn.jsdelivr.net/npm//vega-lib?noext\",\n",
              "      \"vega-lite\": \"https://cdn.jsdelivr.net/npm//vega-lite@4.8.1?noext\",\n",
              "      \"vega-embed\": \"https://cdn.jsdelivr.net/npm//vega-embed@6?noext\",\n",
              "    };\n",
              "\n",
              "    function loadScript(lib) {\n",
              "      return new Promise(function(resolve, reject) {\n",
              "        var s = document.createElement('script');\n",
              "        s.src = paths[lib];\n",
              "        s.async = true;\n",
              "        s.onload = () => resolve(paths[lib]);\n",
              "        s.onerror = () => reject(`Error loading script: ${paths[lib]}`);\n",
              "        document.getElementsByTagName(\"head\")[0].appendChild(s);\n",
              "      });\n",
              "    }\n",
              "\n",
              "    function showError(err) {\n",
              "      outputDiv.innerHTML = `<div class=\"error\" style=\"color:red;\">${err}</div>`;\n",
              "      throw err;\n",
              "    }\n",
              "\n",
              "    function displayChart(vegaEmbed) {\n",
              "      vegaEmbed(outputDiv, spec, embedOpt)\n",
              "        .catch(err => showError(`Javascript Error: ${err.message}<br>This usually means there's a typo in your chart specification. See the javascript console for the full traceback.`));\n",
              "    }\n",
              "\n",
              "    if(typeof define === \"function\" && define.amd) {\n",
              "      requirejs.config({paths});\n",
              "      require([\"vega-embed\"], displayChart, err => showError(`Error loading script: ${err.message}`));\n",
              "    } else if (typeof vegaEmbed === \"function\") {\n",
              "      displayChart(vegaEmbed);\n",
              "    } else {\n",
              "      loadScript(\"vega\")\n",
              "        .then(() => loadScript(\"vega-lite\"))\n",
              "        .then(() => loadScript(\"vega-embed\"))\n",
              "        .catch(showError)\n",
              "        .then(() => displayChart(vegaEmbed));\n",
              "    }\n",
              "  })({\"config\": {\"view\": {\"continuousWidth\": 400, \"continuousHeight\": 300}}, \"data\": {\"name\": \"data-d0fef58fc8e55051d2f7114e16a74e9e\"}, \"mark\": \"bar\", \"encoding\": {\"x\": {\"type\": \"quantitative\", \"field\": \"Year\"}, \"y\": {\"type\": \"quantitative\", \"field\": \"arrest_percentage\"}}, \"title\": \"CRIMINAL TRESPASS\", \"$schema\": \"https://vega.github.io/schema/vega-lite/v4.8.1.json\", \"datasets\": {\"data-d0fef58fc8e55051d2f7114e16a74e9e\": [{\"Year\": 2001, \"PrimaryType\": \"CRIMINAL TRESPASS\", \"False\": 2979.0, \"True\": 10262.0, \"arrest_percentage\": 77.50169926742693}, {\"Year\": 2002, \"PrimaryType\": \"CRIMINAL TRESPASS\", \"False\": 3248.0, \"True\": 10632.0, \"arrest_percentage\": 76.59942363112393}, {\"Year\": 2003, \"PrimaryType\": \"CRIMINAL TRESPASS\", \"False\": 3189.0, \"True\": 11618.0, \"arrest_percentage\": 78.4628891740393}, {\"Year\": 2004, \"PrimaryType\": \"CRIMINAL TRESPASS\", \"False\": 3068.0, \"True\": 12845.0, \"arrest_percentage\": 80.72016590209263}, {\"Year\": 2005, \"PrimaryType\": \"CRIMINAL TRESPASS\", \"False\": 2945.0, \"True\": 13710.0, \"arrest_percentage\": 82.31762233563494}, {\"Year\": 2006, \"PrimaryType\": \"CRIMINAL TRESPASS\", \"False\": 3022.0, \"True\": 11483.0, \"arrest_percentage\": 79.16580489486384}, {\"Year\": 2007, \"PrimaryType\": \"CRIMINAL TRESPASS\", \"False\": 3093.0, \"True\": 10606.0, \"arrest_percentage\": 77.42170961384043}, {\"Year\": 2008, \"PrimaryType\": \"CRIMINAL TRESPASS\", \"False\": 5769.0, \"True\": 6541.0, \"arrest_percentage\": 53.13566206336312}, {\"Year\": 2009, \"PrimaryType\": \"CRIMINAL TRESPASS\", \"False\": 2918.0, \"True\": 7933.0, \"arrest_percentage\": 73.10846926550548}, {\"Year\": 2010, \"PrimaryType\": \"CRIMINAL TRESPASS\", \"False\": 2899.0, \"True\": 6502.0, \"arrest_percentage\": 69.1628550154239}, {\"Year\": 2011, \"PrimaryType\": \"CRIMINAL TRESPASS\", \"False\": 2242.0, \"True\": 6417.0, \"arrest_percentage\": 74.10786464949763}, {\"Year\": 2012, \"PrimaryType\": \"CRIMINAL TRESPASS\", \"False\": 2161.0, \"True\": 6055.0, \"arrest_percentage\": 73.69766309639726}, {\"Year\": 2013, \"PrimaryType\": \"CRIMINAL TRESPASS\", \"False\": 2061.0, \"True\": 6075.0, \"arrest_percentage\": 74.66814159292035}, {\"Year\": 2014, \"PrimaryType\": \"CRIMINAL TRESPASS\", \"False\": 2050.0, \"True\": 5489.0, \"arrest_percentage\": 72.8080647300703}, {\"Year\": 2015, \"PrimaryType\": \"CRIMINAL TRESPASS\", \"False\": 2005.0, \"True\": 4396.0, \"arrest_percentage\": 68.67676925480394}, {\"Year\": 2016, \"PrimaryType\": \"CRIMINAL TRESPASS\", \"False\": 2582.0, \"True\": 3724.0, \"arrest_percentage\": 59.05486837932128}, {\"Year\": 2017, \"PrimaryType\": \"CRIMINAL TRESPASS\", \"False\": 2797.0, \"True\": 4018.0, \"arrest_percentage\": 58.95818048422598}, {\"Year\": 2018, \"PrimaryType\": \"CRIMINAL TRESPASS\", \"False\": 3105.0, \"True\": 3802.0, \"arrest_percentage\": 55.04560590705082}, {\"Year\": 2019, \"PrimaryType\": \"CRIMINAL TRESPASS\", \"False\": 3025.0, \"True\": 3793.0, \"arrest_percentage\": 55.632150190671744}, {\"Year\": 2020, \"PrimaryType\": \"CRIMINAL TRESPASS\", \"False\": 2461.0, \"True\": 1706.0, \"arrest_percentage\": 40.94072474202064}, {\"Year\": 2021, \"PrimaryType\": \"CRIMINAL TRESPASS\", \"False\": 359.0, \"True\": 239.0, \"arrest_percentage\": 39.96655518394649}]}}, {\"mode\": \"vega-lite\"});\n",
              "</script>"
            ]
          },
          "metadata": {
            "tags": []
          }
        },
        {
          "output_type": "display_data",
          "data": {
            "text/plain": [
              "alt.Chart(...)"
            ],
            "text/html": [
              "\n",
              "<div id=\"altair-viz-8ea30ea3c94b4284805cc155b7299bf6\"></div>\n",
              "<script type=\"text/javascript\">\n",
              "  (function(spec, embedOpt){\n",
              "    let outputDiv = document.currentScript.previousElementSibling;\n",
              "    if (outputDiv.id !== \"altair-viz-8ea30ea3c94b4284805cc155b7299bf6\") {\n",
              "      outputDiv = document.getElementById(\"altair-viz-8ea30ea3c94b4284805cc155b7299bf6\");\n",
              "    }\n",
              "    const paths = {\n",
              "      \"vega\": \"https://cdn.jsdelivr.net/npm//vega@5?noext\",\n",
              "      \"vega-lib\": \"https://cdn.jsdelivr.net/npm//vega-lib?noext\",\n",
              "      \"vega-lite\": \"https://cdn.jsdelivr.net/npm//vega-lite@4.8.1?noext\",\n",
              "      \"vega-embed\": \"https://cdn.jsdelivr.net/npm//vega-embed@6?noext\",\n",
              "    };\n",
              "\n",
              "    function loadScript(lib) {\n",
              "      return new Promise(function(resolve, reject) {\n",
              "        var s = document.createElement('script');\n",
              "        s.src = paths[lib];\n",
              "        s.async = true;\n",
              "        s.onload = () => resolve(paths[lib]);\n",
              "        s.onerror = () => reject(`Error loading script: ${paths[lib]}`);\n",
              "        document.getElementsByTagName(\"head\")[0].appendChild(s);\n",
              "      });\n",
              "    }\n",
              "\n",
              "    function showError(err) {\n",
              "      outputDiv.innerHTML = `<div class=\"error\" style=\"color:red;\">${err}</div>`;\n",
              "      throw err;\n",
              "    }\n",
              "\n",
              "    function displayChart(vegaEmbed) {\n",
              "      vegaEmbed(outputDiv, spec, embedOpt)\n",
              "        .catch(err => showError(`Javascript Error: ${err.message}<br>This usually means there's a typo in your chart specification. See the javascript console for the full traceback.`));\n",
              "    }\n",
              "\n",
              "    if(typeof define === \"function\" && define.amd) {\n",
              "      requirejs.config({paths});\n",
              "      require([\"vega-embed\"], displayChart, err => showError(`Error loading script: ${err.message}`));\n",
              "    } else if (typeof vegaEmbed === \"function\") {\n",
              "      displayChart(vegaEmbed);\n",
              "    } else {\n",
              "      loadScript(\"vega\")\n",
              "        .then(() => loadScript(\"vega-lite\"))\n",
              "        .then(() => loadScript(\"vega-embed\"))\n",
              "        .catch(showError)\n",
              "        .then(() => displayChart(vegaEmbed));\n",
              "    }\n",
              "  })({\"config\": {\"view\": {\"continuousWidth\": 400, \"continuousHeight\": 300}}, \"data\": {\"name\": \"data-cfdb1b573e7a7fb4a0e44838ed4eaef5\"}, \"mark\": \"bar\", \"encoding\": {\"x\": {\"type\": \"quantitative\", \"field\": \"Year\"}, \"y\": {\"type\": \"quantitative\", \"field\": \"arrest_percentage\"}}, \"title\": \"DECEPTIVE PRACTICE\", \"$schema\": \"https://vega.github.io/schema/vega-lite/v4.8.1.json\", \"datasets\": {\"data-cfdb1b573e7a7fb4a0e44838ed4eaef5\": [{\"Year\": 2001, \"PrimaryType\": \"DECEPTIVE PRACTICE\", \"False\": 10130.0, \"True\": 4789.0, \"arrest_percentage\": 32.100006702862125}, {\"Year\": 2002, \"PrimaryType\": \"DECEPTIVE PRACTICE\", \"False\": 9917.0, \"True\": 3804.0, \"arrest_percentage\": 27.723926827490708}, {\"Year\": 2003, \"PrimaryType\": \"DECEPTIVE PRACTICE\", \"False\": 9910.0, \"True\": 3549.0, \"arrest_percentage\": 26.36897243480199}, {\"Year\": 2004, \"PrimaryType\": \"DECEPTIVE PRACTICE\", \"False\": 9960.0, \"True\": 3292.0, \"arrest_percentage\": 24.841533353456082}, {\"Year\": 2005, \"PrimaryType\": \"DECEPTIVE PRACTICE\", \"False\": 10381.0, \"True\": 3203.0, \"arrest_percentage\": 23.579210836277976}, {\"Year\": 2006, \"PrimaryType\": \"DECEPTIVE PRACTICE\", \"False\": 10746.0, \"True\": 2854.0, \"arrest_percentage\": 20.985294117647058}, {\"Year\": 2007, \"PrimaryType\": \"DECEPTIVE PRACTICE\", \"False\": 11310.0, \"True\": 2853.0, \"arrest_percentage\": 20.144037280237235}, {\"Year\": 2008, \"PrimaryType\": \"DECEPTIVE PRACTICE\", \"False\": 12742.0, \"True\": 2173.0, \"arrest_percentage\": 14.569225611800201}, {\"Year\": 2009, \"PrimaryType\": \"DECEPTIVE PRACTICE\", \"False\": 11406.0, \"True\": 2459.0, \"arrest_percentage\": 17.735304724125495}, {\"Year\": 2010, \"PrimaryType\": \"DECEPTIVE PRACTICE\", \"False\": 10471.0, \"True\": 2080.0, \"arrest_percentage\": 16.572384670544178}, {\"Year\": 2011, \"PrimaryType\": \"DECEPTIVE PRACTICE\", \"False\": 10238.0, \"True\": 2469.0, \"arrest_percentage\": 19.430235303376094}, {\"Year\": 2012, \"PrimaryType\": \"DECEPTIVE PRACTICE\", \"False\": 10764.0, \"True\": 2976.0, \"arrest_percentage\": 21.65938864628821}, {\"Year\": 2013, \"PrimaryType\": \"DECEPTIVE PRACTICE\", \"False\": 11355.0, \"True\": 2520.0, \"arrest_percentage\": 18.16216216216216}, {\"Year\": 2014, \"PrimaryType\": \"DECEPTIVE PRACTICE\", \"False\": 14133.0, \"True\": 1775.0, \"arrest_percentage\": 11.157907970832285}, {\"Year\": 2015, \"PrimaryType\": \"DECEPTIVE PRACTICE\", \"False\": 15316.0, \"True\": 1018.0, \"arrest_percentage\": 6.232398677604996}, {\"Year\": 2016, \"PrimaryType\": \"DECEPTIVE PRACTICE\", \"False\": 18389.0, \"True\": 831.0, \"arrest_percentage\": 4.3236212278876165}, {\"Year\": 2017, \"PrimaryType\": \"DECEPTIVE PRACTICE\", \"False\": 18657.0, \"True\": 848.0, \"arrest_percentage\": 4.347603178672135}, {\"Year\": 2018, \"PrimaryType\": \"DECEPTIVE PRACTICE\", \"False\": 18706.0, \"True\": 889.0, \"arrest_percentage\": 4.53687165093136}, {\"Year\": 2019, \"PrimaryType\": \"DECEPTIVE PRACTICE\", \"False\": 17766.0, \"True\": 876.0, \"arrest_percentage\": 4.699066623752817}, {\"Year\": 2020, \"PrimaryType\": \"DECEPTIVE PRACTICE\", \"False\": 17080.0, \"True\": 348.0, \"arrest_percentage\": 1.9967867798944228}, {\"Year\": 2021, \"PrimaryType\": \"DECEPTIVE PRACTICE\", \"False\": 4256.0, \"True\": 28.0, \"arrest_percentage\": 0.6535947712418301}]}}, {\"mode\": \"vega-lite\"});\n",
              "</script>"
            ]
          },
          "metadata": {
            "tags": []
          }
        },
        {
          "output_type": "display_data",
          "data": {
            "text/plain": [
              "alt.Chart(...)"
            ],
            "text/html": [
              "\n",
              "<div id=\"altair-viz-748cd8bdad69470a8a6dc41c4f432d0e\"></div>\n",
              "<script type=\"text/javascript\">\n",
              "  (function(spec, embedOpt){\n",
              "    let outputDiv = document.currentScript.previousElementSibling;\n",
              "    if (outputDiv.id !== \"altair-viz-748cd8bdad69470a8a6dc41c4f432d0e\") {\n",
              "      outputDiv = document.getElementById(\"altair-viz-748cd8bdad69470a8a6dc41c4f432d0e\");\n",
              "    }\n",
              "    const paths = {\n",
              "      \"vega\": \"https://cdn.jsdelivr.net/npm//vega@5?noext\",\n",
              "      \"vega-lib\": \"https://cdn.jsdelivr.net/npm//vega-lib?noext\",\n",
              "      \"vega-lite\": \"https://cdn.jsdelivr.net/npm//vega-lite@4.8.1?noext\",\n",
              "      \"vega-embed\": \"https://cdn.jsdelivr.net/npm//vega-embed@6?noext\",\n",
              "    };\n",
              "\n",
              "    function loadScript(lib) {\n",
              "      return new Promise(function(resolve, reject) {\n",
              "        var s = document.createElement('script');\n",
              "        s.src = paths[lib];\n",
              "        s.async = true;\n",
              "        s.onload = () => resolve(paths[lib]);\n",
              "        s.onerror = () => reject(`Error loading script: ${paths[lib]}`);\n",
              "        document.getElementsByTagName(\"head\")[0].appendChild(s);\n",
              "      });\n",
              "    }\n",
              "\n",
              "    function showError(err) {\n",
              "      outputDiv.innerHTML = `<div class=\"error\" style=\"color:red;\">${err}</div>`;\n",
              "      throw err;\n",
              "    }\n",
              "\n",
              "    function displayChart(vegaEmbed) {\n",
              "      vegaEmbed(outputDiv, spec, embedOpt)\n",
              "        .catch(err => showError(`Javascript Error: ${err.message}<br>This usually means there's a typo in your chart specification. See the javascript console for the full traceback.`));\n",
              "    }\n",
              "\n",
              "    if(typeof define === \"function\" && define.amd) {\n",
              "      requirejs.config({paths});\n",
              "      require([\"vega-embed\"], displayChart, err => showError(`Error loading script: ${err.message}`));\n",
              "    } else if (typeof vegaEmbed === \"function\") {\n",
              "      displayChart(vegaEmbed);\n",
              "    } else {\n",
              "      loadScript(\"vega\")\n",
              "        .then(() => loadScript(\"vega-lite\"))\n",
              "        .then(() => loadScript(\"vega-embed\"))\n",
              "        .catch(showError)\n",
              "        .then(() => displayChart(vegaEmbed));\n",
              "    }\n",
              "  })({\"config\": {\"view\": {\"continuousWidth\": 400, \"continuousHeight\": 300}}, \"data\": {\"name\": \"data-ab72e470eea230b8cfb526c25d2705ba\"}, \"mark\": \"bar\", \"encoding\": {\"x\": {\"type\": \"quantitative\", \"field\": \"Year\"}, \"y\": {\"type\": \"quantitative\", \"field\": \"arrest_percentage\"}}, \"title\": \"DOMESTIC VIOLENCE\", \"$schema\": \"https://vega.github.io/schema/vega-lite/v4.8.1.json\", \"datasets\": {\"data-ab72e470eea230b8cfb526c25d2705ba\": [{\"Year\": 2001, \"PrimaryType\": \"DOMESTIC VIOLENCE\", \"False\": null, \"True\": 1.0, \"arrest_percentage\": null}]}}, {\"mode\": \"vega-lite\"});\n",
              "</script>"
            ]
          },
          "metadata": {
            "tags": []
          }
        },
        {
          "output_type": "display_data",
          "data": {
            "text/plain": [
              "alt.Chart(...)"
            ],
            "text/html": [
              "\n",
              "<div id=\"altair-viz-89900a3d35d2491ab8b4c0c29a9e82b0\"></div>\n",
              "<script type=\"text/javascript\">\n",
              "  (function(spec, embedOpt){\n",
              "    let outputDiv = document.currentScript.previousElementSibling;\n",
              "    if (outputDiv.id !== \"altair-viz-89900a3d35d2491ab8b4c0c29a9e82b0\") {\n",
              "      outputDiv = document.getElementById(\"altair-viz-89900a3d35d2491ab8b4c0c29a9e82b0\");\n",
              "    }\n",
              "    const paths = {\n",
              "      \"vega\": \"https://cdn.jsdelivr.net/npm//vega@5?noext\",\n",
              "      \"vega-lib\": \"https://cdn.jsdelivr.net/npm//vega-lib?noext\",\n",
              "      \"vega-lite\": \"https://cdn.jsdelivr.net/npm//vega-lite@4.8.1?noext\",\n",
              "      \"vega-embed\": \"https://cdn.jsdelivr.net/npm//vega-embed@6?noext\",\n",
              "    };\n",
              "\n",
              "    function loadScript(lib) {\n",
              "      return new Promise(function(resolve, reject) {\n",
              "        var s = document.createElement('script');\n",
              "        s.src = paths[lib];\n",
              "        s.async = true;\n",
              "        s.onload = () => resolve(paths[lib]);\n",
              "        s.onerror = () => reject(`Error loading script: ${paths[lib]}`);\n",
              "        document.getElementsByTagName(\"head\")[0].appendChild(s);\n",
              "      });\n",
              "    }\n",
              "\n",
              "    function showError(err) {\n",
              "      outputDiv.innerHTML = `<div class=\"error\" style=\"color:red;\">${err}</div>`;\n",
              "      throw err;\n",
              "    }\n",
              "\n",
              "    function displayChart(vegaEmbed) {\n",
              "      vegaEmbed(outputDiv, spec, embedOpt)\n",
              "        .catch(err => showError(`Javascript Error: ${err.message}<br>This usually means there's a typo in your chart specification. See the javascript console for the full traceback.`));\n",
              "    }\n",
              "\n",
              "    if(typeof define === \"function\" && define.amd) {\n",
              "      requirejs.config({paths});\n",
              "      require([\"vega-embed\"], displayChart, err => showError(`Error loading script: ${err.message}`));\n",
              "    } else if (typeof vegaEmbed === \"function\") {\n",
              "      displayChart(vegaEmbed);\n",
              "    } else {\n",
              "      loadScript(\"vega\")\n",
              "        .then(() => loadScript(\"vega-lite\"))\n",
              "        .then(() => loadScript(\"vega-embed\"))\n",
              "        .catch(showError)\n",
              "        .then(() => displayChart(vegaEmbed));\n",
              "    }\n",
              "  })({\"config\": {\"view\": {\"continuousWidth\": 400, \"continuousHeight\": 300}}, \"data\": {\"name\": \"data-a143ffacd6391a0d5545dae46ea0034a\"}, \"mark\": \"bar\", \"encoding\": {\"x\": {\"type\": \"quantitative\", \"field\": \"Year\"}, \"y\": {\"type\": \"quantitative\", \"field\": \"arrest_percentage\"}}, \"title\": \"GAMBLING\", \"$schema\": \"https://vega.github.io/schema/vega-lite/v4.8.1.json\", \"datasets\": {\"data-a143ffacd6391a0d5545dae46ea0034a\": [{\"Year\": 2001, \"PrimaryType\": \"GAMBLING\", \"False\": 3.0, \"True\": 931.0, \"arrest_percentage\": 99.67880085653104}, {\"Year\": 2002, \"PrimaryType\": \"GAMBLING\", \"False\": 2.0, \"True\": 969.0, \"arrest_percentage\": 99.79402677651905}, {\"Year\": 2003, \"PrimaryType\": \"GAMBLING\", \"False\": null, \"True\": 1088.0, \"arrest_percentage\": null}, {\"Year\": 2004, \"PrimaryType\": \"GAMBLING\", \"False\": 2.0, \"True\": 1120.0, \"arrest_percentage\": 99.8217468805704}, {\"Year\": 2005, \"PrimaryType\": \"GAMBLING\", \"False\": 1.0, \"True\": 1077.0, \"arrest_percentage\": 99.90723562152134}, {\"Year\": 2006, \"PrimaryType\": \"GAMBLING\", \"False\": 13.0, \"True\": 1355.0, \"arrest_percentage\": 99.04970760233918}, {\"Year\": 2007, \"PrimaryType\": \"GAMBLING\", \"False\": 29.0, \"True\": 1380.0, \"arrest_percentage\": 97.94180269694819}, {\"Year\": 2008, \"PrimaryType\": \"GAMBLING\", \"False\": 42.0, \"True\": 1157.0, \"arrest_percentage\": 96.49708090075062}, {\"Year\": 2009, \"PrimaryType\": \"GAMBLING\", \"False\": 5.0, \"True\": 986.0, \"arrest_percentage\": 99.49545913218971}, {\"Year\": 2010, \"PrimaryType\": \"GAMBLING\", \"False\": null, \"True\": 927.0, \"arrest_percentage\": null}, {\"Year\": 2011, \"PrimaryType\": \"GAMBLING\", \"False\": null, \"True\": 736.0, \"arrest_percentage\": null}, {\"Year\": 2012, \"PrimaryType\": \"GAMBLING\", \"False\": 1.0, \"True\": 723.0, \"arrest_percentage\": 99.86187845303867}, {\"Year\": 2013, \"PrimaryType\": \"GAMBLING\", \"False\": 5.0, \"True\": 591.0, \"arrest_percentage\": 99.16107382550335}, {\"Year\": 2014, \"PrimaryType\": \"GAMBLING\", \"False\": 1.0, \"True\": 392.0, \"arrest_percentage\": 99.74554707379136}, {\"Year\": 2015, \"PrimaryType\": \"GAMBLING\", \"False\": null, \"True\": 310.0, \"arrest_percentage\": null}, {\"Year\": 2016, \"PrimaryType\": \"GAMBLING\", \"False\": null, \"True\": 189.0, \"arrest_percentage\": null}, {\"Year\": 2017, \"PrimaryType\": \"GAMBLING\", \"False\": null, \"True\": 191.0, \"arrest_percentage\": null}, {\"Year\": 2018, \"PrimaryType\": \"GAMBLING\", \"False\": null, \"True\": 201.0, \"arrest_percentage\": null}, {\"Year\": 2019, \"PrimaryType\": \"GAMBLING\", \"False\": null, \"True\": 142.0, \"arrest_percentage\": null}, {\"Year\": 2020, \"PrimaryType\": \"GAMBLING\", \"False\": null, \"True\": 25.0, \"arrest_percentage\": null}, {\"Year\": 2021, \"PrimaryType\": \"GAMBLING\", \"False\": null, \"True\": 1.0, \"arrest_percentage\": null}]}}, {\"mode\": \"vega-lite\"});\n",
              "</script>"
            ]
          },
          "metadata": {
            "tags": []
          }
        },
        {
          "output_type": "display_data",
          "data": {
            "text/plain": [
              "alt.Chart(...)"
            ],
            "text/html": [
              "\n",
              "<div id=\"altair-viz-c9a356136bb047c699b6984b2ad1a3b6\"></div>\n",
              "<script type=\"text/javascript\">\n",
              "  (function(spec, embedOpt){\n",
              "    let outputDiv = document.currentScript.previousElementSibling;\n",
              "    if (outputDiv.id !== \"altair-viz-c9a356136bb047c699b6984b2ad1a3b6\") {\n",
              "      outputDiv = document.getElementById(\"altair-viz-c9a356136bb047c699b6984b2ad1a3b6\");\n",
              "    }\n",
              "    const paths = {\n",
              "      \"vega\": \"https://cdn.jsdelivr.net/npm//vega@5?noext\",\n",
              "      \"vega-lib\": \"https://cdn.jsdelivr.net/npm//vega-lib?noext\",\n",
              "      \"vega-lite\": \"https://cdn.jsdelivr.net/npm//vega-lite@4.8.1?noext\",\n",
              "      \"vega-embed\": \"https://cdn.jsdelivr.net/npm//vega-embed@6?noext\",\n",
              "    };\n",
              "\n",
              "    function loadScript(lib) {\n",
              "      return new Promise(function(resolve, reject) {\n",
              "        var s = document.createElement('script');\n",
              "        s.src = paths[lib];\n",
              "        s.async = true;\n",
              "        s.onload = () => resolve(paths[lib]);\n",
              "        s.onerror = () => reject(`Error loading script: ${paths[lib]}`);\n",
              "        document.getElementsByTagName(\"head\")[0].appendChild(s);\n",
              "      });\n",
              "    }\n",
              "\n",
              "    function showError(err) {\n",
              "      outputDiv.innerHTML = `<div class=\"error\" style=\"color:red;\">${err}</div>`;\n",
              "      throw err;\n",
              "    }\n",
              "\n",
              "    function displayChart(vegaEmbed) {\n",
              "      vegaEmbed(outputDiv, spec, embedOpt)\n",
              "        .catch(err => showError(`Javascript Error: ${err.message}<br>This usually means there's a typo in your chart specification. See the javascript console for the full traceback.`));\n",
              "    }\n",
              "\n",
              "    if(typeof define === \"function\" && define.amd) {\n",
              "      requirejs.config({paths});\n",
              "      require([\"vega-embed\"], displayChart, err => showError(`Error loading script: ${err.message}`));\n",
              "    } else if (typeof vegaEmbed === \"function\") {\n",
              "      displayChart(vegaEmbed);\n",
              "    } else {\n",
              "      loadScript(\"vega\")\n",
              "        .then(() => loadScript(\"vega-lite\"))\n",
              "        .then(() => loadScript(\"vega-embed\"))\n",
              "        .catch(showError)\n",
              "        .then(() => displayChart(vegaEmbed));\n",
              "    }\n",
              "  })({\"config\": {\"view\": {\"continuousWidth\": 400, \"continuousHeight\": 300}}, \"data\": {\"name\": \"data-deaa7dbd2331c13129833d57bdb4f35d\"}, \"mark\": \"bar\", \"encoding\": {\"x\": {\"type\": \"quantitative\", \"field\": \"Year\"}, \"y\": {\"type\": \"quantitative\", \"field\": \"arrest_percentage\"}}, \"title\": \"HOMICIDE\", \"$schema\": \"https://vega.github.io/schema/vega-lite/v4.8.1.json\", \"datasets\": {\"data-deaa7dbd2331c13129833d57bdb4f35d\": [{\"Year\": 2001, \"PrimaryType\": \"HOMICIDE\", \"False\": 240.0, \"True\": 427.0, \"arrest_percentage\": 64.01799100449776}, {\"Year\": 2002, \"PrimaryType\": \"HOMICIDE\", \"False\": 238.0, \"True\": 419.0, \"arrest_percentage\": 63.77473363774734}, {\"Year\": 2003, \"PrimaryType\": \"HOMICIDE\", \"False\": 231.0, \"True\": 373.0, \"arrest_percentage\": 61.75496688741722}, {\"Year\": 2004, \"PrimaryType\": \"HOMICIDE\", \"False\": 164.0, \"True\": 290.0, \"arrest_percentage\": 63.87665198237885}, {\"Year\": 2005, \"PrimaryType\": \"HOMICIDE\", \"False\": 177.0, \"True\": 276.0, \"arrest_percentage\": 60.9271523178808}, {\"Year\": 2006, \"PrimaryType\": \"HOMICIDE\", \"False\": 207.0, \"True\": 270.0, \"arrest_percentage\": 56.60377358490566}, {\"Year\": 2007, \"PrimaryType\": \"HOMICIDE\", \"False\": 196.0, \"True\": 252.0, \"arrest_percentage\": 56.25}, {\"Year\": 2008, \"PrimaryType\": \"HOMICIDE\", \"False\": 235.0, \"True\": 278.0, \"arrest_percentage\": 54.19103313840156}, {\"Year\": 2009, \"PrimaryType\": \"HOMICIDE\", \"False\": 225.0, \"True\": 236.0, \"arrest_percentage\": 51.19305856832972}, {\"Year\": 2010, \"PrimaryType\": \"HOMICIDE\", \"False\": 229.0, \"True\": 209.0, \"arrest_percentage\": 47.71689497716895}, {\"Year\": 2011, \"PrimaryType\": \"HOMICIDE\", \"False\": 241.0, \"True\": 197.0, \"arrest_percentage\": 44.97716894977169}, {\"Year\": 2012, \"PrimaryType\": \"HOMICIDE\", \"False\": 281.0, \"True\": 234.0, \"arrest_percentage\": 45.43689320388349}, {\"Year\": 2013, \"PrimaryType\": \"HOMICIDE\", \"False\": 241.0, \"True\": 188.0, \"arrest_percentage\": 43.82284382284382}, {\"Year\": 2014, \"PrimaryType\": \"HOMICIDE\", \"False\": 236.0, \"True\": 190.0, \"arrest_percentage\": 44.60093896713615}, {\"Year\": 2015, \"PrimaryType\": \"HOMICIDE\", \"False\": 297.0, \"True\": 205.0, \"arrest_percentage\": 40.83665338645419}, {\"Year\": 2016, \"PrimaryType\": \"HOMICIDE\", \"False\": 514.0, \"True\": 274.0, \"arrest_percentage\": 34.77157360406091}, {\"Year\": 2017, \"PrimaryType\": \"HOMICIDE\", \"False\": 479.0, \"True\": 195.0, \"arrest_percentage\": 28.931750741839764}, {\"Year\": 2018, \"PrimaryType\": \"HOMICIDE\", \"False\": 374.0, \"True\": 226.0, \"arrest_percentage\": 37.666666666666664}, {\"Year\": 2019, \"PrimaryType\": \"HOMICIDE\", \"False\": 344.0, \"True\": 160.0, \"arrest_percentage\": 31.746031746031743}, {\"Year\": 2020, \"PrimaryType\": \"HOMICIDE\", \"False\": 546.0, \"True\": 241.0, \"arrest_percentage\": 30.62261753494282}, {\"Year\": 2021, \"PrimaryType\": \"HOMICIDE\", \"False\": 88.0, \"True\": 16.0, \"arrest_percentage\": 15.384615384615385}]}}, {\"mode\": \"vega-lite\"});\n",
              "</script>"
            ]
          },
          "metadata": {
            "tags": []
          }
        },
        {
          "output_type": "display_data",
          "data": {
            "text/plain": [
              "alt.Chart(...)"
            ],
            "text/html": [
              "\n",
              "<div id=\"altair-viz-ebb0d71fc4624be6b0104da75993ce58\"></div>\n",
              "<script type=\"text/javascript\">\n",
              "  (function(spec, embedOpt){\n",
              "    let outputDiv = document.currentScript.previousElementSibling;\n",
              "    if (outputDiv.id !== \"altair-viz-ebb0d71fc4624be6b0104da75993ce58\") {\n",
              "      outputDiv = document.getElementById(\"altair-viz-ebb0d71fc4624be6b0104da75993ce58\");\n",
              "    }\n",
              "    const paths = {\n",
              "      \"vega\": \"https://cdn.jsdelivr.net/npm//vega@5?noext\",\n",
              "      \"vega-lib\": \"https://cdn.jsdelivr.net/npm//vega-lib?noext\",\n",
              "      \"vega-lite\": \"https://cdn.jsdelivr.net/npm//vega-lite@4.8.1?noext\",\n",
              "      \"vega-embed\": \"https://cdn.jsdelivr.net/npm//vega-embed@6?noext\",\n",
              "    };\n",
              "\n",
              "    function loadScript(lib) {\n",
              "      return new Promise(function(resolve, reject) {\n",
              "        var s = document.createElement('script');\n",
              "        s.src = paths[lib];\n",
              "        s.async = true;\n",
              "        s.onload = () => resolve(paths[lib]);\n",
              "        s.onerror = () => reject(`Error loading script: ${paths[lib]}`);\n",
              "        document.getElementsByTagName(\"head\")[0].appendChild(s);\n",
              "      });\n",
              "    }\n",
              "\n",
              "    function showError(err) {\n",
              "      outputDiv.innerHTML = `<div class=\"error\" style=\"color:red;\">${err}</div>`;\n",
              "      throw err;\n",
              "    }\n",
              "\n",
              "    function displayChart(vegaEmbed) {\n",
              "      vegaEmbed(outputDiv, spec, embedOpt)\n",
              "        .catch(err => showError(`Javascript Error: ${err.message}<br>This usually means there's a typo in your chart specification. See the javascript console for the full traceback.`));\n",
              "    }\n",
              "\n",
              "    if(typeof define === \"function\" && define.amd) {\n",
              "      requirejs.config({paths});\n",
              "      require([\"vega-embed\"], displayChart, err => showError(`Error loading script: ${err.message}`));\n",
              "    } else if (typeof vegaEmbed === \"function\") {\n",
              "      displayChart(vegaEmbed);\n",
              "    } else {\n",
              "      loadScript(\"vega\")\n",
              "        .then(() => loadScript(\"vega-lite\"))\n",
              "        .then(() => loadScript(\"vega-embed\"))\n",
              "        .catch(showError)\n",
              "        .then(() => displayChart(vegaEmbed));\n",
              "    }\n",
              "  })({\"config\": {\"view\": {\"continuousWidth\": 400, \"continuousHeight\": 300}}, \"data\": {\"name\": \"data-23c276347be215f03b4e1ed4f905e46e\"}, \"mark\": \"bar\", \"encoding\": {\"x\": {\"type\": \"quantitative\", \"field\": \"Year\"}, \"y\": {\"type\": \"quantitative\", \"field\": \"arrest_percentage\"}}, \"title\": \"INTERFERENCE WITH PUBLIC OFFICER\", \"$schema\": \"https://vega.github.io/schema/vega-lite/v4.8.1.json\", \"datasets\": {\"data-23c276347be215f03b4e1ed4f905e46e\": [{\"Year\": 2001, \"PrimaryType\": \"INTERFERENCE WITH PUBLIC OFFICER\", \"False\": 78.0, \"True\": 328.0, \"arrest_percentage\": 80.78817733990148}, {\"Year\": 2002, \"PrimaryType\": \"INTERFERENCE WITH PUBLIC OFFICER\", \"False\": 92.0, \"True\": 269.0, \"arrest_percentage\": 74.51523545706371}, {\"Year\": 2003, \"PrimaryType\": \"INTERFERENCE WITH PUBLIC OFFICER\", \"False\": 62.0, \"True\": 346.0, \"arrest_percentage\": 84.80392156862744}, {\"Year\": 2004, \"PrimaryType\": \"INTERFERENCE WITH PUBLIC OFFICER\", \"False\": 66.0, \"True\": 465.0, \"arrest_percentage\": 87.57062146892656}, {\"Year\": 2005, \"PrimaryType\": \"INTERFERENCE WITH PUBLIC OFFICER\", \"False\": 63.0, \"True\": 552.0, \"arrest_percentage\": 89.75609756097562}, {\"Year\": 2006, \"PrimaryType\": \"INTERFERENCE WITH PUBLIC OFFICER\", \"False\": 79.0, \"True\": 679.0, \"arrest_percentage\": 89.5778364116095}, {\"Year\": 2007, \"PrimaryType\": \"INTERFERENCE WITH PUBLIC OFFICER\", \"False\": 48.0, \"True\": 629.0, \"arrest_percentage\": 92.90989660265879}, {\"Year\": 2008, \"PrimaryType\": \"INTERFERENCE WITH PUBLIC OFFICER\", \"False\": 120.0, \"True\": 460.0, \"arrest_percentage\": 79.3103448275862}, {\"Year\": 2009, \"PrimaryType\": \"INTERFERENCE WITH PUBLIC OFFICER\", \"False\": 45.0, \"True\": 528.0, \"arrest_percentage\": 92.14659685863874}, {\"Year\": 2010, \"PrimaryType\": \"INTERFERENCE WITH PUBLIC OFFICER\", \"False\": 99.0, \"True\": 698.0, \"arrest_percentage\": 87.5784190715182}, {\"Year\": 2011, \"PrimaryType\": \"INTERFERENCE WITH PUBLIC OFFICER\", \"False\": 66.0, \"True\": 982.0, \"arrest_percentage\": 93.70229007633588}, {\"Year\": 2012, \"PrimaryType\": \"INTERFERENCE WITH PUBLIC OFFICER\", \"False\": 66.0, \"True\": 1162.0, \"arrest_percentage\": 94.62540716612378}, {\"Year\": 2013, \"PrimaryType\": \"INTERFERENCE WITH PUBLIC OFFICER\", \"False\": 78.0, \"True\": 1203.0, \"arrest_percentage\": 93.91100702576112}, {\"Year\": 2014, \"PrimaryType\": \"INTERFERENCE WITH PUBLIC OFFICER\", \"False\": 75.0, \"True\": 1324.0, \"arrest_percentage\": 94.63902787705504}, {\"Year\": 2015, \"PrimaryType\": \"INTERFERENCE WITH PUBLIC OFFICER\", \"False\": 55.0, \"True\": 1253.0, \"arrest_percentage\": 95.79510703363916}, {\"Year\": 2016, \"PrimaryType\": \"INTERFERENCE WITH PUBLIC OFFICER\", \"False\": 49.0, \"True\": 887.0, \"arrest_percentage\": 94.76495726495726}, {\"Year\": 2017, \"PrimaryType\": \"INTERFERENCE WITH PUBLIC OFFICER\", \"False\": 55.0, \"True\": 1032.0, \"arrest_percentage\": 94.94020239190432}, {\"Year\": 2018, \"PrimaryType\": \"INTERFERENCE WITH PUBLIC OFFICER\", \"False\": 61.0, \"True\": 1245.0, \"arrest_percentage\": 95.32924961715162}, {\"Year\": 2019, \"PrimaryType\": \"INTERFERENCE WITH PUBLIC OFFICER\", \"False\": 60.0, \"True\": 1486.0, \"arrest_percentage\": 96.11901681759379}, {\"Year\": 2020, \"PrimaryType\": \"INTERFERENCE WITH PUBLIC OFFICER\", \"False\": 52.0, \"True\": 602.0, \"arrest_percentage\": 92.04892966360856}, {\"Year\": 2021, \"PrimaryType\": \"INTERFERENCE WITH PUBLIC OFFICER\", \"False\": 8.0, \"True\": 59.0, \"arrest_percentage\": 88.05970149253731}]}}, {\"mode\": \"vega-lite\"});\n",
              "</script>"
            ]
          },
          "metadata": {
            "tags": []
          }
        },
        {
          "output_type": "display_data",
          "data": {
            "text/plain": [
              "alt.Chart(...)"
            ],
            "text/html": [
              "\n",
              "<div id=\"altair-viz-5a89a5f168ba476e90095170a356022b\"></div>\n",
              "<script type=\"text/javascript\">\n",
              "  (function(spec, embedOpt){\n",
              "    let outputDiv = document.currentScript.previousElementSibling;\n",
              "    if (outputDiv.id !== \"altair-viz-5a89a5f168ba476e90095170a356022b\") {\n",
              "      outputDiv = document.getElementById(\"altair-viz-5a89a5f168ba476e90095170a356022b\");\n",
              "    }\n",
              "    const paths = {\n",
              "      \"vega\": \"https://cdn.jsdelivr.net/npm//vega@5?noext\",\n",
              "      \"vega-lib\": \"https://cdn.jsdelivr.net/npm//vega-lib?noext\",\n",
              "      \"vega-lite\": \"https://cdn.jsdelivr.net/npm//vega-lite@4.8.1?noext\",\n",
              "      \"vega-embed\": \"https://cdn.jsdelivr.net/npm//vega-embed@6?noext\",\n",
              "    };\n",
              "\n",
              "    function loadScript(lib) {\n",
              "      return new Promise(function(resolve, reject) {\n",
              "        var s = document.createElement('script');\n",
              "        s.src = paths[lib];\n",
              "        s.async = true;\n",
              "        s.onload = () => resolve(paths[lib]);\n",
              "        s.onerror = () => reject(`Error loading script: ${paths[lib]}`);\n",
              "        document.getElementsByTagName(\"head\")[0].appendChild(s);\n",
              "      });\n",
              "    }\n",
              "\n",
              "    function showError(err) {\n",
              "      outputDiv.innerHTML = `<div class=\"error\" style=\"color:red;\">${err}</div>`;\n",
              "      throw err;\n",
              "    }\n",
              "\n",
              "    function displayChart(vegaEmbed) {\n",
              "      vegaEmbed(outputDiv, spec, embedOpt)\n",
              "        .catch(err => showError(`Javascript Error: ${err.message}<br>This usually means there's a typo in your chart specification. See the javascript console for the full traceback.`));\n",
              "    }\n",
              "\n",
              "    if(typeof define === \"function\" && define.amd) {\n",
              "      requirejs.config({paths});\n",
              "      require([\"vega-embed\"], displayChart, err => showError(`Error loading script: ${err.message}`));\n",
              "    } else if (typeof vegaEmbed === \"function\") {\n",
              "      displayChart(vegaEmbed);\n",
              "    } else {\n",
              "      loadScript(\"vega\")\n",
              "        .then(() => loadScript(\"vega-lite\"))\n",
              "        .then(() => loadScript(\"vega-embed\"))\n",
              "        .catch(showError)\n",
              "        .then(() => displayChart(vegaEmbed));\n",
              "    }\n",
              "  })({\"config\": {\"view\": {\"continuousWidth\": 400, \"continuousHeight\": 300}}, \"data\": {\"name\": \"data-9c33916f7ec8805c86b55863e217ee2c\"}, \"mark\": \"bar\", \"encoding\": {\"x\": {\"type\": \"quantitative\", \"field\": \"Year\"}, \"y\": {\"type\": \"quantitative\", \"field\": \"arrest_percentage\"}}, \"title\": \"INTIMIDATION\", \"$schema\": \"https://vega.github.io/schema/vega-lite/v4.8.1.json\", \"datasets\": {\"data-9c33916f7ec8805c86b55863e217ee2c\": [{\"Year\": 2001, \"PrimaryType\": \"INTIMIDATION\", \"False\": 204.0, \"True\": 75.0, \"arrest_percentage\": 26.881720430107524}, {\"Year\": 2002, \"PrimaryType\": \"INTIMIDATION\", \"False\": 278.0, \"True\": 59.0, \"arrest_percentage\": 17.50741839762611}, {\"Year\": 2003, \"PrimaryType\": \"INTIMIDATION\", \"False\": 317.0, \"True\": 47.0, \"arrest_percentage\": 12.912087912087914}, {\"Year\": 2004, \"PrimaryType\": \"INTIMIDATION\", \"False\": 280.0, \"True\": 69.0, \"arrest_percentage\": 19.770773638968482}, {\"Year\": 2005, \"PrimaryType\": \"INTIMIDATION\", \"False\": 215.0, \"True\": 43.0, \"arrest_percentage\": 16.666666666666664}, {\"Year\": 2006, \"PrimaryType\": \"INTIMIDATION\", \"False\": 234.0, \"True\": 42.0, \"arrest_percentage\": 15.217391304347828}, {\"Year\": 2007, \"PrimaryType\": \"INTIMIDATION\", \"False\": 204.0, \"True\": 51.0, \"arrest_percentage\": 20.0}, {\"Year\": 2008, \"PrimaryType\": \"INTIMIDATION\", \"False\": 205.0, \"True\": 56.0, \"arrest_percentage\": 21.455938697318008}, {\"Year\": 2009, \"PrimaryType\": \"INTIMIDATION\", \"False\": 192.0, \"True\": 39.0, \"arrest_percentage\": 16.883116883116884}, {\"Year\": 2010, \"PrimaryType\": \"INTIMIDATION\", \"False\": 174.0, \"True\": 23.0, \"arrest_percentage\": 11.6751269035533}, {\"Year\": 2011, \"PrimaryType\": \"INTIMIDATION\", \"False\": 129.0, \"True\": 42.0, \"arrest_percentage\": 24.561403508771928}, {\"Year\": 2012, \"PrimaryType\": \"INTIMIDATION\", \"False\": 122.0, \"True\": 34.0, \"arrest_percentage\": 21.794871794871796}, {\"Year\": 2013, \"PrimaryType\": \"INTIMIDATION\", \"False\": 115.0, \"True\": 20.0, \"arrest_percentage\": 14.814814814814813}, {\"Year\": 2014, \"PrimaryType\": \"INTIMIDATION\", \"False\": 88.0, \"True\": 27.0, \"arrest_percentage\": 23.47826086956522}, {\"Year\": 2015, \"PrimaryType\": \"INTIMIDATION\", \"False\": 102.0, \"True\": 21.0, \"arrest_percentage\": 17.073170731707318}, {\"Year\": 2016, \"PrimaryType\": \"INTIMIDATION\", \"False\": 110.0, \"True\": 25.0, \"arrest_percentage\": 18.51851851851852}, {\"Year\": 2017, \"PrimaryType\": \"INTIMIDATION\", \"False\": 136.0, \"True\": 14.0, \"arrest_percentage\": 9.333333333333334}, {\"Year\": 2018, \"PrimaryType\": \"INTIMIDATION\", \"False\": 156.0, \"True\": 13.0, \"arrest_percentage\": 7.6923076923076925}, {\"Year\": 2019, \"PrimaryType\": \"INTIMIDATION\", \"False\": 157.0, \"True\": 6.0, \"arrest_percentage\": 3.6809815950920246}, {\"Year\": 2020, \"PrimaryType\": \"INTIMIDATION\", \"False\": 156.0, \"True\": 5.0, \"arrest_percentage\": 3.1055900621118013}, {\"Year\": 2021, \"PrimaryType\": \"INTIMIDATION\", \"False\": 16.0, \"True\": 1.0, \"arrest_percentage\": 5.88235294117647}]}}, {\"mode\": \"vega-lite\"});\n",
              "</script>"
            ]
          },
          "metadata": {
            "tags": []
          }
        },
        {
          "output_type": "display_data",
          "data": {
            "text/plain": [
              "alt.Chart(...)"
            ],
            "text/html": [
              "\n",
              "<div id=\"altair-viz-7e8566af444c4cfdaa10d6d552434116\"></div>\n",
              "<script type=\"text/javascript\">\n",
              "  (function(spec, embedOpt){\n",
              "    let outputDiv = document.currentScript.previousElementSibling;\n",
              "    if (outputDiv.id !== \"altair-viz-7e8566af444c4cfdaa10d6d552434116\") {\n",
              "      outputDiv = document.getElementById(\"altair-viz-7e8566af444c4cfdaa10d6d552434116\");\n",
              "    }\n",
              "    const paths = {\n",
              "      \"vega\": \"https://cdn.jsdelivr.net/npm//vega@5?noext\",\n",
              "      \"vega-lib\": \"https://cdn.jsdelivr.net/npm//vega-lib?noext\",\n",
              "      \"vega-lite\": \"https://cdn.jsdelivr.net/npm//vega-lite@4.8.1?noext\",\n",
              "      \"vega-embed\": \"https://cdn.jsdelivr.net/npm//vega-embed@6?noext\",\n",
              "    };\n",
              "\n",
              "    function loadScript(lib) {\n",
              "      return new Promise(function(resolve, reject) {\n",
              "        var s = document.createElement('script');\n",
              "        s.src = paths[lib];\n",
              "        s.async = true;\n",
              "        s.onload = () => resolve(paths[lib]);\n",
              "        s.onerror = () => reject(`Error loading script: ${paths[lib]}`);\n",
              "        document.getElementsByTagName(\"head\")[0].appendChild(s);\n",
              "      });\n",
              "    }\n",
              "\n",
              "    function showError(err) {\n",
              "      outputDiv.innerHTML = `<div class=\"error\" style=\"color:red;\">${err}</div>`;\n",
              "      throw err;\n",
              "    }\n",
              "\n",
              "    function displayChart(vegaEmbed) {\n",
              "      vegaEmbed(outputDiv, spec, embedOpt)\n",
              "        .catch(err => showError(`Javascript Error: ${err.message}<br>This usually means there's a typo in your chart specification. See the javascript console for the full traceback.`));\n",
              "    }\n",
              "\n",
              "    if(typeof define === \"function\" && define.amd) {\n",
              "      requirejs.config({paths});\n",
              "      require([\"vega-embed\"], displayChart, err => showError(`Error loading script: ${err.message}`));\n",
              "    } else if (typeof vegaEmbed === \"function\") {\n",
              "      displayChart(vegaEmbed);\n",
              "    } else {\n",
              "      loadScript(\"vega\")\n",
              "        .then(() => loadScript(\"vega-lite\"))\n",
              "        .then(() => loadScript(\"vega-embed\"))\n",
              "        .catch(showError)\n",
              "        .then(() => displayChart(vegaEmbed));\n",
              "    }\n",
              "  })({\"config\": {\"view\": {\"continuousWidth\": 400, \"continuousHeight\": 300}}, \"data\": {\"name\": \"data-27c8b669f11f3924205d424c6810017e\"}, \"mark\": \"bar\", \"encoding\": {\"x\": {\"type\": \"quantitative\", \"field\": \"Year\"}, \"y\": {\"type\": \"quantitative\", \"field\": \"arrest_percentage\"}}, \"title\": \"KIDNAPPING\", \"$schema\": \"https://vega.github.io/schema/vega-lite/v4.8.1.json\", \"datasets\": {\"data-27c8b669f11f3924205d424c6810017e\": [{\"Year\": 2001, \"PrimaryType\": \"KIDNAPPING\", \"False\": 795.0, \"True\": 138.0, \"arrest_percentage\": 14.790996784565916}, {\"Year\": 2002, \"PrimaryType\": \"KIDNAPPING\", \"False\": 746.0, \"True\": 83.0, \"arrest_percentage\": 10.012062726176115}, {\"Year\": 2003, \"PrimaryType\": \"KIDNAPPING\", \"False\": 636.0, \"True\": 69.0, \"arrest_percentage\": 9.787234042553191}, {\"Year\": 2004, \"PrimaryType\": \"KIDNAPPING\", \"False\": 424.0, \"True\": 58.0, \"arrest_percentage\": 12.033195020746888}, {\"Year\": 2005, \"PrimaryType\": \"KIDNAPPING\", \"False\": 334.0, \"True\": 55.0, \"arrest_percentage\": 14.138817480719796}, {\"Year\": 2006, \"PrimaryType\": \"KIDNAPPING\", \"False\": 284.0, \"True\": 55.0, \"arrest_percentage\": 16.224188790560472}, {\"Year\": 2007, \"PrimaryType\": \"KIDNAPPING\", \"False\": 296.0, \"True\": 33.0, \"arrest_percentage\": 10.030395136778116}, {\"Year\": 2008, \"PrimaryType\": \"KIDNAPPING\", \"False\": 321.0, \"True\": 38.0, \"arrest_percentage\": 10.584958217270195}, {\"Year\": 2009, \"PrimaryType\": \"KIDNAPPING\", \"False\": 264.0, \"True\": 29.0, \"arrest_percentage\": 9.897610921501707}, {\"Year\": 2010, \"PrimaryType\": \"KIDNAPPING\", \"False\": 286.0, \"True\": 27.0, \"arrest_percentage\": 8.626198083067091}, {\"Year\": 2011, \"PrimaryType\": \"KIDNAPPING\", \"False\": 235.0, \"True\": 31.0, \"arrest_percentage\": 11.654135338345863}, {\"Year\": 2012, \"PrimaryType\": \"KIDNAPPING\", \"False\": 214.0, \"True\": 21.0, \"arrest_percentage\": 8.936170212765958}, {\"Year\": 2013, \"PrimaryType\": \"KIDNAPPING\", \"False\": 208.0, \"True\": 34.0, \"arrest_percentage\": 14.049586776859504}, {\"Year\": 2014, \"PrimaryType\": \"KIDNAPPING\", \"False\": 202.0, \"True\": 18.0, \"arrest_percentage\": 8.181818181818182}, {\"Year\": 2015, \"PrimaryType\": \"KIDNAPPING\", \"False\": 175.0, \"True\": 15.0, \"arrest_percentage\": 7.894736842105263}, {\"Year\": 2016, \"PrimaryType\": \"KIDNAPPING\", \"False\": 187.0, \"True\": 15.0, \"arrest_percentage\": 7.425742574257425}, {\"Year\": 2017, \"PrimaryType\": \"KIDNAPPING\", \"False\": 173.0, \"True\": 17.0, \"arrest_percentage\": 8.947368421052632}, {\"Year\": 2018, \"PrimaryType\": \"KIDNAPPING\", \"False\": 164.0, \"True\": 8.0, \"arrest_percentage\": 4.651162790697675}, {\"Year\": 2019, \"PrimaryType\": \"KIDNAPPING\", \"False\": 161.0, \"True\": 11.0, \"arrest_percentage\": 6.395348837209303}, {\"Year\": 2020, \"PrimaryType\": \"KIDNAPPING\", \"False\": 111.0, \"True\": 8.0, \"arrest_percentage\": 6.722689075630252}, {\"Year\": 2021, \"PrimaryType\": \"KIDNAPPING\", \"False\": 12.0, \"True\": null, \"arrest_percentage\": null}]}}, {\"mode\": \"vega-lite\"});\n",
              "</script>"
            ]
          },
          "metadata": {
            "tags": []
          }
        },
        {
          "output_type": "display_data",
          "data": {
            "text/plain": [
              "alt.Chart(...)"
            ],
            "text/html": [
              "\n",
              "<div id=\"altair-viz-0ab6f9a4ae7b423a8caf24f49f0344f4\"></div>\n",
              "<script type=\"text/javascript\">\n",
              "  (function(spec, embedOpt){\n",
              "    let outputDiv = document.currentScript.previousElementSibling;\n",
              "    if (outputDiv.id !== \"altair-viz-0ab6f9a4ae7b423a8caf24f49f0344f4\") {\n",
              "      outputDiv = document.getElementById(\"altair-viz-0ab6f9a4ae7b423a8caf24f49f0344f4\");\n",
              "    }\n",
              "    const paths = {\n",
              "      \"vega\": \"https://cdn.jsdelivr.net/npm//vega@5?noext\",\n",
              "      \"vega-lib\": \"https://cdn.jsdelivr.net/npm//vega-lib?noext\",\n",
              "      \"vega-lite\": \"https://cdn.jsdelivr.net/npm//vega-lite@4.8.1?noext\",\n",
              "      \"vega-embed\": \"https://cdn.jsdelivr.net/npm//vega-embed@6?noext\",\n",
              "    };\n",
              "\n",
              "    function loadScript(lib) {\n",
              "      return new Promise(function(resolve, reject) {\n",
              "        var s = document.createElement('script');\n",
              "        s.src = paths[lib];\n",
              "        s.async = true;\n",
              "        s.onload = () => resolve(paths[lib]);\n",
              "        s.onerror = () => reject(`Error loading script: ${paths[lib]}`);\n",
              "        document.getElementsByTagName(\"head\")[0].appendChild(s);\n",
              "      });\n",
              "    }\n",
              "\n",
              "    function showError(err) {\n",
              "      outputDiv.innerHTML = `<div class=\"error\" style=\"color:red;\">${err}</div>`;\n",
              "      throw err;\n",
              "    }\n",
              "\n",
              "    function displayChart(vegaEmbed) {\n",
              "      vegaEmbed(outputDiv, spec, embedOpt)\n",
              "        .catch(err => showError(`Javascript Error: ${err.message}<br>This usually means there's a typo in your chart specification. See the javascript console for the full traceback.`));\n",
              "    }\n",
              "\n",
              "    if(typeof define === \"function\" && define.amd) {\n",
              "      requirejs.config({paths});\n",
              "      require([\"vega-embed\"], displayChart, err => showError(`Error loading script: ${err.message}`));\n",
              "    } else if (typeof vegaEmbed === \"function\") {\n",
              "      displayChart(vegaEmbed);\n",
              "    } else {\n",
              "      loadScript(\"vega\")\n",
              "        .then(() => loadScript(\"vega-lite\"))\n",
              "        .then(() => loadScript(\"vega-embed\"))\n",
              "        .catch(showError)\n",
              "        .then(() => displayChart(vegaEmbed));\n",
              "    }\n",
              "  })({\"config\": {\"view\": {\"continuousWidth\": 400, \"continuousHeight\": 300}}, \"data\": {\"name\": \"data-83b8272ac7f27947fd2082ebafbff0bb\"}, \"mark\": \"bar\", \"encoding\": {\"x\": {\"type\": \"quantitative\", \"field\": \"Year\"}, \"y\": {\"type\": \"quantitative\", \"field\": \"arrest_percentage\"}}, \"title\": \"LIQUOR LAW VIOLATION\", \"$schema\": \"https://vega.github.io/schema/vega-lite/v4.8.1.json\", \"datasets\": {\"data-83b8272ac7f27947fd2082ebafbff0bb\": [{\"Year\": 2001, \"PrimaryType\": \"LIQUOR LAW VIOLATION\", \"False\": 1.0, \"True\": 1636.0, \"arrest_percentage\": 99.93891264508247}, {\"Year\": 2002, \"PrimaryType\": \"LIQUOR LAW VIOLATION\", \"False\": 1.0, \"True\": 1413.0, \"arrest_percentage\": 99.92927864214994}, {\"Year\": 2003, \"PrimaryType\": \"LIQUOR LAW VIOLATION\", \"False\": 1.0, \"True\": 1310.0, \"arrest_percentage\": 99.92372234935164}, {\"Year\": 2004, \"PrimaryType\": \"LIQUOR LAW VIOLATION\", \"False\": 3.0, \"True\": 982.0, \"arrest_percentage\": 99.69543147208122}, {\"Year\": 2005, \"PrimaryType\": \"LIQUOR LAW VIOLATION\", \"False\": 4.0, \"True\": 1001.0, \"arrest_percentage\": 99.60199004975124}, {\"Year\": 2006, \"PrimaryType\": \"LIQUOR LAW VIOLATION\", \"False\": 19.0, \"True\": 1116.0, \"arrest_percentage\": 98.32599118942731}, {\"Year\": 2007, \"PrimaryType\": \"LIQUOR LAW VIOLATION\", \"False\": 16.0, \"True\": 1154.0, \"arrest_percentage\": 98.63247863247864}, {\"Year\": 2008, \"PrimaryType\": \"LIQUOR LAW VIOLATION\", \"False\": 25.0, \"True\": 887.0, \"arrest_percentage\": 97.25877192982456}, {\"Year\": 2009, \"PrimaryType\": \"LIQUOR LAW VIOLATION\", \"False\": 8.0, \"True\": 738.0, \"arrest_percentage\": 98.92761394101876}, {\"Year\": 2010, \"PrimaryType\": \"LIQUOR LAW VIOLATION\", \"False\": 1.0, \"True\": 736.0, \"arrest_percentage\": 99.86431478968792}, {\"Year\": 2011, \"PrimaryType\": \"LIQUOR LAW VIOLATION\", \"False\": 4.0, \"True\": 615.0, \"arrest_percentage\": 99.35379644588045}, {\"Year\": 2012, \"PrimaryType\": \"LIQUOR LAW VIOLATION\", \"False\": 11.0, \"True\": 562.0, \"arrest_percentage\": 98.08027923211169}, {\"Year\": 2013, \"PrimaryType\": \"LIQUOR LAW VIOLATION\", \"False\": 17.0, \"True\": 448.0, \"arrest_percentage\": 96.34408602150538}, {\"Year\": 2014, \"PrimaryType\": \"LIQUOR LAW VIOLATION\", \"False\": 11.0, \"True\": 386.0, \"arrest_percentage\": 97.22921914357683}, {\"Year\": 2015, \"PrimaryType\": \"LIQUOR LAW VIOLATION\", \"False\": 1.0, \"True\": 291.0, \"arrest_percentage\": 99.65753424657534}, {\"Year\": 2016, \"PrimaryType\": \"LIQUOR LAW VIOLATION\", \"False\": 1.0, \"True\": 226.0, \"arrest_percentage\": 99.55947136563876}, {\"Year\": 2017, \"PrimaryType\": \"LIQUOR LAW VIOLATION\", \"False\": null, \"True\": 191.0, \"arrest_percentage\": null}, {\"Year\": 2018, \"PrimaryType\": \"LIQUOR LAW VIOLATION\", \"False\": null, \"True\": 268.0, \"arrest_percentage\": null}, {\"Year\": 2019, \"PrimaryType\": \"LIQUOR LAW VIOLATION\", \"False\": null, \"True\": 232.0, \"arrest_percentage\": null}, {\"Year\": 2020, \"PrimaryType\": \"LIQUOR LAW VIOLATION\", \"False\": null, \"True\": 143.0, \"arrest_percentage\": null}, {\"Year\": 2021, \"PrimaryType\": \"LIQUOR LAW VIOLATION\", \"False\": null, \"True\": 23.0, \"arrest_percentage\": null}]}}, {\"mode\": \"vega-lite\"});\n",
              "</script>"
            ]
          },
          "metadata": {
            "tags": []
          }
        },
        {
          "output_type": "display_data",
          "data": {
            "text/plain": [
              "alt.Chart(...)"
            ],
            "text/html": [
              "\n",
              "<div id=\"altair-viz-6f58c45374104a6ba6e84e1c05251938\"></div>\n",
              "<script type=\"text/javascript\">\n",
              "  (function(spec, embedOpt){\n",
              "    let outputDiv = document.currentScript.previousElementSibling;\n",
              "    if (outputDiv.id !== \"altair-viz-6f58c45374104a6ba6e84e1c05251938\") {\n",
              "      outputDiv = document.getElementById(\"altair-viz-6f58c45374104a6ba6e84e1c05251938\");\n",
              "    }\n",
              "    const paths = {\n",
              "      \"vega\": \"https://cdn.jsdelivr.net/npm//vega@5?noext\",\n",
              "      \"vega-lib\": \"https://cdn.jsdelivr.net/npm//vega-lib?noext\",\n",
              "      \"vega-lite\": \"https://cdn.jsdelivr.net/npm//vega-lite@4.8.1?noext\",\n",
              "      \"vega-embed\": \"https://cdn.jsdelivr.net/npm//vega-embed@6?noext\",\n",
              "    };\n",
              "\n",
              "    function loadScript(lib) {\n",
              "      return new Promise(function(resolve, reject) {\n",
              "        var s = document.createElement('script');\n",
              "        s.src = paths[lib];\n",
              "        s.async = true;\n",
              "        s.onload = () => resolve(paths[lib]);\n",
              "        s.onerror = () => reject(`Error loading script: ${paths[lib]}`);\n",
              "        document.getElementsByTagName(\"head\")[0].appendChild(s);\n",
              "      });\n",
              "    }\n",
              "\n",
              "    function showError(err) {\n",
              "      outputDiv.innerHTML = `<div class=\"error\" style=\"color:red;\">${err}</div>`;\n",
              "      throw err;\n",
              "    }\n",
              "\n",
              "    function displayChart(vegaEmbed) {\n",
              "      vegaEmbed(outputDiv, spec, embedOpt)\n",
              "        .catch(err => showError(`Javascript Error: ${err.message}<br>This usually means there's a typo in your chart specification. See the javascript console for the full traceback.`));\n",
              "    }\n",
              "\n",
              "    if(typeof define === \"function\" && define.amd) {\n",
              "      requirejs.config({paths});\n",
              "      require([\"vega-embed\"], displayChart, err => showError(`Error loading script: ${err.message}`));\n",
              "    } else if (typeof vegaEmbed === \"function\") {\n",
              "      displayChart(vegaEmbed);\n",
              "    } else {\n",
              "      loadScript(\"vega\")\n",
              "        .then(() => loadScript(\"vega-lite\"))\n",
              "        .then(() => loadScript(\"vega-embed\"))\n",
              "        .catch(showError)\n",
              "        .then(() => displayChart(vegaEmbed));\n",
              "    }\n",
              "  })({\"config\": {\"view\": {\"continuousWidth\": 400, \"continuousHeight\": 300}}, \"data\": {\"name\": \"data-47ed2423c3eb7eef4105dd655e7227c5\"}, \"mark\": \"bar\", \"encoding\": {\"x\": {\"type\": \"quantitative\", \"field\": \"Year\"}, \"y\": {\"type\": \"quantitative\", \"field\": \"arrest_percentage\"}}, \"title\": \"MOTOR VEHICLE THEFT\", \"$schema\": \"https://vega.github.io/schema/vega-lite/v4.8.1.json\", \"datasets\": {\"data-47ed2423c3eb7eef4105dd655e7227c5\": [{\"Year\": 2001, \"PrimaryType\": \"MOTOR VEHICLE THEFT\", \"False\": 24133.0, \"True\": 3417.0, \"arrest_percentage\": 12.402903811252267}, {\"Year\": 2002, \"PrimaryType\": \"MOTOR VEHICLE THEFT\", \"False\": 21958.0, \"True\": 3163.0, \"arrest_percentage\": 12.591059273118107}, {\"Year\": 2003, \"PrimaryType\": \"MOTOR VEHICLE THEFT\", \"False\": 20008.0, \"True\": 2740.0, \"arrest_percentage\": 12.045014946368912}, {\"Year\": 2004, \"PrimaryType\": \"MOTOR VEHICLE THEFT\", \"False\": 20291.0, \"True\": 2514.0, \"arrest_percentage\": 11.023898267923702}, {\"Year\": 2005, \"PrimaryType\": \"MOTOR VEHICLE THEFT\", \"False\": 20154.0, \"True\": 2343.0, \"arrest_percentage\": 10.41472196292839}, {\"Year\": 2006, \"PrimaryType\": \"MOTOR VEHICLE THEFT\", \"False\": 19830.0, \"True\": 1988.0, \"arrest_percentage\": 9.111742597854983}, {\"Year\": 2007, \"PrimaryType\": \"MOTOR VEHICLE THEFT\", \"False\": 16794.0, \"True\": 1779.0, \"arrest_percentage\": 9.578420287514133}, {\"Year\": 2008, \"PrimaryType\": \"MOTOR VEHICLE THEFT\", \"False\": 17355.0, \"True\": 1526.0, \"arrest_percentage\": 8.082199036068005}, {\"Year\": 2009, \"PrimaryType\": \"MOTOR VEHICLE THEFT\", \"False\": 14182.0, \"True\": 1300.0, \"arrest_percentage\": 8.396847952460924}, {\"Year\": 2010, \"PrimaryType\": \"MOTOR VEHICLE THEFT\", \"False\": 17982.0, \"True\": 1047.0, \"arrest_percentage\": 5.502128330443008}, {\"Year\": 2011, \"PrimaryType\": \"MOTOR VEHICLE THEFT\", \"False\": 18441.0, \"True\": 947.0, \"arrest_percentage\": 4.884464617289045}, {\"Year\": 2012, \"PrimaryType\": \"MOTOR VEHICLE THEFT\", \"False\": 15624.0, \"True\": 868.0, \"arrest_percentage\": 5.263157894736842}, {\"Year\": 2013, \"PrimaryType\": \"MOTOR VEHICLE THEFT\", \"False\": 11748.0, \"True\": 834.0, \"arrest_percentage\": 6.628516928946114}, {\"Year\": 2014, \"PrimaryType\": \"MOTOR VEHICLE THEFT\", \"False\": 9148.0, \"True\": 763.0, \"arrest_percentage\": 7.69851679951569}, {\"Year\": 2015, \"PrimaryType\": \"MOTOR VEHICLE THEFT\", \"False\": 9066.0, \"True\": 1002.0, \"arrest_percentage\": 9.9523241954708}, {\"Year\": 2016, \"PrimaryType\": \"MOTOR VEHICLE THEFT\", \"False\": 10189.0, \"True\": 1098.0, \"arrest_percentage\": 9.7280056702401}, {\"Year\": 2017, \"PrimaryType\": \"MOTOR VEHICLE THEFT\", \"False\": 10466.0, \"True\": 915.0, \"arrest_percentage\": 8.03971531499868}, {\"Year\": 2018, \"PrimaryType\": \"MOTOR VEHICLE THEFT\", \"False\": 9433.0, \"True\": 549.0, \"arrest_percentage\": 5.499899819675416}, {\"Year\": 2019, \"PrimaryType\": \"MOTOR VEHICLE THEFT\", \"False\": 8455.0, \"True\": 519.0, \"arrest_percentage\": 5.783374192110542}, {\"Year\": 2020, \"PrimaryType\": \"MOTOR VEHICLE THEFT\", \"False\": 9478.0, \"True\": 460.0, \"arrest_percentage\": 4.62869792714832}, {\"Year\": 2021, \"PrimaryType\": \"MOTOR VEHICLE THEFT\", \"False\": 1669.0, \"True\": 67.0, \"arrest_percentage\": 3.859447004608295}]}}, {\"mode\": \"vega-lite\"});\n",
              "</script>"
            ]
          },
          "metadata": {
            "tags": []
          }
        },
        {
          "output_type": "display_data",
          "data": {
            "text/plain": [
              "alt.Chart(...)"
            ],
            "text/html": [
              "\n",
              "<div id=\"altair-viz-3dfac427df1247a08108dabfa913b7d0\"></div>\n",
              "<script type=\"text/javascript\">\n",
              "  (function(spec, embedOpt){\n",
              "    let outputDiv = document.currentScript.previousElementSibling;\n",
              "    if (outputDiv.id !== \"altair-viz-3dfac427df1247a08108dabfa913b7d0\") {\n",
              "      outputDiv = document.getElementById(\"altair-viz-3dfac427df1247a08108dabfa913b7d0\");\n",
              "    }\n",
              "    const paths = {\n",
              "      \"vega\": \"https://cdn.jsdelivr.net/npm//vega@5?noext\",\n",
              "      \"vega-lib\": \"https://cdn.jsdelivr.net/npm//vega-lib?noext\",\n",
              "      \"vega-lite\": \"https://cdn.jsdelivr.net/npm//vega-lite@4.8.1?noext\",\n",
              "      \"vega-embed\": \"https://cdn.jsdelivr.net/npm//vega-embed@6?noext\",\n",
              "    };\n",
              "\n",
              "    function loadScript(lib) {\n",
              "      return new Promise(function(resolve, reject) {\n",
              "        var s = document.createElement('script');\n",
              "        s.src = paths[lib];\n",
              "        s.async = true;\n",
              "        s.onload = () => resolve(paths[lib]);\n",
              "        s.onerror = () => reject(`Error loading script: ${paths[lib]}`);\n",
              "        document.getElementsByTagName(\"head\")[0].appendChild(s);\n",
              "      });\n",
              "    }\n",
              "\n",
              "    function showError(err) {\n",
              "      outputDiv.innerHTML = `<div class=\"error\" style=\"color:red;\">${err}</div>`;\n",
              "      throw err;\n",
              "    }\n",
              "\n",
              "    function displayChart(vegaEmbed) {\n",
              "      vegaEmbed(outputDiv, spec, embedOpt)\n",
              "        .catch(err => showError(`Javascript Error: ${err.message}<br>This usually means there's a typo in your chart specification. See the javascript console for the full traceback.`));\n",
              "    }\n",
              "\n",
              "    if(typeof define === \"function\" && define.amd) {\n",
              "      requirejs.config({paths});\n",
              "      require([\"vega-embed\"], displayChart, err => showError(`Error loading script: ${err.message}`));\n",
              "    } else if (typeof vegaEmbed === \"function\") {\n",
              "      displayChart(vegaEmbed);\n",
              "    } else {\n",
              "      loadScript(\"vega\")\n",
              "        .then(() => loadScript(\"vega-lite\"))\n",
              "        .then(() => loadScript(\"vega-embed\"))\n",
              "        .catch(showError)\n",
              "        .then(() => displayChart(vegaEmbed));\n",
              "    }\n",
              "  })({\"config\": {\"view\": {\"continuousWidth\": 400, \"continuousHeight\": 300}}, \"data\": {\"name\": \"data-7cde08b3e162e66bc3bda7736c0514d5\"}, \"mark\": \"bar\", \"encoding\": {\"x\": {\"type\": \"quantitative\", \"field\": \"Year\"}, \"y\": {\"type\": \"quantitative\", \"field\": \"arrest_percentage\"}}, \"title\": \"NARCOTICS\", \"$schema\": \"https://vega.github.io/schema/vega-lite/v4.8.1.json\", \"datasets\": {\"data-7cde08b3e162e66bc3bda7736c0514d5\": [{\"Year\": 2001, \"PrimaryType\": \"NARCOTICS\", \"False\": 8.0, \"True\": 50559.0, \"arrest_percentage\": 99.98417940554117}, {\"Year\": 2002, \"PrimaryType\": \"NARCOTICS\", \"False\": 8.0, \"True\": 51781.0, \"arrest_percentage\": 99.98455270424222}, {\"Year\": 2003, \"PrimaryType\": \"NARCOTICS\", \"False\": 5.0, \"True\": 54283.0, \"arrest_percentage\": 99.99078986147951}, {\"Year\": 2004, \"PrimaryType\": \"NARCOTICS\", \"False\": 26.0, \"True\": 57034.0, \"arrest_percentage\": 99.95443392919734}, {\"Year\": 2005, \"PrimaryType\": \"NARCOTICS\", \"False\": 113.0, \"True\": 56121.0, \"arrest_percentage\": 99.79905395312444}, {\"Year\": 2006, \"PrimaryType\": \"NARCOTICS\", \"False\": 577.0, \"True\": 55236.0, \"arrest_percentage\": 98.96619067242399}, {\"Year\": 2007, \"PrimaryType\": \"NARCOTICS\", \"False\": 1203.0, \"True\": 53251.0, \"arrest_percentage\": 97.79079590112755}, {\"Year\": 2008, \"PrimaryType\": \"NARCOTICS\", \"False\": 1024.0, \"True\": 45483.0, \"arrest_percentage\": 97.79818091900144}, {\"Year\": 2009, \"PrimaryType\": \"NARCOTICS\", \"False\": 328.0, \"True\": 43214.0, \"arrest_percentage\": 99.2467043314501}, {\"Year\": 2010, \"PrimaryType\": \"NARCOTICS\", \"False\": 99.0, \"True\": 43294.0, \"arrest_percentage\": 99.7718526029544}, {\"Year\": 2011, \"PrimaryType\": \"NARCOTICS\", \"False\": 60.0, \"True\": 38545.0, \"arrest_percentage\": 99.84457971765316}, {\"Year\": 2012, \"PrimaryType\": \"NARCOTICS\", \"False\": 261.0, \"True\": 35228.0, \"arrest_percentage\": 99.2645608498408}, {\"Year\": 2013, \"PrimaryType\": \"NARCOTICS\", \"False\": 308.0, \"True\": 33819.0, \"arrest_percentage\": 99.09748879186567}, {\"Year\": 2014, \"PrimaryType\": \"NARCOTICS\", \"False\": 116.0, \"True\": 29002.0, \"arrest_percentage\": 99.60162099045264}, {\"Year\": 2015, \"PrimaryType\": \"NARCOTICS\", \"False\": 8.0, \"True\": 23931.0, \"arrest_percentage\": 99.96658172856009}, {\"Year\": 2016, \"PrimaryType\": \"NARCOTICS\", \"False\": 6.0, \"True\": 13327.0, \"arrest_percentage\": 99.95499887497188}, {\"Year\": 2017, \"PrimaryType\": \"NARCOTICS\", \"False\": 6.0, \"True\": 11668.0, \"arrest_percentage\": 99.94860373479527}, {\"Year\": 2018, \"PrimaryType\": \"NARCOTICS\", \"False\": 6.0, \"True\": 13571.0, \"arrest_percentage\": 99.95580761582087}, {\"Year\": 2019, \"PrimaryType\": \"NARCOTICS\", \"False\": 5.0, \"True\": 15055.0, \"arrest_percentage\": 99.9667994687915}, {\"Year\": 2020, \"PrimaryType\": \"NARCOTICS\", \"False\": 3.0, \"True\": 7333.0, \"arrest_percentage\": 99.95910577971647}, {\"Year\": 2021, \"PrimaryType\": \"NARCOTICS\", \"False\": null, \"True\": 983.0, \"arrest_percentage\": null}]}}, {\"mode\": \"vega-lite\"});\n",
              "</script>"
            ]
          },
          "metadata": {
            "tags": []
          }
        },
        {
          "output_type": "display_data",
          "data": {
            "text/plain": [
              "alt.Chart(...)"
            ],
            "text/html": [
              "\n",
              "<div id=\"altair-viz-8bc8313d5e6b4ce18aac62bf1ed3b74d\"></div>\n",
              "<script type=\"text/javascript\">\n",
              "  (function(spec, embedOpt){\n",
              "    let outputDiv = document.currentScript.previousElementSibling;\n",
              "    if (outputDiv.id !== \"altair-viz-8bc8313d5e6b4ce18aac62bf1ed3b74d\") {\n",
              "      outputDiv = document.getElementById(\"altair-viz-8bc8313d5e6b4ce18aac62bf1ed3b74d\");\n",
              "    }\n",
              "    const paths = {\n",
              "      \"vega\": \"https://cdn.jsdelivr.net/npm//vega@5?noext\",\n",
              "      \"vega-lib\": \"https://cdn.jsdelivr.net/npm//vega-lib?noext\",\n",
              "      \"vega-lite\": \"https://cdn.jsdelivr.net/npm//vega-lite@4.8.1?noext\",\n",
              "      \"vega-embed\": \"https://cdn.jsdelivr.net/npm//vega-embed@6?noext\",\n",
              "    };\n",
              "\n",
              "    function loadScript(lib) {\n",
              "      return new Promise(function(resolve, reject) {\n",
              "        var s = document.createElement('script');\n",
              "        s.src = paths[lib];\n",
              "        s.async = true;\n",
              "        s.onload = () => resolve(paths[lib]);\n",
              "        s.onerror = () => reject(`Error loading script: ${paths[lib]}`);\n",
              "        document.getElementsByTagName(\"head\")[0].appendChild(s);\n",
              "      });\n",
              "    }\n",
              "\n",
              "    function showError(err) {\n",
              "      outputDiv.innerHTML = `<div class=\"error\" style=\"color:red;\">${err}</div>`;\n",
              "      throw err;\n",
              "    }\n",
              "\n",
              "    function displayChart(vegaEmbed) {\n",
              "      vegaEmbed(outputDiv, spec, embedOpt)\n",
              "        .catch(err => showError(`Javascript Error: ${err.message}<br>This usually means there's a typo in your chart specification. See the javascript console for the full traceback.`));\n",
              "    }\n",
              "\n",
              "    if(typeof define === \"function\" && define.amd) {\n",
              "      requirejs.config({paths});\n",
              "      require([\"vega-embed\"], displayChart, err => showError(`Error loading script: ${err.message}`));\n",
              "    } else if (typeof vegaEmbed === \"function\") {\n",
              "      displayChart(vegaEmbed);\n",
              "    } else {\n",
              "      loadScript(\"vega\")\n",
              "        .then(() => loadScript(\"vega-lite\"))\n",
              "        .then(() => loadScript(\"vega-embed\"))\n",
              "        .catch(showError)\n",
              "        .then(() => displayChart(vegaEmbed));\n",
              "    }\n",
              "  })({\"config\": {\"view\": {\"continuousWidth\": 400, \"continuousHeight\": 300}}, \"data\": {\"name\": \"data-06c5ed54d330bb5d0d7e8569c936b03d\"}, \"mark\": \"bar\", \"encoding\": {\"x\": {\"type\": \"quantitative\", \"field\": \"Year\"}, \"y\": {\"type\": \"quantitative\", \"field\": \"arrest_percentage\"}}, \"title\": \"OBSCENITY\", \"$schema\": \"https://vega.github.io/schema/vega-lite/v4.8.1.json\", \"datasets\": {\"data-06c5ed54d330bb5d0d7e8569c936b03d\": [{\"Year\": 2001, \"PrimaryType\": \"OBSCENITY\", \"False\": null, \"True\": 19.0, \"arrest_percentage\": null}, {\"Year\": 2002, \"PrimaryType\": \"OBSCENITY\", \"False\": 2.0, \"True\": 24.0, \"arrest_percentage\": 92.3076923076923}, {\"Year\": 2003, \"PrimaryType\": \"OBSCENITY\", \"False\": 1.0, \"True\": 15.0, \"arrest_percentage\": 93.75}, {\"Year\": 2004, \"PrimaryType\": \"OBSCENITY\", \"False\": 1.0, \"True\": 12.0, \"arrest_percentage\": 92.3076923076923}, {\"Year\": 2005, \"PrimaryType\": \"OBSCENITY\", \"False\": 2.0, \"True\": 17.0, \"arrest_percentage\": 89.47368421052632}, {\"Year\": 2006, \"PrimaryType\": \"OBSCENITY\", \"False\": 3.0, \"True\": 14.0, \"arrest_percentage\": 82.35294117647058}, {\"Year\": 2007, \"PrimaryType\": \"OBSCENITY\", \"False\": 2.0, \"True\": 9.0, \"arrest_percentage\": 81.81818181818183}, {\"Year\": 2008, \"PrimaryType\": \"OBSCENITY\", \"False\": null, \"True\": 13.0, \"arrest_percentage\": null}, {\"Year\": 2009, \"PrimaryType\": \"OBSCENITY\", \"False\": 5.0, \"True\": 16.0, \"arrest_percentage\": 76.19047619047619}, {\"Year\": 2010, \"PrimaryType\": \"OBSCENITY\", \"False\": 7.0, \"True\": 27.0, \"arrest_percentage\": 79.41176470588235}, {\"Year\": 2011, \"PrimaryType\": \"OBSCENITY\", \"False\": 9.0, \"True\": 31.0, \"arrest_percentage\": 77.5}, {\"Year\": 2012, \"PrimaryType\": \"OBSCENITY\", \"False\": 3.0, \"True\": 23.0, \"arrest_percentage\": 88.46153846153845}, {\"Year\": 2013, \"PrimaryType\": \"OBSCENITY\", \"False\": 6.0, \"True\": 19.0, \"arrest_percentage\": 76.0}, {\"Year\": 2014, \"PrimaryType\": \"OBSCENITY\", \"False\": 10.0, \"True\": 28.0, \"arrest_percentage\": 73.68421052631578}, {\"Year\": 2015, \"PrimaryType\": \"OBSCENITY\", \"False\": 12.0, \"True\": 36.0, \"arrest_percentage\": 75.0}, {\"Year\": 2016, \"PrimaryType\": \"OBSCENITY\", \"False\": 13.0, \"True\": 38.0, \"arrest_percentage\": 74.50980392156863}, {\"Year\": 2017, \"PrimaryType\": \"OBSCENITY\", \"False\": 20.0, \"True\": 66.0, \"arrest_percentage\": 76.74418604651163}, {\"Year\": 2018, \"PrimaryType\": \"OBSCENITY\", \"False\": 18.0, \"True\": 69.0, \"arrest_percentage\": 79.3103448275862}, {\"Year\": 2019, \"PrimaryType\": \"OBSCENITY\", \"False\": 14.0, \"True\": 46.0, \"arrest_percentage\": 76.66666666666667}, {\"Year\": 2020, \"PrimaryType\": \"OBSCENITY\", \"False\": 7.0, \"True\": 44.0, \"arrest_percentage\": 86.27450980392157}, {\"Year\": 2021, \"PrimaryType\": \"OBSCENITY\", \"False\": 2.0, \"True\": 15.0, \"arrest_percentage\": 88.23529411764706}]}}, {\"mode\": \"vega-lite\"});\n",
              "</script>"
            ]
          },
          "metadata": {
            "tags": []
          }
        },
        {
          "output_type": "display_data",
          "data": {
            "text/plain": [
              "alt.Chart(...)"
            ],
            "text/html": [
              "\n",
              "<div id=\"altair-viz-8c7761e6642f47d3ae78fa338ac9b78e\"></div>\n",
              "<script type=\"text/javascript\">\n",
              "  (function(spec, embedOpt){\n",
              "    let outputDiv = document.currentScript.previousElementSibling;\n",
              "    if (outputDiv.id !== \"altair-viz-8c7761e6642f47d3ae78fa338ac9b78e\") {\n",
              "      outputDiv = document.getElementById(\"altair-viz-8c7761e6642f47d3ae78fa338ac9b78e\");\n",
              "    }\n",
              "    const paths = {\n",
              "      \"vega\": \"https://cdn.jsdelivr.net/npm//vega@5?noext\",\n",
              "      \"vega-lib\": \"https://cdn.jsdelivr.net/npm//vega-lib?noext\",\n",
              "      \"vega-lite\": \"https://cdn.jsdelivr.net/npm//vega-lite@4.8.1?noext\",\n",
              "      \"vega-embed\": \"https://cdn.jsdelivr.net/npm//vega-embed@6?noext\",\n",
              "    };\n",
              "\n",
              "    function loadScript(lib) {\n",
              "      return new Promise(function(resolve, reject) {\n",
              "        var s = document.createElement('script');\n",
              "        s.src = paths[lib];\n",
              "        s.async = true;\n",
              "        s.onload = () => resolve(paths[lib]);\n",
              "        s.onerror = () => reject(`Error loading script: ${paths[lib]}`);\n",
              "        document.getElementsByTagName(\"head\")[0].appendChild(s);\n",
              "      });\n",
              "    }\n",
              "\n",
              "    function showError(err) {\n",
              "      outputDiv.innerHTML = `<div class=\"error\" style=\"color:red;\">${err}</div>`;\n",
              "      throw err;\n",
              "    }\n",
              "\n",
              "    function displayChart(vegaEmbed) {\n",
              "      vegaEmbed(outputDiv, spec, embedOpt)\n",
              "        .catch(err => showError(`Javascript Error: ${err.message}<br>This usually means there's a typo in your chart specification. See the javascript console for the full traceback.`));\n",
              "    }\n",
              "\n",
              "    if(typeof define === \"function\" && define.amd) {\n",
              "      requirejs.config({paths});\n",
              "      require([\"vega-embed\"], displayChart, err => showError(`Error loading script: ${err.message}`));\n",
              "    } else if (typeof vegaEmbed === \"function\") {\n",
              "      displayChart(vegaEmbed);\n",
              "    } else {\n",
              "      loadScript(\"vega\")\n",
              "        .then(() => loadScript(\"vega-lite\"))\n",
              "        .then(() => loadScript(\"vega-embed\"))\n",
              "        .catch(showError)\n",
              "        .then(() => displayChart(vegaEmbed));\n",
              "    }\n",
              "  })({\"config\": {\"view\": {\"continuousWidth\": 400, \"continuousHeight\": 300}}, \"data\": {\"name\": \"data-d8ae9bfc23eb150818fc462c5a11c7d9\"}, \"mark\": \"bar\", \"encoding\": {\"x\": {\"type\": \"quantitative\", \"field\": \"Year\"}, \"y\": {\"type\": \"quantitative\", \"field\": \"arrest_percentage\"}}, \"title\": \"OFFENSE INVOLVING CHILDREN\", \"$schema\": \"https://vega.github.io/schema/vega-lite/v4.8.1.json\", \"datasets\": {\"data-d8ae9bfc23eb150818fc462c5a11c7d9\": [{\"Year\": 2001, \"PrimaryType\": \"OFFENSE INVOLVING CHILDREN\", \"False\": 1446.0, \"True\": 806.0, \"arrest_percentage\": 35.790408525754884}, {\"Year\": 2002, \"PrimaryType\": \"OFFENSE INVOLVING CHILDREN\", \"False\": 1810.0, \"True\": 773.0, \"arrest_percentage\": 29.926442121564072}, {\"Year\": 2003, \"PrimaryType\": \"OFFENSE INVOLVING CHILDREN\", \"False\": 2178.0, \"True\": 862.0, \"arrest_percentage\": 28.35526315789474}, {\"Year\": 2004, \"PrimaryType\": \"OFFENSE INVOLVING CHILDREN\", \"False\": 2394.0, \"True\": 694.0, \"arrest_percentage\": 22.474093264248705}, {\"Year\": 2005, \"PrimaryType\": \"OFFENSE INVOLVING CHILDREN\", \"False\": 2237.0, \"True\": 658.0, \"arrest_percentage\": 22.728842832469777}, {\"Year\": 2006, \"PrimaryType\": \"OFFENSE INVOLVING CHILDREN\", \"False\": 2109.0, \"True\": 658.0, \"arrest_percentage\": 23.780267437658114}, {\"Year\": 2007, \"PrimaryType\": \"OFFENSE INVOLVING CHILDREN\", \"False\": 2212.0, \"True\": 691.0, \"arrest_percentage\": 23.802962452635203}, {\"Year\": 2008, \"PrimaryType\": \"OFFENSE INVOLVING CHILDREN\", \"False\": 2101.0, \"True\": 542.0, \"arrest_percentage\": 20.506999621642073}, {\"Year\": 2009, \"PrimaryType\": \"OFFENSE INVOLVING CHILDREN\", \"False\": 2092.0, \"True\": 519.0, \"arrest_percentage\": 19.877441593259288}, {\"Year\": 2010, \"PrimaryType\": \"OFFENSE INVOLVING CHILDREN\", \"False\": 2075.0, \"True\": 516.0, \"arrest_percentage\": 19.91509069857198}, {\"Year\": 2011, \"PrimaryType\": \"OFFENSE INVOLVING CHILDREN\", \"False\": 1919.0, \"True\": 469.0, \"arrest_percentage\": 19.639865996649917}, {\"Year\": 2012, \"PrimaryType\": \"OFFENSE INVOLVING CHILDREN\", \"False\": 1840.0, \"True\": 425.0, \"arrest_percentage\": 18.76379690949227}, {\"Year\": 2013, \"PrimaryType\": \"OFFENSE INVOLVING CHILDREN\", \"False\": 2009.0, \"True\": 419.0, \"arrest_percentage\": 17.257001647446458}, {\"Year\": 2014, \"PrimaryType\": \"OFFENSE INVOLVING CHILDREN\", \"False\": 1998.0, \"True\": 460.0, \"arrest_percentage\": 18.71440195280716}, {\"Year\": 2015, \"PrimaryType\": \"OFFENSE INVOLVING CHILDREN\", \"False\": 1961.0, \"True\": 408.0, \"arrest_percentage\": 17.222456732798648}, {\"Year\": 2016, \"PrimaryType\": \"OFFENSE INVOLVING CHILDREN\", \"False\": 2044.0, \"True\": 331.0, \"arrest_percentage\": 13.936842105263159}, {\"Year\": 2017, \"PrimaryType\": \"OFFENSE INVOLVING CHILDREN\", \"False\": 1965.0, \"True\": 366.0, \"arrest_percentage\": 15.701415701415703}, {\"Year\": 2018, \"PrimaryType\": \"OFFENSE INVOLVING CHILDREN\", \"False\": 1991.0, \"True\": 326.0, \"arrest_percentage\": 14.069917997410444}, {\"Year\": 2019, \"PrimaryType\": \"OFFENSE INVOLVING CHILDREN\", \"False\": 2015.0, \"True\": 320.0, \"arrest_percentage\": 13.704496788008566}, {\"Year\": 2020, \"PrimaryType\": \"OFFENSE INVOLVING CHILDREN\", \"False\": 1700.0, \"True\": 181.0, \"arrest_percentage\": 9.62254120148857}, {\"Year\": 2021, \"PrimaryType\": \"OFFENSE INVOLVING CHILDREN\", \"False\": 309.0, \"True\": 18.0, \"arrest_percentage\": 5.5045871559633035}]}}, {\"mode\": \"vega-lite\"});\n",
              "</script>"
            ]
          },
          "metadata": {
            "tags": []
          }
        },
        {
          "output_type": "display_data",
          "data": {
            "text/plain": [
              "alt.Chart(...)"
            ],
            "text/html": [
              "\n",
              "<div id=\"altair-viz-06a6484937da4b1a897857db32e3c268\"></div>\n",
              "<script type=\"text/javascript\">\n",
              "  (function(spec, embedOpt){\n",
              "    let outputDiv = document.currentScript.previousElementSibling;\n",
              "    if (outputDiv.id !== \"altair-viz-06a6484937da4b1a897857db32e3c268\") {\n",
              "      outputDiv = document.getElementById(\"altair-viz-06a6484937da4b1a897857db32e3c268\");\n",
              "    }\n",
              "    const paths = {\n",
              "      \"vega\": \"https://cdn.jsdelivr.net/npm//vega@5?noext\",\n",
              "      \"vega-lib\": \"https://cdn.jsdelivr.net/npm//vega-lib?noext\",\n",
              "      \"vega-lite\": \"https://cdn.jsdelivr.net/npm//vega-lite@4.8.1?noext\",\n",
              "      \"vega-embed\": \"https://cdn.jsdelivr.net/npm//vega-embed@6?noext\",\n",
              "    };\n",
              "\n",
              "    function loadScript(lib) {\n",
              "      return new Promise(function(resolve, reject) {\n",
              "        var s = document.createElement('script');\n",
              "        s.src = paths[lib];\n",
              "        s.async = true;\n",
              "        s.onload = () => resolve(paths[lib]);\n",
              "        s.onerror = () => reject(`Error loading script: ${paths[lib]}`);\n",
              "        document.getElementsByTagName(\"head\")[0].appendChild(s);\n",
              "      });\n",
              "    }\n",
              "\n",
              "    function showError(err) {\n",
              "      outputDiv.innerHTML = `<div class=\"error\" style=\"color:red;\">${err}</div>`;\n",
              "      throw err;\n",
              "    }\n",
              "\n",
              "    function displayChart(vegaEmbed) {\n",
              "      vegaEmbed(outputDiv, spec, embedOpt)\n",
              "        .catch(err => showError(`Javascript Error: ${err.message}<br>This usually means there's a typo in your chart specification. See the javascript console for the full traceback.`));\n",
              "    }\n",
              "\n",
              "    if(typeof define === \"function\" && define.amd) {\n",
              "      requirejs.config({paths});\n",
              "      require([\"vega-embed\"], displayChart, err => showError(`Error loading script: ${err.message}`));\n",
              "    } else if (typeof vegaEmbed === \"function\") {\n",
              "      displayChart(vegaEmbed);\n",
              "    } else {\n",
              "      loadScript(\"vega\")\n",
              "        .then(() => loadScript(\"vega-lite\"))\n",
              "        .then(() => loadScript(\"vega-embed\"))\n",
              "        .catch(showError)\n",
              "        .then(() => displayChart(vegaEmbed));\n",
              "    }\n",
              "  })({\"config\": {\"view\": {\"continuousWidth\": 400, \"continuousHeight\": 300}}, \"data\": {\"name\": \"data-6c89f354369fcd0814ba38e0fa3d8bf5\"}, \"mark\": \"bar\", \"encoding\": {\"x\": {\"type\": \"quantitative\", \"field\": \"Year\"}, \"y\": {\"type\": \"quantitative\", \"field\": \"arrest_percentage\"}}, \"title\": \"OTHER NARCOTIC VIOLATION\", \"$schema\": \"https://vega.github.io/schema/vega-lite/v4.8.1.json\", \"datasets\": {\"data-6c89f354369fcd0814ba38e0fa3d8bf5\": [{\"Year\": 2001, \"PrimaryType\": \"OTHER NARCOTIC VIOLATION\", \"False\": null, \"True\": 6.0, \"arrest_percentage\": null}, {\"Year\": 2002, \"PrimaryType\": \"OTHER NARCOTIC VIOLATION\", \"False\": null, \"True\": 5.0, \"arrest_percentage\": null}, {\"Year\": 2003, \"PrimaryType\": \"OTHER NARCOTIC VIOLATION\", \"False\": null, \"True\": 2.0, \"arrest_percentage\": null}, {\"Year\": 2004, \"PrimaryType\": \"OTHER NARCOTIC VIOLATION\", \"False\": null, \"True\": 9.0, \"arrest_percentage\": null}, {\"Year\": 2005, \"PrimaryType\": \"OTHER NARCOTIC VIOLATION\", \"False\": 3.0, \"True\": 6.0, \"arrest_percentage\": 66.66666666666666}, {\"Year\": 2006, \"PrimaryType\": \"OTHER NARCOTIC VIOLATION\", \"False\": 2.0, \"True\": 7.0, \"arrest_percentage\": 77.77777777777779}, {\"Year\": 2007, \"PrimaryType\": \"OTHER NARCOTIC VIOLATION\", \"False\": 8.0, \"True\": 4.0, \"arrest_percentage\": 33.33333333333333}, {\"Year\": 2008, \"PrimaryType\": \"OTHER NARCOTIC VIOLATION\", \"False\": 1.0, \"True\": 11.0, \"arrest_percentage\": 91.66666666666666}, {\"Year\": 2009, \"PrimaryType\": \"OTHER NARCOTIC VIOLATION\", \"False\": 2.0, \"True\": 5.0, \"arrest_percentage\": 71.42857142857143}, {\"Year\": 2010, \"PrimaryType\": \"OTHER NARCOTIC VIOLATION\", \"False\": 4.0, \"True\": 2.0, \"arrest_percentage\": 33.33333333333333}, {\"Year\": 2011, \"PrimaryType\": \"OTHER NARCOTIC VIOLATION\", \"False\": 2.0, \"True\": 3.0, \"arrest_percentage\": 60.0}, {\"Year\": 2012, \"PrimaryType\": \"OTHER NARCOTIC VIOLATION\", \"False\": 2.0, \"True\": 4.0, \"arrest_percentage\": 66.66666666666666}, {\"Year\": 2013, \"PrimaryType\": \"OTHER NARCOTIC VIOLATION\", \"False\": 1.0, \"True\": 4.0, \"arrest_percentage\": 80.0}, {\"Year\": 2014, \"PrimaryType\": \"OTHER NARCOTIC VIOLATION\", \"False\": 2.0, \"True\": 8.0, \"arrest_percentage\": 80.0}, {\"Year\": 2015, \"PrimaryType\": \"OTHER NARCOTIC VIOLATION\", \"False\": 3.0, \"True\": 2.0, \"arrest_percentage\": 40.0}, {\"Year\": 2016, \"PrimaryType\": \"OTHER NARCOTIC VIOLATION\", \"False\": 1.0, \"True\": 3.0, \"arrest_percentage\": 75.0}, {\"Year\": 2017, \"PrimaryType\": \"OTHER NARCOTIC VIOLATION\", \"False\": 4.0, \"True\": 7.0, \"arrest_percentage\": 63.63636363636363}, {\"Year\": 2018, \"PrimaryType\": \"OTHER NARCOTIC VIOLATION\", \"False\": 1.0, \"True\": null, \"arrest_percentage\": null}, {\"Year\": 2019, \"PrimaryType\": \"OTHER NARCOTIC VIOLATION\", \"False\": 3.0, \"True\": 5.0, \"arrest_percentage\": 62.5}, {\"Year\": 2020, \"PrimaryType\": \"OTHER NARCOTIC VIOLATION\", \"False\": 2.0, \"True\": 4.0, \"arrest_percentage\": 66.66666666666666}]}}, {\"mode\": \"vega-lite\"});\n",
              "</script>"
            ]
          },
          "metadata": {
            "tags": []
          }
        },
        {
          "output_type": "display_data",
          "data": {
            "text/plain": [
              "alt.Chart(...)"
            ],
            "text/html": [
              "\n",
              "<div id=\"altair-viz-6d3b9251da2c460ba9d16d27f147d88d\"></div>\n",
              "<script type=\"text/javascript\">\n",
              "  (function(spec, embedOpt){\n",
              "    let outputDiv = document.currentScript.previousElementSibling;\n",
              "    if (outputDiv.id !== \"altair-viz-6d3b9251da2c460ba9d16d27f147d88d\") {\n",
              "      outputDiv = document.getElementById(\"altair-viz-6d3b9251da2c460ba9d16d27f147d88d\");\n",
              "    }\n",
              "    const paths = {\n",
              "      \"vega\": \"https://cdn.jsdelivr.net/npm//vega@5?noext\",\n",
              "      \"vega-lib\": \"https://cdn.jsdelivr.net/npm//vega-lib?noext\",\n",
              "      \"vega-lite\": \"https://cdn.jsdelivr.net/npm//vega-lite@4.8.1?noext\",\n",
              "      \"vega-embed\": \"https://cdn.jsdelivr.net/npm//vega-embed@6?noext\",\n",
              "    };\n",
              "\n",
              "    function loadScript(lib) {\n",
              "      return new Promise(function(resolve, reject) {\n",
              "        var s = document.createElement('script');\n",
              "        s.src = paths[lib];\n",
              "        s.async = true;\n",
              "        s.onload = () => resolve(paths[lib]);\n",
              "        s.onerror = () => reject(`Error loading script: ${paths[lib]}`);\n",
              "        document.getElementsByTagName(\"head\")[0].appendChild(s);\n",
              "      });\n",
              "    }\n",
              "\n",
              "    function showError(err) {\n",
              "      outputDiv.innerHTML = `<div class=\"error\" style=\"color:red;\">${err}</div>`;\n",
              "      throw err;\n",
              "    }\n",
              "\n",
              "    function displayChart(vegaEmbed) {\n",
              "      vegaEmbed(outputDiv, spec, embedOpt)\n",
              "        .catch(err => showError(`Javascript Error: ${err.message}<br>This usually means there's a typo in your chart specification. See the javascript console for the full traceback.`));\n",
              "    }\n",
              "\n",
              "    if(typeof define === \"function\" && define.amd) {\n",
              "      requirejs.config({paths});\n",
              "      require([\"vega-embed\"], displayChart, err => showError(`Error loading script: ${err.message}`));\n",
              "    } else if (typeof vegaEmbed === \"function\") {\n",
              "      displayChart(vegaEmbed);\n",
              "    } else {\n",
              "      loadScript(\"vega\")\n",
              "        .then(() => loadScript(\"vega-lite\"))\n",
              "        .then(() => loadScript(\"vega-embed\"))\n",
              "        .catch(showError)\n",
              "        .then(() => displayChart(vegaEmbed));\n",
              "    }\n",
              "  })({\"config\": {\"view\": {\"continuousWidth\": 400, \"continuousHeight\": 300}}, \"data\": {\"name\": \"data-3e7215a13da9ccb711315fcdbe8b0829\"}, \"mark\": \"bar\", \"encoding\": {\"x\": {\"type\": \"quantitative\", \"field\": \"Year\"}, \"y\": {\"type\": \"quantitative\", \"field\": \"arrest_percentage\"}}, \"title\": \"OTHER OFFENSE\", \"$schema\": \"https://vega.github.io/schema/vega-lite/v4.8.1.json\", \"datasets\": {\"data-3e7215a13da9ccb711315fcdbe8b0829\": [{\"Year\": 2001, \"PrimaryType\": \"OTHER OFFENSE\", \"False\": 24361.0, \"True\": 5299.0, \"arrest_percentage\": 17.8658125421443}, {\"Year\": 2002, \"PrimaryType\": \"OTHER OFFENSE\", \"False\": 26898.0, \"True\": 5701.0, \"arrest_percentage\": 17.488266511242674}, {\"Year\": 2003, \"PrimaryType\": \"OTHER OFFENSE\", \"False\": 25291.0, \"True\": 5856.0, \"arrest_percentage\": 18.801168651876583}, {\"Year\": 2004, \"PrimaryType\": \"OTHER OFFENSE\", \"False\": 24146.0, \"True\": 5386.0, \"arrest_percentage\": 18.23784369497494}, {\"Year\": 2005, \"PrimaryType\": \"OTHER OFFENSE\", \"False\": 23302.0, \"True\": 4726.0, \"arrest_percentage\": 16.861709718852577}, {\"Year\": 2006, \"PrimaryType\": \"OTHER OFFENSE\", \"False\": 23091.0, \"True\": 4010.0, \"arrest_percentage\": 14.796501974096895}, {\"Year\": 2007, \"PrimaryType\": \"OTHER OFFENSE\", \"False\": 22633.0, \"True\": 4230.0, \"arrest_percentage\": 15.746565908498678}, {\"Year\": 2008, \"PrimaryType\": \"OTHER OFFENSE\", \"False\": 23037.0, \"True\": 3496.0, \"arrest_percentage\": 13.176044925187503}, {\"Year\": 2009, \"PrimaryType\": \"OTHER OFFENSE\", \"False\": 21397.0, \"True\": 4204.0, \"arrest_percentage\": 16.421233545564625}, {\"Year\": 2010, \"PrimaryType\": \"OTHER OFFENSE\", \"False\": 18743.0, \"True\": 3269.0, \"arrest_percentage\": 14.850990368889697}, {\"Year\": 2011, \"PrimaryType\": \"OTHER OFFENSE\", \"False\": 17023.0, \"True\": 3171.0, \"arrest_percentage\": 15.702683965534318}, {\"Year\": 2012, \"PrimaryType\": \"OTHER OFFENSE\", \"False\": 14726.0, \"True\": 2755.0, \"arrest_percentage\": 15.759967965219381}, {\"Year\": 2013, \"PrimaryType\": \"OTHER OFFENSE\", \"False\": 14597.0, \"True\": 3400.0, \"arrest_percentage\": 18.892037561815858}, {\"Year\": 2014, \"PrimaryType\": \"OTHER OFFENSE\", \"False\": 12823.0, \"True\": 4161.0, \"arrest_percentage\": 24.499528968440888}, {\"Year\": 2015, \"PrimaryType\": \"OTHER OFFENSE\", \"False\": 12766.0, \"True\": 4796.0, \"arrest_percentage\": 27.308962532741145}, {\"Year\": 2016, \"PrimaryType\": \"OTHER OFFENSE\", \"False\": 13887.0, \"True\": 3415.0, \"arrest_percentage\": 19.737602589296035}, {\"Year\": 2017, \"PrimaryType\": \"OTHER OFFENSE\", \"False\": 13483.0, \"True\": 3775.0, \"arrest_percentage\": 21.873913547340365}, {\"Year\": 2018, \"PrimaryType\": \"OTHER OFFENSE\", \"False\": 13680.0, \"True\": 3574.0, \"arrest_percentage\": 20.714037324678337}, {\"Year\": 2019, \"PrimaryType\": \"OTHER OFFENSE\", \"False\": 13054.0, \"True\": 3698.0, \"arrest_percentage\": 22.074976122254057}, {\"Year\": 2020, \"PrimaryType\": \"OTHER OFFENSE\", \"False\": 10707.0, \"True\": 1765.0, \"arrest_percentage\": 14.151699807568955}, {\"Year\": 2021, \"PrimaryType\": \"OTHER OFFENSE\", \"False\": 2023.0, \"True\": 295.0, \"arrest_percentage\": 12.726488352027609}]}}, {\"mode\": \"vega-lite\"});\n",
              "</script>"
            ]
          },
          "metadata": {
            "tags": []
          }
        },
        {
          "output_type": "display_data",
          "data": {
            "text/plain": [
              "alt.Chart(...)"
            ],
            "text/html": [
              "\n",
              "<div id=\"altair-viz-d9352421586946f1bded02ab9e812953\"></div>\n",
              "<script type=\"text/javascript\">\n",
              "  (function(spec, embedOpt){\n",
              "    let outputDiv = document.currentScript.previousElementSibling;\n",
              "    if (outputDiv.id !== \"altair-viz-d9352421586946f1bded02ab9e812953\") {\n",
              "      outputDiv = document.getElementById(\"altair-viz-d9352421586946f1bded02ab9e812953\");\n",
              "    }\n",
              "    const paths = {\n",
              "      \"vega\": \"https://cdn.jsdelivr.net/npm//vega@5?noext\",\n",
              "      \"vega-lib\": \"https://cdn.jsdelivr.net/npm//vega-lib?noext\",\n",
              "      \"vega-lite\": \"https://cdn.jsdelivr.net/npm//vega-lite@4.8.1?noext\",\n",
              "      \"vega-embed\": \"https://cdn.jsdelivr.net/npm//vega-embed@6?noext\",\n",
              "    };\n",
              "\n",
              "    function loadScript(lib) {\n",
              "      return new Promise(function(resolve, reject) {\n",
              "        var s = document.createElement('script');\n",
              "        s.src = paths[lib];\n",
              "        s.async = true;\n",
              "        s.onload = () => resolve(paths[lib]);\n",
              "        s.onerror = () => reject(`Error loading script: ${paths[lib]}`);\n",
              "        document.getElementsByTagName(\"head\")[0].appendChild(s);\n",
              "      });\n",
              "    }\n",
              "\n",
              "    function showError(err) {\n",
              "      outputDiv.innerHTML = `<div class=\"error\" style=\"color:red;\">${err}</div>`;\n",
              "      throw err;\n",
              "    }\n",
              "\n",
              "    function displayChart(vegaEmbed) {\n",
              "      vegaEmbed(outputDiv, spec, embedOpt)\n",
              "        .catch(err => showError(`Javascript Error: ${err.message}<br>This usually means there's a typo in your chart specification. See the javascript console for the full traceback.`));\n",
              "    }\n",
              "\n",
              "    if(typeof define === \"function\" && define.amd) {\n",
              "      requirejs.config({paths});\n",
              "      require([\"vega-embed\"], displayChart, err => showError(`Error loading script: ${err.message}`));\n",
              "    } else if (typeof vegaEmbed === \"function\") {\n",
              "      displayChart(vegaEmbed);\n",
              "    } else {\n",
              "      loadScript(\"vega\")\n",
              "        .then(() => loadScript(\"vega-lite\"))\n",
              "        .then(() => loadScript(\"vega-embed\"))\n",
              "        .catch(showError)\n",
              "        .then(() => displayChart(vegaEmbed));\n",
              "    }\n",
              "  })({\"config\": {\"view\": {\"continuousWidth\": 400, \"continuousHeight\": 300}}, \"data\": {\"name\": \"data-c774eec700a3e33b935305fdce456bc5\"}, \"mark\": \"bar\", \"encoding\": {\"x\": {\"type\": \"quantitative\", \"field\": \"Year\"}, \"y\": {\"type\": \"quantitative\", \"field\": \"arrest_percentage\"}}, \"title\": \"PROSTITUTION\", \"$schema\": \"https://vega.github.io/schema/vega-lite/v4.8.1.json\", \"datasets\": {\"data-c774eec700a3e33b935305fdce456bc5\": [{\"Year\": 2001, \"PrimaryType\": \"PROSTITUTION\", \"False\": 3.0, \"True\": 6023.0, \"arrest_percentage\": 99.95021573182873}, {\"Year\": 2002, \"PrimaryType\": \"PROSTITUTION\", \"False\": null, \"True\": 6408.0, \"arrest_percentage\": null}, {\"Year\": 2003, \"PrimaryType\": \"PROSTITUTION\", \"False\": null, \"True\": 6214.0, \"arrest_percentage\": null}, {\"Year\": 2004, \"PrimaryType\": \"PROSTITUTION\", \"False\": 2.0, \"True\": 7474.0, \"arrest_percentage\": 99.97324772605671}, {\"Year\": 2005, \"PrimaryType\": \"PROSTITUTION\", \"False\": 8.0, \"True\": 6116.0, \"arrest_percentage\": 99.86936642717178}, {\"Year\": 2006, \"PrimaryType\": \"PROSTITUTION\", \"False\": 51.0, \"True\": 6983.0, \"arrest_percentage\": 99.27495024168326}, {\"Year\": 2007, \"PrimaryType\": \"PROSTITUTION\", \"False\": 86.0, \"True\": 6001.0, \"arrest_percentage\": 98.5871529489075}, {\"Year\": 2008, \"PrimaryType\": \"PROSTITUTION\", \"False\": 58.0, \"True\": 5083.0, \"arrest_percentage\": 98.87181482201906}, {\"Year\": 2009, \"PrimaryType\": \"PROSTITUTION\", \"False\": 14.0, \"True\": 3926.0, \"arrest_percentage\": 99.64467005076142}, {\"Year\": 2010, \"PrimaryType\": \"PROSTITUTION\", \"False\": 5.0, \"True\": 2480.0, \"arrest_percentage\": 99.79879275653923}, {\"Year\": 2011, \"PrimaryType\": \"PROSTITUTION\", \"False\": 5.0, \"True\": 2419.0, \"arrest_percentage\": 99.79372937293729}, {\"Year\": 2012, \"PrimaryType\": \"PROSTITUTION\", \"False\": 15.0, \"True\": 2189.0, \"arrest_percentage\": 99.31941923774956}, {\"Year\": 2013, \"PrimaryType\": \"PROSTITUTION\", \"False\": 4.0, \"True\": 1648.0, \"arrest_percentage\": 99.75786924939467}, {\"Year\": 2014, \"PrimaryType\": \"PROSTITUTION\", \"False\": 13.0, \"True\": 1613.0, \"arrest_percentage\": 99.20049200492005}, {\"Year\": 2015, \"PrimaryType\": \"PROSTITUTION\", \"False\": 2.0, \"True\": 1320.0, \"arrest_percentage\": 99.84871406959152}, {\"Year\": 2016, \"PrimaryType\": \"PROSTITUTION\", \"False\": null, \"True\": 800.0, \"arrest_percentage\": null}, {\"Year\": 2017, \"PrimaryType\": \"PROSTITUTION\", \"False\": null, \"True\": 735.0, \"arrest_percentage\": null}, {\"Year\": 2018, \"PrimaryType\": \"PROSTITUTION\", \"False\": null, \"True\": 718.0, \"arrest_percentage\": null}, {\"Year\": 2019, \"PrimaryType\": \"PROSTITUTION\", \"False\": null, \"True\": 680.0, \"arrest_percentage\": null}, {\"Year\": 2020, \"PrimaryType\": \"PROSTITUTION\", \"False\": 2.0, \"True\": 274.0, \"arrest_percentage\": 99.27536231884058}, {\"Year\": 2021, \"PrimaryType\": \"PROSTITUTION\", \"False\": null, \"True\": 16.0, \"arrest_percentage\": null}]}}, {\"mode\": \"vega-lite\"});\n",
              "</script>"
            ]
          },
          "metadata": {
            "tags": []
          }
        },
        {
          "output_type": "display_data",
          "data": {
            "text/plain": [
              "alt.Chart(...)"
            ],
            "text/html": [
              "\n",
              "<div id=\"altair-viz-41f2ed81093a4845af5923540cf77021\"></div>\n",
              "<script type=\"text/javascript\">\n",
              "  (function(spec, embedOpt){\n",
              "    let outputDiv = document.currentScript.previousElementSibling;\n",
              "    if (outputDiv.id !== \"altair-viz-41f2ed81093a4845af5923540cf77021\") {\n",
              "      outputDiv = document.getElementById(\"altair-viz-41f2ed81093a4845af5923540cf77021\");\n",
              "    }\n",
              "    const paths = {\n",
              "      \"vega\": \"https://cdn.jsdelivr.net/npm//vega@5?noext\",\n",
              "      \"vega-lib\": \"https://cdn.jsdelivr.net/npm//vega-lib?noext\",\n",
              "      \"vega-lite\": \"https://cdn.jsdelivr.net/npm//vega-lite@4.8.1?noext\",\n",
              "      \"vega-embed\": \"https://cdn.jsdelivr.net/npm//vega-embed@6?noext\",\n",
              "    };\n",
              "\n",
              "    function loadScript(lib) {\n",
              "      return new Promise(function(resolve, reject) {\n",
              "        var s = document.createElement('script');\n",
              "        s.src = paths[lib];\n",
              "        s.async = true;\n",
              "        s.onload = () => resolve(paths[lib]);\n",
              "        s.onerror = () => reject(`Error loading script: ${paths[lib]}`);\n",
              "        document.getElementsByTagName(\"head\")[0].appendChild(s);\n",
              "      });\n",
              "    }\n",
              "\n",
              "    function showError(err) {\n",
              "      outputDiv.innerHTML = `<div class=\"error\" style=\"color:red;\">${err}</div>`;\n",
              "      throw err;\n",
              "    }\n",
              "\n",
              "    function displayChart(vegaEmbed) {\n",
              "      vegaEmbed(outputDiv, spec, embedOpt)\n",
              "        .catch(err => showError(`Javascript Error: ${err.message}<br>This usually means there's a typo in your chart specification. See the javascript console for the full traceback.`));\n",
              "    }\n",
              "\n",
              "    if(typeof define === \"function\" && define.amd) {\n",
              "      requirejs.config({paths});\n",
              "      require([\"vega-embed\"], displayChart, err => showError(`Error loading script: ${err.message}`));\n",
              "    } else if (typeof vegaEmbed === \"function\") {\n",
              "      displayChart(vegaEmbed);\n",
              "    } else {\n",
              "      loadScript(\"vega\")\n",
              "        .then(() => loadScript(\"vega-lite\"))\n",
              "        .then(() => loadScript(\"vega-embed\"))\n",
              "        .catch(showError)\n",
              "        .then(() => displayChart(vegaEmbed));\n",
              "    }\n",
              "  })({\"config\": {\"view\": {\"continuousWidth\": 400, \"continuousHeight\": 300}}, \"data\": {\"name\": \"data-4c615998780714b70b691080375fcf16\"}, \"mark\": \"bar\", \"encoding\": {\"x\": {\"type\": \"quantitative\", \"field\": \"Year\"}, \"y\": {\"type\": \"quantitative\", \"field\": \"arrest_percentage\"}}, \"title\": \"PUBLIC INDECENCY\", \"$schema\": \"https://vega.github.io/schema/vega-lite/v4.8.1.json\", \"datasets\": {\"data-4c615998780714b70b691080375fcf16\": [{\"Year\": 2001, \"PrimaryType\": \"PUBLIC INDECENCY\", \"False\": null, \"True\": 9.0, \"arrest_percentage\": null}, {\"Year\": 2002, \"PrimaryType\": \"PUBLIC INDECENCY\", \"False\": null, \"True\": 8.0, \"arrest_percentage\": null}, {\"Year\": 2003, \"PrimaryType\": \"PUBLIC INDECENCY\", \"False\": null, \"True\": 6.0, \"arrest_percentage\": null}, {\"Year\": 2004, \"PrimaryType\": \"PUBLIC INDECENCY\", \"False\": null, \"True\": 9.0, \"arrest_percentage\": null}, {\"Year\": 2005, \"PrimaryType\": \"PUBLIC INDECENCY\", \"False\": null, \"True\": 4.0, \"arrest_percentage\": null}, {\"Year\": 2006, \"PrimaryType\": \"PUBLIC INDECENCY\", \"False\": null, \"True\": 4.0, \"arrest_percentage\": null}, {\"Year\": 2007, \"PrimaryType\": \"PUBLIC INDECENCY\", \"False\": null, \"True\": 5.0, \"arrest_percentage\": null}, {\"Year\": 2008, \"PrimaryType\": \"PUBLIC INDECENCY\", \"False\": 1.0, \"True\": 3.0, \"arrest_percentage\": 75.0}, {\"Year\": 2009, \"PrimaryType\": \"PUBLIC INDECENCY\", \"False\": null, \"True\": 10.0, \"arrest_percentage\": null}, {\"Year\": 2010, \"PrimaryType\": \"PUBLIC INDECENCY\", \"False\": null, \"True\": 7.0, \"arrest_percentage\": null}, {\"Year\": 2011, \"PrimaryType\": \"PUBLIC INDECENCY\", \"False\": null, \"True\": 13.0, \"arrest_percentage\": null}, {\"Year\": 2012, \"PrimaryType\": \"PUBLIC INDECENCY\", \"False\": null, \"True\": 17.0, \"arrest_percentage\": null}, {\"Year\": 2013, \"PrimaryType\": \"PUBLIC INDECENCY\", \"False\": null, \"True\": 10.0, \"arrest_percentage\": null}, {\"Year\": 2014, \"PrimaryType\": \"PUBLIC INDECENCY\", \"False\": null, \"True\": 10.0, \"arrest_percentage\": null}, {\"Year\": 2015, \"PrimaryType\": \"PUBLIC INDECENCY\", \"False\": null, \"True\": 14.0, \"arrest_percentage\": null}, {\"Year\": 2016, \"PrimaryType\": \"PUBLIC INDECENCY\", \"False\": null, \"True\": 10.0, \"arrest_percentage\": null}, {\"Year\": 2017, \"PrimaryType\": \"PUBLIC INDECENCY\", \"False\": null, \"True\": 10.0, \"arrest_percentage\": null}, {\"Year\": 2018, \"PrimaryType\": \"PUBLIC INDECENCY\", \"False\": null, \"True\": 14.0, \"arrest_percentage\": null}, {\"Year\": 2019, \"PrimaryType\": \"PUBLIC INDECENCY\", \"False\": null, \"True\": 11.0, \"arrest_percentage\": null}, {\"Year\": 2020, \"PrimaryType\": \"PUBLIC INDECENCY\", \"False\": null, \"True\": 9.0, \"arrest_percentage\": null}, {\"Year\": 2021, \"PrimaryType\": \"PUBLIC INDECENCY\", \"False\": null, \"True\": 2.0, \"arrest_percentage\": null}]}}, {\"mode\": \"vega-lite\"});\n",
              "</script>"
            ]
          },
          "metadata": {
            "tags": []
          }
        },
        {
          "output_type": "display_data",
          "data": {
            "text/plain": [
              "alt.Chart(...)"
            ],
            "text/html": [
              "\n",
              "<div id=\"altair-viz-a65094911e144c1886af246dffffadde\"></div>\n",
              "<script type=\"text/javascript\">\n",
              "  (function(spec, embedOpt){\n",
              "    let outputDiv = document.currentScript.previousElementSibling;\n",
              "    if (outputDiv.id !== \"altair-viz-a65094911e144c1886af246dffffadde\") {\n",
              "      outputDiv = document.getElementById(\"altair-viz-a65094911e144c1886af246dffffadde\");\n",
              "    }\n",
              "    const paths = {\n",
              "      \"vega\": \"https://cdn.jsdelivr.net/npm//vega@5?noext\",\n",
              "      \"vega-lib\": \"https://cdn.jsdelivr.net/npm//vega-lib?noext\",\n",
              "      \"vega-lite\": \"https://cdn.jsdelivr.net/npm//vega-lite@4.8.1?noext\",\n",
              "      \"vega-embed\": \"https://cdn.jsdelivr.net/npm//vega-embed@6?noext\",\n",
              "    };\n",
              "\n",
              "    function loadScript(lib) {\n",
              "      return new Promise(function(resolve, reject) {\n",
              "        var s = document.createElement('script');\n",
              "        s.src = paths[lib];\n",
              "        s.async = true;\n",
              "        s.onload = () => resolve(paths[lib]);\n",
              "        s.onerror = () => reject(`Error loading script: ${paths[lib]}`);\n",
              "        document.getElementsByTagName(\"head\")[0].appendChild(s);\n",
              "      });\n",
              "    }\n",
              "\n",
              "    function showError(err) {\n",
              "      outputDiv.innerHTML = `<div class=\"error\" style=\"color:red;\">${err}</div>`;\n",
              "      throw err;\n",
              "    }\n",
              "\n",
              "    function displayChart(vegaEmbed) {\n",
              "      vegaEmbed(outputDiv, spec, embedOpt)\n",
              "        .catch(err => showError(`Javascript Error: ${err.message}<br>This usually means there's a typo in your chart specification. See the javascript console for the full traceback.`));\n",
              "    }\n",
              "\n",
              "    if(typeof define === \"function\" && define.amd) {\n",
              "      requirejs.config({paths});\n",
              "      require([\"vega-embed\"], displayChart, err => showError(`Error loading script: ${err.message}`));\n",
              "    } else if (typeof vegaEmbed === \"function\") {\n",
              "      displayChart(vegaEmbed);\n",
              "    } else {\n",
              "      loadScript(\"vega\")\n",
              "        .then(() => loadScript(\"vega-lite\"))\n",
              "        .then(() => loadScript(\"vega-embed\"))\n",
              "        .catch(showError)\n",
              "        .then(() => displayChart(vegaEmbed));\n",
              "    }\n",
              "  })({\"config\": {\"view\": {\"continuousWidth\": 400, \"continuousHeight\": 300}}, \"data\": {\"name\": \"data-06485410734d44e7822ecfdc54eeee1a\"}, \"mark\": \"bar\", \"encoding\": {\"x\": {\"type\": \"quantitative\", \"field\": \"Year\"}, \"y\": {\"type\": \"quantitative\", \"field\": \"arrest_percentage\"}}, \"title\": \"PUBLIC PEACE VIOLATION\", \"$schema\": \"https://vega.github.io/schema/vega-lite/v4.8.1.json\", \"datasets\": {\"data-06485410734d44e7822ecfdc54eeee1a\": [{\"Year\": 2001, \"PrimaryType\": \"PUBLIC PEACE VIOLATION\", \"False\": 1827.0, \"True\": 923.0, \"arrest_percentage\": 33.56363636363636}, {\"Year\": 2002, \"PrimaryType\": \"PUBLIC PEACE VIOLATION\", \"False\": 1528.0, \"True\": 929.0, \"arrest_percentage\": 37.81033781033781}, {\"Year\": 2003, \"PrimaryType\": \"PUBLIC PEACE VIOLATION\", \"False\": 1381.0, \"True\": 1049.0, \"arrest_percentage\": 43.16872427983539}, {\"Year\": 2004, \"PrimaryType\": \"PUBLIC PEACE VIOLATION\", \"False\": 1188.0, \"True\": 1307.0, \"arrest_percentage\": 52.38476953907816}, {\"Year\": 2005, \"PrimaryType\": \"PUBLIC PEACE VIOLATION\", \"False\": 1147.0, \"True\": 1583.0, \"arrest_percentage\": 57.98534798534799}, {\"Year\": 2006, \"PrimaryType\": \"PUBLIC PEACE VIOLATION\", \"False\": 1078.0, \"True\": 1990.0, \"arrest_percentage\": 64.86310299869622}, {\"Year\": 2007, \"PrimaryType\": \"PUBLIC PEACE VIOLATION\", \"False\": 1046.0, \"True\": 2269.0, \"arrest_percentage\": 68.44645550527903}, {\"Year\": 2008, \"PrimaryType\": \"PUBLIC PEACE VIOLATION\", \"False\": 1237.0, \"True\": 1776.0, \"arrest_percentage\": 58.94457351476934}, {\"Year\": 2009, \"PrimaryType\": \"PUBLIC PEACE VIOLATION\", \"False\": 858.0, \"True\": 2289.0, \"arrest_percentage\": 72.73593898951383}, {\"Year\": 2010, \"PrimaryType\": \"PUBLIC PEACE VIOLATION\", \"False\": 1013.0, \"True\": 2525.0, \"arrest_percentage\": 71.368004522329}, {\"Year\": 2011, \"PrimaryType\": \"PUBLIC PEACE VIOLATION\", \"False\": 696.0, \"True\": 2399.0, \"arrest_percentage\": 77.51211631663975}, {\"Year\": 2012, \"PrimaryType\": \"PUBLIC PEACE VIOLATION\", \"False\": 756.0, \"True\": 2251.0, \"arrest_percentage\": 74.8586631193881}, {\"Year\": 2013, \"PrimaryType\": \"PUBLIC PEACE VIOLATION\", \"False\": 805.0, \"True\": 2330.0, \"arrest_percentage\": 74.32216905901117}, {\"Year\": 2014, \"PrimaryType\": \"PUBLIC PEACE VIOLATION\", \"False\": 554.0, \"True\": 2349.0, \"arrest_percentage\": 80.91629348949363}, {\"Year\": 2015, \"PrimaryType\": \"PUBLIC PEACE VIOLATION\", \"False\": 541.0, \"True\": 1881.0, \"arrest_percentage\": 77.66308835672997}, {\"Year\": 2016, \"PrimaryType\": \"PUBLIC PEACE VIOLATION\", \"False\": 491.0, \"True\": 1116.0, \"arrest_percentage\": 69.44617299315495}, {\"Year\": 2017, \"PrimaryType\": \"PUBLIC PEACE VIOLATION\", \"False\": 476.0, \"True\": 1022.0, \"arrest_percentage\": 68.22429906542055}, {\"Year\": 2018, \"PrimaryType\": \"PUBLIC PEACE VIOLATION\", \"False\": 546.0, \"True\": 826.0, \"arrest_percentage\": 60.204081632653065}, {\"Year\": 2019, \"PrimaryType\": \"PUBLIC PEACE VIOLATION\", \"False\": 450.0, \"True\": 1070.0, \"arrest_percentage\": 70.39473684210526}, {\"Year\": 2020, \"PrimaryType\": \"PUBLIC PEACE VIOLATION\", \"False\": 814.0, \"True\": 454.0, \"arrest_percentage\": 35.80441640378549}, {\"Year\": 2021, \"PrimaryType\": \"PUBLIC PEACE VIOLATION\", \"False\": 59.0, \"True\": 37.0, \"arrest_percentage\": 38.54166666666667}]}}, {\"mode\": \"vega-lite\"});\n",
              "</script>"
            ]
          },
          "metadata": {
            "tags": []
          }
        },
        {
          "output_type": "display_data",
          "data": {
            "text/plain": [
              "alt.Chart(...)"
            ],
            "text/html": [
              "\n",
              "<div id=\"altair-viz-98613b9667334bdfa88604cfc6bb9eed\"></div>\n",
              "<script type=\"text/javascript\">\n",
              "  (function(spec, embedOpt){\n",
              "    let outputDiv = document.currentScript.previousElementSibling;\n",
              "    if (outputDiv.id !== \"altair-viz-98613b9667334bdfa88604cfc6bb9eed\") {\n",
              "      outputDiv = document.getElementById(\"altair-viz-98613b9667334bdfa88604cfc6bb9eed\");\n",
              "    }\n",
              "    const paths = {\n",
              "      \"vega\": \"https://cdn.jsdelivr.net/npm//vega@5?noext\",\n",
              "      \"vega-lib\": \"https://cdn.jsdelivr.net/npm//vega-lib?noext\",\n",
              "      \"vega-lite\": \"https://cdn.jsdelivr.net/npm//vega-lite@4.8.1?noext\",\n",
              "      \"vega-embed\": \"https://cdn.jsdelivr.net/npm//vega-embed@6?noext\",\n",
              "    };\n",
              "\n",
              "    function loadScript(lib) {\n",
              "      return new Promise(function(resolve, reject) {\n",
              "        var s = document.createElement('script');\n",
              "        s.src = paths[lib];\n",
              "        s.async = true;\n",
              "        s.onload = () => resolve(paths[lib]);\n",
              "        s.onerror = () => reject(`Error loading script: ${paths[lib]}`);\n",
              "        document.getElementsByTagName(\"head\")[0].appendChild(s);\n",
              "      });\n",
              "    }\n",
              "\n",
              "    function showError(err) {\n",
              "      outputDiv.innerHTML = `<div class=\"error\" style=\"color:red;\">${err}</div>`;\n",
              "      throw err;\n",
              "    }\n",
              "\n",
              "    function displayChart(vegaEmbed) {\n",
              "      vegaEmbed(outputDiv, spec, embedOpt)\n",
              "        .catch(err => showError(`Javascript Error: ${err.message}<br>This usually means there's a typo in your chart specification. See the javascript console for the full traceback.`));\n",
              "    }\n",
              "\n",
              "    if(typeof define === \"function\" && define.amd) {\n",
              "      requirejs.config({paths});\n",
              "      require([\"vega-embed\"], displayChart, err => showError(`Error loading script: ${err.message}`));\n",
              "    } else if (typeof vegaEmbed === \"function\") {\n",
              "      displayChart(vegaEmbed);\n",
              "    } else {\n",
              "      loadScript(\"vega\")\n",
              "        .then(() => loadScript(\"vega-lite\"))\n",
              "        .then(() => loadScript(\"vega-embed\"))\n",
              "        .catch(showError)\n",
              "        .then(() => displayChart(vegaEmbed));\n",
              "    }\n",
              "  })({\"config\": {\"view\": {\"continuousWidth\": 400, \"continuousHeight\": 300}}, \"data\": {\"name\": \"data-51432453380ad2c6173d27d58111e0b7\"}, \"mark\": \"bar\", \"encoding\": {\"x\": {\"type\": \"quantitative\", \"field\": \"Year\"}, \"y\": {\"type\": \"quantitative\", \"field\": \"arrest_percentage\"}}, \"title\": \"RITUALISM\", \"$schema\": \"https://vega.github.io/schema/vega-lite/v4.8.1.json\", \"datasets\": {\"data-51432453380ad2c6173d27d58111e0b7\": [{\"Year\": 2001, \"PrimaryType\": \"RITUALISM\", \"False\": 7.0, \"True\": 1.0, \"arrest_percentage\": 12.5}, {\"Year\": 2002, \"PrimaryType\": \"RITUALISM\", \"False\": 1.0, \"True\": 1.0, \"arrest_percentage\": 50.0}, {\"Year\": 2003, \"PrimaryType\": \"RITUALISM\", \"False\": 2.0, \"True\": null, \"arrest_percentage\": null}, {\"Year\": 2004, \"PrimaryType\": \"RITUALISM\", \"False\": 1.0, \"True\": null, \"arrest_percentage\": null}, {\"Year\": 2005, \"PrimaryType\": \"RITUALISM\", \"False\": 2.0, \"True\": null, \"arrest_percentage\": null}, {\"Year\": 2006, \"PrimaryType\": \"RITUALISM\", \"False\": 6.0, \"True\": 1.0, \"arrest_percentage\": 14.285714285714285}, {\"Year\": 2007, \"PrimaryType\": \"RITUALISM\", \"False\": 1.0, \"True\": null, \"arrest_percentage\": null}, {\"Year\": 2020, \"PrimaryType\": \"RITUALISM\", \"False\": 1.0, \"True\": null, \"arrest_percentage\": null}]}}, {\"mode\": \"vega-lite\"});\n",
              "</script>"
            ]
          },
          "metadata": {
            "tags": []
          }
        },
        {
          "output_type": "display_data",
          "data": {
            "text/plain": [
              "alt.Chart(...)"
            ],
            "text/html": [
              "\n",
              "<div id=\"altair-viz-116285f18d3a4bfabdf63bd6d4b01820\"></div>\n",
              "<script type=\"text/javascript\">\n",
              "  (function(spec, embedOpt){\n",
              "    let outputDiv = document.currentScript.previousElementSibling;\n",
              "    if (outputDiv.id !== \"altair-viz-116285f18d3a4bfabdf63bd6d4b01820\") {\n",
              "      outputDiv = document.getElementById(\"altair-viz-116285f18d3a4bfabdf63bd6d4b01820\");\n",
              "    }\n",
              "    const paths = {\n",
              "      \"vega\": \"https://cdn.jsdelivr.net/npm//vega@5?noext\",\n",
              "      \"vega-lib\": \"https://cdn.jsdelivr.net/npm//vega-lib?noext\",\n",
              "      \"vega-lite\": \"https://cdn.jsdelivr.net/npm//vega-lite@4.8.1?noext\",\n",
              "      \"vega-embed\": \"https://cdn.jsdelivr.net/npm//vega-embed@6?noext\",\n",
              "    };\n",
              "\n",
              "    function loadScript(lib) {\n",
              "      return new Promise(function(resolve, reject) {\n",
              "        var s = document.createElement('script');\n",
              "        s.src = paths[lib];\n",
              "        s.async = true;\n",
              "        s.onload = () => resolve(paths[lib]);\n",
              "        s.onerror = () => reject(`Error loading script: ${paths[lib]}`);\n",
              "        document.getElementsByTagName(\"head\")[0].appendChild(s);\n",
              "      });\n",
              "    }\n",
              "\n",
              "    function showError(err) {\n",
              "      outputDiv.innerHTML = `<div class=\"error\" style=\"color:red;\">${err}</div>`;\n",
              "      throw err;\n",
              "    }\n",
              "\n",
              "    function displayChart(vegaEmbed) {\n",
              "      vegaEmbed(outputDiv, spec, embedOpt)\n",
              "        .catch(err => showError(`Javascript Error: ${err.message}<br>This usually means there's a typo in your chart specification. See the javascript console for the full traceback.`));\n",
              "    }\n",
              "\n",
              "    if(typeof define === \"function\" && define.amd) {\n",
              "      requirejs.config({paths});\n",
              "      require([\"vega-embed\"], displayChart, err => showError(`Error loading script: ${err.message}`));\n",
              "    } else if (typeof vegaEmbed === \"function\") {\n",
              "      displayChart(vegaEmbed);\n",
              "    } else {\n",
              "      loadScript(\"vega\")\n",
              "        .then(() => loadScript(\"vega-lite\"))\n",
              "        .then(() => loadScript(\"vega-embed\"))\n",
              "        .catch(showError)\n",
              "        .then(() => displayChart(vegaEmbed));\n",
              "    }\n",
              "  })({\"config\": {\"view\": {\"continuousWidth\": 400, \"continuousHeight\": 300}}, \"data\": {\"name\": \"data-047c707ed71bb75a701dab64ae5d7a69\"}, \"mark\": \"bar\", \"encoding\": {\"x\": {\"type\": \"quantitative\", \"field\": \"Year\"}, \"y\": {\"type\": \"quantitative\", \"field\": \"arrest_percentage\"}}, \"title\": \"ROBBERY\", \"$schema\": \"https://vega.github.io/schema/vega-lite/v4.8.1.json\", \"datasets\": {\"data-047c707ed71bb75a701dab64ae5d7a69\": [{\"Year\": 2001, \"PrimaryType\": \"ROBBERY\", \"False\": 16601.0, \"True\": 1840.0, \"arrest_percentage\": 9.977766932378938}, {\"Year\": 2002, \"PrimaryType\": \"ROBBERY\", \"False\": 16764.0, \"True\": 1758.0, \"arrest_percentage\": 9.491415613864595}, {\"Year\": 2003, \"PrimaryType\": \"ROBBERY\", \"False\": 15740.0, \"True\": 1592.0, \"arrest_percentage\": 9.18532194784214}, {\"Year\": 2004, \"PrimaryType\": \"ROBBERY\", \"False\": 14500.0, \"True\": 1478.0, \"arrest_percentage\": 9.250219051195394}, {\"Year\": 2005, \"PrimaryType\": \"ROBBERY\", \"False\": 14406.0, \"True\": 1641.0, \"arrest_percentage\": 10.226210506636754}, {\"Year\": 2006, \"PrimaryType\": \"ROBBERY\", \"False\": 14234.0, \"True\": 1734.0, \"arrest_percentage\": 10.859218436873748}, {\"Year\": 2007, \"PrimaryType\": \"ROBBERY\", \"False\": 13835.0, \"True\": 1615.0, \"arrest_percentage\": 10.453074433656957}, {\"Year\": 2008, \"PrimaryType\": \"ROBBERY\", \"False\": 15016.0, \"True\": 1687.0, \"arrest_percentage\": 10.099982039154643}, {\"Year\": 2009, \"PrimaryType\": \"ROBBERY\", \"False\": 14416.0, \"True\": 1564.0, \"arrest_percentage\": 9.787234042553191}, {\"Year\": 2010, \"PrimaryType\": \"ROBBERY\", \"False\": 12913.0, \"True\": 1361.0, \"arrest_percentage\": 9.534818551211993}, {\"Year\": 2011, \"PrimaryType\": \"ROBBERY\", \"False\": 12661.0, \"True\": 1322.0, \"arrest_percentage\": 9.454337409711792}, {\"Year\": 2012, \"PrimaryType\": \"ROBBERY\", \"False\": 12099.0, \"True\": 1386.0, \"arrest_percentage\": 10.278086763070078}, {\"Year\": 2013, \"PrimaryType\": \"ROBBERY\", \"False\": 10487.0, \"True\": 1333.0, \"arrest_percentage\": 11.277495769881558}, {\"Year\": 2014, \"PrimaryType\": \"ROBBERY\", \"False\": 8748.0, \"True\": 1051.0, \"arrest_percentage\": 10.725584243290132}, {\"Year\": 2015, \"PrimaryType\": \"ROBBERY\", \"False\": 8710.0, \"True\": 928.0, \"arrest_percentage\": 9.628553641834406}, {\"Year\": 2016, \"PrimaryType\": \"ROBBERY\", \"False\": 10977.0, \"True\": 983.0, \"arrest_percentage\": 8.219063545150501}, {\"Year\": 2017, \"PrimaryType\": \"ROBBERY\", \"False\": 10960.0, \"True\": 920.0, \"arrest_percentage\": 7.744107744107744}, {\"Year\": 2018, \"PrimaryType\": \"ROBBERY\", \"False\": 8880.0, \"True\": 799.0, \"arrest_percentage\": 8.254985019113544}, {\"Year\": 2019, \"PrimaryType\": \"ROBBERY\", \"False\": 7294.0, \"True\": 698.0, \"arrest_percentage\": 8.733733733733734}, {\"Year\": 2020, \"PrimaryType\": \"ROBBERY\", \"False\": 7335.0, \"True\": 529.0, \"arrest_percentage\": 6.7268565615462865}, {\"Year\": 2021, \"PrimaryType\": \"ROBBERY\", \"False\": 1370.0, \"True\": 63.0, \"arrest_percentage\": 4.3963712491277045}]}}, {\"mode\": \"vega-lite\"});\n",
              "</script>"
            ]
          },
          "metadata": {
            "tags": []
          }
        },
        {
          "output_type": "display_data",
          "data": {
            "text/plain": [
              "alt.Chart(...)"
            ],
            "text/html": [
              "\n",
              "<div id=\"altair-viz-b7c340a9de33410db589f785eaac376b\"></div>\n",
              "<script type=\"text/javascript\">\n",
              "  (function(spec, embedOpt){\n",
              "    let outputDiv = document.currentScript.previousElementSibling;\n",
              "    if (outputDiv.id !== \"altair-viz-b7c340a9de33410db589f785eaac376b\") {\n",
              "      outputDiv = document.getElementById(\"altair-viz-b7c340a9de33410db589f785eaac376b\");\n",
              "    }\n",
              "    const paths = {\n",
              "      \"vega\": \"https://cdn.jsdelivr.net/npm//vega@5?noext\",\n",
              "      \"vega-lib\": \"https://cdn.jsdelivr.net/npm//vega-lib?noext\",\n",
              "      \"vega-lite\": \"https://cdn.jsdelivr.net/npm//vega-lite@4.8.1?noext\",\n",
              "      \"vega-embed\": \"https://cdn.jsdelivr.net/npm//vega-embed@6?noext\",\n",
              "    };\n",
              "\n",
              "    function loadScript(lib) {\n",
              "      return new Promise(function(resolve, reject) {\n",
              "        var s = document.createElement('script');\n",
              "        s.src = paths[lib];\n",
              "        s.async = true;\n",
              "        s.onload = () => resolve(paths[lib]);\n",
              "        s.onerror = () => reject(`Error loading script: ${paths[lib]}`);\n",
              "        document.getElementsByTagName(\"head\")[0].appendChild(s);\n",
              "      });\n",
              "    }\n",
              "\n",
              "    function showError(err) {\n",
              "      outputDiv.innerHTML = `<div class=\"error\" style=\"color:red;\">${err}</div>`;\n",
              "      throw err;\n",
              "    }\n",
              "\n",
              "    function displayChart(vegaEmbed) {\n",
              "      vegaEmbed(outputDiv, spec, embedOpt)\n",
              "        .catch(err => showError(`Javascript Error: ${err.message}<br>This usually means there's a typo in your chart specification. See the javascript console for the full traceback.`));\n",
              "    }\n",
              "\n",
              "    if(typeof define === \"function\" && define.amd) {\n",
              "      requirejs.config({paths});\n",
              "      require([\"vega-embed\"], displayChart, err => showError(`Error loading script: ${err.message}`));\n",
              "    } else if (typeof vegaEmbed === \"function\") {\n",
              "      displayChart(vegaEmbed);\n",
              "    } else {\n",
              "      loadScript(\"vega\")\n",
              "        .then(() => loadScript(\"vega-lite\"))\n",
              "        .then(() => loadScript(\"vega-embed\"))\n",
              "        .catch(showError)\n",
              "        .then(() => displayChart(vegaEmbed));\n",
              "    }\n",
              "  })({\"config\": {\"view\": {\"continuousWidth\": 400, \"continuousHeight\": 300}}, \"data\": {\"name\": \"data-7db2bbaf6857f4ce8ca1c5276222fcd0\"}, \"mark\": \"bar\", \"encoding\": {\"x\": {\"type\": \"quantitative\", \"field\": \"Year\"}, \"y\": {\"type\": \"quantitative\", \"field\": \"arrest_percentage\"}}, \"title\": \"SEX OFFENSE\", \"$schema\": \"https://vega.github.io/schema/vega-lite/v4.8.1.json\", \"datasets\": {\"data-7db2bbaf6857f4ce8ca1c5276222fcd0\": [{\"Year\": 2001, \"PrimaryType\": \"SEX OFFENSE\", \"False\": 1394.0, \"True\": 840.0, \"arrest_percentage\": 37.60071620411817}, {\"Year\": 2002, \"PrimaryType\": \"SEX OFFENSE\", \"False\": 1396.0, \"True\": 775.0, \"arrest_percentage\": 35.6978350990327}, {\"Year\": 2003, \"PrimaryType\": \"SEX OFFENSE\", \"False\": 1391.0, \"True\": 685.0, \"arrest_percentage\": 32.99614643545279}, {\"Year\": 2004, \"PrimaryType\": \"SEX OFFENSE\", \"False\": 1154.0, \"True\": 650.0, \"arrest_percentage\": 36.031042128603104}, {\"Year\": 2005, \"PrimaryType\": \"SEX OFFENSE\", \"False\": 1215.0, \"True\": 596.0, \"arrest_percentage\": 32.90999447818885}, {\"Year\": 2006, \"PrimaryType\": \"SEX OFFENSE\", \"False\": 1021.0, \"True\": 549.0, \"arrest_percentage\": 34.968152866242036}, {\"Year\": 2007, \"PrimaryType\": \"SEX OFFENSE\", \"False\": 980.0, \"True\": 548.0, \"arrest_percentage\": 35.86387434554974}, {\"Year\": 2008, \"PrimaryType\": \"SEX OFFENSE\", \"False\": 1073.0, \"True\": 424.0, \"arrest_percentage\": 28.32331329325317}, {\"Year\": 2009, \"PrimaryType\": \"SEX OFFENSE\", \"False\": 850.0, \"True\": 412.0, \"arrest_percentage\": 32.64659270998415}, {\"Year\": 2010, \"PrimaryType\": \"SEX OFFENSE\", \"False\": 792.0, \"True\": 334.0, \"arrest_percentage\": 29.66252220248668}, {\"Year\": 2011, \"PrimaryType\": \"SEX OFFENSE\", \"False\": 731.0, \"True\": 353.0, \"arrest_percentage\": 32.564575645756456}, {\"Year\": 2012, \"PrimaryType\": \"SEX OFFENSE\", \"False\": 784.0, \"True\": 293.0, \"arrest_percentage\": 27.20519962859796}, {\"Year\": 2013, \"PrimaryType\": \"SEX OFFENSE\", \"False\": 761.0, \"True\": 290.0, \"arrest_percentage\": 27.59276879162702}, {\"Year\": 2014, \"PrimaryType\": \"SEX OFFENSE\", \"False\": 756.0, \"True\": 245.0, \"arrest_percentage\": 24.475524475524477}, {\"Year\": 2015, \"PrimaryType\": \"SEX OFFENSE\", \"False\": 792.0, \"True\": 229.0, \"arrest_percentage\": 22.428991185112636}, {\"Year\": 2016, \"PrimaryType\": \"SEX OFFENSE\", \"False\": 830.0, \"True\": 183.0, \"arrest_percentage\": 18.065153010858836}, {\"Year\": 2017, \"PrimaryType\": \"SEX OFFENSE\", \"False\": 832.0, \"True\": 207.0, \"arrest_percentage\": 19.92300288739172}, {\"Year\": 2018, \"PrimaryType\": \"SEX OFFENSE\", \"False\": 935.0, \"True\": 220.0, \"arrest_percentage\": 19.047619047619047}, {\"Year\": 2019, \"PrimaryType\": \"SEX OFFENSE\", \"False\": 1162.0, \"True\": 166.0, \"arrest_percentage\": 12.5}, {\"Year\": 2020, \"PrimaryType\": \"SEX OFFENSE\", \"False\": 831.0, \"True\": 78.0, \"arrest_percentage\": 8.58085808580858}, {\"Year\": 2021, \"PrimaryType\": \"SEX OFFENSE\", \"False\": 160.0, \"True\": 6.0, \"arrest_percentage\": 3.614457831325301}]}}, {\"mode\": \"vega-lite\"});\n",
              "</script>"
            ]
          },
          "metadata": {
            "tags": []
          }
        },
        {
          "output_type": "display_data",
          "data": {
            "text/plain": [
              "alt.Chart(...)"
            ],
            "text/html": [
              "\n",
              "<div id=\"altair-viz-03a3cde140ae48e6abbe8b0fb8318f1b\"></div>\n",
              "<script type=\"text/javascript\">\n",
              "  (function(spec, embedOpt){\n",
              "    let outputDiv = document.currentScript.previousElementSibling;\n",
              "    if (outputDiv.id !== \"altair-viz-03a3cde140ae48e6abbe8b0fb8318f1b\") {\n",
              "      outputDiv = document.getElementById(\"altair-viz-03a3cde140ae48e6abbe8b0fb8318f1b\");\n",
              "    }\n",
              "    const paths = {\n",
              "      \"vega\": \"https://cdn.jsdelivr.net/npm//vega@5?noext\",\n",
              "      \"vega-lib\": \"https://cdn.jsdelivr.net/npm//vega-lib?noext\",\n",
              "      \"vega-lite\": \"https://cdn.jsdelivr.net/npm//vega-lite@4.8.1?noext\",\n",
              "      \"vega-embed\": \"https://cdn.jsdelivr.net/npm//vega-embed@6?noext\",\n",
              "    };\n",
              "\n",
              "    function loadScript(lib) {\n",
              "      return new Promise(function(resolve, reject) {\n",
              "        var s = document.createElement('script');\n",
              "        s.src = paths[lib];\n",
              "        s.async = true;\n",
              "        s.onload = () => resolve(paths[lib]);\n",
              "        s.onerror = () => reject(`Error loading script: ${paths[lib]}`);\n",
              "        document.getElementsByTagName(\"head\")[0].appendChild(s);\n",
              "      });\n",
              "    }\n",
              "\n",
              "    function showError(err) {\n",
              "      outputDiv.innerHTML = `<div class=\"error\" style=\"color:red;\">${err}</div>`;\n",
              "      throw err;\n",
              "    }\n",
              "\n",
              "    function displayChart(vegaEmbed) {\n",
              "      vegaEmbed(outputDiv, spec, embedOpt)\n",
              "        .catch(err => showError(`Javascript Error: ${err.message}<br>This usually means there's a typo in your chart specification. See the javascript console for the full traceback.`));\n",
              "    }\n",
              "\n",
              "    if(typeof define === \"function\" && define.amd) {\n",
              "      requirejs.config({paths});\n",
              "      require([\"vega-embed\"], displayChart, err => showError(`Error loading script: ${err.message}`));\n",
              "    } else if (typeof vegaEmbed === \"function\") {\n",
              "      displayChart(vegaEmbed);\n",
              "    } else {\n",
              "      loadScript(\"vega\")\n",
              "        .then(() => loadScript(\"vega-lite\"))\n",
              "        .then(() => loadScript(\"vega-embed\"))\n",
              "        .catch(showError)\n",
              "        .then(() => displayChart(vegaEmbed));\n",
              "    }\n",
              "  })({\"config\": {\"view\": {\"continuousWidth\": 400, \"continuousHeight\": 300}}, \"data\": {\"name\": \"data-cf7d4d91a9e643b99d23cc9c21656d05\"}, \"mark\": \"bar\", \"encoding\": {\"x\": {\"type\": \"quantitative\", \"field\": \"Year\"}, \"y\": {\"type\": \"quantitative\", \"field\": \"arrest_percentage\"}}, \"title\": \"STALKING\", \"$schema\": \"https://vega.github.io/schema/vega-lite/v4.8.1.json\", \"datasets\": {\"data-cf7d4d91a9e643b99d23cc9c21656d05\": [{\"Year\": 2001, \"PrimaryType\": \"STALKING\", \"False\": 152.0, \"True\": 51.0, \"arrest_percentage\": 25.12315270935961}, {\"Year\": 2002, \"PrimaryType\": \"STALKING\", \"False\": 156.0, \"True\": 44.0, \"arrest_percentage\": 22.0}, {\"Year\": 2003, \"PrimaryType\": \"STALKING\", \"False\": 203.0, \"True\": 44.0, \"arrest_percentage\": 17.813765182186234}, {\"Year\": 2004, \"PrimaryType\": \"STALKING\", \"False\": 179.0, \"True\": 36.0, \"arrest_percentage\": 16.74418604651163}, {\"Year\": 2005, \"PrimaryType\": \"STALKING\", \"False\": 169.0, \"True\": 23.0, \"arrest_percentage\": 11.979166666666668}, {\"Year\": 2006, \"PrimaryType\": \"STALKING\", \"False\": 161.0, \"True\": 25.0, \"arrest_percentage\": 13.440860215053762}, {\"Year\": 2007, \"PrimaryType\": \"STALKING\", \"False\": 179.0, \"True\": 34.0, \"arrest_percentage\": 15.96244131455399}, {\"Year\": 2008, \"PrimaryType\": \"STALKING\", \"False\": 166.0, \"True\": 24.0, \"arrest_percentage\": 12.631578947368421}, {\"Year\": 2009, \"PrimaryType\": \"STALKING\", \"False\": 145.0, \"True\": 23.0, \"arrest_percentage\": 13.690476190476192}, {\"Year\": 2010, \"PrimaryType\": \"STALKING\", \"False\": 163.0, \"True\": 26.0, \"arrest_percentage\": 13.756613756613756}, {\"Year\": 2011, \"PrimaryType\": \"STALKING\", \"False\": 151.0, \"True\": 30.0, \"arrest_percentage\": 16.574585635359114}, {\"Year\": 2012, \"PrimaryType\": \"STALKING\", \"False\": 169.0, \"True\": 38.0, \"arrest_percentage\": 18.357487922705314}, {\"Year\": 2013, \"PrimaryType\": \"STALKING\", \"False\": 122.0, \"True\": 32.0, \"arrest_percentage\": 20.77922077922078}, {\"Year\": 2014, \"PrimaryType\": \"STALKING\", \"False\": 112.0, \"True\": 28.0, \"arrest_percentage\": 20.0}, {\"Year\": 2015, \"PrimaryType\": \"STALKING\", \"False\": 124.0, \"True\": 31.0, \"arrest_percentage\": 20.0}, {\"Year\": 2016, \"PrimaryType\": \"STALKING\", \"False\": 160.0, \"True\": 16.0, \"arrest_percentage\": 9.090909090909092}, {\"Year\": 2017, \"PrimaryType\": \"STALKING\", \"False\": 167.0, \"True\": 24.0, \"arrest_percentage\": 12.56544502617801}, {\"Year\": 2018, \"PrimaryType\": \"STALKING\", \"False\": 186.0, \"True\": 21.0, \"arrest_percentage\": 10.144927536231885}, {\"Year\": 2019, \"PrimaryType\": \"STALKING\", \"False\": 188.0, \"True\": 36.0, \"arrest_percentage\": 16.071428571428573}, {\"Year\": 2020, \"PrimaryType\": \"STALKING\", \"False\": 183.0, \"True\": 13.0, \"arrest_percentage\": 6.63265306122449}, {\"Year\": 2021, \"PrimaryType\": \"STALKING\", \"False\": 49.0, \"True\": 3.0, \"arrest_percentage\": 5.769230769230769}]}}, {\"mode\": \"vega-lite\"});\n",
              "</script>"
            ]
          },
          "metadata": {
            "tags": []
          }
        },
        {
          "output_type": "display_data",
          "data": {
            "text/plain": [
              "alt.Chart(...)"
            ],
            "text/html": [
              "\n",
              "<div id=\"altair-viz-7d291f9db4004822802c744af2e6e74e\"></div>\n",
              "<script type=\"text/javascript\">\n",
              "  (function(spec, embedOpt){\n",
              "    let outputDiv = document.currentScript.previousElementSibling;\n",
              "    if (outputDiv.id !== \"altair-viz-7d291f9db4004822802c744af2e6e74e\") {\n",
              "      outputDiv = document.getElementById(\"altair-viz-7d291f9db4004822802c744af2e6e74e\");\n",
              "    }\n",
              "    const paths = {\n",
              "      \"vega\": \"https://cdn.jsdelivr.net/npm//vega@5?noext\",\n",
              "      \"vega-lib\": \"https://cdn.jsdelivr.net/npm//vega-lib?noext\",\n",
              "      \"vega-lite\": \"https://cdn.jsdelivr.net/npm//vega-lite@4.8.1?noext\",\n",
              "      \"vega-embed\": \"https://cdn.jsdelivr.net/npm//vega-embed@6?noext\",\n",
              "    };\n",
              "\n",
              "    function loadScript(lib) {\n",
              "      return new Promise(function(resolve, reject) {\n",
              "        var s = document.createElement('script');\n",
              "        s.src = paths[lib];\n",
              "        s.async = true;\n",
              "        s.onload = () => resolve(paths[lib]);\n",
              "        s.onerror = () => reject(`Error loading script: ${paths[lib]}`);\n",
              "        document.getElementsByTagName(\"head\")[0].appendChild(s);\n",
              "      });\n",
              "    }\n",
              "\n",
              "    function showError(err) {\n",
              "      outputDiv.innerHTML = `<div class=\"error\" style=\"color:red;\">${err}</div>`;\n",
              "      throw err;\n",
              "    }\n",
              "\n",
              "    function displayChart(vegaEmbed) {\n",
              "      vegaEmbed(outputDiv, spec, embedOpt)\n",
              "        .catch(err => showError(`Javascript Error: ${err.message}<br>This usually means there's a typo in your chart specification. See the javascript console for the full traceback.`));\n",
              "    }\n",
              "\n",
              "    if(typeof define === \"function\" && define.amd) {\n",
              "      requirejs.config({paths});\n",
              "      require([\"vega-embed\"], displayChart, err => showError(`Error loading script: ${err.message}`));\n",
              "    } else if (typeof vegaEmbed === \"function\") {\n",
              "      displayChart(vegaEmbed);\n",
              "    } else {\n",
              "      loadScript(\"vega\")\n",
              "        .then(() => loadScript(\"vega-lite\"))\n",
              "        .then(() => loadScript(\"vega-embed\"))\n",
              "        .catch(showError)\n",
              "        .then(() => displayChart(vegaEmbed));\n",
              "    }\n",
              "  })({\"config\": {\"view\": {\"continuousWidth\": 400, \"continuousHeight\": 300}}, \"data\": {\"name\": \"data-d7ea6fd6ad8e5bb988fdf8361c8481a9\"}, \"mark\": \"bar\", \"encoding\": {\"x\": {\"type\": \"quantitative\", \"field\": \"Year\"}, \"y\": {\"type\": \"quantitative\", \"field\": \"arrest_percentage\"}}, \"title\": \"THEFT\", \"$schema\": \"https://vega.github.io/schema/vega-lite/v4.8.1.json\", \"datasets\": {\"data-d7ea6fd6ad8e5bb988fdf8361c8481a9\": [{\"Year\": 2001, \"PrimaryType\": \"THEFT\", \"False\": 83723.0, \"True\": 15544.0, \"arrest_percentage\": 15.658778848962898}, {\"Year\": 2002, \"PrimaryType\": \"THEFT\", \"False\": 84630.0, \"True\": 13697.0, \"arrest_percentage\": 13.93004973201664}, {\"Year\": 2003, \"PrimaryType\": \"THEFT\", \"False\": 85986.0, \"True\": 12889.0, \"arrest_percentage\": 13.035651074589127}, {\"Year\": 2004, \"PrimaryType\": \"THEFT\", \"False\": 83395.0, \"True\": 12068.0, \"arrest_percentage\": 12.641546986790694}, {\"Year\": 2005, \"PrimaryType\": \"THEFT\", \"False\": 74346.0, \"True\": 11338.0, \"arrest_percentage\": 13.23234209420662}, {\"Year\": 2006, \"PrimaryType\": \"THEFT\", \"False\": 76132.0, \"True\": 10108.0, \"arrest_percentage\": 11.720779220779221}, {\"Year\": 2007, \"PrimaryType\": \"THEFT\", \"False\": 75373.0, \"True\": 9783.0, \"arrest_percentage\": 11.48832730518108}, {\"Year\": 2008, \"PrimaryType\": \"THEFT\", \"False\": 79142.0, \"True\": 9292.0, \"arrest_percentage\": 10.507270959133365}, {\"Year\": 2009, \"PrimaryType\": \"THEFT\", \"False\": 71075.0, \"True\": 9900.0, \"arrest_percentage\": 12.225995677678297}, {\"Year\": 2010, \"PrimaryType\": \"THEFT\", \"False\": 68911.0, \"True\": 7845.0, \"arrest_percentage\": 10.220699359007765}, {\"Year\": 2011, \"PrimaryType\": \"THEFT\", \"False\": 66682.0, \"True\": 8468.0, \"arrest_percentage\": 11.268130405854956}, {\"Year\": 2012, \"PrimaryType\": \"THEFT\", \"False\": 67212.0, \"True\": 8250.0, \"arrest_percentage\": 10.932654846147729}, {\"Year\": 2013, \"PrimaryType\": \"THEFT\", \"False\": 63804.0, \"True\": 7727.0, \"arrest_percentage\": 10.80230948819393}, {\"Year\": 2014, \"PrimaryType\": \"THEFT\", \"False\": 54142.0, \"True\": 7423.0, \"arrest_percentage\": 12.057175343133274}, {\"Year\": 2015, \"PrimaryType\": \"THEFT\", \"False\": 50569.0, \"True\": 6775.0, \"arrest_percentage\": 11.814662388392858}, {\"Year\": 2016, \"PrimaryType\": \"THEFT\", \"False\": 55094.0, \"True\": 6522.0, \"arrest_percentage\": 10.584913009607893}, {\"Year\": 2017, \"PrimaryType\": \"THEFT\", \"False\": 57902.0, \"True\": 6474.0, \"arrest_percentage\": 10.05654281098546}, {\"Year\": 2018, \"PrimaryType\": \"THEFT\", \"False\": 58929.0, \"True\": 6339.0, \"arrest_percentage\": 9.712263283691854}, {\"Year\": 2019, \"PrimaryType\": \"THEFT\", \"False\": 56340.0, \"True\": 6102.0, \"arrest_percentage\": 9.772268665321418}, {\"Year\": 2020, \"PrimaryType\": \"THEFT\", \"False\": 38312.0, \"True\": 2775.0, \"arrest_percentage\": 6.753961106919464}, {\"Year\": 2021, \"PrimaryType\": \"THEFT\", \"False\": 5422.0, \"True\": 288.0, \"arrest_percentage\": 5.0437828371278455}]}}, {\"mode\": \"vega-lite\"});\n",
              "</script>"
            ]
          },
          "metadata": {
            "tags": []
          }
        },
        {
          "output_type": "display_data",
          "data": {
            "text/plain": [
              "alt.Chart(...)"
            ],
            "text/html": [
              "\n",
              "<div id=\"altair-viz-03c5f08d328b4f5bba374d9660aa1d1c\"></div>\n",
              "<script type=\"text/javascript\">\n",
              "  (function(spec, embedOpt){\n",
              "    let outputDiv = document.currentScript.previousElementSibling;\n",
              "    if (outputDiv.id !== \"altair-viz-03c5f08d328b4f5bba374d9660aa1d1c\") {\n",
              "      outputDiv = document.getElementById(\"altair-viz-03c5f08d328b4f5bba374d9660aa1d1c\");\n",
              "    }\n",
              "    const paths = {\n",
              "      \"vega\": \"https://cdn.jsdelivr.net/npm//vega@5?noext\",\n",
              "      \"vega-lib\": \"https://cdn.jsdelivr.net/npm//vega-lib?noext\",\n",
              "      \"vega-lite\": \"https://cdn.jsdelivr.net/npm//vega-lite@4.8.1?noext\",\n",
              "      \"vega-embed\": \"https://cdn.jsdelivr.net/npm//vega-embed@6?noext\",\n",
              "    };\n",
              "\n",
              "    function loadScript(lib) {\n",
              "      return new Promise(function(resolve, reject) {\n",
              "        var s = document.createElement('script');\n",
              "        s.src = paths[lib];\n",
              "        s.async = true;\n",
              "        s.onload = () => resolve(paths[lib]);\n",
              "        s.onerror = () => reject(`Error loading script: ${paths[lib]}`);\n",
              "        document.getElementsByTagName(\"head\")[0].appendChild(s);\n",
              "      });\n",
              "    }\n",
              "\n",
              "    function showError(err) {\n",
              "      outputDiv.innerHTML = `<div class=\"error\" style=\"color:red;\">${err}</div>`;\n",
              "      throw err;\n",
              "    }\n",
              "\n",
              "    function displayChart(vegaEmbed) {\n",
              "      vegaEmbed(outputDiv, spec, embedOpt)\n",
              "        .catch(err => showError(`Javascript Error: ${err.message}<br>This usually means there's a typo in your chart specification. See the javascript console for the full traceback.`));\n",
              "    }\n",
              "\n",
              "    if(typeof define === \"function\" && define.amd) {\n",
              "      requirejs.config({paths});\n",
              "      require([\"vega-embed\"], displayChart, err => showError(`Error loading script: ${err.message}`));\n",
              "    } else if (typeof vegaEmbed === \"function\") {\n",
              "      displayChart(vegaEmbed);\n",
              "    } else {\n",
              "      loadScript(\"vega\")\n",
              "        .then(() => loadScript(\"vega-lite\"))\n",
              "        .then(() => loadScript(\"vega-embed\"))\n",
              "        .catch(showError)\n",
              "        .then(() => displayChart(vegaEmbed));\n",
              "    }\n",
              "  })({\"config\": {\"view\": {\"continuousWidth\": 400, \"continuousHeight\": 300}}, \"data\": {\"name\": \"data-88fe6a829d7c4418fb4fe06fb96f480e\"}, \"mark\": \"bar\", \"encoding\": {\"x\": {\"type\": \"quantitative\", \"field\": \"Year\"}, \"y\": {\"type\": \"quantitative\", \"field\": \"arrest_percentage\"}}, \"title\": \"WEAPONS VIOLATION\", \"$schema\": \"https://vega.github.io/schema/vega-lite/v4.8.1.json\", \"datasets\": {\"data-88fe6a829d7c4418fb4fe06fb96f480e\": [{\"Year\": 2001, \"PrimaryType\": \"WEAPONS VIOLATION\", \"False\": 737.0, \"True\": 3537.0, \"arrest_percentage\": 82.75620028076743}, {\"Year\": 2002, \"PrimaryType\": \"WEAPONS VIOLATION\", \"False\": 743.0, \"True\": 3538.0, \"arrest_percentage\": 82.64424199953282}, {\"Year\": 2003, \"PrimaryType\": \"WEAPONS VIOLATION\", \"False\": 764.0, \"True\": 3447.0, \"arrest_percentage\": 81.85704108287818}, {\"Year\": 2004, \"PrimaryType\": \"WEAPONS VIOLATION\", \"False\": 892.0, \"True\": 3405.0, \"arrest_percentage\": 79.24133116127531}, {\"Year\": 2005, \"PrimaryType\": \"WEAPONS VIOLATION\", \"False\": 815.0, \"True\": 3291.0, \"arrest_percentage\": 80.15099853872381}, {\"Year\": 2006, \"PrimaryType\": \"WEAPONS VIOLATION\", \"False\": 821.0, \"True\": 3000.0, \"arrest_percentage\": 78.51347814708191}, {\"Year\": 2007, \"PrimaryType\": \"WEAPONS VIOLATION\", \"False\": 670.0, \"True\": 2884.0, \"arrest_percentage\": 81.1480022509848}, {\"Year\": 2008, \"PrimaryType\": \"WEAPONS VIOLATION\", \"False\": 954.0, \"True\": 2923.0, \"arrest_percentage\": 75.39334537013154}, {\"Year\": 2009, \"PrimaryType\": \"WEAPONS VIOLATION\", \"False\": 685.0, \"True\": 3473.0, \"arrest_percentage\": 83.52573352573353}, {\"Year\": 2010, \"PrimaryType\": \"WEAPONS VIOLATION\", \"False\": 793.0, \"True\": 2911.0, \"arrest_percentage\": 78.59071274298056}, {\"Year\": 2011, \"PrimaryType\": \"WEAPONS VIOLATION\", \"False\": 734.0, \"True\": 3146.0, \"arrest_percentage\": 81.08247422680412}, {\"Year\": 2012, \"PrimaryType\": \"WEAPONS VIOLATION\", \"False\": 643.0, \"True\": 3264.0, \"arrest_percentage\": 83.54235986690556}, {\"Year\": 2013, \"PrimaryType\": \"WEAPONS VIOLATION\", \"False\": 580.0, \"True\": 2666.0, \"arrest_percentage\": 82.13185459026494}, {\"Year\": 2014, \"PrimaryType\": \"WEAPONS VIOLATION\", \"False\": 532.0, \"True\": 2581.0, \"arrest_percentage\": 82.91037584323804}, {\"Year\": 2015, \"PrimaryType\": \"WEAPONS VIOLATION\", \"False\": 682.0, \"True\": 2682.0, \"arrest_percentage\": 79.72651605231866}, {\"Year\": 2016, \"PrimaryType\": \"WEAPONS VIOLATION\", \"False\": 940.0, \"True\": 2510.0, \"arrest_percentage\": 72.7536231884058}, {\"Year\": 2017, \"PrimaryType\": \"WEAPONS VIOLATION\", \"False\": 1009.0, \"True\": 3677.0, \"arrest_percentage\": 78.4677763551003}, {\"Year\": 2018, \"PrimaryType\": \"WEAPONS VIOLATION\", \"False\": 1653.0, \"True\": 3803.0, \"arrest_percentage\": 69.70307917888563}, {\"Year\": 2019, \"PrimaryType\": \"WEAPONS VIOLATION\", \"False\": 2114.0, \"True\": 4225.0, \"arrest_percentage\": 66.65089130777724}, {\"Year\": 2020, \"PrimaryType\": \"WEAPONS VIOLATION\", \"False\": 2985.0, \"True\": 5439.0, \"arrest_percentage\": 64.56552706552706}, {\"Year\": 2021, \"PrimaryType\": \"WEAPONS VIOLATION\", \"False\": 492.0, \"True\": 1005.0, \"arrest_percentage\": 67.13426853707415}]}}, {\"mode\": \"vega-lite\"});\n",
              "</script>"
            ]
          },
          "metadata": {
            "tags": []
          }
        },
        {
          "output_type": "display_data",
          "data": {
            "text/plain": [
              "alt.Chart(...)"
            ],
            "text/html": [
              "\n",
              "<div id=\"altair-viz-3bdde10e64294e5a9bd6ed653570477b\"></div>\n",
              "<script type=\"text/javascript\">\n",
              "  (function(spec, embedOpt){\n",
              "    let outputDiv = document.currentScript.previousElementSibling;\n",
              "    if (outputDiv.id !== \"altair-viz-3bdde10e64294e5a9bd6ed653570477b\") {\n",
              "      outputDiv = document.getElementById(\"altair-viz-3bdde10e64294e5a9bd6ed653570477b\");\n",
              "    }\n",
              "    const paths = {\n",
              "      \"vega\": \"https://cdn.jsdelivr.net/npm//vega@5?noext\",\n",
              "      \"vega-lib\": \"https://cdn.jsdelivr.net/npm//vega-lib?noext\",\n",
              "      \"vega-lite\": \"https://cdn.jsdelivr.net/npm//vega-lite@4.8.1?noext\",\n",
              "      \"vega-embed\": \"https://cdn.jsdelivr.net/npm//vega-embed@6?noext\",\n",
              "    };\n",
              "\n",
              "    function loadScript(lib) {\n",
              "      return new Promise(function(resolve, reject) {\n",
              "        var s = document.createElement('script');\n",
              "        s.src = paths[lib];\n",
              "        s.async = true;\n",
              "        s.onload = () => resolve(paths[lib]);\n",
              "        s.onerror = () => reject(`Error loading script: ${paths[lib]}`);\n",
              "        document.getElementsByTagName(\"head\")[0].appendChild(s);\n",
              "      });\n",
              "    }\n",
              "\n",
              "    function showError(err) {\n",
              "      outputDiv.innerHTML = `<div class=\"error\" style=\"color:red;\">${err}</div>`;\n",
              "      throw err;\n",
              "    }\n",
              "\n",
              "    function displayChart(vegaEmbed) {\n",
              "      vegaEmbed(outputDiv, spec, embedOpt)\n",
              "        .catch(err => showError(`Javascript Error: ${err.message}<br>This usually means there's a typo in your chart specification. See the javascript console for the full traceback.`));\n",
              "    }\n",
              "\n",
              "    if(typeof define === \"function\" && define.amd) {\n",
              "      requirejs.config({paths});\n",
              "      require([\"vega-embed\"], displayChart, err => showError(`Error loading script: ${err.message}`));\n",
              "    } else if (typeof vegaEmbed === \"function\") {\n",
              "      displayChart(vegaEmbed);\n",
              "    } else {\n",
              "      loadScript(\"vega\")\n",
              "        .then(() => loadScript(\"vega-lite\"))\n",
              "        .then(() => loadScript(\"vega-embed\"))\n",
              "        .catch(showError)\n",
              "        .then(() => displayChart(vegaEmbed));\n",
              "    }\n",
              "  })({\"config\": {\"view\": {\"continuousWidth\": 400, \"continuousHeight\": 300}}, \"data\": {\"name\": \"data-7a12d257663b9c53fe4506148f91fb8c\"}, \"mark\": \"bar\", \"encoding\": {\"x\": {\"type\": \"quantitative\", \"field\": \"Year\"}, \"y\": {\"type\": \"quantitative\", \"field\": \"arrest_percentage\"}}, \"title\": \"NON-CRIMINAL\", \"$schema\": \"https://vega.github.io/schema/vega-lite/v4.8.1.json\", \"datasets\": {\"data-7a12d257663b9c53fe4506148f91fb8c\": [{\"Year\": 2003, \"PrimaryType\": \"NON-CRIMINAL\", \"False\": 1.0, \"True\": null, \"arrest_percentage\": null}, {\"Year\": 2009, \"PrimaryType\": \"NON-CRIMINAL\", \"False\": 1.0, \"True\": null, \"arrest_percentage\": null}, {\"Year\": 2010, \"PrimaryType\": \"NON-CRIMINAL\", \"False\": 1.0, \"True\": null, \"arrest_percentage\": null}, {\"Year\": 2012, \"PrimaryType\": \"NON-CRIMINAL\", \"False\": 5.0, \"True\": 1.0, \"arrest_percentage\": 16.666666666666664}, {\"Year\": 2013, \"PrimaryType\": \"NON-CRIMINAL\", \"False\": 3.0, \"True\": 1.0, \"arrest_percentage\": 25.0}, {\"Year\": 2014, \"PrimaryType\": \"NON-CRIMINAL\", \"False\": 16.0, \"True\": null, \"arrest_percentage\": null}, {\"Year\": 2015, \"PrimaryType\": \"NON-CRIMINAL\", \"False\": 13.0, \"True\": 3.0, \"arrest_percentage\": 18.75}, {\"Year\": 2016, \"PrimaryType\": \"NON-CRIMINAL\", \"False\": 47.0, \"True\": 2.0, \"arrest_percentage\": 4.081632653061225}, {\"Year\": 2017, \"PrimaryType\": \"NON-CRIMINAL\", \"False\": 36.0, \"True\": 1.0, \"arrest_percentage\": 2.7027027027027026}, {\"Year\": 2018, \"PrimaryType\": \"NON-CRIMINAL\", \"False\": 34.0, \"True\": 2.0, \"arrest_percentage\": 5.555555555555555}, {\"Year\": 2019, \"PrimaryType\": \"NON-CRIMINAL\", \"False\": 3.0, \"True\": 1.0, \"arrest_percentage\": 25.0}, {\"Year\": 2020, \"PrimaryType\": \"NON-CRIMINAL\", \"False\": 1.0, \"True\": null, \"arrest_percentage\": null}, {\"Year\": 2021, \"PrimaryType\": \"NON-CRIMINAL\", \"False\": 1.0, \"True\": null, \"arrest_percentage\": null}]}}, {\"mode\": \"vega-lite\"});\n",
              "</script>"
            ]
          },
          "metadata": {
            "tags": []
          }
        },
        {
          "output_type": "display_data",
          "data": {
            "text/plain": [
              "alt.Chart(...)"
            ],
            "text/html": [
              "\n",
              "<div id=\"altair-viz-0f85fbd6cf3b4c5c898302f2fda69ce7\"></div>\n",
              "<script type=\"text/javascript\">\n",
              "  (function(spec, embedOpt){\n",
              "    let outputDiv = document.currentScript.previousElementSibling;\n",
              "    if (outputDiv.id !== \"altair-viz-0f85fbd6cf3b4c5c898302f2fda69ce7\") {\n",
              "      outputDiv = document.getElementById(\"altair-viz-0f85fbd6cf3b4c5c898302f2fda69ce7\");\n",
              "    }\n",
              "    const paths = {\n",
              "      \"vega\": \"https://cdn.jsdelivr.net/npm//vega@5?noext\",\n",
              "      \"vega-lib\": \"https://cdn.jsdelivr.net/npm//vega-lib?noext\",\n",
              "      \"vega-lite\": \"https://cdn.jsdelivr.net/npm//vega-lite@4.8.1?noext\",\n",
              "      \"vega-embed\": \"https://cdn.jsdelivr.net/npm//vega-embed@6?noext\",\n",
              "    };\n",
              "\n",
              "    function loadScript(lib) {\n",
              "      return new Promise(function(resolve, reject) {\n",
              "        var s = document.createElement('script');\n",
              "        s.src = paths[lib];\n",
              "        s.async = true;\n",
              "        s.onload = () => resolve(paths[lib]);\n",
              "        s.onerror = () => reject(`Error loading script: ${paths[lib]}`);\n",
              "        document.getElementsByTagName(\"head\")[0].appendChild(s);\n",
              "      });\n",
              "    }\n",
              "\n",
              "    function showError(err) {\n",
              "      outputDiv.innerHTML = `<div class=\"error\" style=\"color:red;\">${err}</div>`;\n",
              "      throw err;\n",
              "    }\n",
              "\n",
              "    function displayChart(vegaEmbed) {\n",
              "      vegaEmbed(outputDiv, spec, embedOpt)\n",
              "        .catch(err => showError(`Javascript Error: ${err.message}<br>This usually means there's a typo in your chart specification. See the javascript console for the full traceback.`));\n",
              "    }\n",
              "\n",
              "    if(typeof define === \"function\" && define.amd) {\n",
              "      requirejs.config({paths});\n",
              "      require([\"vega-embed\"], displayChart, err => showError(`Error loading script: ${err.message}`));\n",
              "    } else if (typeof vegaEmbed === \"function\") {\n",
              "      displayChart(vegaEmbed);\n",
              "    } else {\n",
              "      loadScript(\"vega\")\n",
              "        .then(() => loadScript(\"vega-lite\"))\n",
              "        .then(() => loadScript(\"vega-embed\"))\n",
              "        .catch(showError)\n",
              "        .then(() => displayChart(vegaEmbed));\n",
              "    }\n",
              "  })({\"config\": {\"view\": {\"continuousWidth\": 400, \"continuousHeight\": 300}}, \"data\": {\"name\": \"data-bbe734cf3a404dc36f2ffcd31e6ae7fe\"}, \"mark\": \"bar\", \"encoding\": {\"x\": {\"type\": \"quantitative\", \"field\": \"Year\"}, \"y\": {\"type\": \"quantitative\", \"field\": \"arrest_percentage\"}}, \"title\": \"HUMAN TRAFFICKING\", \"$schema\": \"https://vega.github.io/schema/vega-lite/v4.8.1.json\", \"datasets\": {\"data-bbe734cf3a404dc36f2ffcd31e6ae7fe\": [{\"Year\": 2010, \"PrimaryType\": \"HUMAN TRAFFICKING\", \"False\": 1.0, \"True\": null, \"arrest_percentage\": null}, {\"Year\": 2013, \"PrimaryType\": \"HUMAN TRAFFICKING\", \"False\": 1.0, \"True\": 1.0, \"arrest_percentage\": 50.0}, {\"Year\": 2014, \"PrimaryType\": \"HUMAN TRAFFICKING\", \"False\": 2.0, \"True\": null, \"arrest_percentage\": null}, {\"Year\": 2015, \"PrimaryType\": \"HUMAN TRAFFICKING\", \"False\": 11.0, \"True\": 2.0, \"arrest_percentage\": 15.384615384615385}, {\"Year\": 2016, \"PrimaryType\": \"HUMAN TRAFFICKING\", \"False\": 10.0, \"True\": 1.0, \"arrest_percentage\": 9.090909090909092}, {\"Year\": 2017, \"PrimaryType\": \"HUMAN TRAFFICKING\", \"False\": 9.0, \"True\": 1.0, \"arrest_percentage\": 10.0}, {\"Year\": 2018, \"PrimaryType\": \"HUMAN TRAFFICKING\", \"False\": 11.0, \"True\": 1.0, \"arrest_percentage\": 8.333333333333332}, {\"Year\": 2019, \"PrimaryType\": \"HUMAN TRAFFICKING\", \"False\": 14.0, \"True\": null, \"arrest_percentage\": null}, {\"Year\": 2020, \"PrimaryType\": \"HUMAN TRAFFICKING\", \"False\": 4.0, \"True\": null, \"arrest_percentage\": null}, {\"Year\": 2021, \"PrimaryType\": \"HUMAN TRAFFICKING\", \"False\": 1.0, \"True\": null, \"arrest_percentage\": null}]}}, {\"mode\": \"vega-lite\"});\n",
              "</script>"
            ]
          },
          "metadata": {
            "tags": []
          }
        },
        {
          "output_type": "display_data",
          "data": {
            "text/plain": [
              "alt.Chart(...)"
            ],
            "text/html": [
              "\n",
              "<div id=\"altair-viz-097b5e9a2f0e430aab27de2082dcc6c5\"></div>\n",
              "<script type=\"text/javascript\">\n",
              "  (function(spec, embedOpt){\n",
              "    let outputDiv = document.currentScript.previousElementSibling;\n",
              "    if (outputDiv.id !== \"altair-viz-097b5e9a2f0e430aab27de2082dcc6c5\") {\n",
              "      outputDiv = document.getElementById(\"altair-viz-097b5e9a2f0e430aab27de2082dcc6c5\");\n",
              "    }\n",
              "    const paths = {\n",
              "      \"vega\": \"https://cdn.jsdelivr.net/npm//vega@5?noext\",\n",
              "      \"vega-lib\": \"https://cdn.jsdelivr.net/npm//vega-lib?noext\",\n",
              "      \"vega-lite\": \"https://cdn.jsdelivr.net/npm//vega-lite@4.8.1?noext\",\n",
              "      \"vega-embed\": \"https://cdn.jsdelivr.net/npm//vega-embed@6?noext\",\n",
              "    };\n",
              "\n",
              "    function loadScript(lib) {\n",
              "      return new Promise(function(resolve, reject) {\n",
              "        var s = document.createElement('script');\n",
              "        s.src = paths[lib];\n",
              "        s.async = true;\n",
              "        s.onload = () => resolve(paths[lib]);\n",
              "        s.onerror = () => reject(`Error loading script: ${paths[lib]}`);\n",
              "        document.getElementsByTagName(\"head\")[0].appendChild(s);\n",
              "      });\n",
              "    }\n",
              "\n",
              "    function showError(err) {\n",
              "      outputDiv.innerHTML = `<div class=\"error\" style=\"color:red;\">${err}</div>`;\n",
              "      throw err;\n",
              "    }\n",
              "\n",
              "    function displayChart(vegaEmbed) {\n",
              "      vegaEmbed(outputDiv, spec, embedOpt)\n",
              "        .catch(err => showError(`Javascript Error: ${err.message}<br>This usually means there's a typo in your chart specification. See the javascript console for the full traceback.`));\n",
              "    }\n",
              "\n",
              "    if(typeof define === \"function\" && define.amd) {\n",
              "      requirejs.config({paths});\n",
              "      require([\"vega-embed\"], displayChart, err => showError(`Error loading script: ${err.message}`));\n",
              "    } else if (typeof vegaEmbed === \"function\") {\n",
              "      displayChart(vegaEmbed);\n",
              "    } else {\n",
              "      loadScript(\"vega\")\n",
              "        .then(() => loadScript(\"vega-lite\"))\n",
              "        .then(() => loadScript(\"vega-embed\"))\n",
              "        .catch(showError)\n",
              "        .then(() => displayChart(vegaEmbed));\n",
              "    }\n",
              "  })({\"config\": {\"view\": {\"continuousWidth\": 400, \"continuousHeight\": 300}}, \"data\": {\"name\": \"data-370e11976d53be49c4a76398b435ac83\"}, \"mark\": \"bar\", \"encoding\": {\"x\": {\"type\": \"quantitative\", \"field\": \"Year\"}, \"y\": {\"type\": \"quantitative\", \"field\": \"arrest_percentage\"}}, \"title\": \"NON-CRIMINAL (SUBJECT SPECIFIED)\", \"$schema\": \"https://vega.github.io/schema/vega-lite/v4.8.1.json\", \"datasets\": {\"data-370e11976d53be49c4a76398b435ac83\": [{\"Year\": 2012, \"PrimaryType\": \"NON-CRIMINAL (SUBJECT SPECIFIED)\", \"False\": 1.0, \"True\": 1.0, \"arrest_percentage\": 50.0}, {\"Year\": 2014, \"PrimaryType\": \"NON-CRIMINAL (SUBJECT SPECIFIED)\", \"False\": 1.0, \"True\": null, \"arrest_percentage\": null}, {\"Year\": 2016, \"PrimaryType\": \"NON-CRIMINAL (SUBJECT SPECIFIED)\", \"False\": 1.0, \"True\": null, \"arrest_percentage\": null}, {\"Year\": 2017, \"PrimaryType\": \"NON-CRIMINAL (SUBJECT SPECIFIED)\", \"False\": 1.0, \"True\": 1.0, \"arrest_percentage\": 50.0}, {\"Year\": 2018, \"PrimaryType\": \"NON-CRIMINAL (SUBJECT SPECIFIED)\", \"False\": 2.0, \"True\": 1.0, \"arrest_percentage\": 33.33333333333333}]}}, {\"mode\": \"vega-lite\"});\n",
              "</script>"
            ]
          },
          "metadata": {
            "tags": []
          }
        },
        {
          "output_type": "display_data",
          "data": {
            "text/plain": [
              "alt.Chart(...)"
            ],
            "text/html": [
              "\n",
              "<div id=\"altair-viz-99b881cc1e194dd48a1fbf9ff1c3f0bd\"></div>\n",
              "<script type=\"text/javascript\">\n",
              "  (function(spec, embedOpt){\n",
              "    let outputDiv = document.currentScript.previousElementSibling;\n",
              "    if (outputDiv.id !== \"altair-viz-99b881cc1e194dd48a1fbf9ff1c3f0bd\") {\n",
              "      outputDiv = document.getElementById(\"altair-viz-99b881cc1e194dd48a1fbf9ff1c3f0bd\");\n",
              "    }\n",
              "    const paths = {\n",
              "      \"vega\": \"https://cdn.jsdelivr.net/npm//vega@5?noext\",\n",
              "      \"vega-lib\": \"https://cdn.jsdelivr.net/npm//vega-lib?noext\",\n",
              "      \"vega-lite\": \"https://cdn.jsdelivr.net/npm//vega-lite@4.8.1?noext\",\n",
              "      \"vega-embed\": \"https://cdn.jsdelivr.net/npm//vega-embed@6?noext\",\n",
              "    };\n",
              "\n",
              "    function loadScript(lib) {\n",
              "      return new Promise(function(resolve, reject) {\n",
              "        var s = document.createElement('script');\n",
              "        s.src = paths[lib];\n",
              "        s.async = true;\n",
              "        s.onload = () => resolve(paths[lib]);\n",
              "        s.onerror = () => reject(`Error loading script: ${paths[lib]}`);\n",
              "        document.getElementsByTagName(\"head\")[0].appendChild(s);\n",
              "      });\n",
              "    }\n",
              "\n",
              "    function showError(err) {\n",
              "      outputDiv.innerHTML = `<div class=\"error\" style=\"color:red;\">${err}</div>`;\n",
              "      throw err;\n",
              "    }\n",
              "\n",
              "    function displayChart(vegaEmbed) {\n",
              "      vegaEmbed(outputDiv, spec, embedOpt)\n",
              "        .catch(err => showError(`Javascript Error: ${err.message}<br>This usually means there's a typo in your chart specification. See the javascript console for the full traceback.`));\n",
              "    }\n",
              "\n",
              "    if(typeof define === \"function\" && define.amd) {\n",
              "      requirejs.config({paths});\n",
              "      require([\"vega-embed\"], displayChart, err => showError(`Error loading script: ${err.message}`));\n",
              "    } else if (typeof vegaEmbed === \"function\") {\n",
              "      displayChart(vegaEmbed);\n",
              "    } else {\n",
              "      loadScript(\"vega\")\n",
              "        .then(() => loadScript(\"vega-lite\"))\n",
              "        .then(() => loadScript(\"vega-embed\"))\n",
              "        .catch(showError)\n",
              "        .then(() => displayChart(vegaEmbed));\n",
              "    }\n",
              "  })({\"config\": {\"view\": {\"continuousWidth\": 400, \"continuousHeight\": 300}}, \"data\": {\"name\": \"data-a6fc209e5de4ed185237395fa06d0d38\"}, \"mark\": \"bar\", \"encoding\": {\"x\": {\"type\": \"quantitative\", \"field\": \"Year\"}, \"y\": {\"type\": \"quantitative\", \"field\": \"arrest_percentage\"}}, \"title\": \"NON - CRIMINAL\", \"$schema\": \"https://vega.github.io/schema/vega-lite/v4.8.1.json\", \"datasets\": {\"data-a6fc209e5de4ed185237395fa06d0d38\": [{\"Year\": 2013, \"PrimaryType\": \"NON - CRIMINAL\", \"False\": 3.0, \"True\": null, \"arrest_percentage\": null}, {\"Year\": 2014, \"PrimaryType\": \"NON - CRIMINAL\", \"False\": 10.0, \"True\": null, \"arrest_percentage\": null}, {\"Year\": 2015, \"PrimaryType\": \"NON - CRIMINAL\", \"False\": 16.0, \"True\": 4.0, \"arrest_percentage\": 20.0}, {\"Year\": 2016, \"PrimaryType\": \"NON - CRIMINAL\", \"False\": 3.0, \"True\": 2.0, \"arrest_percentage\": 40.0}]}}, {\"mode\": \"vega-lite\"});\n",
              "</script>"
            ]
          },
          "metadata": {
            "tags": []
          }
        },
        {
          "output_type": "display_data",
          "data": {
            "text/plain": [
              "alt.Chart(...)"
            ],
            "text/html": [
              "\n",
              "<div id=\"altair-viz-108b30fa98fc42f1ada0c921ed33aaef\"></div>\n",
              "<script type=\"text/javascript\">\n",
              "  (function(spec, embedOpt){\n",
              "    let outputDiv = document.currentScript.previousElementSibling;\n",
              "    if (outputDiv.id !== \"altair-viz-108b30fa98fc42f1ada0c921ed33aaef\") {\n",
              "      outputDiv = document.getElementById(\"altair-viz-108b30fa98fc42f1ada0c921ed33aaef\");\n",
              "    }\n",
              "    const paths = {\n",
              "      \"vega\": \"https://cdn.jsdelivr.net/npm//vega@5?noext\",\n",
              "      \"vega-lib\": \"https://cdn.jsdelivr.net/npm//vega-lib?noext\",\n",
              "      \"vega-lite\": \"https://cdn.jsdelivr.net/npm//vega-lite@4.8.1?noext\",\n",
              "      \"vega-embed\": \"https://cdn.jsdelivr.net/npm//vega-embed@6?noext\",\n",
              "    };\n",
              "\n",
              "    function loadScript(lib) {\n",
              "      return new Promise(function(resolve, reject) {\n",
              "        var s = document.createElement('script');\n",
              "        s.src = paths[lib];\n",
              "        s.async = true;\n",
              "        s.onload = () => resolve(paths[lib]);\n",
              "        s.onerror = () => reject(`Error loading script: ${paths[lib]}`);\n",
              "        document.getElementsByTagName(\"head\")[0].appendChild(s);\n",
              "      });\n",
              "    }\n",
              "\n",
              "    function showError(err) {\n",
              "      outputDiv.innerHTML = `<div class=\"error\" style=\"color:red;\">${err}</div>`;\n",
              "      throw err;\n",
              "    }\n",
              "\n",
              "    function displayChart(vegaEmbed) {\n",
              "      vegaEmbed(outputDiv, spec, embedOpt)\n",
              "        .catch(err => showError(`Javascript Error: ${err.message}<br>This usually means there's a typo in your chart specification. See the javascript console for the full traceback.`));\n",
              "    }\n",
              "\n",
              "    if(typeof define === \"function\" && define.amd) {\n",
              "      requirejs.config({paths});\n",
              "      require([\"vega-embed\"], displayChart, err => showError(`Error loading script: ${err.message}`));\n",
              "    } else if (typeof vegaEmbed === \"function\") {\n",
              "      displayChart(vegaEmbed);\n",
              "    } else {\n",
              "      loadScript(\"vega\")\n",
              "        .then(() => loadScript(\"vega-lite\"))\n",
              "        .then(() => loadScript(\"vega-embed\"))\n",
              "        .catch(showError)\n",
              "        .then(() => displayChart(vegaEmbed));\n",
              "    }\n",
              "  })({\"config\": {\"view\": {\"continuousWidth\": 400, \"continuousHeight\": 300}}, \"data\": {\"name\": \"data-a071519d46dcc1503bb76306bdb9f069\"}, \"mark\": \"bar\", \"encoding\": {\"x\": {\"type\": \"quantitative\", \"field\": \"Year\"}, \"y\": {\"type\": \"quantitative\", \"field\": \"arrest_percentage\"}}, \"title\": \"CONCEALED CARRY LICENSE VIOLATION\", \"$schema\": \"https://vega.github.io/schema/vega-lite/v4.8.1.json\", \"datasets\": {\"data-a071519d46dcc1503bb76306bdb9f069\": [{\"Year\": 2014, \"PrimaryType\": \"CONCEALED CARRY LICENSE VIOLATION\", \"False\": 3.0, \"True\": 12.0, \"arrest_percentage\": 80.0}, {\"Year\": 2015, \"PrimaryType\": \"CONCEALED CARRY LICENSE VIOLATION\", \"False\": 1.0, \"True\": 33.0, \"arrest_percentage\": 97.05882352941177}, {\"Year\": 2016, \"PrimaryType\": \"CONCEALED CARRY LICENSE VIOLATION\", \"False\": 2.0, \"True\": 34.0, \"arrest_percentage\": 94.44444444444444}, {\"Year\": 2017, \"PrimaryType\": \"CONCEALED CARRY LICENSE VIOLATION\", \"False\": 3.0, \"True\": 66.0, \"arrest_percentage\": 95.65217391304348}, {\"Year\": 2018, \"PrimaryType\": \"CONCEALED CARRY LICENSE VIOLATION\", \"False\": 4.0, \"True\": 145.0, \"arrest_percentage\": 97.31543624161074}, {\"Year\": 2019, \"PrimaryType\": \"CONCEALED CARRY LICENSE VIOLATION\", \"False\": 5.0, \"True\": 212.0, \"arrest_percentage\": 97.6958525345622}, {\"Year\": 2020, \"PrimaryType\": \"CONCEALED CARRY LICENSE VIOLATION\", \"False\": 4.0, \"True\": 144.0, \"arrest_percentage\": 97.2972972972973}, {\"Year\": 2021, \"PrimaryType\": \"CONCEALED CARRY LICENSE VIOLATION\", \"False\": 1.0, \"True\": 31.0, \"arrest_percentage\": 96.875}]}}, {\"mode\": \"vega-lite\"});\n",
              "</script>"
            ]
          },
          "metadata": {
            "tags": []
          }
        }
      ]
    },
    {
      "cell_type": "markdown",
      "metadata": {
        "id": "nnu0k6T-Q0E3"
      },
      "source": [
        "### Prediction "
      ]
    },
    {
      "cell_type": "code",
      "metadata": {
        "id": "8wyypGU2R5vm"
      },
      "source": [
        "from fbprophet import Prophet"
      ],
      "execution_count": null,
      "outputs": []
    },
    {
      "cell_type": "code",
      "metadata": {
        "id": "hdbptaPDQ3Vx",
        "colab": {
          "base_uri": "https://localhost:8080/"
        },
        "outputId": "c6f4e092-ad2d-4aa0-bb7e-11fce1f634c3"
      },
      "source": [
        "# aggregate crimes based on day\n",
        "day_crime = crime_data.groupby(\"regular_date\").agg(func.count(func.lit(1)).alias(\"NumCrime\"))\n",
        "day_crime.show()\n",
        "#convert smaller dataset to pandas now\n",
        "day_crime.pd = day_crime.toPandas()\n",
        "#rename columns to use prophet library on \n",
        "day_crime.pd_clean = day_crime.pd.rename(columns = {\"regular_date\": \"ds\", \"NumCrime\": \"y\"})\n",
        "#convert ds to a date type\n",
        "day_crime.pd_clean[\"ds\"] = pd.to_datetime(day_crime.pd_clean[\"ds\"])\n"
      ],
      "execution_count": null,
      "outputs": [
        {
          "output_type": "stream",
          "text": [
            "+------------+--------+\n",
            "|regular_date|NumCrime|\n",
            "+------------+--------+\n",
            "|  2016-03-01|     817|\n",
            "|  2015-05-19|     707|\n",
            "|  2014-11-12|     595|\n",
            "|  2018-08-10|     857|\n",
            "|  2007-11-15|    1127|\n",
            "|  2013-09-09|     868|\n",
            "|  2015-03-09|     726|\n",
            "|  2017-09-11|     691|\n",
            "|  2019-05-08|     759|\n",
            "|  2018-05-28|     888|\n",
            "|  2019-06-04|     771|\n",
            "|  2017-08-11|     765|\n",
            "|  2002-03-02|    1092|\n",
            "|  2002-06-20|    1397|\n",
            "|  2001-05-16|    1381|\n",
            "|  2009-07-25|    1136|\n",
            "|  2002-12-06|    1282|\n",
            "|  2013-05-21|     931|\n",
            "|  2007-04-20|    1402|\n",
            "|  2002-12-25|     803|\n",
            "+------------+--------+\n",
            "only showing top 20 rows\n",
            "\n"
          ],
          "name": "stdout"
        }
      ]
    },
    {
      "cell_type": "code",
      "metadata": {
        "id": "4kmMuhPuRp2a"
      },
      "source": [
        "# training data will be from 2001 - 2018\n",
        "crime_dates_2001_2018 = day_crime.pd_clean[(day_crime.pd_clean['ds']>='2001-01-01')&(day_crime.pd_clean['ds']<='2018-12-31')]"
      ],
      "execution_count": null,
      "outputs": []
    },
    {
      "cell_type": "code",
      "metadata": {
        "id": "SqfuzAcmXY5x",
        "colab": {
          "base_uri": "https://localhost:8080/",
          "height": 204
        },
        "outputId": "51bc25cd-e7e2-4b5b-c0c3-b937dc390a09"
      },
      "source": [
        "crime_forecast[['ds', 'yhat', 'yhat_lower', 'yhat_upper']].head()\n"
      ],
      "execution_count": null,
      "outputs": [
        {
          "output_type": "execute_result",
          "data": {
            "text/html": [
              "<div>\n",
              "<style scoped>\n",
              "    .dataframe tbody tr th:only-of-type {\n",
              "        vertical-align: middle;\n",
              "    }\n",
              "\n",
              "    .dataframe tbody tr th {\n",
              "        vertical-align: top;\n",
              "    }\n",
              "\n",
              "    .dataframe thead th {\n",
              "        text-align: right;\n",
              "    }\n",
              "</style>\n",
              "<table border=\"1\" class=\"dataframe\">\n",
              "  <thead>\n",
              "    <tr style=\"text-align: right;\">\n",
              "      <th></th>\n",
              "      <th>ds</th>\n",
              "      <th>yhat</th>\n",
              "      <th>yhat_lower</th>\n",
              "      <th>yhat_upper</th>\n",
              "    </tr>\n",
              "  </thead>\n",
              "  <tbody>\n",
              "    <tr>\n",
              "      <th>0</th>\n",
              "      <td>2001-01-01</td>\n",
              "      <td>1210.759232</td>\n",
              "      <td>1035.404905</td>\n",
              "      <td>1381.357950</td>\n",
              "    </tr>\n",
              "    <tr>\n",
              "      <th>1</th>\n",
              "      <td>2001-01-02</td>\n",
              "      <td>1228.809667</td>\n",
              "      <td>1058.524969</td>\n",
              "      <td>1396.609557</td>\n",
              "    </tr>\n",
              "    <tr>\n",
              "      <th>2</th>\n",
              "      <td>2001-01-03</td>\n",
              "      <td>1237.694887</td>\n",
              "      <td>1070.938661</td>\n",
              "      <td>1420.736057</td>\n",
              "    </tr>\n",
              "    <tr>\n",
              "      <th>3</th>\n",
              "      <td>2001-01-04</td>\n",
              "      <td>1229.904261</td>\n",
              "      <td>1053.342594</td>\n",
              "      <td>1414.229644</td>\n",
              "    </tr>\n",
              "    <tr>\n",
              "      <th>4</th>\n",
              "      <td>2001-01-05</td>\n",
              "      <td>1288.708350</td>\n",
              "      <td>1111.696140</td>\n",
              "      <td>1456.712496</td>\n",
              "    </tr>\n",
              "  </tbody>\n",
              "</table>\n",
              "</div>"
            ],
            "text/plain": [
              "          ds         yhat   yhat_lower   yhat_upper\n",
              "0 2001-01-01  1210.759232  1035.404905  1381.357950\n",
              "1 2001-01-02  1228.809667  1058.524969  1396.609557\n",
              "2 2001-01-03  1237.694887  1070.938661  1420.736057\n",
              "3 2001-01-04  1229.904261  1053.342594  1414.229644\n",
              "4 2001-01-05  1288.708350  1111.696140  1456.712496"
            ]
          },
          "metadata": {
            "tags": []
          },
          "execution_count": 44
        }
      ]
    },
    {
      "cell_type": "code",
      "metadata": {
        "id": "nDuZVXMIRKJK",
        "colab": {
          "base_uri": "https://localhost:8080/",
          "height": 493
        },
        "outputId": "ac65e2e0-b65e-4a02-b94d-f5b4d80f0cd2"
      },
      "source": [
        "# create model with fb prophet\n",
        "crime_model = Prophet(interval_width=0.95)\n",
        "crime_model.fit(crime_dates_2001_2018)\n",
        "\n",
        "crime_forecast = crime_model.make_future_dataframe(periods=730, freq='D') #show two years prediction, by day\n",
        "crime_forecast = crime_model.predict(crime_forecast)\n",
        "plt.figure(figsize=(20, 6))\n",
        "crime_model.plot(crime_forecast, xlabel = 'Date', ylabel = 'Number of Crimes')\n",
        "plt.title('Chicago Crime 2001-2018, 2019 predicted');\n"
      ],
      "execution_count": null,
      "outputs": [
        {
          "output_type": "stream",
          "text": [
            "INFO:fbprophet:Disabling daily seasonality. Run prophet with daily_seasonality=True to override this.\n"
          ],
          "name": "stderr"
        },
        {
          "output_type": "display_data",
          "data": {
            "text/plain": [
              "<Figure size 1440x432 with 0 Axes>"
            ]
          },
          "metadata": {
            "tags": []
          }
        },
        {
          "output_type": "display_data",
          "data": {
            "image/png": "[encoded data removed]",
            "text/plain": [
              "<Figure size 720x432 with 1 Axes>"
            ]
          },
          "metadata": {
            "tags": []
          }
        }
      ]
    },
    {
      "cell_type": "code",
      "metadata": {
        "id": "2sl3C4-GYJuP",
        "colab": {
          "base_uri": "https://localhost:8080/",
          "height": 1000
        },
        "outputId": "66247734-3dc6-4b83-b0ec-dcfea0847491"
      },
      "source": [
        "crime_model.plot_components(crime_forecast) #this prints out the components of the models"
      ],
      "execution_count": null,
      "outputs": [
        {
          "output_type": "execute_result",
          "data": {
            "image/png": "[encoded data removed]",
            "text/plain": [
              "<Figure size 648x648 with 3 Axes>"
            ]
          },
          "metadata": {
            "tags": []
          },
          "execution_count": 45
        },
        {
          "output_type": "display_data",
          "data": {
            "image/png": "[encoded data removed]",
            "text/plain": [
              "<Figure size 648x648 with 3 Axes>"
            ]
          },
          "metadata": {
            "tags": []
          }
        }
      ]
    },
    {
      "cell_type": "code",
      "metadata": {
        "id": "QEdvGVWjSdQX",
        "colab": {
          "base_uri": "https://localhost:8080/",
          "height": 309
        },
        "outputId": "d07c951d-02bf-4c87-ac99-94677b3b1100"
      },
      "source": [
        "# show the forcecasted table\n",
        "crime_forecast.head()"
      ],
      "execution_count": null,
      "outputs": [
        {
          "output_type": "execute_result",
          "data": {
            "text/html": [
              "<div>\n",
              "<style scoped>\n",
              "    .dataframe tbody tr th:only-of-type {\n",
              "        vertical-align: middle;\n",
              "    }\n",
              "\n",
              "    .dataframe tbody tr th {\n",
              "        vertical-align: top;\n",
              "    }\n",
              "\n",
              "    .dataframe thead th {\n",
              "        text-align: right;\n",
              "    }\n",
              "</style>\n",
              "<table border=\"1\" class=\"dataframe\">\n",
              "  <thead>\n",
              "    <tr style=\"text-align: right;\">\n",
              "      <th></th>\n",
              "      <th>ds</th>\n",
              "      <th>trend</th>\n",
              "      <th>yhat_lower</th>\n",
              "      <th>yhat_upper</th>\n",
              "      <th>trend_lower</th>\n",
              "      <th>trend_upper</th>\n",
              "      <th>additive_terms</th>\n",
              "      <th>additive_terms_lower</th>\n",
              "      <th>additive_terms_upper</th>\n",
              "      <th>weekly</th>\n",
              "      <th>weekly_lower</th>\n",
              "      <th>weekly_upper</th>\n",
              "      <th>yearly</th>\n",
              "      <th>yearly_lower</th>\n",
              "      <th>yearly_upper</th>\n",
              "      <th>multiplicative_terms</th>\n",
              "      <th>multiplicative_terms_lower</th>\n",
              "      <th>multiplicative_terms_upper</th>\n",
              "      <th>yhat</th>\n",
              "    </tr>\n",
              "  </thead>\n",
              "  <tbody>\n",
              "    <tr>\n",
              "      <th>0</th>\n",
              "      <td>2001-01-01</td>\n",
              "      <td>1344.303657</td>\n",
              "      <td>1035.404905</td>\n",
              "      <td>1381.357950</td>\n",
              "      <td>1344.303657</td>\n",
              "      <td>1344.303657</td>\n",
              "      <td>-133.544425</td>\n",
              "      <td>-133.544425</td>\n",
              "      <td>-133.544425</td>\n",
              "      <td>-13.306211</td>\n",
              "      <td>-13.306211</td>\n",
              "      <td>-13.306211</td>\n",
              "      <td>-120.238214</td>\n",
              "      <td>-120.238214</td>\n",
              "      <td>-120.238214</td>\n",
              "      <td>0.0</td>\n",
              "      <td>0.0</td>\n",
              "      <td>0.0</td>\n",
              "      <td>1210.759232</td>\n",
              "    </tr>\n",
              "    <tr>\n",
              "      <th>1</th>\n",
              "      <td>2001-01-02</td>\n",
              "      <td>1344.268314</td>\n",
              "      <td>1058.524969</td>\n",
              "      <td>1396.609557</td>\n",
              "      <td>1344.268314</td>\n",
              "      <td>1344.268314</td>\n",
              "      <td>-115.458647</td>\n",
              "      <td>-115.458647</td>\n",
              "      <td>-115.458647</td>\n",
              "      <td>2.830939</td>\n",
              "      <td>2.830939</td>\n",
              "      <td>2.830939</td>\n",
              "      <td>-118.289585</td>\n",
              "      <td>-118.289585</td>\n",
              "      <td>-118.289585</td>\n",
              "      <td>0.0</td>\n",
              "      <td>0.0</td>\n",
              "      <td>0.0</td>\n",
              "      <td>1228.809667</td>\n",
              "    </tr>\n",
              "    <tr>\n",
              "      <th>2</th>\n",
              "      <td>2001-01-03</td>\n",
              "      <td>1344.232970</td>\n",
              "      <td>1070.938661</td>\n",
              "      <td>1420.736057</td>\n",
              "      <td>1344.232970</td>\n",
              "      <td>1344.232970</td>\n",
              "      <td>-106.538083</td>\n",
              "      <td>-106.538083</td>\n",
              "      <td>-106.538083</td>\n",
              "      <td>9.610429</td>\n",
              "      <td>9.610429</td>\n",
              "      <td>9.610429</td>\n",
              "      <td>-116.148512</td>\n",
              "      <td>-116.148512</td>\n",
              "      <td>-116.148512</td>\n",
              "      <td>0.0</td>\n",
              "      <td>0.0</td>\n",
              "      <td>0.0</td>\n",
              "      <td>1237.694887</td>\n",
              "    </tr>\n",
              "    <tr>\n",
              "      <th>3</th>\n",
              "      <td>2001-01-04</td>\n",
              "      <td>1344.197627</td>\n",
              "      <td>1053.342594</td>\n",
              "      <td>1414.229644</td>\n",
              "      <td>1344.197627</td>\n",
              "      <td>1344.197627</td>\n",
              "      <td>-114.293366</td>\n",
              "      <td>-114.293366</td>\n",
              "      <td>-114.293366</td>\n",
              "      <td>-0.419348</td>\n",
              "      <td>-0.419348</td>\n",
              "      <td>-0.419348</td>\n",
              "      <td>-113.874018</td>\n",
              "      <td>-113.874018</td>\n",
              "      <td>-113.874018</td>\n",
              "      <td>0.0</td>\n",
              "      <td>0.0</td>\n",
              "      <td>0.0</td>\n",
              "      <td>1229.904261</td>\n",
              "    </tr>\n",
              "    <tr>\n",
              "      <th>4</th>\n",
              "      <td>2001-01-05</td>\n",
              "      <td>1344.162283</td>\n",
              "      <td>1111.696140</td>\n",
              "      <td>1456.712496</td>\n",
              "      <td>1344.162283</td>\n",
              "      <td>1344.162283</td>\n",
              "      <td>-55.453933</td>\n",
              "      <td>-55.453933</td>\n",
              "      <td>-55.453933</td>\n",
              "      <td>56.074885</td>\n",
              "      <td>56.074885</td>\n",
              "      <td>56.074885</td>\n",
              "      <td>-111.528819</td>\n",
              "      <td>-111.528819</td>\n",
              "      <td>-111.528819</td>\n",
              "      <td>0.0</td>\n",
              "      <td>0.0</td>\n",
              "      <td>0.0</td>\n",
              "      <td>1288.708350</td>\n",
              "    </tr>\n",
              "  </tbody>\n",
              "</table>\n",
              "</div>"
            ],
            "text/plain": [
              "          ds        trend  ...  multiplicative_terms_upper         yhat\n",
              "0 2001-01-01  1344.303657  ...                         0.0  1210.759232\n",
              "1 2001-01-02  1344.268314  ...                         0.0  1228.809667\n",
              "2 2001-01-03  1344.232970  ...                         0.0  1237.694887\n",
              "3 2001-01-04  1344.197627  ...                         0.0  1229.904261\n",
              "4 2001-01-05  1344.162283  ...                         0.0  1288.708350\n",
              "\n",
              "[5 rows x 19 columns]"
            ]
          },
          "metadata": {
            "tags": []
          },
          "execution_count": 42
        }
      ]
    },
    {
      "cell_type": "code",
      "metadata": {
        "id": "E0o0GwxpSjsS",
        "colab": {
          "base_uri": "https://localhost:8080/"
        },
        "outputId": "c14c96aa-d7cd-4971-baf7-e14c06dd7f3d"
      },
      "source": [
        "# add up all the predicted crime numbers for 2019\n",
        "predicted_2019 = crime_forecast[(crime_forecast['ds']>='2019-01-01')&(crime_forecast['ds']<='2019-12-30')]['yhat'].sum()\n",
        "print(f'Predicted Crime for 2019: {predicted_2019}')\n",
        "\n",
        "#add up the actual crime numbers for 2019\n",
        "actual_2019 = day_crime.pd_clean[(day_crime.pd_clean['ds']>='2019-01-01')&(day_crime.pd_clean['ds']<='2019-12-30')][\"y\"].sum()\n",
        "print(f'Actual Crime for 2019: {actual_2019}')"
      ],
      "execution_count": null,
      "outputs": [
        {
          "output_type": "stream",
          "text": [
            "Predicted Crime for 2019: 268782.26627251954\n",
            "Actual Crime for 2019: 260051\n"
          ],
          "name": "stdout"
        }
      ]
    },
    {
      "cell_type": "code",
      "metadata": {
        "id": "PHqI_yUHak9M",
        "colab": {
          "base_uri": "https://localhost:8080/",
          "height": 240
        },
        "outputId": "f7f13ac6-230d-4814-968f-bafc4c93d6a6"
      },
      "source": [
        "# evaluate daily crime numbers\n",
        "df_2019_yhat = crime_forecast[(crime_forecast['ds']>='2019-01-01')&(crime_forecast['ds']<='2019-12-30')][[\"ds\", \"yhat\"]]\n",
        "print(len(df_2019_yhat))\n",
        "\n",
        "df_2019_actual = day_crime.pd_clean[(day_crime.pd_clean['ds']>='2019-01-01')&(day_crime.pd_clean['ds']<='2019-12-30')]\n",
        "print(len(df_2019_actual))\n",
        "\n",
        "\n",
        "#merge dataframes\n",
        "metric_df = pd.merge(df_2019_actual, df_2019_yhat, on = \"ds\")\n",
        "metric_df.set_index('ds')\n",
        "metric_df.head()\n",
        "\n",
        "\n"
      ],
      "execution_count": null,
      "outputs": [
        {
          "output_type": "stream",
          "text": [
            "364\n",
            "364\n"
          ],
          "name": "stdout"
        },
        {
          "output_type": "execute_result",
          "data": {
            "text/html": [
              "<div>\n",
              "<style scoped>\n",
              "    .dataframe tbody tr th:only-of-type {\n",
              "        vertical-align: middle;\n",
              "    }\n",
              "\n",
              "    .dataframe tbody tr th {\n",
              "        vertical-align: top;\n",
              "    }\n",
              "\n",
              "    .dataframe thead th {\n",
              "        text-align: right;\n",
              "    }\n",
              "</style>\n",
              "<table border=\"1\" class=\"dataframe\">\n",
              "  <thead>\n",
              "    <tr style=\"text-align: right;\">\n",
              "      <th></th>\n",
              "      <th>ds</th>\n",
              "      <th>y</th>\n",
              "      <th>yhat</th>\n",
              "    </tr>\n",
              "  </thead>\n",
              "  <tbody>\n",
              "    <tr>\n",
              "      <th>0</th>\n",
              "      <td>2019-05-08</td>\n",
              "      <td>759</td>\n",
              "      <td>783.167915</td>\n",
              "    </tr>\n",
              "    <tr>\n",
              "      <th>1</th>\n",
              "      <td>2019-06-04</td>\n",
              "      <td>771</td>\n",
              "      <td>811.411649</td>\n",
              "    </tr>\n",
              "    <tr>\n",
              "      <th>2</th>\n",
              "      <td>2019-09-22</td>\n",
              "      <td>657</td>\n",
              "      <td>743.328000</td>\n",
              "    </tr>\n",
              "    <tr>\n",
              "      <th>3</th>\n",
              "      <td>2019-11-01</td>\n",
              "      <td>839</td>\n",
              "      <td>832.083115</td>\n",
              "    </tr>\n",
              "    <tr>\n",
              "      <th>4</th>\n",
              "      <td>2019-11-18</td>\n",
              "      <td>683</td>\n",
              "      <td>680.090678</td>\n",
              "    </tr>\n",
              "  </tbody>\n",
              "</table>\n",
              "</div>"
            ],
            "text/plain": [
              "          ds    y        yhat\n",
              "0 2019-05-08  759  783.167915\n",
              "1 2019-06-04  771  811.411649\n",
              "2 2019-09-22  657  743.328000\n",
              "3 2019-11-01  839  832.083115\n",
              "4 2019-11-18  683  680.090678"
            ]
          },
          "metadata": {
            "tags": []
          },
          "execution_count": 61
        }
      ]
    },
    {
      "cell_type": "code",
      "metadata": {
        "id": "Xga0yu04eGak",
        "colab": {
          "base_uri": "https://localhost:8080/"
        },
        "outputId": "4d2c340c-423a-4be9-d004-e487e3607ae2"
      },
      "source": [
        "#evaluate results\n",
        "\n",
        "r2_score(metric_df.y, metric_df.yhat)\n",
        "mean_squared_error(metric_df.y, metric_df.yhat)\n",
        "mean_absolute_error(metric_df.y, metric_df.yhat)"
      ],
      "execution_count": null,
      "outputs": [
        {
          "output_type": "execute_result",
          "data": {
            "text/plain": [
              "59.06848633008406"
            ]
          },
          "metadata": {
            "tags": []
          },
          "execution_count": 64
        }
      ]
    }
  ]
}